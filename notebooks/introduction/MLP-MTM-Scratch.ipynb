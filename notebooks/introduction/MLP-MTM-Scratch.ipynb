{
 "cells": [
  {
   "attachments": {},
   "cell_type": "markdown",
   "id": "bd09deeb",
   "metadata": {},
   "source": [
    "# Multilayer Perceptron (MLP) with Numpy\n",
    "**Author** : Mobin Nesari\n",
    "\n",
    "**Prepared for** : The Artificial Neural Network Graduate course 2023 Shahid Beheshti University"
   ]
  },
  {
   "cell_type": "markdown",
   "id": "f62465ce",
   "metadata": {},
   "source": [
    "In this tutorial, we will build a Multilayer Perceptron (MLP) to convert meters to miles using the Numpy library.\n",
    "\n",
    "A Multilayer Perceptron (MLP) is a type of artificial neural network that consists of multiple layers of nodes that can learn and make predictions."
   ]
  },
  {
   "cell_type": "markdown",
   "id": "9d2e4cbb",
   "metadata": {},
   "source": [
    "## Prerequisites\n",
    "To follow along with this tutorial, you will need:\n",
    "- Basic understanding of Python\n",
    "- Basic understanding of Numpy"
   ]
  },
  {
   "cell_type": "markdown",
   "id": "a6c2224d",
   "metadata": {},
   "source": [
    "## Import Numpy"
   ]
  },
  {
   "cell_type": "code",
   "execution_count": 1,
   "id": "3f71edb0",
   "metadata": {},
   "outputs": [],
   "source": [
    "import numpy as np"
   ]
  },
  {
   "cell_type": "markdown",
   "id": "4e033824",
   "metadata": {},
   "source": [
    "## Data\n",
    "For this tutorial, we will use a simple dataset consisting of 5 data points. Each data point represents the distance in meters. We will use this dataset to train our MLP and make predictions.\n",
    "\n",
    "Here you can see an instance of data we will use in this notebook:"
   ]
  },
  {
   "cell_type": "code",
   "execution_count": 2,
   "id": "a648a750",
   "metadata": {},
   "outputs": [],
   "source": [
    "input_data = np.array([[1000, 2000, 3000, 4000, 5000]])\n",
    "output_data = np.array([[0.621371, 1.24274, 1.86411, 2.48548, 3.10686]])"
   ]
  },
  {
   "cell_type": "markdown",
   "id": "5a58ea5a",
   "metadata": {},
   "source": [
    "## MLP Class\n",
    "\n",
    "We will start by creating an `MLP` class in Python. The class will have several functions that perform different tasks such as:\n",
    "- Initializing the MLP\n",
    "- Calculating the output of the MLP\n",
    "- Updating the weights of the MLP\n",
    "- Training the MLP\n",
    "- Testing the MLP"
   ]
  },
  {
   "cell_type": "code",
   "execution_count": 144,
   "id": "3720842c",
   "metadata": {},
   "outputs": [],
   "source": [
    "import numpy as np\n",
    "\n",
    "class MLP:\n",
    "    def __init__(self, learning_rate):\n",
    "        self.weights = np.random.rand(1)\n",
    "        print(\"Initialized Weight: \", self.weights)\n",
    "        self.learning_rate = learning_rate\n",
    "\n",
    "    def sigmoid(self, x):\n",
    "        return 1 / (1 + np.exp(-x))\n",
    "\n",
    "    def sigmoid_derivative(self, x):\n",
    "        return x * (1 - x)\n",
    "\n",
    "    def forward(self, input_data):\n",
    "        layer_0 = input_data\n",
    "        layer_1 = np.dot(layer_0, self.weights).astype(float)\n",
    "        return layer_1\n",
    "\n",
    "\n",
    "    def train(self, input_data, expected_output, num_iterations):\n",
    "        for i in range(num_iterations):\n",
    "            for j in range(len(input_data)):\n",
    "                model_output = self.forward(input_data[j])\n",
    "                error = expected_output[j] - model_output\n",
    "                layer_1_delta = error\n",
    "                \n",
    "                self.weights += layer_1_delta * self.learning_rate\n",
    "#                 print(\"Input: \", input_data[j])\n",
    "#                 print(\"Model Output: \", model_output)\n",
    "#                 print(\"Actual Output: \", output_data[j])\n",
    "#                 print(\"Error: \", error)\n",
    "#                 print(\"Layer 1 delta: \", layer_1_delta)\n",
    "#                 print(\"model_output.T.dot(layer_1_delta): \", model_output.T.dot(layer_1_delta))\n",
    "#                 print(\"Correction: \", model_output.T.dot(layer_1_delta) * self.learning_rate)\n",
    "#                 print(\"weight: \", self.weights)\n",
    "                "
   ]
  },
  {
   "cell_type": "markdown",
   "id": "6a0c3ee0",
   "metadata": {},
   "source": [
    "\n",
    "## Initializing the MLP\n",
    "\n",
    "We will start by initializing the MLP. This can be done by calling the `__init__` function of the `MLP` class. The `__init__` function takes 4 arguments:\n",
    "\n",
    "- `input_data`: This is the input data that will be used to train the MLP.\n",
    "- `output_data`: This is the output data that corresponds to the input data.\n",
    "- `hidden_nodes`: This is the number of nodes in the hidden layer.\n",
    "- `learning_rate`: This is the learning rate of the MLP. The learning rate determines how quickly the MLP updates its weights."
   ]
  },
  {
   "cell_type": "code",
   "execution_count": 145,
   "id": "98327c8b",
   "metadata": {},
   "outputs": [
    {
     "name": "stdout",
     "output_type": "stream",
     "text": [
      "Initialized Weight:  [0.77183545]\n"
     ]
    }
   ],
   "source": [
    "input_data = np.array([1000, 2000, 3000, 4000, 5000])\n",
    "output_data = np.array([0.621371, 1.24274, 1.86411, 2.48548, 3.10686])\n",
    "\n",
    "mlp = MLP(0.001)"
   ]
  },
  {
   "cell_type": "markdown",
   "id": "f3a2b7c3",
   "metadata": {},
   "source": [
    "## Training the MLP\n",
    "\n",
    "Once the MLP is initialized, we can train it. This can be done by calling the `train` function of the `MLP` class. The `train` function takes 1 argument:\n",
    "\n",
    "- `num_iterations`: This is the number of times the MLP will update its weights during training."
   ]
  },
  {
   "cell_type": "code",
   "execution_count": 146,
   "id": "ce03c78e",
   "metadata": {
    "scrolled": true
   },
   "outputs": [],
   "source": [
    "mlp.train(input_data, output_data, 100)"
   ]
  },
  {
   "cell_type": "markdown",
   "id": "e9ebf4bd",
   "metadata": {},
   "source": [
    "## Testing the MLP\n",
    "\n",
    "Once the MLP is trained, we can test it by calling the `test` function of the `MLP` class. The `test` function takes 1 argument:\n",
    "\n",
    "- `test_input_data`: This is the input data that will be used to make predictions with the MLP."
   ]
  },
  {
   "cell_type": "code",
   "execution_count": 147,
   "id": "ea421995",
   "metadata": {},
   "outputs": [
    {
     "name": "stdout",
     "output_type": "stream",
     "text": [
      "[0.6214039999999994, 1.2428079999999988, 1.8642119999999984]\n"
     ]
    }
   ],
   "source": [
    "test_input_data = np.array([1000, 2000, 3000])\n",
    "\n",
    "predictions = []\n",
    "\n",
    "for data in test_input_data:\n",
    "        predictions.append(mlp.forward(data)[0])\n",
    "\n",
    "print(predictions)"
   ]
  },
  {
   "cell_type": "markdown",
   "id": "668218e8",
   "metadata": {},
   "source": [
    "The `test` function will return the predictions made by the MLP in miles."
   ]
  },
  {
   "cell_type": "markdown",
   "id": "3bfb9596",
   "metadata": {},
   "source": [
    "## Conclusion\n",
    "\n",
    "In this tutorial, we have learned how to build an MLP with Numpy to convert meters to miles. This MLP can be used as a starting point for building more complex MLPs for other applications."
   ]
  },
  {
   "cell_type": "code",
   "execution_count": null,
   "id": "b008ad58",
   "metadata": {},
   "outputs": [],
   "source": []
  }
 ],
 "metadata": {
  "kernelspec": {
   "display_name": "Python 3 (ipykernel)",
   "language": "python",
   "name": "python3"
  },
  "language_info": {
   "codemirror_mode": {
    "name": "ipython",
    "version": 3
   },
   "file_extension": ".py",
   "mimetype": "text/x-python",
   "name": "python",
   "nbconvert_exporter": "python",
   "pygments_lexer": "ipython3",
   "version": "3.9.12"
  }
 },
 "nbformat": 4,
 "nbformat_minor": 5
}
