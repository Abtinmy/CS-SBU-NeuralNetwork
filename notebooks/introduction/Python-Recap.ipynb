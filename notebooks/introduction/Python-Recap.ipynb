{
 "cells": [
  {
   "cell_type": "markdown",
   "id": "73521473",
   "metadata": {},
   "source": [
    "# Python Recap\n",
    "**Author** : Mobin Nesari\n",
    "\n",
    "**Prepared for** : The Artificial Neural Network Graduate course 2023 Shahid Beheshti University"
   ]
  },
  {
   "cell_type": "markdown",
   "id": "47aade39",
   "metadata": {},
   "source": [
    "## Introduction to Python\n",
    "### Setting up the Environment\n",
    "Before we dive into the Python language, it is important to ensure that we have the right environment set up.\n",
    "\n",
    "To get started with Python, you will need to install Python and Jupyter Notebook.\n",
    "\n",
    "You can download and install Python from the official website python.org. The latest version of Python as of this writing is Python 3.10."
   ]
  },
  {
   "cell_type": "markdown",
   "id": "3f3328ce",
   "metadata": {},
   "source": [
    "To install Jupyter Notebook, you can use the following command in the terminal or command prompt:"
   ]
  },
  {
   "cell_type": "code",
   "execution_count": 26,
   "id": "0698a896",
   "metadata": {},
   "outputs": [],
   "source": [
    "# >> pip install jupyter"
   ]
  },
  {
   "cell_type": "markdown",
   "id": "0bca2d17",
   "metadata": {},
   "source": [
    "### Basic Syntax\n",
    "In this section, we will cover the basic syntax of Python. This includes:\n",
    "\n",
    "- Data Types: Integer, Float, String, Boolean, etc.\n",
    "- Variables: Naming conventions, assigning values to variables.\n",
    "- Operators: Arithmetic, comparison, logical, and assignment operators.\n",
    "- Loops: for and while loops.\n",
    "- Functions: Defining and calling functions.\n",
    "\n",
    "Let's start by creating our first Python program:"
   ]
  },
  {
   "cell_type": "code",
   "execution_count": 1,
   "id": "4328dbee",
   "metadata": {},
   "outputs": [
    {
     "name": "stdout",
     "output_type": "stream",
     "text": [
      "Hello, World!\n"
     ]
    }
   ],
   "source": [
    "print(\"Hello, World!\")"
   ]
  },
  {
   "cell_type": "markdown",
   "id": "c06f1ed6",
   "metadata": {},
   "source": [
    "This will display the text `Hello, World!` when you run the code."
   ]
  },
  {
   "cell_type": "markdown",
   "id": "48fda6a6",
   "metadata": {},
   "source": [
    "## Intermediate Python\n",
    "\n",
    "In this section, we will build on the basic syntax learned in the previous section. We will cover the following topics:\n",
    "\n",
    "### Control Structures\n",
    "\n",
    "Control structures are used to control the flow of execution in a program. Python provides two types of control structures:\n",
    "\n",
    "- Conditional statements (`if-elif-else`): These statements allow you to execute different code blocks based on a set of conditions. The elif clause is used to check for multiple conditions. \n",
    "\n",
    "Here is an example:\n"
   ]
  },
  {
   "cell_type": "code",
   "execution_count": 2,
   "id": "c77c1c97",
   "metadata": {},
   "outputs": [
    {
     "name": "stdout",
     "output_type": "stream",
     "text": [
      "x is positive\n"
     ]
    }
   ],
   "source": [
    "x = 10\n",
    "if x > 0:\n",
    "    print(\"x is positive\")\n",
    "elif x == 0:\n",
    "    print(\"x is zero\")\n",
    "else:\n",
    "    print(\"x is negative\")\n"
   ]
  },
  {
   "cell_type": "markdown",
   "id": "1fc8c574",
   "metadata": {},
   "source": [
    "- Loops (`for` and `while`): Loops allow you to repeat a code block a certain number of times or until a specific condition is met. The while loop continues to execute its code block until the given condition is False.\n",
    "\n",
    "Here is an example:"
   ]
  },
  {
   "cell_type": "code",
   "execution_count": 3,
   "id": "2ec85cea",
   "metadata": {},
   "outputs": [
    {
     "name": "stdout",
     "output_type": "stream",
     "text": [
      "0\n",
      "1\n",
      "2\n",
      "3\n",
      "4\n"
     ]
    }
   ],
   "source": [
    "i = 0\n",
    "while i < 5:\n",
    "    print(i)\n",
    "    i += 1"
   ]
  },
  {
   "cell_type": "markdown",
   "id": "e9e263f7",
   "metadata": {},
   "source": [
    "And here is an example of using `for` loop:"
   ]
  },
  {
   "cell_type": "code",
   "execution_count": 4,
   "id": "3a030471",
   "metadata": {},
   "outputs": [
    {
     "name": "stdout",
     "output_type": "stream",
     "text": [
      "0\n",
      "1\n",
      "2\n",
      "3\n",
      "4\n"
     ]
    }
   ],
   "source": [
    "for i in range(5):\n",
    "    print(i)"
   ]
  },
  {
   "cell_type": "markdown",
   "id": "f8da5c6c",
   "metadata": {},
   "source": [
    "### List Comprehensions and Generator Expressions\n",
    "List comprehensions and generator expressions are concise and readable ways to generate new lists or iterators in Python.\n",
    "\n",
    "A list comprehension is a compact way to generate a new list from an existing list. Here is an example:"
   ]
  },
  {
   "cell_type": "code",
   "execution_count": 5,
   "id": "3495df60",
   "metadata": {},
   "outputs": [
    {
     "name": "stdout",
     "output_type": "stream",
     "text": [
      "[1, 4, 9, 16, 25]\n"
     ]
    }
   ],
   "source": [
    "numbers = [1, 2, 3, 4, 5]\n",
    "squared_numbers = [x**2 for x in numbers]\n",
    "print(squared_numbers) # Output: [1, 4, 9, 16, 25]"
   ]
  },
  {
   "cell_type": "markdown",
   "id": "e53789db",
   "metadata": {},
   "source": [
    "A generator expression is similar to a list comprehension, but instead of creating a list, it creates a generator object. This is useful when working with large datasets that don't need to be stored in memory. Here is an example:"
   ]
  },
  {
   "cell_type": "code",
   "execution_count": 6,
   "id": "6d2c0236",
   "metadata": {},
   "outputs": [
    {
     "name": "stdout",
     "output_type": "stream",
     "text": [
      "0\n",
      "1\n"
     ]
    }
   ],
   "source": [
    "numbers = (x**2 for x in range(10))\n",
    "print(next(numbers)) # Output: 0\n",
    "print(next(numbers)) # Output: 1"
   ]
  },
  {
   "cell_type": "markdown",
   "id": "f5719071",
   "metadata": {},
   "source": [
    "### Modules and Packages\n",
    "Modules and packages are ways to organize and reuse code in Python.\n",
    "\n",
    "A module is a file containing Python definitions and statements. You can import a module into another module or script using the `import` statement. Here is an example:"
   ]
  },
  {
   "cell_type": "code",
   "execution_count": null,
   "id": "be2545de",
   "metadata": {},
   "outputs": [],
   "source": [
    "# math_module.py\n",
    "def square(x):\n",
    "    return x**2\n",
    "\n",
    "# main.py\n",
    "import math_module\n",
    "print(math_module.square(5)) # Output: 25\n"
   ]
  },
  {
   "cell_type": "markdown",
   "id": "babd98d4",
   "metadata": {},
   "source": [
    "A package is a collection of modules. You can import modules from a package using the `from` keyword and the `import` statement. Here is an example:"
   ]
  },
  {
   "cell_type": "code",
   "execution_count": null,
   "id": "ef8f2a5a",
   "metadata": {},
   "outputs": [],
   "source": [
    "# package/\n",
    "#   __init__.py\n",
    "#   module1.py\n",
    "#   module2.py\n",
    "\n",
    "# main.py\n",
    "from package import module1, module2\n"
   ]
  },
  {
   "cell_type": "markdown",
   "id": "1d50e93c",
   "metadata": {},
   "source": [
    "These are the basics of modules and packages in Python. You can learn more about them as you continue to use Python."
   ]
  },
  {
   "cell_type": "markdown",
   "id": "836a4290",
   "metadata": {},
   "source": [
    "## Object Oriented Programming (OOP)\n",
    "Object-oriented programming (OOP) is a programming paradigm based on the concept of objects, which can contain data and code that manipulates that data. In Python, everything is an object, including functions, modules, and classes. In this section, we'll focus on classes and how to use them to build objects."
   ]
  },
  {
   "cell_type": "markdown",
   "id": "eecb26d3",
   "metadata": {},
   "source": [
    "### Class Definition\n",
    "A class is a blueprint for creating objects. It defines a set of attributes and methods that objects created from the class will have. Here's an example of a class definition for a simple point in 2D space:"
   ]
  },
  {
   "cell_type": "code",
   "execution_count": 8,
   "id": "e7d3b796",
   "metadata": {},
   "outputs": [],
   "source": [
    "class Point:\n",
    "    def __init__(self, x, y):\n",
    "        self.x = x\n",
    "        self.y = y\n",
    "\n",
    "    def distance(self, other_point):\n",
    "        return ((self.x - other_point.x)**2 + (self.y - other_point.y)**2)**0.5"
   ]
  },
  {
   "cell_type": "markdown",
   "id": "0dbbc472",
   "metadata": {},
   "source": [
    "In this example, `Point` is the class name, and `__init__` and `distance` are two methods. The `__init__` method is a special method called a constructor that is automatically called when a new Point object is created. The `self` parameter is a reference to the object being created and is required for all methods in a class."
   ]
  },
  {
   "cell_type": "markdown",
   "id": "59a7c689",
   "metadata": {},
   "source": [
    "### Instantiating Objects\n",
    "Once you have defined a class, you can create objects from it by calling the class as if it were a function. Here's an example:"
   ]
  },
  {
   "cell_type": "code",
   "execution_count": 9,
   "id": "ac1d04a8",
   "metadata": {},
   "outputs": [
    {
     "name": "stdout",
     "output_type": "stream",
     "text": [
      "5.0\n"
     ]
    }
   ],
   "source": [
    "p1 = Point(0, 0)\n",
    "p2 = Point(3, 4)\n",
    "\n",
    "print(p1.distance(p2)) # Output: 5.0"
   ]
  },
  {
   "cell_type": "markdown",
   "id": "e1df9c29",
   "metadata": {},
   "source": [
    "In this example, `p1` and `p2` are instances of the `Point` class, and they each have their own `x` and `y` attributes and can call the `distance` method."
   ]
  },
  {
   "cell_type": "markdown",
   "id": "abdefc39",
   "metadata": {},
   "source": [
    "### Inheritance\n",
    "Inheritance is a mechanism that allows you to create a new class that is a modified version of an existing class. The new class is called a subclass, and the existing class is called a superclass. A subclass inherits all of the attributes and methods of its superclass. Here's an example:"
   ]
  },
  {
   "cell_type": "code",
   "execution_count": 10,
   "id": "cfa1501a",
   "metadata": {},
   "outputs": [
    {
     "name": "stdout",
     "output_type": "stream",
     "text": [
      "5.0\n",
      "red\n"
     ]
    }
   ],
   "source": [
    "class ColoredPoint(Point):\n",
    "    def __init__(self, x, y, color):\n",
    "        super().__init__(x, y)\n",
    "        self.color = color\n",
    "\n",
    "cp = ColoredPoint(0, 0, 'red')\n",
    "print(cp.distance(Point(3, 4))) # Output: 5.0\n",
    "print(cp.color) # Output: 'red'"
   ]
  },
  {
   "cell_type": "markdown",
   "id": "1631f2fb",
   "metadata": {},
   "source": [
    "In this example, `ColoredPoint` is a subclass of `Point`, so it inherits the `distance` method from `Point`. It also has a new `color` attribute and a modified `__init__` method that calls the `__init__` method of the superclass using `super().__init__(x, y)` and then adds the new `color` attribute."
   ]
  },
  {
   "cell_type": "markdown",
   "id": "e78c0741",
   "metadata": {},
   "source": [
    "### Polymorphism\n",
    "Polymorphism is the ability of objects of different classes to be used interchangeably as long as they implement the same methods. Here's an example:"
   ]
  },
  {
   "cell_type": "code",
   "execution_count": 11,
   "id": "792f846d",
   "metadata": {},
   "outputs": [
    {
     "name": "stdout",
     "output_type": "stream",
     "text": [
      "0.0\n",
      "78.5\n",
      "5.0\n"
     ]
    },
    {
     "ename": "AttributeError",
     "evalue": "'Point' object has no attribute 'area'",
     "output_type": "error",
     "traceback": [
      "\u001b[0;31m---------------------------------------------------------------------------\u001b[0m",
      "\u001b[0;31mAttributeError\u001b[0m                            Traceback (most recent call last)",
      "Input \u001b[0;32mIn [11]\u001b[0m, in \u001b[0;36m<cell line: 17>\u001b[0;34m()\u001b[0m\n\u001b[1;32m     17\u001b[0m \u001b[38;5;28;01mfor\u001b[39;00m shape \u001b[38;5;129;01min\u001b[39;00m shapes:\n\u001b[1;32m     18\u001b[0m     \u001b[38;5;28mprint\u001b[39m(shape\u001b[38;5;241m.\u001b[39mdistance(Point(\u001b[38;5;241m0\u001b[39m, \u001b[38;5;241m0\u001b[39m))) \u001b[38;5;66;03m# Output: 5.0 and 5.0\u001b[39;00m\n\u001b[0;32m---> 19\u001b[0m     \u001b[38;5;28mprint\u001b[39m(\u001b[43mshape\u001b[49m\u001b[38;5;241;43m.\u001b[39;49m\u001b[43marea\u001b[49m())\n",
      "\u001b[0;31mAttributeError\u001b[0m: 'Point' object has no attribute 'area'"
     ]
    }
   ],
   "source": [
    "class Circle:\n",
    "    def __init__(self, x, y, r):\n",
    "        self.x = x\n",
    "        self.y = y\n",
    "        self.r = r\n",
    "    def area(self):\n",
    "        return 3.14 * self.r**2\n",
    "\n",
    "    def distance(self, other_shape):\n",
    "        return ((self.x - other_shape.x)**2 + (self.y - other_shape.y)**2)**0.5\n",
    "    \n",
    "c = Circle(0, 0, 5)\n",
    "p = Point(3, 4)\n",
    "\n",
    "shapes = [c, p]\n",
    "\n",
    "for shape in shapes:\n",
    "    print(shape.distance(Point(0, 0))) # Output: 5.0 and 5.0\n",
    "    print(shape.area()) # Output: 25.13 for Circle and error for Point"
   ]
  },
  {
   "cell_type": "markdown",
   "id": "e83632ba",
   "metadata": {},
   "source": [
    "\n",
    "In this example, both the `Circle` and `Point` classes have a `distance` method, so they can be used interchangeably in the `shapes` list. However, only the `Circle` class has an `area` method, so trying to call `area` on a `Point` object will result in an error.\n",
    "\n",
    "This is the basic of Object Oriented Programming in Python. With these concepts, you can write more advanced, efficient, and organized code in Python.\n"
   ]
  },
  {
   "cell_type": "markdown",
   "id": "eafb58e4",
   "metadata": {},
   "source": [
    "## Data Structures in Python\n",
    "In this section, you will learn about the various data structures available in Python and how to use them. Some of the common data structures in Python are:\n",
    "- Lists\n",
    "- Tuples\n",
    "- Dictionaries\n",
    "- Sets"
   ]
  },
  {
   "cell_type": "markdown",
   "id": "152ac3a6",
   "metadata": {},
   "source": [
    "### Lists\n",
    "A list is an ordered, mutable, and heterogeneous collection of items. It is defined by square brackets `[]` and items are separated by commas `,`.\n",
    "\n",
    "\n",
    "Here is an example:"
   ]
  },
  {
   "cell_type": "code",
   "execution_count": 12,
   "id": "f4307f4d",
   "metadata": {},
   "outputs": [
    {
     "name": "stdout",
     "output_type": "stream",
     "text": [
      "apple\n",
      "mango\n"
     ]
    }
   ],
   "source": [
    "fruits = ['apple', 'banana', 'cherry']\n",
    "print(fruits[0]) # Output: 'apple'\n",
    "fruits[0] = 'mango'\n",
    "print(fruits[0]) # Output: 'mango'"
   ]
  },
  {
   "cell_type": "markdown",
   "id": "0cee1cfe",
   "metadata": {},
   "source": [
    "In the above example, `fruits` is a list of three items. Lists are 0-indexed in Python, which means the first item has an index of 0, the second item has an index of 1, and so on.\n"
   ]
  },
  {
   "cell_type": "markdown",
   "id": "95629214",
   "metadata": {},
   "source": [
    "### Lists and Built-in Methods\n",
    "Lists are one of the most important data structures in Python and it provides several built-in methods to manipulate the list. Here, we will go over some of the most common built-in methods for lists:"
   ]
  },
  {
   "cell_type": "markdown",
   "id": "675e2a7d",
   "metadata": {},
   "source": [
    "#### append()\n",
    "The `append()` method is used to add an element to the end of the list."
   ]
  },
  {
   "cell_type": "code",
   "execution_count": 13,
   "id": "0b2dd394",
   "metadata": {},
   "outputs": [
    {
     "name": "stdout",
     "output_type": "stream",
     "text": [
      "['apple', 'banana', 'cherry', 'orange']\n"
     ]
    }
   ],
   "source": [
    "fruits = ['apple', 'banana', 'cherry']\n",
    "fruits.append('orange')\n",
    "print(fruits)\n",
    "# Output: ['apple', 'banana', 'cherry', 'orange']"
   ]
  },
  {
   "cell_type": "markdown",
   "id": "50e84dbf",
   "metadata": {},
   "source": [
    "#### extend()\n",
    "The `extend()` method is used to add multiple elements to the end of the list."
   ]
  },
  {
   "cell_type": "code",
   "execution_count": 14,
   "id": "55318349",
   "metadata": {},
   "outputs": [
    {
     "name": "stdout",
     "output_type": "stream",
     "text": [
      "['apple', 'banana', 'cherry', 'orange', 'grapes']\n"
     ]
    }
   ],
   "source": [
    "fruits = ['apple', 'banana', 'cherry']\n",
    "new_fruits = ['orange', 'grapes']\n",
    "fruits.extend(new_fruits)\n",
    "print(fruits)\n",
    "# Output: ['apple', 'banana', 'cherry', 'orange', 'grapes']"
   ]
  },
  {
   "cell_type": "markdown",
   "id": "6ed85afc",
   "metadata": {},
   "source": [
    "#### remove()\n",
    "The `remove()` method is used to remove an element from the list. It removes the first occurrence of the element."
   ]
  },
  {
   "cell_type": "code",
   "execution_count": 15,
   "id": "31053dc8",
   "metadata": {},
   "outputs": [
    {
     "name": "stdout",
     "output_type": "stream",
     "text": [
      "['apple', 'cherry']\n"
     ]
    }
   ],
   "source": [
    "fruits = ['apple', 'banana', 'cherry']\n",
    "fruits.remove('banana')\n",
    "print(fruits)\n",
    "# Output: ['apple', 'cherry']"
   ]
  },
  {
   "cell_type": "markdown",
   "id": "760936a5",
   "metadata": {},
   "source": [
    "#### sort()\n",
    "The `sort()` method is used to sort the elements of the list in ascending order."
   ]
  },
  {
   "cell_type": "code",
   "execution_count": 16,
   "id": "09e9f0af",
   "metadata": {},
   "outputs": [
    {
     "name": "stdout",
     "output_type": "stream",
     "text": [
      "['apple', 'banana', 'cherry']\n"
     ]
    }
   ],
   "source": [
    "fruits = ['cherry', 'banana', 'apple']\n",
    "fruits.sort()\n",
    "print(fruits)\n",
    "# Output: ['apple', 'banana', 'cherry']"
   ]
  },
  {
   "cell_type": "markdown",
   "id": "5459b3a8",
   "metadata": {},
   "source": [
    "#### pop()\n",
    "The `pop()` method is used to remove and return the last element of the list."
   ]
  },
  {
   "cell_type": "code",
   "execution_count": 17,
   "id": "20cc6edd",
   "metadata": {},
   "outputs": [
    {
     "name": "stdout",
     "output_type": "stream",
     "text": [
      "['apple', 'banana']\n",
      "cherry\n"
     ]
    }
   ],
   "source": [
    "fruits = ['apple', 'banana', 'cherry']\n",
    "last_fruit = fruits.pop()\n",
    "print(fruits)\n",
    "# Output: ['apple', 'banana']\n",
    "print(last_fruit)\n",
    "# Output: 'cherry'"
   ]
  },
  {
   "cell_type": "markdown",
   "id": "8eede961",
   "metadata": {},
   "source": [
    "### Tuples\n",
    "A tuple is similar to a list, but it is an ordered, immutable, and heterogeneous collection of items. It is defined by parentheses `()` and items are separated by commas `,`."
   ]
  },
  {
   "cell_type": "markdown",
   "id": "45fc99fc",
   "metadata": {},
   "source": [
    "Here is an example:"
   ]
  },
  {
   "cell_type": "code",
   "execution_count": 18,
   "id": "61bb6a62",
   "metadata": {},
   "outputs": [
    {
     "name": "stdout",
     "output_type": "stream",
     "text": [
      "apple\n"
     ]
    }
   ],
   "source": [
    "fruits = ('apple', 'banana', 'cherry')\n",
    "print(fruits[0]) # Output: 'apple'"
   ]
  },
  {
   "cell_type": "markdown",
   "id": "17261246",
   "metadata": {},
   "source": [
    "In the above example, `fruits` is a tuple of three items. Tuples are also 0-indexed in Python, but unlike lists, they cannot be modified after creation."
   ]
  },
  {
   "cell_type": "markdown",
   "id": "f12cf354",
   "metadata": {},
   "source": [
    "### Dictionaries\n",
    "A dictionary is an unordered collection of key-value pairs. It is defined by curly braces `{}` and items are separated by colons `:`.\n",
    "\n",
    "Here is an example:"
   ]
  },
  {
   "cell_type": "code",
   "execution_count": 19,
   "id": "5e15ed4e",
   "metadata": {},
   "outputs": [
    {
     "name": "stdout",
     "output_type": "stream",
     "text": [
      "100\n",
      "150\n"
     ]
    }
   ],
   "source": [
    "fruits = {'apple': 100, 'banana': 200, 'cherry': 300}\n",
    "print(fruits['apple']) # Output: 100\n",
    "fruits['apple'] = 150\n",
    "print(fruits['apple']) # Output: 150"
   ]
  },
  {
   "cell_type": "markdown",
   "id": "1a25529b",
   "metadata": {},
   "source": [
    "In the above example, `fruits` is a dictionary with three key-value pairs. Dictionaries are similar to lists in terms of indexing, but instead of an integer index, you use a key to access the value."
   ]
  },
  {
   "cell_type": "markdown",
   "id": "a520904c",
   "metadata": {},
   "source": [
    "### Sets\n",
    "A set is an unordered collection of unique items. It is defined by curly braces `{}` or the `set` function.\n",
    "\n",
    "Here is an example:"
   ]
  },
  {
   "cell_type": "code",
   "execution_count": 20,
   "id": "6c2ebb5e",
   "metadata": {},
   "outputs": [
    {
     "name": "stdout",
     "output_type": "stream",
     "text": [
      "True\n",
      "{'banana', 'cherry', 'mango', 'apple'}\n"
     ]
    }
   ],
   "source": [
    "fruits = {'apple', 'banana', 'cherry'}\n",
    "print('apple' in fruits) # Output: True\n",
    "fruits.add('mango')\n",
    "print(fruits) # Output: {'banana', 'cherry', 'apple', 'mango'}"
   ]
  },
  {
   "cell_type": "markdown",
   "id": "41c55f7e",
   "metadata": {},
   "source": [
    "In the above example, `fruits` is a set with three items. Sets are similar to lists and tuples in terms of iteration and membership testing, but unlike lists and tuples, sets do not allow duplicates."
   ]
  },
  {
   "cell_type": "markdown",
   "id": "1600a8f9",
   "metadata": {},
   "source": [
    "These are the most commonly used data structures in Python. Understanding these data structures and knowing how to use them is a crucial part of becoming a proficient Python programmer."
   ]
  },
  {
   "cell_type": "markdown",
   "id": "40f1b412",
   "metadata": {},
   "source": [
    "## File Handling in Python\n",
    "In this section, you will learn how to read and write files in Python. Python provides several ways to work with files, including the built-in `open` function and various module functions in the `os` and `os.path` modules."
   ]
  },
  {
   "cell_type": "markdown",
   "id": "8d3d1340",
   "metadata": {},
   "source": [
    "### Reading Files\n",
    "The most basic way to read a file is to use the `open` function, which returns a file object that you can use to read the contents of the file.\n",
    "\n",
    "Here is an example:"
   ]
  },
  {
   "cell_type": "code",
   "execution_count": 22,
   "id": "37130f92",
   "metadata": {},
   "outputs": [
    {
     "name": "stdout",
     "output_type": "stream",
     "text": [
      "Hello, World !\n"
     ]
    }
   ],
   "source": [
    "with open('example.txt', 'r') as file:\n",
    "    content = file.read()\n",
    "    print(content)"
   ]
  },
  {
   "cell_type": "markdown",
   "id": "23925110",
   "metadata": {},
   "source": [
    "In the above example, the open function is used to open the `example.txt` file in read mode (`'r'`). The `with` statement is used to ensure that the file is properly closed after it is read, even if an exception occurs. The `read` method is used to read the contents of the file and store it in the `content` variable."
   ]
  },
  {
   "cell_type": "markdown",
   "id": "ce167c9e",
   "metadata": {},
   "source": [
    "### Writing Files\n",
    "To write to a file, you can use the `open` function in write mode (`'w'`) and write to the file using the `write` method.\n",
    "\n",
    "Here is an example:"
   ]
  },
  {
   "cell_type": "code",
   "execution_count": 23,
   "id": "878f2c16",
   "metadata": {},
   "outputs": [],
   "source": [
    "with open('example.txt', 'w') as file:\n",
    "    file.write('Hello, world2!')"
   ]
  },
  {
   "cell_type": "markdown",
   "id": "21592400",
   "metadata": {},
   "source": [
    "In the above example, the `open` function is used to open the `example.txt` file in write mode (`'w'`). The `with` statement is used to ensure that the file is properly closed after it is written, even if an exception occurs. The `write` method is used to write the string `'Hello, world!'` to the file."
   ]
  },
  {
   "cell_type": "markdown",
   "id": "b2a269a2",
   "metadata": {},
   "source": [
    "### Appending to Files\n",
    "To append to a file, you can use the `open` function in append mode (`'a'`) and write to the file using the `write` method.\n",
    "\n",
    "Here is an example:"
   ]
  },
  {
   "cell_type": "code",
   "execution_count": 24,
   "id": "e6da00c3",
   "metadata": {},
   "outputs": [],
   "source": [
    "with open('example.txt', 'a') as file:\n",
    "    file.write('\\nThis is a new line.')"
   ]
  },
  {
   "cell_type": "markdown",
   "id": "4064c2bc",
   "metadata": {},
   "source": [
    "In the above example, the `open` function is used to open the `example.txt` file in append mode (`'a'`). The `with` statement is used to ensure that the file is properly closed after it is written, even if an exception occurs. The `write` method is used to append the string `'\\nThis is a new line.'` to the file."
   ]
  },
  {
   "cell_type": "markdown",
   "id": "6d1078f8",
   "metadata": {},
   "source": [
    "These are the basic ways to read and write files in Python. In practice, you may also need to work with other file formats, such as CSV and JSON, which require specialized libraries and techniques."
   ]
  },
  {
   "cell_type": "markdown",
   "id": "1356f643",
   "metadata": {},
   "source": [
    "## Packages and Library Management in Python\n",
    "In this section, you will learn how to install packages in Python using the `pip` package manager. The `pip` package manager is included with the standard Python distribution and is the most common way to install packages in Python."
   ]
  },
  {
   "cell_type": "markdown",
   "id": "c4bbb3c2",
   "metadata": {},
   "source": [
    "### Installing a Package\n",
    "To install a package in Python using `pip`, you can use the following command in your terminal or command prompt:"
   ]
  },
  {
   "cell_type": "code",
   "execution_count": 25,
   "id": "6b69510d",
   "metadata": {},
   "outputs": [],
   "source": [
    "# >> pip install [package_name]"
   ]
  },
  {
   "cell_type": "markdown",
   "id": "db8eb417",
   "metadata": {},
   "source": [
    "For example, to install the `numpy` package, you would use the following command in your terminal or command prompt:"
   ]
  },
  {
   "cell_type": "code",
   "execution_count": 27,
   "id": "4e9f422c",
   "metadata": {},
   "outputs": [],
   "source": [
    "# >> pip install numpy"
   ]
  },
  {
   "cell_type": "markdown",
   "id": "85717ebe",
   "metadata": {},
   "source": [
    "### Installing a Specific Version of a Package\n",
    "You can also install a specific version of a package by including the version number in the `pip` command. For example, to install version 1.16.0 of the `numpy` package, you would use the following command:"
   ]
  },
  {
   "cell_type": "code",
   "execution_count": 28,
   "id": "cf78cdb6",
   "metadata": {},
   "outputs": [],
   "source": [
    "# >> pip install numpy==1.16.0"
   ]
  },
  {
   "cell_type": "markdown",
   "id": "77dc6e6b",
   "metadata": {},
   "source": [
    "### Installing a Package from a Requirements File\n",
    "A requirements file is a text file that lists the packages and their versions required for a project. To install the packages listed in a requirements file, use the following command in your terminal or command prompt:"
   ]
  },
  {
   "cell_type": "code",
   "execution_count": 29,
   "id": "4fb88417",
   "metadata": {},
   "outputs": [],
   "source": [
    "# >> pip install -r requirements.txt"
   ]
  },
  {
   "cell_type": "markdown",
   "id": "1fdfed51",
   "metadata": {},
   "source": [
    "where `requirements.txt` is the name of your requirements file."
   ]
  },
  {
   "cell_type": "markdown",
   "id": "7991cc12",
   "metadata": {},
   "source": [
    "### Importing Packages\n",
    "You can import a package in Python using the `import` statement. For example, to import the `math` package, use the following code:"
   ]
  },
  {
   "cell_type": "code",
   "execution_count": 30,
   "id": "00ecf5aa",
   "metadata": {},
   "outputs": [],
   "source": [
    "import math"
   ]
  },
  {
   "cell_type": "markdown",
   "id": "6daf3222",
   "metadata": {},
   "source": [
    "### Using Packages\n",
    "Once a package is imported, you can use the functions and classes it provides in your code. For example, the `math` package provides the `sqrt` function, which calculates the square root of a number:"
   ]
  },
  {
   "cell_type": "code",
   "execution_count": 31,
   "id": "61084af6",
   "metadata": {},
   "outputs": [
    {
     "name": "stdout",
     "output_type": "stream",
     "text": [
      "4.0\n"
     ]
    }
   ],
   "source": [
    "import math\n",
    "\n",
    "result = math.sqrt(16)\n",
    "print(result) # 4.0"
   ]
  },
  {
   "cell_type": "markdown",
   "id": "0dfa0a4c",
   "metadata": {},
   "source": [
    "### Managing Packages\n",
    "You can manage packages in Python using the `pip` package manager. To list the packages installed in your environment, use the following command:"
   ]
  },
  {
   "cell_type": "code",
   "execution_count": 32,
   "id": "64664a66",
   "metadata": {},
   "outputs": [],
   "source": [
    "# >> pip list"
   ]
  },
  {
   "cell_type": "markdown",
   "id": "6be7b96e",
   "metadata": {},
   "source": [
    "To update a package, use the following command:"
   ]
  },
  {
   "cell_type": "code",
   "execution_count": 33,
   "id": "81126863",
   "metadata": {},
   "outputs": [],
   "source": [
    "# >> pip install --upgrade [package_name]"
   ]
  },
  {
   "cell_type": "markdown",
   "id": "3e61ed24",
   "metadata": {},
   "source": [
    "To uninstall a package, use the following command:"
   ]
  },
  {
   "cell_type": "code",
   "execution_count": 34,
   "id": "55cf21c3",
   "metadata": {},
   "outputs": [],
   "source": [
    "# >> pip uninstall [package_name]"
   ]
  },
  {
   "cell_type": "markdown",
   "id": "456d2c41",
   "metadata": {},
   "source": [
    "Installing packages in Python is easy and straightforward using the `pip` package manager. By installing packages, you can leverage the work of others and save time and effort in your own projects. With the knowledge of how to install packages in Python, you can start using powerful libraries and packages in your projects and take your development skills to the next level."
   ]
  },
  {
   "cell_type": "markdown",
   "id": "f2190d70",
   "metadata": {},
   "source": [
    "## Advanced Topics in Python\n",
    "In this section, you will learn about some advanced topics in Python, including error handling, decorators, generators, and context managers. These topics are useful for building robust and scalable applications in Python."
   ]
  },
  {
   "cell_type": "markdown",
   "id": "ba11af67",
   "metadata": {},
   "source": [
    "### Error Handling\n",
    "Error handling is a critical aspect of programming in any language. In Python, you can use try-except blocks to handle exceptions that might occur in your code.\n",
    "\n",
    "Here is an example:"
   ]
  },
  {
   "cell_type": "code",
   "execution_count": 35,
   "id": "ab2c773f",
   "metadata": {},
   "outputs": [
    {
     "name": "stdout",
     "output_type": "stream",
     "text": [
      "An error occurred: division by zero\n"
     ]
    }
   ],
   "source": [
    "try:\n",
    "    # code that might raise an exception\n",
    "    result = 1 / 0\n",
    "except ZeroDivisionError as error:\n",
    "    print(f'An error occurred: {error}')"
   ]
  },
  {
   "cell_type": "markdown",
   "id": "5837158f",
   "metadata": {},
   "source": [
    "In the above example, a `ZeroDivisionError` exception is raised when attempting to divide by zero. The `except` block is used to catch the exception and print an error message."
   ]
  },
  {
   "cell_type": "markdown",
   "id": "7c5dacfb",
   "metadata": {},
   "source": [
    "### Decorators\n",
    "Decorators are a powerful feature in Python that allow you to modify the behavior of functions and classes. Decorators are applied to functions or classes using the `@` symbol.\n",
    "\n",
    "Here is an example:"
   ]
  },
  {
   "cell_type": "code",
   "execution_count": 36,
   "id": "328badcf",
   "metadata": {},
   "outputs": [],
   "source": [
    "def my_decorator(func):\n",
    "    def wrapper(*args, **kwargs):\n",
    "        print('Before the function is called.')\n",
    "        result = func(*args, **kwargs)\n",
    "        print('After the function is called.')\n",
    "        return result\n",
    "    return wrapper\n",
    "\n",
    "@my_decorator\n",
    "def my_function(a, b):\n",
    "    return a + b"
   ]
  },
  {
   "cell_type": "markdown",
   "id": "235662bd",
   "metadata": {},
   "source": [
    "In the above example, the `my_decorator` function is defined as a decorator. The `my_function` function is decorated with the `my_decorator` decorator using the `@` symbol. When the `my_function` is called, the behavior of the function is modified by the `my_decorator` to print messages before and after the function is called.\n",
    "\n"
   ]
  },
  {
   "cell_type": "markdown",
   "id": "e0ea60cb",
   "metadata": {},
   "source": [
    "### Generators\n",
    "Generators are a convenient way to generate a sequence of values in Python. Generators are defined using the `yield` statement.\n",
    "\n",
    "Here is an example:\n"
   ]
  },
  {
   "cell_type": "code",
   "execution_count": 37,
   "id": "15c012f0",
   "metadata": {},
   "outputs": [
    {
     "name": "stdout",
     "output_type": "stream",
     "text": [
      "0\n",
      "1\n",
      "2\n"
     ]
    }
   ],
   "source": [
    "def my_generator():\n",
    "    for i in range(3):\n",
    "        yield i\n",
    "\n",
    "for item in my_generator():\n",
    "    print(item)"
   ]
  },
  {
   "cell_type": "markdown",
   "id": "3f9f767c",
   "metadata": {},
   "source": [
    "In the above example, the `my_generator` function is defined as a generator. The `yield` statement is used to generate a sequence of values. The `for` loop is used to iterate over the values generated by the generator."
   ]
  },
  {
   "cell_type": "markdown",
   "id": "a1009568",
   "metadata": {},
   "source": [
    "### Context Managers\n",
    "Context managers are a convenient way to manage resources in Python. Context managers are defined using the with statement.\n",
    "\n",
    "Here is an example:\n"
   ]
  },
  {
   "cell_type": "code",
   "execution_count": 38,
   "id": "fd9dc5a3",
   "metadata": {},
   "outputs": [],
   "source": [
    "class File:\n",
    "    def __init__(self, filename, mode):\n",
    "        self.filename = filename\n",
    "        self.mode = mode\n",
    "\n",
    "    def __enter__(self):\n",
    "        self.file = open(self.filename, self.mode)\n",
    "        return self.file\n",
    "\n",
    "    def __exit__(self, exc_type, exc_value, traceback):\n",
    "        self.file.close()\n",
    "\n",
    "with File('example.txt', 'w') as file:\n",
    "    file.write('Hello, world!')"
   ]
  },
  {
   "cell_type": "markdown",
   "id": "24dd0afb",
   "metadata": {},
   "source": [
    "In the above example, the `File` class is defined as a context manager. The `__enter__` method is used to open the file and the `__exit__` method is used to close the file. The `with` statement is used to manage"
   ]
  },
  {
   "cell_type": "code",
   "execution_count": null,
   "id": "a8bb7a3c",
   "metadata": {},
   "outputs": [],
   "source": []
  }
 ],
 "metadata": {
  "kernelspec": {
   "display_name": "Python 3 (ipykernel)",
   "language": "python",
   "name": "python3"
  },
  "language_info": {
   "codemirror_mode": {
    "name": "ipython",
    "version": 3
   },
   "file_extension": ".py",
   "mimetype": "text/x-python",
   "name": "python",
   "nbconvert_exporter": "python",
   "pygments_lexer": "ipython3",
   "version": "3.9.12"
  }
 },
 "nbformat": 4,
 "nbformat_minor": 5
}
