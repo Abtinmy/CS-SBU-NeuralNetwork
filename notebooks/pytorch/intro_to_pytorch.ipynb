{
  "cells": [
    {
      "cell_type": "markdown",
      "metadata": {
        "id": "m8LY01Y5Z74D"
      },
      "source": [
        "# Tensor Basics"
      ]
    },
    {
      "cell_type": "markdown",
      "metadata": {
        "id": "ZbSolYYUaCPS"
      },
      "source": [
        "## Perform standard imports"
      ]
    },
    {
      "cell_type": "code",
      "execution_count": null,
      "metadata": {
        "id": "msZG53F1Z_7Z"
      },
      "outputs": [],
      "source": [
        "import torch\n",
        "import numpy as np"
      ]
    },
    {
      "cell_type": "code",
      "execution_count": null,
      "metadata": {
        "colab": {
          "base_uri": "https://localhost:8080/",
          "height": 35
        },
        "id": "qZh8Yu8iaFeL",
        "outputId": "b262cd94-ec6c-460e-9f5c-eaeb6c37570b"
      },
      "outputs": [
        {
          "data": {
            "application/vnd.google.colaboratory.intrinsic+json": {
              "type": "string"
            },
            "text/plain": [
              "'1.12.0+cu113'"
            ]
          },
          "execution_count": 2,
          "metadata": {},
          "output_type": "execute_result"
        }
      ],
      "source": [
        "torch.__version__"
      ]
    },
    {
      "cell_type": "markdown",
      "metadata": {
        "id": "WHU6x1zQaS0b"
      },
      "source": [
        "## Converting NumPy arrays to PyTorch tensors\n",
        "A <a href='https://pytorch.org/docs/stable/tensors.html'><strong><tt>torch.Tensor</tt></strong></a> is a multi-dimensional matrix containing elements of a single data type.<br>\n",
        "Calculations between tensors can only happen if the tensors share the same dtype.<br>\n",
        "In some cases tensors are used as a replacement for NumPy to use the power of GPUs ."
      ]
    },
    {
      "cell_type": "code",
      "execution_count": null,
      "metadata": {
        "colab": {
          "base_uri": "https://localhost:8080/"
        },
        "id": "eeuihT3daHQS",
        "outputId": "85ca83f2-0619-43d8-b694-148f608a013c"
      },
      "outputs": [
        {
          "name": "stdout",
          "output_type": "stream",
          "text": [
            "[1 2 3 4 5]\n",
            "int64\n",
            "<class 'numpy.ndarray'>\n"
          ]
        }
      ],
      "source": [
        "arr = np.array([1,2,3,4,5])\n",
        "print(arr)\n",
        "print(arr.dtype)\n",
        "print(type(arr))"
      ]
    },
    {
      "cell_type": "code",
      "execution_count": null,
      "metadata": {
        "colab": {
          "base_uri": "https://localhost:8080/"
        },
        "id": "zaugsahjaejQ",
        "outputId": "54d4c77b-21b4-482c-da41-7ac03c118597"
      },
      "outputs": [
        {
          "name": "stdout",
          "output_type": "stream",
          "text": [
            "tensor([1, 2, 3, 4, 5])\n"
          ]
        }
      ],
      "source": [
        "x = torch.from_numpy(arr)\n",
        "# Equivalent to x = torch.as_tensor(arr)\n",
        "\n",
        "print(x)"
      ]
    },
    {
      "cell_type": "code",
      "execution_count": null,
      "metadata": {
        "colab": {
          "base_uri": "https://localhost:8080/"
        },
        "id": "gRt44Vmmaic4",
        "outputId": "664e8989-6ad7-423a-9abf-3b0b69ad9d75"
      },
      "outputs": [
        {
          "name": "stdout",
          "output_type": "stream",
          "text": [
            "torch.int64\n"
          ]
        }
      ],
      "source": [
        "# Print the type of data held by the tensor\n",
        "print(x.dtype)"
      ]
    },
    {
      "cell_type": "code",
      "execution_count": null,
      "metadata": {
        "colab": {
          "base_uri": "https://localhost:8080/"
        },
        "id": "ochYVQlCak-4",
        "outputId": "5419f102-cfa9-4618-c306-f134b8e77691"
      },
      "outputs": [
        {
          "name": "stdout",
          "output_type": "stream",
          "text": [
            "<class 'torch.Tensor'>\n"
          ]
        }
      ],
      "source": [
        "# Print the tensor object type\n",
        "print(type(x))"
      ]
    },
    {
      "cell_type": "code",
      "execution_count": null,
      "metadata": {
        "colab": {
          "base_uri": "https://localhost:8080/"
        },
        "id": "1UuS5JhBavwR",
        "outputId": "d8cc55a1-b479-415a-d58d-a63a37cecdad"
      },
      "outputs": [
        {
          "data": {
            "text/plain": [
              "array([ 0.,  1.,  2.,  3.,  4.,  5.,  6.,  7.,  8.,  9., 10., 11.])"
            ]
          },
          "execution_count": 7,
          "metadata": {},
          "output_type": "execute_result"
        }
      ],
      "source": [
        "np.arange(0.,12.)"
      ]
    },
    {
      "cell_type": "code",
      "execution_count": null,
      "metadata": {
        "colab": {
          "base_uri": "https://localhost:8080/"
        },
        "id": "-lC49WjTaofo",
        "outputId": "d66633a6-8de2-41bc-c1de-cf9929894d6d"
      },
      "outputs": [
        {
          "name": "stdout",
          "output_type": "stream",
          "text": [
            "[[ 0.  1.  2.]\n",
            " [ 3.  4.  5.]\n",
            " [ 6.  7.  8.]\n",
            " [ 9. 10. 11.]]\n"
          ]
        }
      ],
      "source": [
        "arr2 = np.arange(0.,12.).reshape(4,3)\n",
        "print(arr2)"
      ]
    },
    {
      "cell_type": "code",
      "execution_count": null,
      "metadata": {
        "colab": {
          "base_uri": "https://localhost:8080/"
        },
        "id": "TQSJ2-U2at8B",
        "outputId": "7795bf26-624a-4a51-e9ff-3a8ac204f474"
      },
      "outputs": [
        {
          "name": "stdout",
          "output_type": "stream",
          "text": [
            "tensor([[ 0.,  1.,  2.],\n",
            "        [ 3.,  4.,  5.],\n",
            "        [ 6.,  7.,  8.],\n",
            "        [ 9., 10., 11.]], dtype=torch.float64)\n",
            "torch.DoubleTensor\n"
          ]
        }
      ],
      "source": [
        "x2 = torch.from_numpy(arr2)\n",
        "print(x2)\n",
        "print(x2.type())"
      ]
    },
    {
      "cell_type": "markdown",
      "metadata": {
        "id": "bpsEHP3ba5mJ"
      },
      "source": [
        "Here <tt>torch.DoubleTensor</tt> refers to 64-bit floating point data."
      ]
    },
    {
      "cell_type": "markdown",
      "metadata": {
        "id": "RMx-7B7oa8Ry"
      },
      "source": [
        "<h2><a href='https://pytorch.org/docs/stable/tensors.html'>Tensor Datatypes</a></h2>\n",
        "<table style=\"display: inline-block\">\n",
        "<tr><th>TYPE</th><th>NAME</th><th>EQUIVALENT</th><th>TENSOR TYPE</th></tr>\n",
        "<tr><td>32-bit integer (signed)</td><td>torch.int32</td><td>torch.int</td><td>IntTensor</td></tr>\n",
        "<tr><td>64-bit integer (signed)</td><td>torch.int64</td><td>torch.long</td><td>LongTensor</td></tr>\n",
        "<tr><td>16-bit integer (signed)</td><td>torch.int16</td><td>torch.short</td><td>ShortTensor</td></tr>\n",
        "<tr><td>32-bit floating point</td><td>torch.float32</td><td>torch.float</td><td>FloatTensor</td></tr>\n",
        "<tr><td>64-bit floating point</td><td>torch.float64</td><td>torch.double</td><td>DoubleTensor</td></tr>\n",
        "<tr><td>16-bit floating point</td><td>torch.float16</td><td>torch.half</td><td>HalfTensor</td></tr>\n",
        "<tr><td>8-bit integer (signed)</td><td>torch.int8</td><td></td><td>CharTensor</td></tr>\n",
        "<tr><td>8-bit integer (unsigned)</td><td>torch.uint8</td><td></td><td>ByteTensor</td></tr></table>"
      ]
    },
    {
      "cell_type": "markdown",
      "metadata": {
        "id": "tKghVug-bEbR"
      },
      "source": [
        "## Copying vs. sharing"
      ]
    },
    {
      "cell_type": "markdown",
      "metadata": {
        "id": "_aS12Q4IbB-y"
      },
      "source": [
        "<a href='https://pytorch.org/docs/stable/torch.html#torch.from_numpy'><strong><tt>torch.from_numpy()</tt></strong></a><br>\n",
        "<a href='https://pytorch.org/docs/stable/torch.html#torch.as_tensor'><strong><tt>torch.as_tensor()</tt></strong></a><br>\n",
        "<a href='https://pytorch.org/docs/stable/torch.html#torch.tensor'><strong><tt>torch.tensor()</tt></strong></a><br>\n",
        "\n",
        "There are a number of different functions available for <a href='https://pytorch.org/docs/stable/torch.html#creation-ops'>creating tensors</a>. When using <a href='https://pytorch.org/docs/stable/torch.html#torch.from_numpy'><strong><tt>torch.from_numpy()</tt></strong></a> and <a href='https://pytorch.org/docs/stable/torch.html#torch.as_tensor'><strong><tt>torch.as_tensor()</tt></strong></a>, the PyTorch tensor and the source NumPy array share the same memory. This means that changes to one affect the other. However, the <a href='https://pytorch.org/docs/stable/torch.html#torch.tensor'><strong><tt>torch.tensor()</tt></strong></a> function always makes a copy."
      ]
    },
    {
      "cell_type": "code",
      "execution_count": null,
      "metadata": {
        "colab": {
          "base_uri": "https://localhost:8080/"
        },
        "id": "aDgse_w5a0WR",
        "outputId": "49690430-7600-4e63-c63e-f4da55339810"
      },
      "outputs": [
        {
          "name": "stdout",
          "output_type": "stream",
          "text": [
            "tensor([0, 1, 2, 3, 4])\n"
          ]
        }
      ],
      "source": [
        "# Using torch.from_numpy()\n",
        "arr = np.arange(0,5)\n",
        "t = torch.from_numpy(arr)\n",
        "print(t)"
      ]
    },
    {
      "cell_type": "code",
      "execution_count": null,
      "metadata": {
        "colab": {
          "base_uri": "https://localhost:8080/"
        },
        "id": "Nh-Cdq1wbHgg",
        "outputId": "a0dee51f-26d9-466e-a8d3-c3497ed83c47"
      },
      "outputs": [
        {
          "name": "stdout",
          "output_type": "stream",
          "text": [
            "tensor([ 0,  1, 77,  3,  4])\n"
          ]
        }
      ],
      "source": [
        "arr[2]=77\n",
        "print(t)"
      ]
    },
    {
      "cell_type": "code",
      "execution_count": null,
      "metadata": {
        "colab": {
          "base_uri": "https://localhost:8080/"
        },
        "id": "QzWOCTkzbI9Y",
        "outputId": "2a681313-5055-4df4-b7fb-e1c48cc91ca1"
      },
      "outputs": [
        {
          "name": "stdout",
          "output_type": "stream",
          "text": [
            "tensor([0, 1, 2, 3, 4])\n"
          ]
        }
      ],
      "source": [
        "# Using torch.tensor()\n",
        "arr = np.arange(0,5)\n",
        "t = torch.tensor(arr)\n",
        "print(t)"
      ]
    },
    {
      "cell_type": "code",
      "execution_count": null,
      "metadata": {
        "colab": {
          "base_uri": "https://localhost:8080/"
        },
        "id": "O0gg3u67bKLi",
        "outputId": "fcc5b94d-22e1-4450-fa5c-8249fa27122e"
      },
      "outputs": [
        {
          "name": "stdout",
          "output_type": "stream",
          "text": [
            "tensor([0, 1, 2, 3, 4])\n"
          ]
        }
      ],
      "source": [
        "arr[2]=77\n",
        "print(t)"
      ]
    },
    {
      "cell_type": "markdown",
      "metadata": {
        "id": "e03mQHYkbUxi"
      },
      "source": [
        "## Creating tensors from scratch\n",
        "### Uninitialized tensors with <tt>.empty()</tt>\n",
        "<a href='https://pytorch.org/docs/stable/torch.html#torch.empty'><strong><tt>torch.empty()</tt></strong></a> returns an <em>uninitialized</em> tensor. Essentially a block of memory is allocated according to the size of the tensor, and any values already sitting in the block are returned. This is similar to the behavior of <tt>numpy.empty()</tt>."
      ]
    },
    {
      "cell_type": "code",
      "execution_count": null,
      "metadata": {
        "colab": {
          "base_uri": "https://localhost:8080/"
        },
        "id": "J3nsOQhabLbo",
        "outputId": "4ef4572e-9eeb-43d5-feea-77a140f8eb6a"
      },
      "outputs": [
        {
          "name": "stdout",
          "output_type": "stream",
          "text": [
            "tensor([[1.0994e-35, 0.0000e+00, 3.3631e-44],\n",
            "        [0.0000e+00,        nan, 0.0000e+00],\n",
            "        [1.1578e+27, 1.1362e+30, 7.1547e+22],\n",
            "        [4.5828e+30, 1.2121e+04, 7.1846e+22]])\n"
          ]
        }
      ],
      "source": [
        "x = torch.empty(4, 3)\n",
        "print(x)"
      ]
    },
    {
      "cell_type": "markdown",
      "metadata": {
        "id": "g9LQ5_Itbaib"
      },
      "source": [
        "### Initialized tensors with <tt>.zeros()</tt> and <tt>.ones()</tt>\n",
        "<a href='https://pytorch.org/docs/stable/torch.html#torch.zeros'><strong><tt>torch.zeros(size)</tt></strong></a><br>\n",
        "<a href='https://pytorch.org/docs/stable/torch.html#torch.ones'><strong><tt>torch.ones(size)</tt></strong></a><br>\n",
        "It's a good idea to pass in the intended dtype."
      ]
    },
    {
      "cell_type": "code",
      "execution_count": null,
      "metadata": {
        "colab": {
          "base_uri": "https://localhost:8080/"
        },
        "id": "9F6-snRebXB4",
        "outputId": "db322cf9-8ac1-4eb2-f621-02ac7caf60b4"
      },
      "outputs": [
        {
          "name": "stdout",
          "output_type": "stream",
          "text": [
            "tensor([[0, 0, 0],\n",
            "        [0, 0, 0],\n",
            "        [0, 0, 0],\n",
            "        [0, 0, 0]])\n"
          ]
        }
      ],
      "source": [
        "x = torch.zeros(4, 3, dtype=torch.int64)\n",
        "print(x)"
      ]
    },
    {
      "cell_type": "code",
      "execution_count": null,
      "metadata": {
        "colab": {
          "base_uri": "https://localhost:8080/"
        },
        "id": "lIOys5R6beKA",
        "outputId": "fb371522-fc2c-4fd0-bb8d-faecc0dda387"
      },
      "outputs": [
        {
          "name": "stdout",
          "output_type": "stream",
          "text": [
            "tensor([[1., 1., 1., 1.],\n",
            "        [1., 1., 1., 1.],\n",
            "        [1., 1., 1., 1.],\n",
            "        [1., 1., 1., 1.]])\n"
          ]
        }
      ],
      "source": [
        "x = torch.ones(4, 4)\n",
        "print(x)"
      ]
    },
    {
      "cell_type": "markdown",
      "metadata": {
        "id": "usLspNqHb48Y"
      },
      "source": [
        "### Tensors from ranges\n",
        "<a href='https://pytorch.org/docs/stable/torch.html#torch.arange'><strong><tt>torch.arange(start,end,step)</tt></strong></a><br>\n",
        "<a href='https://pytorch.org/docs/stable/torch.html#torch.linspace'><strong><tt>torch.linspace(start,end,steps)</tt></strong></a><br>\n",
        "Note that with <tt>.arange()</tt>, <tt>end</tt> is exclusive, while with <tt>linspace()</tt>, <tt>end</tt> is inclusive."
      ]
    },
    {
      "cell_type": "code",
      "execution_count": null,
      "metadata": {
        "colab": {
          "base_uri": "https://localhost:8080/"
        },
        "id": "XVFil1aXbfln",
        "outputId": "5854a530-6cf7-4feb-f95e-48f2aa7f53a0"
      },
      "outputs": [
        {
          "name": "stdout",
          "output_type": "stream",
          "text": [
            "tensor([[ 0,  2,  4],\n",
            "        [ 6,  8, 10],\n",
            "        [12, 14, 16]])\n"
          ]
        }
      ],
      "source": [
        "x = torch.arange(0,18,2).reshape(3,3)\n",
        "print(x)"
      ]
    },
    {
      "cell_type": "code",
      "execution_count": null,
      "metadata": {
        "colab": {
          "base_uri": "https://localhost:8080/"
        },
        "id": "zpo6AyFXb7Ln",
        "outputId": "94eb514b-92de-4e7e-a3cf-44f98ac2f432"
      },
      "outputs": [
        {
          "name": "stdout",
          "output_type": "stream",
          "text": [
            "tensor([[ 0.0000,  1.6364,  3.2727,  4.9091],\n",
            "        [ 6.5455,  8.1818,  9.8182, 11.4545],\n",
            "        [13.0909, 14.7273, 16.3636, 18.0000]])\n"
          ]
        }
      ],
      "source": [
        "x = torch.linspace(0,18,12).reshape(3,4)\n",
        "print(x)"
      ]
    },
    {
      "cell_type": "markdown",
      "metadata": {
        "id": "H3jrPYfbcJSg"
      },
      "source": [
        "### Tensors from data\n",
        "<tt>torch.tensor()</tt> will choose the dtype based on incoming data:"
      ]
    },
    {
      "cell_type": "code",
      "execution_count": null,
      "metadata": {
        "colab": {
          "base_uri": "https://localhost:8080/"
        },
        "id": "do3Ng-9Xb84Q",
        "outputId": "4ab0a5be-04d4-4ad5-c3d6-8293dc4461bb"
      },
      "outputs": [
        {
          "name": "stdout",
          "output_type": "stream",
          "text": [
            "tensor([1, 2, 3, 4])\n",
            "torch.int64\n"
          ]
        },
        {
          "data": {
            "text/plain": [
              "tensor([1, 2, 3, 4], dtype=torch.int32)"
            ]
          },
          "execution_count": 19,
          "metadata": {},
          "output_type": "execute_result"
        }
      ],
      "source": [
        "x = torch.tensor([1, 2, 3, 4])\n",
        "print(x)\n",
        "print(x.dtype)\n",
        "#changing datatypes\n",
        "x.type(torch.int32)"
      ]
    },
    {
      "cell_type": "markdown",
      "metadata": {
        "id": "hjy2smqocUGY"
      },
      "source": [
        "You can also pass the dtype in as an argument. For a list of dtypes visit https://pytorch.org/docs/stable/tensor_attributes.html#torch.torch.dtype<br>"
      ]
    },
    {
      "cell_type": "code",
      "execution_count": null,
      "metadata": {
        "colab": {
          "base_uri": "https://localhost:8080/"
        },
        "id": "uaR3HL-WcOrf",
        "outputId": "442480b1-9cc2-4115-ccb7-c54ff92c8f06"
      },
      "outputs": [
        {
          "name": "stdout",
          "output_type": "stream",
          "text": [
            "tensor([ 8,  9, -3], dtype=torch.int32)\n",
            "torch.int32\n"
          ]
        }
      ],
      "source": [
        "x = torch.tensor([8,9,-3], dtype=torch.int)\n",
        "print(x)\n",
        "print(x.dtype)"
      ]
    },
    {
      "cell_type": "markdown",
      "metadata": {
        "id": "HQBM6TgvcpKC"
      },
      "source": [
        "### Random number tensors\n",
        "<a href='https://pytorch.org/docs/stable/torch.html#torch.rand'><strong><tt>torch.rand(size)</tt></strong></a> returns random samples from a uniform distribution over [0, 1)<br>\n",
        "<a href='https://pytorch.org/docs/stable/torch.html#torch.randn'><strong><tt>torch.randn(size)</tt></strong></a> returns samples from the \"standard normal\" distribution [σ = 1]<br>\n",
        "&nbsp;&nbsp;&nbsp;&nbsp;Unlike <tt>rand</tt> which is uniform, values closer to zero are more likely to appear.<br>\n",
        "<a href='https://pytorch.org/docs/stable/torch.html#torch.randint'><strong><tt>torch.randint(low,high,size)</tt></strong></a> returns random integers from low (inclusive) to high (exclusive)"
      ]
    },
    {
      "cell_type": "code",
      "execution_count": null,
      "metadata": {
        "colab": {
          "base_uri": "https://localhost:8080/"
        },
        "id": "Trbghf7GZe1m",
        "outputId": "e6cf4d44-b9b8-4133-deca-7e7e322a4e10"
      },
      "outputs": [
        {
          "name": "stdout",
          "output_type": "stream",
          "text": [
            "tensor([[0.6030, 0.2285, 0.8038],\n",
            "        [0.1230, 0.7200, 0.3957],\n",
            "        [0.7680, 0.6049, 0.2517],\n",
            "        [0.2586, 0.7425, 0.6952]])\n"
          ]
        }
      ],
      "source": [
        "x = torch.rand(4, 3)\n",
        "print(x)"
      ]
    },
    {
      "cell_type": "code",
      "execution_count": null,
      "metadata": {
        "colab": {
          "base_uri": "https://localhost:8080/"
        },
        "id": "mae1Kg9fZe1n",
        "outputId": "03bed244-0e9a-4a9c-9329-7d4a41406b4a"
      },
      "outputs": [
        {
          "name": "stdout",
          "output_type": "stream",
          "text": [
            "tensor([[ 0.2165, -0.0686,  0.2015],\n",
            "        [ 0.7441,  0.7225,  1.4614],\n",
            "        [-2.3071,  0.4702,  0.6524],\n",
            "        [-0.4017, -0.5270,  1.1353]])\n"
          ]
        }
      ],
      "source": [
        "x = torch.randn(4, 3)\n",
        "print(x)"
      ]
    },
    {
      "cell_type": "code",
      "execution_count": null,
      "metadata": {
        "colab": {
          "base_uri": "https://localhost:8080/"
        },
        "id": "2rTr0V_4Ze1n",
        "outputId": "8f3e70e6-45f6-437f-b76d-f38a4089650e"
      },
      "outputs": [
        {
          "name": "stdout",
          "output_type": "stream",
          "text": [
            "tensor([[3, 2, 0],\n",
            "        [2, 3, 2],\n",
            "        [3, 4, 3],\n",
            "        [0, 2, 0]])\n"
          ]
        }
      ],
      "source": [
        "x = torch.randint(0, 5, (4, 3))\n",
        "print(x)"
      ]
    },
    {
      "cell_type": "markdown",
      "metadata": {
        "id": "pe6OED-bZe1n"
      },
      "source": [
        "### Random number tensors that follow the input size\n",
        "<a href='https://pytorch.org/docs/stable/torch.html#torch.rand_like'><strong><tt>torch.rand_like(input)</tt></strong></a><br>\n",
        "<a href='https://pytorch.org/docs/stable/torch.html#torch.randn_like'><strong><tt>torch.randn_like(input)</tt></strong></a><br>\n",
        "<a href='https://pytorch.org/docs/stable/torch.html#torch.randint_like'><strong><tt>torch.randint_like(input,low,high)</tt></strong></a><br> these return random number tensors with the same size as <tt>input</tt>"
      ]
    },
    {
      "cell_type": "code",
      "execution_count": null,
      "metadata": {
        "colab": {
          "base_uri": "https://localhost:8080/"
        },
        "id": "5AD6BsShZe1n",
        "outputId": "d2045b44-791a-4c85-fad5-e9408816fd15"
      },
      "outputs": [
        {
          "name": "stdout",
          "output_type": "stream",
          "text": [
            "tensor([[0., 0., 0., 0., 0.],\n",
            "        [0., 0., 0., 0., 0.]])\n"
          ]
        }
      ],
      "source": [
        "x = torch.zeros(2,5)\n",
        "print(x)"
      ]
    },
    {
      "cell_type": "code",
      "execution_count": null,
      "metadata": {
        "colab": {
          "base_uri": "https://localhost:8080/"
        },
        "id": "XopFhPjRZe1o",
        "outputId": "6e66b578-2a90-4f34-d5d3-eae764383f4c"
      },
      "outputs": [
        {
          "name": "stdout",
          "output_type": "stream",
          "text": [
            "tensor([[-0.4551,  0.0819,  2.0344, -0.7828, -0.0693],\n",
            "        [-1.0297, -0.0456, -0.8849,  2.3125,  0.4777]])\n"
          ]
        }
      ],
      "source": [
        "x2 = torch.randn_like(x)\n",
        "print(x2)"
      ]
    },
    {
      "cell_type": "markdown",
      "metadata": {
        "id": "oQIMuEpaZe1o"
      },
      "source": [
        "The same syntax can be used with<br>\n",
        "<a href='https://pytorch.org/docs/stable/torch.html#torch.zeros_like'><strong><tt>torch.zeros_like(input)</tt></strong></a><br>\n",
        "<a href='https://pytorch.org/docs/stable/torch.html#torch.ones_like'><strong><tt>torch.ones_like(input)</tt></strong></a>"
      ]
    },
    {
      "cell_type": "code",
      "execution_count": null,
      "metadata": {
        "colab": {
          "base_uri": "https://localhost:8080/"
        },
        "id": "mzlPfTjMZe1o",
        "outputId": "96daf6e4-f665-46ee-bef8-479936e13a43"
      },
      "outputs": [
        {
          "name": "stdout",
          "output_type": "stream",
          "text": [
            "tensor([[1., 1., 1., 1., 1.],\n",
            "        [1., 1., 1., 1., 1.]])\n"
          ]
        }
      ],
      "source": [
        "x3 = torch.ones_like(x2)\n",
        "print(x3)"
      ]
    },
    {
      "cell_type": "markdown",
      "metadata": {
        "id": "O5_VUoVcZe1p"
      },
      "source": [
        "### Setting the random seed\n",
        "<a href='https://pytorch.org/docs/stable/torch.html#torch.manual_seed'><strong><tt>torch.manual_seed(int)</tt></strong></a> is used to obtain reproducible results"
      ]
    },
    {
      "cell_type": "code",
      "execution_count": null,
      "metadata": {
        "colab": {
          "base_uri": "https://localhost:8080/"
        },
        "id": "9GDIAt0FZe1p",
        "outputId": "61f825be-57f7-4292-b4eb-ef517fdc515c"
      },
      "outputs": [
        {
          "name": "stdout",
          "output_type": "stream",
          "text": [
            "tensor([[0.8823, 0.9150, 0.3829],\n",
            "        [0.9593, 0.3904, 0.6009]])\n"
          ]
        }
      ],
      "source": [
        "torch.manual_seed(42)\n",
        "x = torch.rand(2, 3)\n",
        "print(x)"
      ]
    },
    {
      "cell_type": "code",
      "execution_count": null,
      "metadata": {
        "colab": {
          "base_uri": "https://localhost:8080/"
        },
        "id": "AIDL8cjLZe1p",
        "outputId": "e06f1126-5514-47bb-ff04-cb5080636b50"
      },
      "outputs": [
        {
          "name": "stdout",
          "output_type": "stream",
          "text": [
            "tensor([[0.8823, 0.9150, 0.3829],\n",
            "        [0.9593, 0.3904, 0.6009]])\n"
          ]
        }
      ],
      "source": [
        "torch.manual_seed(42)\n",
        "x = torch.rand(2, 3)\n",
        "print(x)"
      ]
    },
    {
      "cell_type": "markdown",
      "metadata": {
        "id": "9b9JSBeUdG54"
      },
      "source": [
        "# Tensor Operations"
      ]
    },
    {
      "cell_type": "markdown",
      "metadata": {
        "id": "1hQn6JlCdMLB"
      },
      "source": [
        "\n",
        "## Perform standard imports"
      ]
    },
    {
      "cell_type": "code",
      "execution_count": null,
      "metadata": {
        "id": "kb1dqDw3c3OG"
      },
      "outputs": [],
      "source": [
        "import torch\n",
        "import numpy as np"
      ]
    },
    {
      "cell_type": "markdown",
      "metadata": {
        "id": "5bb9sx14dXmw"
      },
      "source": [
        "## Indexing and slicing\n",
        "Extracting specific values from a tensor works just the same as with NumPy arrays<br>"
      ]
    },
    {
      "cell_type": "markdown",
      "metadata": {
        "id": "DeO9snm0dSJY"
      },
      "source": [
        "![image.png](data:image/png;base64,iVBORw0KGgoAAAANSUhEUgAAAyEAAAHJCAYAAACSZjY1AAAgAElEQVR4XuydB3gU1RbHz24ahISQEJp0RAERUQSlIwKCIlUUkCJIfdIREEHFhhQpCkoTRXqRLkhVESuKUkSKdJEOoQdCstl3/3edzWazZXZ3djeznPN9PgVm7tz7uxPe/c9pBiIyi3/YNCJwV4yB/u4V7nC0slPS6N9r7nFHhhE9cpeByiUa6I8zZtop/jG5v02TFdyXz0D3xBuoQAyR0UB07LKZDlwkOir+7U8Tj6ICudw/IU1M40Ky8+vG1gujlyobs1ww78906vmVyf0D+AomwASYABNgAkyACTABvxPA2c+/p0u/LyF7PQAi5HhfxyKk1EdpdOKqa9yv1zLS4GphlNNmiKspRIM2m2jWrnS/LXZQVSP1ezSMCjoRAqv+TqdXv0mng0n+eV0SchKdHRDhdn37LpjpgRlpTq+b0CCM+lTJKkLm7E6nLmtYhLgFzBcwASbABJgAE2ACTCAABFiEaAzZXoSsOJBO125bHjJYCImkm84fOPBRI40RX/IdWbo4+7+w2kSL/vKPEFnyTBi1KJP18G47l0u3iB6e6V5IeYNUKxHStryR6pfCa01Us4iBSgmvDoxFiDe7wvcwASbABJgAE2ACTMA/BFiEaMzVXoSUm5ZGh1R4Dx4qaKBfX8zsQYHwQEiUYmlCf5SYnEpnb2g8aTGcvQjBs8IdaJJvjpmp4QLnnghvZ6aVCLF9/qdNwqhjBcsiWIR4uzN8HxNgAkyACTABJsAEtCfAIkRjpt6KEOQyDBCeEMW6rzXRF/vSaaAIkUKIlmJ9N5ho6u/ae0NmNQ2jcPE2LNlrpl1nzXRS5K7cFWugZmUM9F7djPAw5KbkeT+VbmmsQ2xFCETW2J8dh04liXyQeXvUrZ9FiMYvNw/HBJgAE2ACTIAJMAGNCBjG1Q8zf7Q9XSYge2MjaofRKhFytFMcXL0xxO//dd5M+MKeHayQSMguHmeggiK3A3bkkpmOXTET8jLUmDciBE863Duciua2PHPzUTM9udByyocnZEfXcELCOOyHE2aqO1djBSDGdaVGpz0VRl0ezBBCj3yWRjtEsryWZitC3OV9qH0uixC1pPg6JsAEmAATYAJMgAkEloAhdViEGWE/q0Xi8aTf0un7fzw7XO7tGU73JBhoq7hv0q/p9OXBdMJ4am1ZqzBqeq+R9pwT94vnLxQ5D1p/ZVczl95CDLW/30gPF7KJf7K5EfMaInI6zrgJhfJGhNiHYg352kQTt2V87Z8okq0xPxjQFpiQSsjPCJSBCzwlipWfnkZ/X3S+yVHi0qoiH0MxhHb9KMSTK2MREqjd5OcwASbABJgAE2ACTCD4BKQIsZ0GPBoQE4v3ptNtFcWEFBGijAGPCjwrqOSkxnugiBDl/vMi3OaTHek07XcTnb4eOEBnRGWmvKJCkyvDfMpMSaWbLhwR3oiQJvcYafmzGYf8+vPT6LvjGdvSqaKRPmmc8ecPfpImvUeBsi0dwqlGUYuogPgp/EEqpbqIiCoiwriO9snIb7kuEvPjx6V6JEKQAI9wsPPJZkp2favTcdkTEqg3hJ/DBJgAE2ACTIAJMAHPCBh2dQs3K6E+trciLn/6HybxTzqdc/H131lVJVSEmi2EyGQhSBDS5MzefSyMBlUzUpidAwKH3CVCCEEQoVeGv00RITfEgfeA+MqPL/1R4hxdt7iR8uTIePqATSb6SHhsnJk3IqSzEBkzbETGfSKZ3bYUbqO7DfRl64xDvb1I0ZpNt4eMZBD7UTavgZ4Uzy4tPF2K2XtpHD3bVxECTxi8JzGRJL1qYLF8v5ne+d7kUvzYz4VFiNZvBo/HBJgAE2ACTIAJMAFtCMhUgGoidKarOHg+W86YqT8FHpEivCGLRSjSh0IM7BYhU44MTfW6ipyB9qISEcJqbA2HyLWHLGJii83XfdtrcGjt/KD4RxzGlbwI2z9HKA9CtZB74q+mfahMNVc0tPtsZzpBiCiGClH7/xcu80RgSNqu/KlzV4g3ImSIEGEjRfK3YsUnpVG84NhK7Mds0d+icCwRvBGKtV1hoqUiad1flvJqRKaqXHjOFZET894PJppgEybm7Pm+ihBn4247aaZnl6Wp9pCxCPHXG8LjMgEmwASYABNgAkzANwKZ8pHxxf95Ef/fTQiK+/NnzY1AiNAHQkysEXkfjiyHOCc/U9YoBU3N/8J3bK/7U4gYiBl0r3YkJpCEja/+uP+p0lm9I8dFgvjHwrMyQ3hnbIWCbwgsd+PZznJZhtUw0lt1LCLhoujzUXCi8/ggb0SIfWWsxPGp9FuXcCqZx5JrM1B4X7aLXyvWR1TImuaHClnK+PYiBOFQI7aapGdLTS6Kv0QI5rd8fzq1Xq4iTlBcyyJEi58MHoMJMAEmwASYABNgAtoTcFoU6dHCBkJYDrwj0TaNrN0dwpUplhGhPLgf3hH7XIvCH6a6DPHCGIWFd6RTRQO9KARRsf+qRilj15uXJg/nWhue066CgUoIr0dh8d95okTVKEGogOgirnhC8MzYsc5L1HojQuy7fOcXied7e0ZQYrTF89L5SxP9ISpkKeYuJMxXLo48IRgT3d6bLDa5zUfJJ+a9qGXGfCFimix2XdELHrTjfSJkCB4qgEFwxkUZqIFoPIjKXLb9UtSGo7EI8fVN4PuZABNgAkyACTABJuAfAm77hOBgvlRUsEIFJ5haEaJMN04c5Gc3C6fGpTM8K2pEiHJ/hAiHEmWE6aXKGSVitRYhmNmkhqIMrRBNeJ47K/1xmjwkOzJvRIitpwVjFhUirfJdRmp3v0F6jiCEtnbMONR3WOW/zul4/r1CQIIJxGOd4gYaWj3MKkSx7rJT02TOhpaGsDe8K3i/7A1d0Oc0ywhXmykKF/xvnXtvCIsQLXeIx2ICTIAJMAEmwASYgHYE2BMiWA6qaqRRj2ccct3hLSMO4c6S7b0RIfAYTXky4/k45B+2SeZ/QngD1rbJECGNRA+Rr0UvkUAZQuwWtcyYX7uVJumxCKQhZ0cRwggLhDfEnbEIcUeI/5wJMAEmwASYABNgAsEhoDonBEfejUdETsg2k2ym58jc5YT8dsqSYI4DrKP8C3c5IYdElSTc/7nITXBVJtcTlACQNChCVmJSTElQPyVK8ibfNlP3Spm7lmstQlqUMRKqjClWe04a/fxvBmPk6cy26dOBxHiEaQXSTvWPIIRZwcb+nE7Dv3XvidByfp8+HUYdH7C4qRAWVuojFiFa8uWxmAATYAJMgAkwASYQSAJuq2Mhnh+J5Dj8o3StI3NVHQthOytEVStUx/pFVDdyZO6qY+Gr/6TfTLTukFk269PSEG6GbuWKYY61Zmc+4CIcrN8jGXFaWouQ6qI62Xc24Vb2iefvicpZg0UFLcUQruWuaaKWjDAWclIq/FesACLtRZGnEkhb+VxGSB9KNj8qura7M/aEuCPEf84EmAATYAJMgAkwgeAQcNonBF+bp4oKTIi/d1URyVmfENzzqSh3O0VUs8JYzsxZnxD0iliwxyJ+/NmYD+WJbfMtHOUbbG4XLnMjFNNahEQKJ8i//SIo/r9+JGgU2V6EPClm2ywQneUfEo38XBlEzTui/4pi6PaOdTkzV5XBcA+qpp3oG0HwdMFG/5ROr29xLkK8SUx3tR7kpiBRXyn/PF+8F51WuxdBLEKC85cKP5UJMAEmwASYABNgAu4IZOmYDk8AvBbwXqhJPrbvmA5vyWQhHPC1XE2na/uO6aeum2X5WXRNvyC6p/vb0JfkiI0nZK/oRF5RdCRXDI0cd3YLl4naimktQjAumhWiTwoM5Ytrfp5G20+bqaXIx1hsk4+Bwz9EgCtreq+RwFWx90X41DAX4VMop4wKXRCNq/9Oz9SHo1AM0cynwwl5KYp1FgJgnhACzsybEr3DaxpFng3RMlGC97aNvkCjxKkiX+YxGxGIksV4x9wZixB3hPjPmQATYAJMgAkwASYQHAJShEBsoPkdvA7I2/DEIEJwUNwk8kUm/WqSeSOejKCIkN/FgRvP/0J4AdAtPVCGo/W5gRGZuqLDAwQRVUr06XhfhGLhIG5r/hAh9UsaaF3bjLAwMDwscmBsu5VjDq6erczRGxHyrU0zRHih/vmv+lfJeEOmimFoWlhheqrLhoHeiJAVz4bR0/cY5d6fFJ6zszdEPxbBHSLRtjwvEvYfFCIRc3RnLELcEeI/ZwJMgAkwASbABJhAcAgYRDiUGYfuk9c8kQ4Zkx1a3Ugr/zbT/gve3d+jkpHQxPAnm0TsQKNAvgfyPpzZP+JQbNurxB8iBGJopk3ytaO5vCUaBr77g3uF5qsIccW/yxoTzRFd3F2ZLyLE1bgQKI0XpdG3x9S9ayxCAv2TxM9jAkyACTABJsAEmIA6Am77hKgbRt9XoTfI5EaiT4hoimdvY0To02kRIvbBExkixR8iBM8NE7uxUIReoVqWvaFfyKDN7vMgcF9fIarG24iqp0RJ300uSvqisSQ8Uvi3M0N/kDe+S5d5Ou7MGxFiG47maHwko3cVAgiCVa2xCFFLiq9jAkyACTABJsAEmEBgCbAIseGNLvG1RH7EPSK8bJ/IbcEXd5TCRff20gkZF24TeTPOwoG86RNiu+XYkPKiClWdYga6L9FAv4vDN7rDozyxWlvYIoxaiU73MMwfJX3VWEkRfoYE/KK5ibAOlFE+KMKfDiWRCLdLpxR1GoiihF6rKpLjFUO434+iC7o7wzMfL2GguwX/gqJLPZ7/l/CwIU/ne8EAuTKeGIsQT2jxtUyACTABJsAEmAATCBwBFiEas7YXIV+JssLXRa8RWN8NJocdwTWeAh3rEy6FE8zf3dW1nruv43WoYKRGd1vWDlFZPM7y3wghQygZGxNgAkyACTABJsAEmEDwCbAI0XgP7EWI7fBosOeqXLEWU8Gh+1AvS4I7QqjQfV1NlTMtnp0dxkCVrz5VsoazsQjJDrvDc2ACTIAJMAEmwASYgIUAixCN3wRU0vqzR4TDUSvOSPO6AIDaabYpb6S5zSz5K/03muhj0aflTrKRorEjih3Y20KRy4ImkGxMgAkwASbABJgAE2ACwSfAIiT4e6DpDNDYLzHaEoJ09LI5U88NTR/EgzEBJsAEmAATYAJMgAkwAS8JsAjxEhzfxgSYABNgAkyACTABJsAEmIB3BFiEeMeN72ICTIAJMAEmwASYABNgAkzASwIsQrwEx7cxASbABJgAE2ACTIAJMAEm4B0BFiHeceO7mAATYAJMgAkwASbABJgAE/CSAIsQL8HxbUyACTABJsAEmAATYAJMgAl4R4BFiHfc+C4mwASYABNgAkyACTABJsAEvCTAIsRLcHwbE2ACTIAJMAEmwASYABNgAt4RYBHiHTfVdz1yl4GqFjHQ9/+YaccZs6r7Khcy0OMlLL0+FPvnKtGiv0K/8WDhWAO1uz/z2lPFsiduU7/27qJZYaTo1zjjj3Tuk6LqjeOLmAATYAJMgAkwASYQWAIsQvzIO0zQ/bNHON0db6CyU9Nk80A11u8RI42rb+l6rtiW42ZqMD/N6e0l8hionhAudYobqHw+A90VY6CbaWY6cJGEAEqXh/ibzm9XMy2vrikiRMWwmpYO5ievmWnkD67FRDUh2LZ2DM/0rORUorj3xf+otGlPhVGXB4300joTfbJDvXhROTxfxgSYABNgAkyACTABJuAjARYhPgJ0dXvHCkb6tEkYLdufTm2Wm1Q/SREhZ24QfSK+5sOOCQEz50/nB+o1bcKpYanMHgTbB+L+58Qc1HpjVE/WzYWfNw0Tng2LCPnrvJke/MS1Eiqa20CdK1quL51A1La8kTwVIfckGGiPEH//CtFTToi/2+rRa7VsHocJMAEmwASYABNgAkzABQEWIX56PeAF2fe/cCopPBS1ZqfRLyfVeUEwHUWE7DxrpiqfqnNfQITUFV6QzUfNtEcc9iE6IoQzpVphAz13n5GMYj6HL5mpshjv+m0/LdpuWISi/dApnBRppEaE2A7x5N0GWt063GMRgjGWtQqjpvca6X/CGzKTvSGB2XB+ChNgAkyACTABJsAEVBJgEaISlKeXwSsBYYAQrHunqBMSyjO8ESEIY9orxMeVlKwzbV7GSF88YwnvevUbE437JTAhSt+/EE4VC4jwKpEPAx6BFCGtyhlpYYsw8kTIebrHfD0TYAJMgAkwASbABJiAdwRYhHjHze1ds0UY0vMiDAkHfhz8PTFvRIi78bd3sQgCJLd3WOXZfNyN7ejP24gwqrnNwuj9n9MpMZpkiFUgRUiuCKLTAyIop0gveWhmGu05p94T5c16+R4mwASYABNgAkyACTAB9QSsIqSUSJ5+rpyBqogQmiIiLh/hOztFNac/xD+L96ZT0k33gyIpumEpIx2/YqbpIpchTw6EFoXJMKGEnJZwoFm7zLT6b8df4sslGqiDyKNAQvU736dTlPh4301UOmp6j5EKxRCduCbCbPal0+zd6ZRmNwSubXS3kZ6+x0BI0i6YS+RRXCE5/2+PpRMSux0Z7nujdpgMGZq3J116E5zZS5WNhETrn/8105cHnXsTcAA+2T+C8O9qs9Jo+2nPDsD+ECHwCsA7sE2EhdUU4WH+NBz8/+oZTjGRBuEFSqWx9cICLkKwPiUka4JIyn/la/8LL38y5bGZABNgAkyACTABJhBKBKQI6fqQkaY+mbkak+0iIR6aLjHR3xddH6ZfqW6kdx8Lk/kPz68w0bcdwqh4XNZkaWcH82Yihn+piOW/fIuo5EeptL5tOD0qchrsrcuXpixJ2if7RVB+ITycGUTNO9+byNEKfhBhQ3jO1N/Tqe8Gx4dViKh/xTMiRM70M0tNToUUnt+gpIG+EnNHNap4UdXJ5JkG8SonxN1LidCoqmKNEICYvz9tuKiG9aYQdkOFB2i88ATNaBwcEfJyVSONfjyM/hRekErCG8LGBJgAE2ACTIAJMAEmkD0ISBEy4FGj/FqNXhbfCK/BoUtEV1PMBO9If1EuFkICwqDC9FRCxSZnZitCboqKqnVFyVh8ecc/V0Uy9AP5iRoLrwYStX87lfVkbitCFgivBDwP8Ez8cMJMp66bqWxeg0w27rM+qwi5OiSCbolz5mIRbrT3giUxO08OA9UXuQjwrmCho39Kp9e3ZD2A9xLP+eCJMDor1lZ8kmPR0EmEE30iDtPIuSj8QSqluDjHv1ErjF6vZaRfxRprfO754VdrT8gT/+WngEHXNSbpSfKXoc8HvCBJN81037Q0uSfBEiH1hBiEkIUIzDsulW6or/LrLzw8LhNgAkyACTABJsAEmIAgIEUIxEKKOCz+JMKM7A0hVft6Rsi4/mHfmmSMvzsRclUc1KNFKNKATSaaJrwLtvZQQQNdTCb656pzEYKSqvjTqdvT5dd0W08CBBHmtEtUjrK1vkIszdqZTtccVH56TXyZHyG+zCOkrJgQGfYCooDwoBzvG0GoaPXEgjQRvpV1bkoJXBzgcZB3ZfCCwBuCZnm9hGDy1HwRIfDUVC9q8R6hVwhC5F54wEjh4vfXHjLTM1+keeyZ8WT+n4mSxBB9tmInWCIkr/BenRF5IbB689JkgjwbE2ACTIAJMAEmwASYQPAJqEpMn9AgjPpUMdJX4hDbbInzL/uKJwTLmiMO613cHNbtl694QvD78JRU98KL4Aip7WEUJW9RMcne1gnhUF8IB5RzRVlXW0MoFsK9cJB/cmGaLIPryv5+yVKa943vTDTqR8+9Dr6IEAgqhI3Z2nkh+kb+YJJ5Ova5NFq+guj0/lPncNovPFEPiX4gingMlgjB2q4JD1kOkaPSfa1J5CN5vhda8uGxmAATYAJMgAkwASbABCwEVIkQhEV9KMKV4CmpM0edCKkoDqGukrwdbYCtCGkrckqWiiR0rez8wAjpQUHXcUdJ6h2Ft+DTp8PoovCWFPkwNdNhHZWdcJA+J8K14Elxl+OhPKvfRhNNEd4cT01rEYLnrztspv5iPkdEfo+/DJ3OUSq45RemTIn7wRQhJ4QgQ5ECd148fzHhcZkAE2ACTIAJMAEmwASyEsgkQpqIfI3mZQxUTIQ8FYkl2ewOhipH8CZAVEBcODPFE4KE7NxjPQ/AtxUhpT9Ok1W2PDF4AXpXCaNyiSK3Q6whXogOxVDxC+FWzy4z0coDWYVB7iiLtwNfzRsvSqONRzKevVb0+0BehavEdeU5eMbNVyOkuuu02kTzRW6Lp+aLCFGehedjH2uK0Kx3HjMSOpGfvi7ydOamySplWltr0RBxXnPHQjWYIuQv0Tn9XpFLNFFUyBrCFbK03nYejwkwASbABJgAE2ACXhGQIgThRqufc1yJynZUfEUvM9W9CDmYZElK9tQUEZIuzsgxY1Ip1YPzezdR4Wtc/TCZi+LK0CMDvTIc2eKWYdSyrFEmbit5H7ahWPACOcqbsR0ru4gQ2zkhn2dXN0v1MHiX4GXS0iDckIxeTAgdR4xYhGhJm8diAkyACTABJsAEmID+CUgRohy+r4uk7ikikfxLUcYVXgh4NGBINEZeiFoRghK9qIDlqSkiBBWoEser96QgF2GrKEGLpOwfRSWtj0QIFMqynrthtpbk3SuS6/OJw7grEdJCdBZfIjqLoxJYYRGShQR5JRQLifSlP0pzWOLXfp3BDMdyxry/qID2vqiABoGXb0KqqH7m6e44v/5Z0X9kgehDAg/LiO+yCjyUgH5MJMj/e81MQ7+2/PmW4+myGpkre/JuUVK4dTgli1chTpQ69saQHwMPGYdjeUOP72ECTIAJMAEmwASYgH8IGEonGMz7xFdsWAsRy7/GQRM+lJtF2dlAiRCIAByU1dp8EQb0nAgHQhPBx0UVJPvkaySUX3/FUv3KlQhB40I0GYwToVnNRQI+qkkpla7Q7wKVutTYgf+Fy/LGwUhMdzY/iIBN7Sz7rHUH8XaiM/znokO8J9ZQVCH7xkEVMtsxtBAhnJjuya7wtUyACTABJsAEmAATCAwBg/A+mNEg8IKooFRI9L9wZDNFwjbKvGZXEbKzWziVz2eQ5XBRFtfe0EH9oKhYBXMlQvDnylqRy/GyKDGML+kQMc6qajnipeSQOKq0pWZbtcgJsX+OcqDH71cWFcLsSxyrmZezaxDCNqmhcxGCfBt0UYc4ROI/rM3yNNn/xZX5KkIQhnZaiEoYl+j1ZYf5XibABJgAE2ACTIAJaEvAIHIpzFNEt3SE0pR1kO8B78Dh3paQluwqQk6JgyZCrdqvNNHivVlFiNKMUY0IURrcIVzpdVFiF1XBPM1xUTxH20+bCd3hPTV/iBClgSKO/XGiaIASaudsbrWKGWSZYRjKJe8TZXe9tWDlhKDkMkovc7NCb3eO72MCTIAJMAEmwASYgH8IGB4vYTBveD5cfqW+R1SkQty+rSm5BPi97CpCvhf5IFULG2RjxD4bsvb4+L1ruKj2ZTlQu/OEIGTrmGhciLKuCAtDWd93f0int7aqC8XCM9CoEGFc6BYeLzp1e9qbw1MRArFQKp7oayf9S+4WoWHbu4SLKmdEBy6a6f7p7oXRnGZh1La8cAEJGyyqSn0gqkt5a8ESIYOqGmnU42EyP6jSTPdr9nZ9fB8TYAJMgAkwASbABJiAZwQMIv/B/PdLEYQqUL+KL94viUZ9f4lSvMhp6CgS0lF2F83u4GnIriJE+cqPL94DRQjVAhFKhQRsCBOECRUSncNhqJzlToTgOqU5o4Kywow02YBPreUSz0FuCf5dUyTobxOJ+p6YpyKktvBafN0+XJZQXiKqXx1KEh3gRWGB/LkM9MhdBlG22CjnArMvP+xsXqEgQlaKim+NSxtoghBQr3B5Xk9eQb6WCTABJsAEmAATYAJ+JSCrY3V50EjTnsqI6ceR2XJsJ/pbfDmfIbqIo/xtdhUhEBe7RF4Icj8Us11Dj69M9GZtiBF1IqSKOLj/1MmSQ7JHfEVHIrenNkskarcXCdveHIC9FSGu5ghRNuandJksr8aQJ4RqZbAuX5pozp/68oTECq/P6QERhHBCrRPx1fDja5gAE2ACTIAJMAEmwAScE7A2K0SjwvfqGqlMokEKEOQMLBb9NNDgDR6FQdXC6KQI1eoo+mw4s+fFoRuCBp6UvnZhUWo2oYZorPd2nTC6JkoFozqVJ4Zmiu8LoYSDMxKhFQHx5tZ0WiVKDqMMcWK0gUb+YHJblckoAFx8OUKGL3lb2lXJR4BHAo0XPTFPRQhEGPavkfjqX0d4RQqL0DOsAYYyuH+cMdMbW0y086x6j8zRPpYQNhQsKPWR+xwSV+t7WYRFPVXaSEcvm639V9Tw8CUxXWmeiDWjqAAbE2ACTIAJMAEmwASYQPYhkKljevaZVnBn8pQ4zK8SoTzwHpQSvUEgvjw1iAB06xYlkOkx0aUc/UvUmqciRO24aq9Dd/UjvS2eIOTCICcmGOaLCFFCsf4nwgtRpYyNCTABJsAEmAATYAJMIPsQYBHiYC9QUQmejM0i0fvJhd5/RUc4FsKyVhxIp+eWqQuDwnQUEQIvxhzRvR2G6mWf7gzMYVrxIqBJILwgSlndQLy2xeMM1KOSJQysZB6iVqIRoqfNCsvkNdCfQgCeEA0my4mKb2g6ycYEmAATYAJMgAkwASaQfQiwCLHbi0oFDbTtRYsX4IXVliR3bw2VtnZ3t3hDyk1Lkzk1akwRIbbXbjlupgbzvRdEap6rXPOBKEvcq7KRPhad5/tvDOwJvloRA23taOGvmKciZLrIb3pRhAWiyMIn7AXxZOv5WibABJgAE2ACTIAJBIQAixCBGT1Q+j0SJsQCUVORUyLL9Ir8hYqfpMmv8L4YqlNVFQfr7/8x0w6Rm6HGHixgoNqiw7mt/XuVaPl+7wWRmucq16DPSVnhTRj2bbqsshVIQ/GAZ++zeEIUSxU6aKoov6zWugtPSqRISEfjSvaCqKXG1zEBJsAEmAATYAJMIHAEWIQI1ui2jq7riiH8qJYorYsmhYN+2+kAACAASURBVGxMgAkwASbABJgAE2ACTIAJaEuARYjgia/vg0X1r1Txsf1X0dPjm2PpdEk0KmRjAkyACTABJsAEmAATYAJMQHsCLEK0Z8ojMgEmwASYABNgAkyACTABJuCCAIsQfj2YABNgAkyACTABJsAEmAATCCgBFiEBxc0PYwJMgAkwASbABJgAE2ACTIBFCL8DTIAJMAEmwAQCRMBoNFJUVFSAnhaYx6SmppLZbKbIyMjAPDBAT8Ga0tPTKSxMlFsMEcN68A5ibQZD5iqcel7i7du3KTw8XK4tlOzWrVtyTaH2s4V15ciRg1iEhNLbymthAkyACTCBbEsgIiKCFi9eTC1atMi2c/R0YlWqVKG9e/fSzz//TA888ICnt2fb6/Ply0fR0dH0+++/U2JiYradpycTO3/+PJUsWZIqV65MmzZtIryPoWA//fQT1a9fnzp06EDTp08PhSXJNYwbN46GDx9OkydPpu7du4fMugYPHkwTJ04kk8nEIiRkdpUXwgSYABNgAtmWAL5kfvjhh9SzZ89sO0dPJ9ayZUtau3Ytbdy4kerUqePp7dn2+rvvvpsuX75M27dvl4f2UDB4CvLnz0/FihUjHNpjYkRZ0BCwY8eO0f3330/16tWjFStWhIwnZOnSpVJUDRkyhN56660Q2CnLEiZNmkSDBg2ijz/+WAor9oSEzNbyQpgAE2ACTCA7EkDYwcsvv0zvvvtudpyeV3MaOHAgffTRR7RgwQJq1aqVV2Nkx5uqVatGu3btkgf1Bx98MDtO0as5QYDgPYSwwn+Hgl25coWKFi1K9913H23ZskWuLxRs27Zt9Pjjj9Pzzz9Pn3zySSgsSa5h+fLl1LZtW/n3RpMmTahQoUIsQkJmd3khTIAJMAEmkO0I5MyZk1q3bk2zZs3KdnPzdkL4momQivHjx1Pv3r29HSbb3ffcc8/RypUraf369fIQGCp2zz330MWLF+m3334jeHlCwRDKAzGFUDkc2vPkyRMKy6ITJ05IUQXP4qpVq0ImH+mXX36RP1Pw7Lz55pt05swZFiEh8cbyIpgAE2ACTCBbEoAAqV27tgxZCpXk5tWrV1ObNm2of//+9N5772VL7t5MCoejDz74gObOnStFY6hYrVq1pPfjxx9/pEqVKoXKsqQHBAURkLNTuHDhkFjX9evX5VrKlClD3333HeHvj1Cww4cPS68ifq5mzpwpl8QiJBR2ltfABJgAE2AC2ZIAKmAhVv37778PmcPEjh07qGbNmjL8avbs2dmSuzeTmjp1qhRVY8aMkf8OFUM4D3ILIIIbNGgQKsuiihUr0tGjR6UHpFy5ciGzLnh14NGBxyo+Pj4k1pWUlETwxFWtWpW+/PJLa84Oi5CQ2F5eBBNgAkyACWQ3Aqg6VKRIEfkFOiEhIbtNz6v5nDp1Sn6hrV69ujzUohxqKNi6desICfYIK3v//fdDYUlyDcOGDZPVlT7//HOZWxAq9uSTT9K3335L33zzjXwXQ8WKFy9OKFuLvzPg5QkFQzEEFHa466675McY25wdFiGhsMO8BibABJgAE8hWBBB2ha+YCBNBJaJQsJs3b8r47VKlStEPP/wgS9eGgv3555/yC22zZs1o/vz5IdM3A8nMEFUjR46UlYhCxVBZ7rPPPpPenaZNm4bKsujhhx+mAwcOEPIm4D0NFYOXCkIEwsres8MiJFR2mdfBBJgAE2AC2YIAmr/hgI6eGRUqVMgWc9JiEkgAzpUrlwwTCZWeGWfPnpVJ2o888ght2LAhZHpmbN68WVYewoEdvRhCxRAq98Ybb8jKSt26dQuVZcm9Qolr7Bvyd0LFkFi/b98++uOPP6RX2N5YhITKTvM6mAATYAJMIFsQQC8QNIFDMnqoGA7qKIWKr5klSpQIiWXh6yyaESIEBoIRAisUbP/+/fKr+tNPP02LFi0KGc/OF198QR07dqShQ4fSiBEjQmGr5Br69OkjmyuGWgNThP+hgMWvv/4qK305MhYhIfMa80KYABNgAkwg2ASQB7Jw4UJ65plngj0VzZ6PUCWELKFnBpKBQ8WUnhkImYMYCQVDN3SEy0GEhFI3dIQooRFhu3btaMaMGaGwVXIN8FJBVIVaA1OsCWv7+uuvZRELZ8YiJGReZV4IE2ACTIAJBJMAPCD4P96XXnopmNPQ9NnPPvus/JqJnhl169bVdOxgDqb0zIBnB4f2UDClGzrCXuDZiY2NDYVl0T///CO/pOP9Q/+WUClzjbWgaR/ydd55552Q2CssAl3QBwwYQEuWLKHmzZu7XBeLkJDZdl4IE2ACTIAJBIsAKr7g/3hDqWcGDkdoSDhv3jxCA79QsRo1ahDKDKNnxkMPPRQqy6KCBQvKamXw7BQoUCAk1qX0zChbtqzsmREq3dCxRwjXRM8MJNmHikFYYU1qPTssQkJl53kdTIAJMAEmEBQCaCYGj0Eo9czA18yXX36Zxo4dS3379g0KV388FF+ely1bRl999RXVr1/fH48Iypgom4wke3h2SpcuHZQ5+OOhKICAikrIKwiVnhknT54kiCokoKNnRqh4drBHjz32GA0cOJDeffddVa8DixBVmPgiJsAEmAATYAJZCUCA4DARaj0zkNOChFlUIwoVU3pmQCxCjISK4eCHhn3owVC5cuVQWZYsbZ2SkiI9O44qK+lxocnJybLMNcIBQ6mB6ZEjR2S+GP7eQE8atcYiRC0pvo4JMAEmwASYgA0BdENHrHoo9czYvXs3VatWTTbumzt3bsjst9IzY9SoUfJLbahYhw4dZFUlfFFv2LBhqCyLKlWqRAcPHpQ9M8qXLx8y60IBBOTqhFID00uXLknvW5UqVeTHGE88OyxCQubV5oUwASbABJhAoAigClbhwoXlYSJv3ryBeqxfn4NwHhwmUA0LHcRDpRs6+i+gESEKBowfP96vDAM5OPpljB49WuYUtG/fPpCP9uuzlJ4Z7ior+XUSfhgcXcOR4xJKDUxRDAGFHVBpDjlW8Ax7YixCPKHF1zIBJsAEmMAdTwBf+vLkySMPE+gxEQqGsBckM6MHCA4TodIzY+/evfILLQ62KJ2MRpKhYAh5QSPCt99+m4YMGRIKS5JrUHpmqKmspKdFoxkm3sVQa2AKLxVCzPB3YUJCgsdbwiLEY2R8AxNgAkyACdypBHCIxdc+HCYeeOCBkMEAAYLKQ/DshFrPDORJwBsC71UoGDwEaETYvXt3WYUoVGzcuHE0fPhwWZGtR48eobIsatGihSyEgHcQHcRDxVAyGf2D0A0d+TveGIsQb6jxPUyACTABJnBHEkAvkA0bNsgqMKFiSJJNSkqSAgQhI6FgSs+MokWLSsEYExMTCsuiv//+W5YVfuqpp2QfhlDx7KBiGULKBg8eLL07oWIo241Kc6HWwBS5SMuXL5cFEe6//36vt4tFiNfo+EYmwASYABO4kwjgS/r8+fNlOd5QMaVnBrqhP/jgg6GyLNkzA/uFMBHEq4eCQSgi/A8iZPPmzQRBHAqG0q74qo6KZTNnzgyFJck1wKMDUTVhwgTq1atXyKwLVeaQW7Vp0ybZ68QXYxHiCz2+lwkwASbABO4IAjjwIVwEMeuhYm3atJFfM5GEXq9evVBZFqFnxrlz56Rn5+677w6JdZlMJlkAAcUQUDEqVLqhh2rPjFWrVhF+vlCJbeTIkSHxDmIR06ZNk32DtPLssAgJmVeDF8IEmAATYAL+IIBciX79+slKRKFir776qvyaOWfOHHlYChVDzD2+rKNs8sMPPxwqy5K9JYxGo/TswMsTCqb0zLj33ntp69atHldWyq4MduzYQTVr1pQeU096ZmTX9SjzWrNmjewDoqVnh0VIdt91nh8TYAJMgAkEjQCS0NEzY968eUGbg9YPnj59ulVU9e/fX+vhgzYecgqQJ4HD0hNPPBG0eWj9YPSiOXXqFP3222+yyV2oGAog5M6dW67Lm8pK2ZEDDtXYI4Q54j0MlTLX8Coi9AofY9BrRytjEaIVSR6HCTABJsAEQooAPCD4ohlKPTOQVI9qPYhRf//990Nmv15//XXZ3X3WrFnUrl27kFkXwuRQMhndtVFqOFQMpaCV0q4oHhAKdvPmTemxQggg9is6OjoUlkXHjh2TlQDRa0frBqYsQkLiFeFFMAEmwASYgJYE0A29bNmyIdUz46+//qJHH31UHibg2dFrZaXbO34hMqdbt3vduvU0ceJEevHFF0VoWWstX4OgjjVm9BiZgP76zNlUv2WroM5Fy4ejZPL+/ftlbosvlZW0nJMWY6EAAvrrhFID0ytXrkhRhaIV69ev19yzwyJEizePx2ACTIAJMIGQIYCqSviiifj7xMTEkFgXErXRDR1f03GY0HPPjLO1SpBZdGq+UyyufSOKui80SicvXryIDh48SB06dAyNRp/hUWSsM0Qe1HFgD6UGpqmpqbIbOgoioHqePzw7LELulL/FeJ1MgAkwASbglgC6ocfFxcnDBEJGQsHQMwPNCNFQDKE9eu+ZcaeJkNwVr1JkvjtHdOnqZy5HHNX6qjTt3r075BqYVqhQga5evSqbEUKI+MNYhPiDKo/JBJgAE2ACuiOghCchtKdixYq6m7+zCbdq1UrG38+ePTskuqGXGf4CGdJSQ2Z/3C2ERYg7QsH78xumcEp4P4WQkxRKDUxHjBhBe/bskQIEvWn8ZSxC/EWWx2UCTIAJMAFdEUDvhfT0jFwDXU3eyWSxHnh3Amlms9mvj9t7X26KNPj1EdlqcBYh2Wo7Mk3mqnBQFZsaGbD8Kn//bCmLw0cLlE1GYQ5/GosQf9LlsZkAE2ACTEA3BNCQcNu2bSHVOXzp0qWyX0GgDi+B2GwOxwoEZX6GGgIQIVtrLKHmzZuruVwX11y+fJni4+Pp6NGjfg9JZRGii1eCJ8kEmAATYAL+JsAixN+EtRmfRYg2HHkU3wmwCPGNIYsQ3/jx3UyACTABJhAiBFiE6GMjWYToY5/uhFmyCPFtl1mE+MaP72YCTIAJMIEQIcAiRB8b6UqEGCKjKKpOQ30s5L9Zpu7bTaZ/jzmdM+eEZN/tZBHi296wCPGNH9/NBJgAE2ACIUKARYg+NtKVCDEm5KP863bpYyH/zfLq6FcoecVctyLEWO91opgCulqbMtlBgwZRgwYNqGFDfQlEzD/9y/7if9IccmcR4tvryCLEN358NxNgAkyACYQIARYh+tjIO1WEhPX/kwz5yuhjk+xmiT4TgwcPpqFDh+pu/mkjYonSUliE+GHnWIT4ASoPyQSYABNgAvojwCJEH3vGIkQf+2Q7SxYh+tkzro6ln73imTIBJsAEmECIEGARoo+NZBGij31iEaK/fcKMWYToc9941kyACTABJqBjAixC9LF5LEL0sU8sQvS3TyxC9LlnPGsmwASYABPQOQEWIfrYQBYh+tgnFiH62ycWIfrcM541E2ACTIAJ6JwAixB9bCCLEH3sE4sQ/e0TixB97hnPmgkwASbABHROgEWIPjaQRYg+9olFiP72iUWIPveMZ80EmAATYAI6J8AiRB8byCJEH/vEIkR/+8QiRJ97xrNmAkyACTABnRNgEaKPDWQRoo99YhGiv31iEaLPPeNZMwEmwASYgM4JsAjRxwayCNHHPrEI0d8+sQjR557xrJkAE2ACTEDnBFiE6GMDWYToY59YhOhvn1iE6HPPeNZMgAkwASagcwKBFCE3b96knDlz+p3Y0qVL6dlnnyWz2ez3Z+EBV69epeTkZPmsuLg4v6wx0CLEZDLR7du3/bIWyWz0K5S8Yq7T/cld8SpF5rtNYf3/JEO+MprtY6DeQUw4GB3TL1y4QGlpaZJXQkIC4efbG0sbEUuUluLw1qu3ibbWWELNmzf3ZuhseQ83K8yW28KTYgJMgAkwgVAm4G8R8uuvv9K4cePop59+olOnTlGZMmWoRo0a9M4771ChQoX8gjaQIgSHdazp8OHDci1Tp06lnj17ar6uQIiQixcvyn3ZtGkTHTp0SB5mS5YsSZUqVZK/j3VqZYEUITt37qRp06bJd/Cvv/6iPHny0MMPP0zdu3enVq1aabWkLOMEWoRs27aNqlevTunp6XIu3377LT322GNerS9YImTlypVyr9xZ37596amnnnJ3meo/ZxGiGhVfyASYABNgAkxAGwL+FCHLly+n9u3bE74+21uxYsVo/fr1VK5cOW0WYjNKIEXI3LlzqWPHjtan61WEfP311/JAjsOYI8uRIwdNnDhRM4EVKBGCg3izZs3o2rVrDtfVq1cv+uCDDyg8PFzz9zCQIgRiuHLlygTBpZgeRUjv3r3p448/drsXWv+csQhxi5wvYAJMgAkwASagLQF/iRB4Bu69917rV1lHs4YQOXLkCIWFhWm6qECJkD/++EN+abY94Gp9OFLA+NMTAg9IhQoV6PTp0y73AfsEzxY8I75aIEQIDuRVq1allBTHYUXKGuCpe/nll31dUpb7AylCIKQGDBiQaQ56FCF169alLVu2uN0LrX/OWIS4Rc4XMAEmwASYABPQloC/RMiQIUPo/ffft062RYsWVL9+ffr0008Jh3fFVq9eTU2aNNF0UYEQIRs2bJAekHPnzmWau9aHo0CIEIS2TJ482bqO+Ph46ty5s8xvmTFjBp08edL6Zwj3+fHHH33er0CIkP79+9OHH35onesjjzxCXbt2pY0bN9KKFSsI3gNYbGysXCP+raUFSoRg7vAo2nt79ChC8ufPT+fPn3e7DVr/nLEIcYs8+19gyJmDcrV82uFEb6xYS+bkrC757L8q/cww6uGKFFH2niwTTjt8jG79sl0/C+GZMgEmEDAC/hAh+PJcpEgRQpIsrGzZsrR3714yGAx0/PhxKl26tDV5tnHjxrRmzRpN1+tPEYIDEg63CxYscDhnrQ9HgRAh9913H+3bt08+Cnt04sQJKly4sPw1QukKFChgPeAibOn69esUFRXl0575W4QgL6Jo0aIyDwlWpUoV6cVRDEnVq1atsv5669atVKtWLZ/WZH9zoETIc889R1988UWWuetNhOBnCyJEsfHjx1PLli0d7gnYaikaWYRo+uoHZ7CwxAQqsHy2w4efbdWZTOcs/4ekxoyxMRTbXcTZir8QYekXk+jarIVqbs0210Q3epwi7s+Id05etY5SDx7x2/zi+najXK2aZhk/ed3XdHnUB357Lg/MBJiAfgn4Q4TgQISDkWL4yo5Yb8VsD01Go1F+hS5YsKBmEP0lQlABCwfbpKQkp3PVmwhBKFa+fPmslcTsD+tYaNu2bWnRokXWNe/atYseeOABn/bL3yIEHqqBAwdKr9uBAwdknoFtwYDp06dn+jXW17p1a5/WZH9zIEQI8qqefPJJh/PWmwhBGBbCsRRDIYFq1appuifOBmMREhDM/n2IliIkrm93caDOcNGnHT9B5zq85N8FaDh6WP5Eyj9/OhmiMsrjJb0+im5995OGT8k8FIsQv6HlgZlAyBLwhwh599136fXXX7cywxfnpk0zPpC88cYbstqSYlp/hfaXCFEOKsq8ixcvLsXV4MGDrWvRmwhBeWGElv3777/yH4Qs2R/GkS8xYcIE6xoPHjwovVm+mL9FiO3cIB7hwbEtV9uhQweaN2+e9TJ4f+C909L8LUJu3bpF999/v7UyG3J1bEMd9SZCIBRtP1ZAIKPMcCCMRUggKPv5GfYi5GK/YZR2+qx8qvSC/Fc2zt00wosVofyzPyKRrWi9VG8iJH7EYMpZr3ampfpbhBhzx5Ih2lKDP65XF8pRp7r8b/aEuHvj+M+ZwJ1LwB8ipE+fPvTRR+Lv8P/s+++/p5o1a1p/jSpL+Eqt2JIlS2RfD60sECKkdu3aMgQGhz7bL9F6EyFqmKPAAIQHDH1eEI4FD5YvFkgRYj/PHTt2yDLRStU25FMgXFBr87cIsRXzCHkcNmxYpkptehMhL730kixxDYuJiZHV2JC/s3v3bnrwwQdlEYhu3bppXsgCz2MRovXbH4Tx7EXIued7UNq/lnhMTyzv2DcpqurDmW7RkwiJFCFYiVPGZlmyv0WI7QPzDOtP0Y3qyd9iEeLJ28fXMoE7i4A/RIh9jDp6MyDvQLHPP/9cJj4rhuRhJEdrZf4UIY0aNSIc/pQeBfbhMKEmQlBh6qGHHrJuDcJjECbjqwVDhGzevFn2Bjl69Kh1+omJibJUNPqGaG3+FCEIMUNIHBpKwrA25FQgdE4xvYmQOnXqELyirgzhWgids80d0WLfgiJCjPFx5vRLV7yevzE+D6VfclxTW82gvt6v5hmBvEYLEQLxAREiDd1u/8sJ0YsIQVJf4vTxlgRxm/ljOSxCAvk28rOYABNQQ8AfIsT+MIHSr7Y5HwjPsu22/Oqrr9J7772nZrqqrvGXCHH08FAWIQiHgehQvCBYP6pKadEpOxgiZMSIEfT2229btxEJ9zio+6NXDR7iTxFSr149+uabb+RaIPoXL14sD+d6FiEQhHjn3BkE42+//SaLKGhlQREhhb5ebr656Tu6sXQ1pR7KUMZqF5V/3lRK++ck3fhiFaXs+FPtbdbrEkYOJ2Ncbrou7r/1/S+qw5U8fpCbGwwiVjKqykOUo8YjFFaoABkT4uUdplNnKE38k7x2I6UdO+H2sT6LEBF+hTAshGOhklbKjt1iTo/K5+pFhCAZPc8wS63umxu/pZxPZCRZsQhx+wrxBUyACQSYgD9ECA51+/fvt64E1bJs4/HxtRNCRTF4RT777DPNVs4ixHeUyDfAQdfW64GeGz///LPvg4sRgiFCOnXqRLNnZxTPwSEWni3kuyCcSWvzlwiZP3++bAIKQ9gSftZQzUzPIuTs2bOZPlQghwchmo8++qgsLDBz5kxKTU21bhHyedq1a6fZlgVFhNy19Uvxqd1iOPDeWLKaUn7+lczp1t92ucD886dReFFLGTuIGIgZiBqzDShXAyS89xrlqGk5ZJvOnKMby9ZQ8pqNlH7jhmZg1QxUYMmnFFYwoyya/T3mtDS6PneJ2+pUvooQJKIjIR12dfpsCheCKLppI/lrtSIEeRAxz2QktN/a9jtdn79UDQafrzGIjrL5F0wncEhPukQX+g2n/HOnWMdVK0ISxo4goxhLsaQRo4XHzTOPHYdj+bydPAATuCMI+EOEVKxYUcZxK3ZD/H9adHS09dfozo2eIYr16NGDpk2bphlvFiG+oUR5WySng6Ni6JgO8YjqWVpYMETIa6+9RhBXKNWLPCXFENqDXyP3RUvzhwjBYRmCCYd2GHrxDBo0SP63nkUIvKVjx44lhG6igemkSZOsIY9Y28qVKwm9hhRDeCeu1cqCLkKUhaSdPG0RA19tctvXwlaEKPfjsHhDlGJFXwx3oVq2IkS533zzlojh3ywEzZde5VN4syEF1ywgJDW7s/Nd+rksMeuLCMHz8y+cQSjNiz0437EXxfXr7rEIQYlaVIlSLHm9KE/7XmDK08Z2bU+xHS0l/lASN2X7LiqwbJZ1LmpFSKH1S6wJ5rjZ0/LGuIdFiLu3mf+cCTABEPCHCGnQoIGMUVcMVZeUvhP4PfsSvgiTefPNNzXbEBYhvqEcOnQojRkzxjoIktBRPOCZZ57xbWCbu4MhQmwnb/8ONmvWTB50tTR/iJBevXrRlCmWj5s4iCNnJyIiQv5azyJEDXfkwPz5pyXqCJ4SFBbAv7WwQIoQFOVA7pgh52M1zPjSjiZvSu6BshjzjWQpRK4LMWD6r8KT/UKjHqpA0c2fEt6MqmSIyAzCnJpGN7/eKkO1nPWGiLi7BOVq0Zhy1q+T6dApnyPyCW79vN0S6vX7Li0YOx0DIkR0jhLiaT2lHjhIaSdOifVEUNQjD1Hunp1IlMGQ99789ge6NCLjLyb7AX0RIXH9e1gbHSYNHynD0/IM6qUbEQJPEsLzDJGRlLr/IF3o8TIZE/OyCPHrm8uDMwEm4CsBf4iQ559/nhYuzOjrhIMDSokqZt+jAV4QeEO0MhYh3pNEbkGbNm0yDaB14QAMHmwRYhZnLJTkVZoZYk5al4RFjgO8FBB1WtihQ4eoTJkyotBouhzu6aefzpRQv2fPHlq2bJn1US+88AKVKFFCVpbyNI8nbYT4MJ2W4nDaV0Uu/NYaSzwe01cGHTt2pLlz51qH0aJUtDJYoEQIQv9QxQwhqshokXFXYXcVpFxPP0HRT9W35kNYVylCs279uE3mbdzeucchQ2OeOIp+sh5FN2lI4UXuynLN7V17xP0i1OuHXxyGeqHTOIRILnG/w47XR4/T9SWrLKFe/1VC8HUzbe/PWb+26F/xs8Mwsvi3XqGcdS2lFREydva5Lk4f7a0ICS9RlPLPmixL8kJwXRzwmnyGnkSILacLLw2h23v2UVi+RBYhWr6oPBYTYAKaE/CHCEFHcRxcFbPvAzJq1Cj5f8SK4Qs0vkRrZSxCvCOJJoTVq1cn9NVQTOuiAcq4wRYhmAfKvSLXQLFt27bJPilamdYi5JdffvGqeR/ECCrSeWLZUYTY/72C5PTKlSt7siyn1wZChMBTBSGFHkkQplYRYp2VOAQjETpX04YyUdveO3J791660PsVp4tAklMkvCPCu5KjVrUs3hF4VM692JfgZXFmEfeUkvdHN3gsi3ck/cpVutD3VUo7+o8m0O0HMRgNZMybIA/Phphccv1IVs8lvD0weHfO1G9p7axqf7+3IiTvuLeE16WSTMw//6II+TpyTA6tFxES+cB9lPiRxUN0c/NWuvT2+/K/WYT45TXlQZkAE9CQgD9EyMiRIwnx94rZNytEc79x48ZZ/1zrwx+LEM9fEHgBcKA7dszy/78wdBhX+jZ4PqLrO/wtQuA1QAdu/Pvw4cOEBprwItgaPAlr1661/hZ6vtiWI/Z1zSxC1BNEh3vsE5pGInwT755tHhlGatWqVSZPD0oSg7EW5m8Rgjw49BOC+EA/lEKFCjkQITYrQXhN9NMNKbpxfQoTz2zJuAAAIABJREFUB3NY+tVrdObp51WtF1WvrN6R/5LXceOZZu1VJRkjyTlnvVpSkESWy0iWgghx5pFRNTEHF6EiVmy7VpRTeHMQhuXKzjQV87/sOEnaGxGSo1oVShjzhnzkjZVf0ZUJlkY1MG9ESFi+vJm8UaaLl0QFs3+9ReP2PlmSd8YEiihTmsy3Uuhc+56WxozCvBUhEDUGm0aNt/fsV13swMqO+4S43Tu+gAkwAf/khKB0KCorKYYY6PHjx1t/bVteNDY2lpCUmiuX+PClkbEI8QxkmgjHbtiwobXkK+6GZ2r58uU+NyV0NhN/ixDlHVCej7AoJHErhnwC5GwoDQuRW4AmjFFRUZ7Bc3E1ixD1KOFxGz16tPWGGTNmSE+VYnhHS5YsKQUKLD4+npKSktQ/wM2V/hQhSnNMlFKGR+rMmTMsQpT9QPhYvk8/FAkyGdWYXO3VubbdZeK4I/NGhKCnBkSWWVSsOC/yKNKvXLMOHfe/zpSzoaXELZoeXugt4ipNJnHNVc1ePF8HylFdiKjR/4moZV/StblfWIcMyxsv2Sp2ecwkmedjvnbdY1Hh6Tw5Md1TYnw9E7gzCfjDE4J4+1KlSlm/qufOnVt+4cS/7UNK/PG1nUWIZ+8yvFLwTtkaDoToo+HIUNbWtu+LZ0+zXO1vEYIDar58+az5E6iABXFcvnx5+XzE5r/88svWqVeqVIl+//13b5bi9B6tRQjyCCDYndmXX36Zqekn8rJQVhllfD31GAQ6HMv+wwWS7r/77jvrvPERQ6kChvUPGDBA7qFW5i8RgsaY8DDCw6YU63AuQtyEY9nmKzhauLtwLPQUOd99gMuqW67CsUwXk+hi/9dkuVqtLHHqOIosb+OiFIf8lF1/UfqFi5QuvuxHlCxOkRXKWR+ntQhxVGHM1drUlurVio+7cdAHJP61ge4uy/TnaqtkeTSo3cUsQnyhx/cygTuHgD9ECOih2tVbb71lBYkDIWr+b9q0SSZlKoavhEic1dJYhHhGE3kQiK9Xa7504lae4W8RgufYF0jA78ELB++Hbf8TnN0QLoNu3Fqa1iLE3dz0XB0Lnd/RXwjleRXLmTOnLJKAsKs1a9ZYfx/VwBC6VbRoUXdIVP+5P0QI5g0Bgo8vSlUvTCiLCHGZmC4O5Te3/CiqVK2m23sPOFyQu8T0lN92WBLbt/3hMJ/CXWI6qi0hsf2WqE6Fnh1aGUK+Cm1YYs19Sb9+Q1Z1Sjtx0vqI2M5tKbZzRggai5DM9FmEaPU28jhMgAkEg4C/RMjJkydlEi08IM4MpXw3btyo+bJZhKhHii/rKJ8M75Va04sIuXTpkqzKZlsBy9Eate5TozyDRYjaN8pyHbyktWrVEsVanZ9zIUDQrBGNDLU0rUUIeiOhyAPeQQgmpYxyJhHiqkQv8j+Sv9xAN5avJdN5S4y/vbks0Ztym25u+EaU+F3ttNu4yxK9Ikn75tafZYne23/u05K1dayIe++mfDMzemjc3LSFLr2TEbeLC/O82l/mtiiW3UWIrzkhhqhIirwvwzNkunxVFAI47pS/P0QI54T45XXnQZkAE3BAwF8iBI+CEEEypu1XQGUKKBm6YMECwtdOrY1FiHqiiL33tDyyXkQIKOzbt49efPFFecC1N+SBoFLRkCFD/JL7wiJE/XuoXIkiFuiFgr877A1/V+Bn+6mnLMWStDQtRQhEFEIW0cMFAiQuLi7TVK2eENuO6coVacdOyM7nyUJAmIWQcGWOQolM5y/KRoXJq9fLRHZX5qhZIbwR6Jp+Y/kaWRLXn4bQL9ucBXh8Lr2RkRhkED+gBZZ/TvD0KKa1CMlRuxoZc2V00rVdb85G9QhCD4ZQtGsz5hD4oIeIM/O1WSFyZND1XLFbP/5KSa++4/R58KJFVbTEmNobGi/m7t3V+tt4L+DVStnxp8u95WaF/nzreWwmwARsCfhThOA5165dk6EUiO/ev3+/jI2uUaMGtWzZ0i8HPzwzkCLk+PHjtGLFCitShPtUqGD5/y0t7WytEk5L9BsT8lH+dd71E0N4nKedp1GlCD02fLFAhGMp80NfDYQqQYhAECckJMj+Go0bN6aKFUWfOD9ZoEXI33//TV999ZV1Nb7sU6BzQmy3AH9nfPbZZ4SS0egFgg7xtWvXluFyvr53zrZaSxHSvn17Qn7O7t27qXjx4lkemVWECDdkigiVQsgUQqfUmq0IQagWxMvNb3+UydNqzFaEIAQKXdKT130tk7QDYQgDK7QhI5Eazz33fA8yXbBUHMjd60WKad0i01S0FiGu1ulNdaxAixBX8/e2OhaLkEC8/fwMJsAEQMDfIiQYlAMpQgK1Pn+JkEDN3/45gRQhwVpjoEWIlusMpgjRch1qx9JKhLzyyis0efJkQm8kZz1MrCKk0Mal5uT1X8vDvzdlXPPPmSJ7WsiQqb8c54u4ApAwcrisSoV8k5RfRNUkD2Iy1YJ1d13eCe9QVOWMpEDknNzevks0cCxA4cWyfulgEeKOaMafswhRz4qvZAJMIDgEWIQEh7unT2UR4imx4F/PIiT4e6B2BlqIkEmTJsnQvi+++IKaNGni9NFWESLCZczpolyqt2bMHes25MrV2L7e7+28be8LL1mM8k2fQIYcWWtjwyNy66dfRfPGRtZbQl2ERJQuSfk+m2RdLzxTl0dl5M14wpxFiCe0+FomwASCQYBFSDCoe/5MFiGeMwv2HSxCgr0D6p/vqwiB8GjXrh1BiKDsuCtT1SdE/dT1f2V44UIU178HRVa8X4oR5F2gIeKVyZ8Q8kZiWjW1LhLdwJVwLfuVe9MnxBW9mNbNZQd7WJrIj7n83kS3sHPUqU4xz2Qo0Fvbfqfr85e6vU+5ILpxA8rzSl/r9ee7D5R5HN4YcmkS3ha9Tf6zq5/Op9u79rgdKmHsCDKKymWKJY0YrarBpe3AXKLXLWa+gAkwAUGARYg+XgMWIfrYJ9tZsgjRz575IkK2bNkim32ij8nIkSPdLppFiFtE3l1gL0IuDhphTcCWDQ5V5sp493Rt7oIAgRCBpezYTRf7Dddm4ACMYoyPI6PoPgzL3eMFylGrqvxvX7w5AZg2P4IJMIEgEmAREkT4HjyaRYgHsLLJpSxCsslGqJiGtyIEyecoRY5CG3PnzlXxJAd9QlTdxRe5JWAvQmxvONuqM5nOOS517HbgAF6Qf940kQtTWD7x4uA3RcECbTuo+nMpcX27ERLz7Y1FiD+p89hMQN8EWIToY/9YhOhjn2xnySJEP3vmjQhBZTxUWUM1PJStVmvsCVFLysPr9C5CkKNTcM0CuerUw8fofOc+HhII7uUsQoLLn5/OBPRIgEWIPnaNRYg+9olFiP72CTP2VIRcvHhRVr+Kjo72uMQ1ixA/vSPowB7dpKHD0ZPXbCDzzcCUHvZ2eUjSj32hjbz95vpv6JaoWKYni3zwfpHDc3eWKaPZYsr2nXpaCs+VCTCBABFgERIg0D4+hkWIjwCDcDt7QoIA3ctHeiJCkpOTqWbNmnT+/Hk6cuRIpm7oah7PIkQNJb6GCTABJsAEQp4AixB9bDGLEH3sk+0sWYToZ8/UihB0Q0eTy+3bt9OhQ4coPj7e40WyCPEYGd/ABJgAE2ACoUiARYg+dpVFiD72iUWI/vYJM1YrQjp16kTLly+nnTt3UqlSpbxaLIsQr7DxTUyACTABJhBqBFiE6GNHWYToY59YhOhvn9SKkOHDh9PEiRNlEvqjj1raR3hjLEK8ocb3MAEmwASYQMgRYBGijy1lEaKPfWIRor99UiNCpkyZQgMGDKDFixdT8+bNfVokixCf8PHNTIAJMAEmECoEWIToYyfvVBFirPMKUUw+fWyS3SxfG/4a1a1bl+rVr6e7+aevE42W09MczvvqbaKtNZb4fBjPTlBchWMtW7aM2rZtK70gvXr18nnaLEJ8RsgDMAEmwASYQCgQYBGij128U0WIPnbnzprlnSRCtm7dSg0aNKD+/fvTmDFjNNloFiGaYORBmAATYAJMQO8EWIToYwdZhOhjn+6EWd4pImTPnj1UtWpVatq0KS1YYOkhp4WxCNGCoooxjHG5KSx/IpkuXqL0pEsq7iAyJsRTeKH8ma5Nv55MacdPqLs/Vy4KL1Ek07Xm1DRK/fuwqvv5ouASCCuYn8LyZi55Z7p0hUynzgR3Yvx0JhCiBFiE6GNjWYToY5/uhFneCSLkn3/+kd3Qy5UrR/CGaGksQrSk6WKsvBPfpaiHK9KF3kPp9u6/VD015rlmlLt310zXpuzYTRf7DVd1f9QjlSjvuLcyi5hLl+lMsw6q7re9CIIo6qEK8rdMZ8/T7T37PBrDkCOKctSwVFBIv36DUrb97tH92eHiyPvKUFihAnIq2EPT+YsOpxVe5C6KKFPa5ZTVMIjr34NytXw60zjJazfR5TGTsgMOngMTCDkCLEL0saUsQvSxT3fCLENdhOTOnZuqVKkimxDu379f8y1lEaI50qwDont34qRRdHvvAbrQc5DqJyoiBN3VUw8ckvelHjxMVybPVDWGVYSYzXR7l0X4pF+9RkmvvafqftuL4t96hXLWrSl/6+a3P9ClEZ7FA8Z2bkuxnZ+X96Nr+bkXens8h2DeYMwdS/kXziBjbIycRtLwkXTr+18cTinXM00orl93l9NNPXKMznfq4/KaXK2aUM7a1eU14cWLkDE+D7EICeZbwM8OdQIsQvSxwyxC9LFPd8IsQ1mE7N27lzp06ECnT5+W3dCjoqI031IWIZojzTpg4uRRFFnxfrr0xmi6ueVH1U9UREjqwSN0vks/1fcpFyoixJyaSqfrtfT4fuWGyArlKPHjsdb7PRUhYfnyUv750wneEL2KkLgBPSlXi8ZWBqpEiBB/ZtFR1JGlHTlO57sNUL0n8a8NpJxP1GURopoYX8gEPCfAIsRzZsG4g0VIMKjzMx0RCGURUqlSJTp69CgdPHiQ8ubN65cXgEWIX7BmDBpxTynK9+mH0gNxtnlHp4dSR9PIDiLEYDBQ4vTx4kt8UTKJXJbwwoU89oQoB2iIKfDQmyckvERRyj9rMqUK4YD5w9SIEDXeDrWvH4sQtaT4OibgPQGIEDThKlasmPeDZLM7t2/fTh9//DHNmjUrm83M++k8MeMNMpocf+C5nTOGvuk0zPvBg3Bn+e9WUtG9vzp9cu6KVykyn6gFy5btCECEvJnSk3BgDxVLTk6W5XdjYmJox44dVLq06/ByX9bNIsQXeiruzd2rC8W0bk7JX22my6M/VHFHxiXZQYREN6pHeYb1p2ufL6KoyhUp8v5yHomQyHL3UuK0cdIDZE6+SdGNG+hOhCCvJqryg5Q09B1KGDuCRYhHbzFfzAT0QyA2NpbCwsL0M2EVMzULj6zJZKLw8HDCRyV/G57nb9t1T06KdLKUiyYz1TqSovkU/LmuNwtEUOu4cKdz3pAjmY6GOxZdmi/UTwPiHTQajQF5B/20BIfD3kxNp+m7I+Xa/G3+fAft537r1i1atGgRNWvWzK/LyiJC8JdURPmyFCEOj2H5hfvFYJR5CKioZDp2gtRACLurIIUXLUzma9dlHgQs6qEHKPLhB0RMfayo7nOabm7eKipFJTlcnDE+jiLuFcpLhLKk/L5LXhNRuqRMbDaKakGmcxfo1tafKe2ffx3fLypRRVV9WFSWKiArTJnOnJM5FfgHCcGOzBARTpGVKso/St1/kNKvXHUKHgdrg8gRwDzwVd+ZGYwGyr/sc1HhKIEuDnmTUn7xLBk72CLEkCMH5V8gwqjCw+hsm24yyd1TEZI49X2KLHsPnevwEsW0a6U7EZKjamUpPCAir32+kAos+VRuN3tC/Pr3Eg/OBIJCgMOxgoLd44feaeFYecZ+RjnqNPKYU3a6AeE8gwcPpqFDReO/EDIkbs+ZM+eOaVao9dZlEiE4uOd5uReFFXDckfPW1p/o0rsTyHzL9VeGmPbPUu7uHen2X/vpYt9hhKTmHDUtlZEUM6fclnkOjoREjlpVKWHkcCkYzjzVRlaIinm2qRBENp8+0tMp6dV36dbPv2UaN2H0G5TjUeEWc/A1C+MhLyNl+06HHAss+oQgoK7NWiD+WehUrBRYPY+Movzt5XEfU/Lq9c7FSvkylDh1nMgGT6fTDZ8lrNkTC7YIie3anmI7tqYrH86gG8u+pMQpYz0SITnr16b4NwbTjVXr6Mr4KZTnlb76EiHiHco/+yNCqdxzz/cQNZONLEI8eYH5WiagMwIsQvSxYSxC9LFPtrNkEaKfPXPVMV3rVWQSITGtW1DuXi/KsJnbBw6S6cQpShf/HS4O5jlqPCIP9vCIXOj9ikshYitCUg8fo1xNG8lciLSj/4ixkym8ZHFCtaELPV6m2/v+zrImWxFy7bMFFNe3mzjImynt35NkupAkKwXBu3D5vQ8oef3Xme4vtGkZGaIiKU14bVKP/UOm02fJGJOLIkV5WZROFX5pKaRufp211nFs1w7i0P2c7MOBL/eODBwSRr0u14McD+R6ODNFRGDd517wvL19MEUIhGj+edNkT5Nz7XsS+ot4IkKwB0hGxz7Di4Jx9CZCUJ0qrm93ur5wOV2dOkuKEU88IXgHL4+dLPJISsqfo7RDR8W79a9HeUHKu8U5IVr/1cfjMYGsBFiE6OOtYBGij31iEaK/fcKMgyZCEP+PEKwby9ZS+o3MYUvoe4DQGoOIK7383kRx+P/G+eH7P0+I6fwFChPhUDdF6BTyIVBqVpr4ooz+Bym/75TCxN4UEQKPC+5JE+Fbl14fJQWIYigXi4Odfb+JhHeH0fUlK0Ufh72ZhsW887wxiHI+VkOImVOWL9t2JhOQ50yRv4vyqUgstrf44aJKUcO60gOT9MrbLt+w+LeHyufd3PitFD6eWjBFSPyIwZSzXm269LbI59j8nZy6JyIk9oU2FNulHV2bs4SuzZwr79eTCJEleUUoGt7Vc627UroILfRUhDjab4ixSyMnUspvOzx6HViEeISLL2YCXhFgEeIVtoDfxCIk4Mh9fiB7QnxGGLABgiZC3K0wz7ABFN3ocbr13U+UJESBM1M8IfhzT5rrKeMpIgS/RmM8CAaUmfXVUNkJvR5g8HQ46jye77NJMv/k2pzF4vA8L9MjDaJZS0ERimXIFW3xpghx4cryz5tK4cWKuAzvcnV/sEQI8j4gOFDN6kLX/tY8ILUiJCwxQR7gEX4GL4j5RrLuRAj6fKDfx9Xps+n6/KVy/t6IELy38CwaRZ6S1UTiJnq93Fi6WvUrzSJENSq+kAl4TYBFiNfoAnoji5CA4tbkYSxCNMEYkEGyrQiJaSPCtV56kW7v3EMX+r7qFIatCLn48hsef/W1FSFXJn3i0WHN1Q4h6b7gxqUyXMtZ5/KY55+h3D07OfSWWEOxxOH6TNN2GZ4dJw+FYDHmiSNv1xAMEQJGeUU1KyTfXxw0glJ+/cO6OrUiRBGr8qD9xSrr/XrxhKAccf7PJ4uSxJeFAO5uzeVRK0LgpYP4TBYiNV0URUAxB4QE5mzwmHy3DDlzyHDGc+16OO26bv9KsQgJyN+9/JA7nACLEH28ACxC9LFPtrNkEaKfPQu6CEFFqRyPVBJffvNRWL5EUZrKUjoOORX4Sp4qYtvPv9jXvQgR+Ren0CRPJGZ7YrYi5Fz7/zmtguVqTJRUDS9RTH69ll2u/8tpz1m3lhQhSa++Q7d+zFqXG7kQMu5fHMaROA9vgGLKQVBNsz4c5gt9u1KG81weJXJX1mXOXVHDIxgiBKFmCDlL+WM3Xew/PNM01YiQCFEJK5/oKyI9WO2QS5LhwdKLCMk79k1ZXQ35HMlrNloZqBUhLt/LhytS3onvyktQ1ADFDdQYixA1lPgaJuAbARYhvvEL1N0sQgJFWrvnsAjRjqW/RwqeCBEH5tzdOsgwFKW7taPFpp08TefadncrQnAQPfvsix7zshUhp58QVaVEvWK1FnlfGUJ3a+SwuLJLb78vywQ7ssSPRlPkA+VlGA7CcWC2oVhJr40SJYJ/cjk+clAKfbNCXuPqWa4GCbQIwZ4jmRzhVOdF0QCUKrY1NSIEndXRYf3SSBGutiFzuJoeREjUow9T3vfftBQneKF3JgGthQgBT0XkeNLMkEWI2r8B+Dom4D0BFiHeswvknSxCAklbm2exCNGGYyBGCZoIie3clmI7Py/XePuvA8JTsE302DhrDUeBdyFXi8akVoSgR8iFnoM8ZmZNTBex9KcbPaf6fmN8HllSFSFQyENI3riF0kRyuenSZRIxMXKcPEP7Sc+IK2GQq9mTFPfyS7Ky1lmRlAxDj5KEUa/Jcc8060Dm2+7L7Rba8IUMvUF5WpSp9dQCLUKU5yHZ/9KorI0V845+neDpgAfp8vsfyeWYL18ms6hcBosS3jP0EsH7cbHPUOvvK+uO692FctavIz1bF0TpZnn/tWuy8lZ2sXwzJsg1XhEeips/bMs0rbD8iYQ/h6HQwi30fRFV0lxVSHO0rtgX21FspzYyJOsMSjeraO7FIiS7vCE8j1AmwCJEH7vLIkQf+2Q7SxYh+tmzoIgQEYJlLrj8cxk+dO3T+XRt9qIsxNBsLnePF9SLENEn5ML/BntM3r5PiNoBIBwgIFCV63zXAZQO8WFjMidksyjhKxLMXYkQVEYqsHKOrASmlBG2HgJFSWCUBlZjBb74TPZcsU1uVnOfck2gRQi8YDEd1Is+zPNsyxesVctyPiFCuV4b6MkS6eKA16wNKT260U8XIxQPHg+15i4/ytE40aJkdZ5BlpLNZxq3lZW33BmLEHeE+M+ZgO8EWIT4zjAQI7AICQRlbZ/BIkRbnv4cLSgiJKrKQ+a849+2fJ1tJL7O/vd123ahcQP/R7maP5VtRUiiyEVAQjV6OqC3g72ht0iBFZbwKnchUgljRNPDalXo+uKVdG3GHGtVrIuDRedz4SlQY0po0vUlq+jqRzPV3JLpGhYhHiPz+YZAiBClCSSqZqn19LEI8XlreQAm4JYAixC3iLLFBSxCssU2eDQJFiEe4QrqxUERIcKDYIYnAaEySAZ3ZAh1QqNB1eFYAfaEFPxyviyFiq7oN7f8mGUJOR+vRfFvDlElQhA2FC/6ipjOXRAdw6dbOrhfuUpnRINCNDxUY7l7daGY1s0dJnmruT/QIgTsMpWStZskeodE3FNKijBUvoLhXVB4oHQxhJ4zw+Fb6dOSNPQdeZnp3HmXjS+Rp4LwOpj5dqpseuhPCxONOeEBc2TIlcn7wUj5R1c+mE4p23eKUMUUmYTviUHsC9Evc27Od1fnOfJFhKAyl0H8IxkK4eNp+Jgna+NrmYCeCbAI0cfusQjRxz7ZzpJFiH72LCgiRJSfNctO4Cg/+3Rbax6Igg3VgpBQC8uuIsTa48NBOBlCseApQbw/zJ0nxJAjh8X7IQ7BEGYouYq8DuR3qDUcuNGwEOE2CLvx1AItQtzNT01iuqsxvElMz1G7OiW8aykHfXvPPrrwkkVEBsPUJKYjBwjV4PBz5MggPiBCYNcXraCrUz5TtRRfRIiSg4IH3Vj5FV2ZMFXVM/kiJnCnEWARoo8dZxGij32ynSWLEP3sWVBEiCjFay6wRHzdDguTZUmvTJxqTRjGwSn+rVfkgRxfibOrCMkzpA9FP/2EPPSjvKxSXhcHw3jRaDFHneqWr/Zije5ECF4XpWu48uqgNwpyANQaEuULrpgj8mwMsuEiOrV7YixCREEAnYkQiFxU17qxfA3dEontaafOyGIGSGpHeWh4g1AiOv3SFflOpN+4oeqVYBGiChNfxAR8IsAixCd8AbuZRUjAUGv2IBYhmqH0+0BBESFiVebcvbsSDr4wHJLSTpwUvUEKEfqGoEzujWVrCMnp2VWEoKdJ/vlThViyfI1OPXJc/ju8VHEpnvAVGEnvCBlSI0KU5oTgYbqQROdadXKYK+Pqjcg74R1CVbGr0z6n6wuWefTysAghcXCvKQUwLGXHn3Sxn6WqVjBMjSdE9kn5r4KWMkdU/zL812sHvwcvCd6/W9//onoZPomQrh0otqOl4AC6tKN5JhsTYAJZCbAI0cdbwSJEH/tkO0sWIfrZs6CJEENkJMV270gxrZrKr/eKQXRcfnucPMwjpCa7ihDMN/KB+yjPq/0pvHAh6/zNooxq8oq1dGXKLCqwVFSsUilCIFwKrl0oy+x6m1yuNP/zJP5fmTiLECLbUCKUBU7+ckPQfpLViBBUQ0PH+CjxHsLjZm+3RZ4UqqtB4HtivogQlJZGiWmYUu3Nk2fztUzgTiHAIkQfO80iRB/7xCJEf/uEGQdNhCi4cEgPv6ekTFI2iXCS1D37VfUyyC648dUZCfTomG5OTpY9T+zL9aqZK5Kw831q6Zdh3z1dzf24Bl6ZAqL0MZKD0eBRJnKrtOwmQlROW9PL0F08SnQZR0L62We7ZOrArumDNB4MvWjCSxSVSfXY+zTRcyZNeOa8TQr3RYQgtwnz8KacsMZYeDgmkK0JaC1Cfv31V+GMT5drrlKlivgukfXDhCMgx48fp5w5c1L+/OrLhTsDu3TpUnr2WXX9iNRszs2bN2nXrl3y0qioKHrooYfU3CavuS36a/3xxx/yv8PFR77KlSurvtf2Qn+IkKSkJPr777/lYxISEujee+9VNbdkccY4cuQIFSxYkBITE1XdY3/R1dGviA+lc53em2fsZyKcvJFXY584cYJOnrR89CpcuDAVLVpU1ThXr4pCPGfOUOnSpUXnBqOqe1xdpLUn5MCBA3TpkqVQzT33iDDovHk9muP58+fp8OHD8p7Y2FgqX768R/crF+fOnZvmzJlDzZs39+p++5vw84GfE9iDDz5IORDZE2ALuggJ8Hqz7ePgUYl+sh6lHj5G5zv38XqesS+0odgu7UQozJciFGaG6nEUEQLhgmpMMFTosu9k7mxApXkgPEFJr75ruUxUmErZsVv1HIJ6ofiLr9C6xdInfzwJAAAgAElEQVQTdVWUSb4+74ugTifQDw8vXtTasySmbUuKqvQAJa/dRJfHTFI9lfAid1H+BZZ3J2nIW6LB4nbV9/KFTOBOI6ClCPnqq6+ocePGVoQ4MOXJk8cpUhxm+/XrR7jv1ClL/uDdd99Nbdq0obffftvrg6DWImTMmDE0dOhQOb/ixYvTsWPHVL8m06dPp549e8rr4+Li5BdXb8wfIqRjx440d65FCDRr1oxWrlzpdGoQlrNmzaJRo0ZJAaI0nIUQadmyJY0ePVoebNWav0QI5oWD7O7dlv/Pf+WVV+TcnBkOvyNGjKANGzZIoYl1xsTEULVq1Wjy5MlUpkwZtUvKcp2WIgTvDd49CCXYwoUL5c+JJ/bYY4/Rd999J2959NFH6Zdf1IdH2z5HSxGyc+fOTKJ+3759VLZsWafLevLJJ+n0adcftvEefv/9956gCb4nxKPZhujF+HJcYNks2djw6sefiX4hK7xeKUrXov8EwrvOPtOJ0q+rS0ZWRIjtgyEgLvYbrmouigixvRgeIXR814MpniiUlT3bqrNqbnpYm5o5xvXvQblaPp3pUk9FCEQ0xHTa0eN07oXeah7L1zCBO5aAViIkTXz4qV69Ov32229Wlq5ECL7KPv300wTPiSPDwXb+/PlefRXVUoTg8IdD0dmzZ+U0PREhEFkVKlSQh3ZYdhIhf/31F1WsWFHUrbGU33clQrC39evXtx5gHe1XsWLFaN26dXTffSIsV4X5S4QsXrw40+HclQi5du2a/Jr/zTffOJwxxMjs2bOlyPLGtBQhr776aiYx5akIgefihRdesC4ju4gQ8F+1apV1Xq5EyA1R1AYCQxHAzvbEm58z9oR484ZrcA++uEc+UF4k498lDn+NKbxoYdnD4mybbj73p4hu3EDG5aNqEvpLqDEkxkc3fiLTpalHjtG1mfPU3C57esR2fj7TtagcdnmUuo7vqh7ix4uiGz1Ouf/XWVZru/qJc1e1H6cQ1KGjmzSUDTNtLeW3HXRD5Deptdw9O0lvHvq63Nxs+erDxgSYgGMCWomQLl260GefZS6/7UqEtG/fXooMV4Yv1G+++abHW6eVCLklitM0bNiQtm7dap2DWhGCgzsO9vDyKObN4Ui5V0tPCL4k40s/QuAUcyVChg8fTu+9957bfahatSr9+OOPqjxY/hAhEMB169YlHFYVcyVCmjRpQmvWrHG5LggRhEHdddddbtdvf4FWIgTCqm1b0UZCeHkU80SE4OcQHh0If8Wygwh544036J13LP3TFHMlQrC/jzzyiNt98ObnjEWIW6z+uQB5JGjIaDXhikwa/h7d+nGbfx7IozIBJsAEmEC2IeCrCEFeQf/+/a1hPbYLcyZCLly4QEWKFKEU0fgUVqJECXkYwVgQHkrIEq5B6JPavBLl2VqIkEOHDhGEla0AwfhqRAhyErp3707r16/PtM/eHI6UAbQSIT/99BN17tzZmguijO9MhCBHAnkVSp5PhIiUaNWqFbVr146+/vpr+vzzz615Chhr0aJF1Lp1a7fvt9YiBAf1l156Sb5DtuZMhOBAXqhQIasnCCIDoYHw6HzwwQe0bVvGGah3794yNMtT81WEwEs1adIkghdE+VlR5uCJCOnRowfNmJE5LD6YIuT69esEYYu12ZsrEYJ3De+uO/Pm54xFiDuqfvpzVNSKf0c0xhNfbW7v+5tubflJP/kTfmLCwzIBJsAE7hQCvogQeDIGDBiQ6QurGhEyduxYGatvKxqeeeYZ+Uv7r6OrV68mfLH2xHwRIampqTRu3DiZkwJPiL25EiE4qE+dOlUeGhHqY2/eHI6UMXwVIZgP5jVlyhSH4SzORIjCUpkH8luwRsU+/fRT6tq1q/XXEKQTJ050u11aiRAIPogPZx4NZyIEa8B9im3cuJEaNGggf/nvv/9KMaJ4HlBMwDbM0O3i/rvAFxGyY8cO6tatG/3+++8OH6dWhCDvA2GS9iFMwRIha9euldz/+ecfh+tyJUIGDRpE48ePl/dBNCpJ9vYDoVE3Ckh4YixCPKHF1zIBJsAEmAAT0ICAtyLEPsYcU4HHQskxwK+deUJQlWfv3r1y9qiuhHwLpRoRvrzjC7ViECc4CHtivoiQgQMHZjlE267LlQixF1f2TIIpQp566imZs6GY/V45EyEQFR9+aKmYCUN4GZKDFTt37pzcL8VTgoM8DvTuTCsRgsOobaKy/bqciRDkISxfvlwmoyN8CyFXthWxypUrR/v375fLQLEEeMY8NW9FCIo0QATZ/izZr0uNCMH9Dz/8sLWym+38gyFC8F4gvNHW7NflSoQ0atRIFhCAPf7449ITp5WxCNGKJI/DBJgAE2ACTEAlAW9FyLRp0+h///uf9SmKR2TevIz8PWciJDo6mlD2Fnb//ffTn3/+mWm2KNGphJ+gHK5S4lblkqRo8bZEL770o6IVDKFHCMPBV3OlRK8rEYL8lbfeekveiwMt8ihw8FcqEgVThNhWRkLFsiVLltATT2TkXzoTIfjajAM6vAP4Z9iwYZmKBeDwli9fPhFMkSbXjYpNOCC7M61ECNZy5coV+TiU1oUH6/nnM/JC3VXHcjRPrBklcBXvAcLyZs6c6W5JWf7cWxGCEMSSJUtax6tZs6Z8nxEuppgaEQKPFEQ1DGWK8XN18OBB+etgiBBUX2vRooV1DR06dJCloW1FrisRgvBMpfQyvCkff/yxx3vi7AYWIZqh5IGYABNgAkyACagj4KsIwSFiwoQJsvJOp06dZDUhxRyJEJQYxWFcsVq1amXJu8CXdXhEYPjSrRw81K2INBEhOAQiBr127dqy5KsnIgRlaxGDjzAy28N/dhAhlSpVkiIBPUEQtqKYuxK9ztgjJA9FBhRDbs9rr73mdqu0FiFgjf1CmI9tHxdPRQjCuxC2Zls0AYINIsBT81WEwEsAoY8QJHhtkJyumDsRgp8ZeHOUsEAIc+yN8h4HU4Qg2R9iER8uUPoaJbAVcyZCFJGgXNe0aVNZSnnz5s3SA4uiCMjDgrfEG2MR4g01vocJMAEmwASYgA8EvBUhOJih0V3fvn0JfQNgakQIvsTaNsVzdPhFmVccRmDwRsArYntgdrdcXzwhOBDh8AhRhWfD1IoQeIeQR4JEYDRehGUXEYKwKswFvBWWWogQ2xAZrBfhMrYeFmd7pZUIgecFa8MhFGbfd8ITEWK/Fow3ZMiQTIdkd++e7Z97K0IghF5//XUp5uDdgSHh3xMRAtGkhDFiP7Avtu9xMEQIBAP+QW6H0uRSrQhB1TV4hFwZ3mcUtkBemSd/X2BMFiGevNl8LRNgAkyACTABDQh4K0IcPVqNCPnhhx8I3g/FUO3GvrRvjRo1CFWcFEM1LU+6Q/siQhytS60IcXRvdhEhjubmqwixLyKA8qm2VaVcvZ5aiRD7Z3grQpDTgnAlFCZQbPDgwYQ8H2/NWxHi6HmeiBCEACIHCIafb4Q7QvgHW4Q4WpdaEWLb9NPdfnzyySeZiiW4u55FiBpCfA0TYAJMgAkwAY0JBFqErFixIlPzN8SsKxVvlKWh67ptfw13XZTtkbAIUfeS+CJCIByRK2FrW7ZsoTp16qh6eHYTIch3Qd6EreFnA8IaeUH4b08tGCIEuVbIs1IaZCK0TOnxomcR0qdPH/roo4x2EvCKoEw0GKNIhm11NIRDwuOKcC21xp4QtaT4OpcEIsqUptzd/s/eeUBLUWRh+JJzTmYxYUJRQRRzWkREUTFnXVfXHHGNa17zGte4ZkVRUNe4ZgxrFhQDCioiBjKSM2x9DTXU6zczHaYn9OPeczj63lRXV/23e97966aq3dFpVjj1susVuRQg0GTf3l6DS1fmfjRUZj21vKNqvm003GbLah3XF/w0VqbfHi6psFbjRtLqgjNk8aw5Mu3aW2TJ4uXNoVIAny5REYiMQKlJiL9Czsknn1zFuGADu+66a5Uu1sT5+w3EfBtVEhLuMYhLQtAhRNEmo3O3Y489VijXG1YqjYSMHj3aWz9hQpQxtgnc7Id8E0pFR5VykBBCuK666ipvqbwzVPiiEASSZhLCM0dne/bDvki6r1u3rrcvCgj06dOnysEFOVmUOA4rpSQhVHMj142MLLUwwmooJeMadN9C2tywtDqJlcVT/5BxfasSE/fzehusJ60uOjtwhxOPODFrffVcF9bfaH1pecGZ3scLx/4qU86v2hk08IYlHNDsmEOk0a75T7DmfvhpTmO+Uc+dpdmR+RtULRz7i8Hgyry7anHGCdVIxOwXX5M/rq3e1CjbRE326S0tzlpesYcx87/+Viad2D80mq1N35yGO24jUy+9Tua8+W7o63SgIpBGBEpNQuh/QHK0FSoZ+Tunk1hMWA2CoUyeRZSTaCUh4Z7EOCQEI5B8AgoMWKEsL/0fbA5NmLtXGglx10xpWxoyUs3JittHJMz+GFNqEkIVs0033VTmz5/vLZH3wPbf4ec0k5AgzN966y2vbK+VbB7WfHOUioRAmA488EDvfVESEqTVFH5uScgSUy5wytl/93awZIFpxPjV0iTHbFJ/042l7e3XBO729532Dn0yzpd7mzuul/obr+/Nu3D0GJlw1CmB9yjXgBZnnyRN+i6v/Z5tHRjkGObZpEm/vaTF6cfnXf6CH3+SiUefmncMzTPrtG/rjWl6xIHSoNtmEoWE1GnbWuquvqp3faM/7SSN+/SMTELqb9hJ2t59oyw0HpSJR58cWufl0p3eVxEoBIFSkxCq9lBq0wo9J9zQK35PGVzbzAxDjpyQKKIkJBxaUUkIxAMCYvtncBeM3nfffTdTnCDcnUUqmYSwBwovuJ3fs+UuBe0VrwpJ2OQ9FCphckIoeWtLZOP94GdXeC8mT57s/ap9+/aZcrmUle7QoUPoJVKIghCoffbZJ/Q1uQaGzQkJuhH9atw9UD2LXjBhpVQkhIpg5LcQNqckJKx2UjQuQ0JMctnvu+4XauUuCZl+z8P49rJeN2vA4NCekEa77Sit/n6OLDEnErVMLGlaSMiCH36SOa+/nXX/C8eMlbnvfZT1M0tCFk+ZKjOfyu62XvzHNI9QhJVWF50leFiikBB37qaHHyDNjz8yMglhjrZ3QiA3kCkXXy1z316eIBt27TpOEUgLAqUmIVS6IgHYClWNPvjggypwNWvWTGbOnOn9jsaGX331VSQ4lYSEgysKCeEEF6PTDUuijDGFBggtiSqVTkLoPUIPEiuUarb9XsLutdQkBP1EMbztPqLmXFUiCZk9e7Y0adIko5qwTTPtBaUgITfccINX8YxQMarvKQkJ+yalaFyhJCSKtyMXLLUa1Jf2j5lmV6ZZ1fzPv5JGu+2QGhKSz9uR7zGwJCSMtyPs41ROEtLkgL7S4tTjZN6Hn8nkcy8Nu2QdpwikDoFSkxAAol+GDedZf/31q5ysU53IDb3abbfd5LXXwh9eML+SkHCPYRQS4jZiZHZ6uUBA1l577XA3840qNwmh0R3hS+SC0GzRX6Ht008/lS233DKzanIOnn/++Uh7VRISDFcYTwjhZe+8847nHR0zZox07NhR8Ey5gi432GCDzK9oOkqT0bBSbBJCyClr5rkjx4j3R0lIWO2kaFwlkJBmRx8szY49TP644V9CaE/jPf+kJCTGM1ROElKnQzvp8NT9IqZs47j9jhY8PCqKQE1EoBwkxD2xpbM4/UbWWWcdD15/bDeVfajwE0WUhIRDKywJwfuBzmwH8QYNGnileLt06RLuRllGlZuEUCYaEoWAA9WkMG6t0G+ChnpW6BRvE77DblpJSDBSYUgIBxOEZdrGi3ioCOu0Cffc5dZbb63SUZ4u7PQwCivFJCEcolDIgZ41NIykEauSkLCaSdm4cpOQOu3aeF6QRRMmyYQjT5KW/U9REhLzGSonCWHJ7e67Reqtt7aXjD/zyfCxpTG3q5cpAmVBoBwkBKOWpnlWjjvuOC9EAWODHBGq4CBUv6FxGyU3o4iSkHBohSEh6AT8p0yZkpmUPJB99903603I90GfQVJuEgLBgGhYobnfzTff7IWWff/9916FNpuXxBjylng2o0ipSUjQ2tKcmE6Oh+uJghSiP76/IJCEy0FMEMKy8JhE6S1ULBIydOhQoe8RyegPPfSQtz4lIUFPaoo/LzcJaXWhyWPYfWeZcpHJJXjnfWn5t9OUhMR8nspNQlqcc7I02buXzH33Q5ly4dKShyqKQE1DoBwkhNKuGKvjx4/PwEky+qxZs6okoe+3334yePDgyJArCQkHWRgS4i+pHDRz2E7c5SYhGKybbLKJTJ263MtNdS+8OzT3I3fJSrbiCUE48LmSkGCUwnhCLAnEm+AK5LhHjx7eoQU5PFbOOOMMr4RvFCkGCfnhhx+kW7duXjXAN954I7McJSFRNJOysYWSkLnvfCD1TAiV8c/Kwh9Gy/xvRsrMJ56WJXPmBiJBqd92pqrS/BEjZdJfz/HGp42ELPz1d6Gkcd01VvP+u2DUaJOM/mFgqdpMYvq06eaaH6XeumvJktlzZMH3o2Xe0OEy+9kXI1eZKjcJgYBARBZNniLj9z0qUP86QBFIIwLlICHgRHUdektQDjWbNGrUyPvDjZERVZSEhEMsDAk56aSTIsXWp4WEgJC/4lQ21CASn3zySZVQrXDoKgkJg1NYEsJcp5xyipdTkU8IG0SvhAxGkaRJCNW6ICDkv0FqXVESEkUzKRtbKAnJtl0Mc5odLvh2VF402t5xndTvvKFMOu18LyE9jSQk1wbnvPGOl+OyZNbsrEOCSvTOH/61TL38Bi9MLayUm4RQXrntnTd4yx3f72hZNHFpaUMVRaAmIVAuEgKG9GE45JBDvD4grlA+lJAtDNo4oiQkHGpBJIQcEDxWv/32W7gJzag0kRA29fTTTwsNMzEM/UJRBEJo4lT/Yi71hAQ/NlFICAnq11xzjVx9tYk08X1ncCdKElNgwDYxDL778hFJkhA8uhye4GUjVMzfP0dJSBTNpGxsXBLS5uYrZd77nwglavEAkJjcYMvNpV6npcmSi6dOk/GHHp/TCG+06w7S6pL+QkO/Kecub5aYJk9Io+23ljmmBO8iQ7rorVJ3jVWl0S7bS+3mzTwMZr/0uvxxzS1ZnwhISPPjDpc5JnSJxoxLZs4y/TpWkYbbbS11VmrvXTP/6+9M08ClHqIwUm4SUmeVlaTDE/d6S2XdrF9FEahpCCRJQoh/duPoCZ8IamBHWMyQIUO8JGESTfnjvdNOO3kGXFxJmoSQLG/DPVhjz549Qy+Nfdk+J2DhDykJO9H47Tt6Jd+zSe3W7aT9y1+EnSozzm3GR6Ksn/Rh6P33v/+NNG/r1q29+PwgKVY4FnpCX1Y6deokG220Ud7lYICS8zF8+HCPcBGmxSk2z6FL1IL25P88SRLCe4JHxgqVu1ZddWlPrLDiPsdh9ZRt7iRL9H7zzTdeYQorEL+mTZvm3RIVzQgT/Prrrz0yst1223nPnFtYICwmdlxSJIQcqt133917lsgtcss823spCYmqnRSNj0NCardo7pXThXxUEfO7ZkcfYv4d7P165mODZPrdSxOLXPFK8j56l9Rp11Ym/vk0j8hYSQsJocHfot/HC00eXandupW0vvJ8z8Mji5fIxL+c4YVb+QWisdiEYvnD1mqZfgAtzzvNIzMIHiW8KmGk3CQE8rXSCwO8pdLtfu7/Pg6zbB2jCKQKgSRJSKVsPGkSUgn7KgYJKee+ikVCyrkn/72TJCGVtK8kSUil7CsJEoLn8LDDDpMXXnhBvvjiC6GPTjZRElIpWi/COuKQkHzL8Dqf/+tazwhfPGOmjNvzkGrDmx15kDTDC/DKWzL1qn9W+TwtJCQfBhCUdg/eLrXq1ZVZz7wk024KX3ubeWs1aSwdHrtLIDTzhn0pk0+/IJTmy01CapnKPCu/+Yy3VjxAeIJUFIGahoCSkHRoVElIOvTkrlJJSHp0lgQJ6d+/v5ezgme3e/fuOTevJCQ9z0XklSZNQlhA4z49peW5p3prGbfXYd6Jv5U6bVtL+wGmMWGdOjLhsL/KonETahwJYUNtbr5KGmyxqcz79HOZfNbFkfXS4owTpMl+fby8CvIrwkjZSYjx4qz86lPeUqN4cMLsTccoApWCgJKQStFE/nUoCUmHnpSEpE9PrLhQEkJ5Z/qAPPnkk1XKj2dDQ0lIOp+RUKsuBgmpv1lnaXvr1d79/bkBjXruLBjLJFyTD+KXBuZar9KU8aLMeWtpY6RZpufEwp9/CbWfShlky9VCssYf+OfIy2qy/17S4rTjxXS7kt93P0CWzF1e/jDXZOUmIfR86TD4QW95k8+8SOZ9Fj3mOjJQeoEiUGIElISUGPCYt1MSEhO4Ml6mnpAygh/x1oWQkIEDB3pJ8ZQFpshBkCgJCUIoxZ8Xg4Q02HxTaXPL0j4RE48/q0qVLEtCokCWRoPWa7q41+5CpbAJhxgyEVGaHNBXWpxqGliZvJLfe+6fM8HSnbbcJKTuWmtI+4eWlgOcePSpsuDHnyLuWocrApWPgJKQytcRK1QSkg49uatUEpIencUlIfQo6dWrl5x11lle5a4woiQkDEopHVMMEtLY9ItoafpFIL/vcVCVCln1N93ICzPKJfVN7xCqLC02JdvmfTTUGzbjoYGycPSYVCHc5pZ/SIPNN6lW/SvsJlqceaI02be3l/w+/qDgbrrMW24S0tBUC2t91YVesv643Q80FcMWhN2ujlMEUoOAkpB0qEpJSDr0pCQkfXpixXFIyOeffy7bbLON0JtkwIClRWzCiJKQMCildEzSJMRLTL/zeqm/0fqxmtbFSUyvt/660qTfUmKz6JffZMbDT5ZVG4STtXvwNiFRe+bAZ2T6v+6PtJ7aTZpI+8fvltotW8i8Dz+TyedeGur6cpOQZsce5lVGoz8MHjAVRaAmIqAkJB1aVRKSDj0pCUmfnuKQEMoEU8a5c+fO8vbbb0fatJKQSHCla3BkEmISypsff6TMGvRc9WZ0fGaqXjU9bH8PhOl3PiAzH386EiBxSEjDHbbxyuIi878aIZNOOjfSPaMOJuGcErtzXhvi9QdxhbLDrSjRa7rI4wmYeOTJXkiWK/QTabhNd5n1/CvV+qhQGavV+acLe0Imn/13mffJsFBLLDcJaX31xdJwW7OvZ140FcHuCrVmHaQIpA0BJSHp0JiSkHToSUlI+vQUlYTQ9wcC0qhRIxkxYkTkDSsJiQxZei6ISkJsGVZCbuYPHe4Z2FRwwvgm/Khux9W9zS8cM1YmHnNatT4aQcikgYQ07rWrtLzgDM/TM3/4N7Lot3Fe4jjNBhsYIxxPBjLjoSdkxn2PVdtyPRNy1u6ef3oEhBK8C831VBCra8LQ0AcJ3sjct9+XKRcvTfAPI+UkIZQj7vDco97eqQZGVTAVRaAmIqAkJB1aVRKSDj0pCUmfnqKQELqhb7vttjJx4kTBG8L3Z1RREhIVsRSNj0tC8m2Rqkh/XH2zVwErqsQhISSAkwiO5OtSHnUtucZbEpJzvkWLvJCwGQ8PNPFhi3KSkHzrmf3iazLttntlyew5oZddThLSYOuu0ua6Sw0hnSQTDjhWlpiEehVFoCYioCQkHVpVEpIOPSkJSZ+ewpKQheawmiT0oUOHyqhRo6RNm6UHrFFFSUhUxFI0PioJYWv11lvbC7upv/EGXt4CHdQXTZkqC38cI/O++ErmvmrClExp2TjScNutpF6ndbxu7LOefSnUFC3PO10a997NK2c74ehTTBL7z6GuizuolmHyDbp28bweNCasYzCo1bCBLBz7qywwCfRzXntbFoz8Iff0prM8CfreXtfpuBTDpk1koUlCJwGfTuNhQ7Dcm5SThFjyOPOxQTL97ofiQqvXKQIVj4CSkIpXkbdAJSHp0JOSkPTpKSwJoQzvs88+K8OGDZN111039kaVhMSGrvIvjENCKm1X7U13ccjA3A8+kSl/u7zSlley9ZSLhHgd3gfdL7XqN5AJhx4vi8ZPLNme9UaKQKkRUBJSasTj3U9JSDzcynmVlugtJ/rR7h1UHeu8886TW2+9Vd544w3p0aNHtMl9o5WEFARfZV9sSQhehPkjRnqLXTx9hkw597LKXviy1eGFWen5pXkXk049X+YbT8yKJE0P2lca7rytt+W6q67seaUI5frj2ltDwUACfNND9/PG1mnbRuq0byvzv/7WNJnsH+p6BrGG5icfK7P+87JMu/GO0NfpQEUgjQgoCUmH1pSEpENP7iqVhKRHZ/lIyG233SbnnHOOV4a3X79+BW9KSUjBEFbuBBkS4iyRUKhxfY+o3EU7KyMsjKpM87/5Tib99ZxUrDnJRbY444RqfVeikJAm+/SWFmedWGVJUUgIhQraD7zXhJS1VC9IkorVuSoWASUhFauaKgtTEpIOPSkJSZ+eWHEuEvLUU0/JoYceKjfccIOcfvrpiWxOSUgiMOokxUCA/BR6kmA4L/h+dDFuoXMqAoqAIpBBQElIOh4GJSHp0JOSkPTpKRcJGTJkiPTs2VNOPfVUufHGGxPbmJKQxKDUiRQBRUARUATSjICSkHRoT0lIOvSkJCR9espGQoYPH+7lfuyxxx4yaNCgRDelJCRROHUyRUARUAQUgbQhsMfpG8lK6zWXWrVqydY9tpbmzZqnbQs51ztu/Dj54vMvZPfdd/fG7Lf2eVKvdsNU7++xh3eSRbWzb6FWvXpSv+vSXLq0yMLR35miH1Ub37L2ZhPnSo8nfpaW190vDXfslZbtZNb59m+PyrjZ33s/v/nmm9JxrY6y9lprp24f+Rb8+huvyyabbCInbn1T6t8ru083HIvvxK5du0qnTp3k/fffT1x3SkISh1QnVAQUAUVAEUgTAn+5ZxtZq2u8Ovdp2idrPbPL49KwztKmq2mV6z7eSxbVrZXW5Yded+tfZkvfq75JLQkZ+P2l8uP0oaH3m+aBNeG98pOQT4FnX74AACAASURBVD/9VPbff3+pZ4j9yJFLixslLUpCkkZU51MEFAFFQBFIFQJKQlKlLlESkg59KQlJh578q7SekI4dO8rcuXO9bugNGxbHe6okJJ3PiK5aEVAEFAFFICEEViQSMu/lLiIL6iSEXHmmadz7sxXKE/LKFj1ldIeO5QG7gLvW2/p7qd1+egEzpOfSmvBeWbQhHtdee620aNHC64berl27oilCSUjRoNWJFQFFQBFQBNKAwIpEQm7p+4HMm7kwDWrJucbzXtlOFq9A4Vin/DZf3pi5KHU6O+DazrJWt1apW3ecBdeE98rue4npLTdz5kx56623ZPvtt48DR+hrlISEhkoHKgKKgCKgCNREBFYkElITYtc1HCsdb6GGY6VDT/5VBnVMT3JXSkKSRFPnUgQUAUVAEUgdAkpC0qUyJSHp0JeSkHToSUlIOvWkq1YEFAFFQBGoAQgoCUmXEpWEpENfSkLSoSclIenUk65aEVAEFAFFoAYgEERC+q19gbRo0D4VOx38wz9k2vwJOdda08OxGsxeLId1vTUVupqzcIY8PurinGut6SV691mrv7RuuGoqdLUivFdWERqOlYpHUhepCCgCioAiUBMQCCIhx290h7RpuFoqtnrPNyfK5Lm/rrAkpJFJ4D5jhxdToatZC6bKrV8etcKSkGM3vFk6NEpH88IV4b1SEpKKrw1dpCKgCCgCikBNQkBJSLq0mS8cS0lI5egyKBxLSUjl6MpdiXpCKlMvuipFQBFQBBSBGoiAkpB0KVVJSDr0pSQkHXryr1JJSDr1pqtWBBQBRUARSCECSkLSpTQlIenQl5KQdOhJSUg69aSrVgQUAUVAEagBCCgJSZcSlYSkQ19KQtKhJyUh6dSTrloRUAQUAUWgBiCgJCRdSlQSkg59KQlJh56UhKRTT7pqRUARUAQUgRqAgJKQdClRSUg69KUkJB16UhKSTj3pqhUBRUARUARqAAJKQtKlRCUh6dCXkpB06ElJSDr1pKtWBBQBRUARqAEIKAlJlxKVhKRDX0pC0qEnJSHp1JOuWhFQBBQBRaAGIKAkJF1KVBKSDn0pCUmHnpSEpFNPumpFQBFQBBSBGoCAkpB0KVFJSDr0pSQkHXpSEpJOPemqFQFFQBFQBGoAAkpC0qVEJSHp0JeSkHToSUlIOvWkq1YEFAFFQBGoAQgkTUImTZokI0aMkDp16siGG24orVq1Co3S3LlzZdiwYdK0aVPZeOONpXbt2qGvZeA935wok+f+mvOaM7s8Lg3rNIk0px38yy+/yMiRI6Vly5ay/vrrS5Mm0eaZPXu2vPrqq9509erVkz333DPWOpIkIYsXL5bRo0fLjz/+KCuvvLJ06tRJ6tevH2pdXPvzzz/L999/L+3bt/eubdiwYahrGTRrwVS59cujco5v/cts6XvVN9Lyuvul4Y69Qs/LwAULFsioUaPk119/lbXWWsv7x/MYVrj2t99+k0022URat24d9rIq44pBQniGvvvuO5kyZYqH9+qrrx5rbT/99JN8/vnn3rXsb4cddsg7TzHfK25Ml3K+M9Ab3xnt2rWLta8kLtKO6UmgqHMoAoqAIqAIKAIhEEiKhAwaNEguuOACz/hzZb311pN7771Xdtxxx5yrmTBhghx22GHy9ttve4YI0rx5c9l///3lX//6V2jjNmljaeHChXLnnXfKFVdcIRMnTsysv1atWtKjRw+57777ZIMNNgiBssg///lPOfvss72xLVq08AyvOJIECZk+fbr84x//kNtuu00wbK1gqO+3334e5rkMQcZff/31cuONN8qMGTMy10IY99hjD7nnnntklVVWCdxaMUgIpOPCCy+Uxx57TNCdlQYNGsipp57q6TEXUZo2bZqceOKJ8vrrr1fRNcY+et5uu+0C9+QOSJKEDB8+XPr37y+vvfaaLFmyJHMb3hH2xN54JsPIokWLpHv37jJ06FBv+FZbbSUffvhh3kuTfq/szcCafVlCZH+/2mqrec/mPvvsk3NdG220kUcU8wnv2ZgxY8LAkhmjJCQSXDpYEVAEFAFFQBGIj0ASJOT444/3iEYuwUDFaD3jjDOqDeEkfffdd/dO47PJtttuK88991yoE+kkjSWMtV133dUjRrkEg3bgwIGy995751UAJ9ecqlujqZwkZOrUqbL55pvnNc7wbLz55pueN8qVWbNmSbdu3eTbb7/NuV88X//97389QzefJE1CvvzyS9l6662rkCr//TFc//e//3neLFfGjRsnvXr1ki+++CLrkuvWresRM57zsJIUCYHcH3TQQYLnKZfgVeMdCeM5xLg/7bTTMlOVi4RcddVVctFFF+WF86yzzvK+N/wCYfTrMNtEcd4zJSFhn3AdpwgoAoqAIqAIFIhAoSTk2WeflX333TdwFYQgffbZZ54x7krfvn09Ayqf5DJG/NckSUI4Yf773/8euK8OHTrIN998k5MkYbhDZj766KPMXHGMI3txoZ6Qgw8+2CNOQYJx+v7771cxbP/617/K3XffHXSpR144ac8X2pUkCZk/f75sueWWgscgSI477rhqhHmnnXbKSzaZk71AdPCMhJEkSIgNCYPEBsnNN98sp59+et5hv//+u+e5wxNmpRwk5IMPPpDtt99eIPpBgreE98cVnksOJ4IkznumJCQIVf1cEVAEFAFFQBFICIFCSQgGJ0a4FcJ5Tj75ZCE35Pbbb5d3330389lee+1VhXCQU7D22mtnjJEuXbrITTfdJJzWn3LKKYLRhLRp08aL7yesJp8kRUIIOeKk1YaGYYAec8wxcuyxx3pE6tZbb63iDbj44ovl8ssvr7Y0xmL0+sNN4hhHdvJCSAhG9KabbppZJ+sgBOmAAw7wvBfsa/z48ZnPBw8e7IVnIehqzTXXzHxGTgyeARtGx7Vu6AshTOCVS5IkIY888ogceeSRmVutscYa3mk/5OKJJ56Qu+66S2bOnOl9TtgSIYPrrLOO9zO5Poy3YU6dO3cW9MnvrrnmGvnPf/6TmZf9sK8wkgQJIXyPMD4rm222medNZO3333+/PPjgg5l1ow/eG8h+LsGj8uSTT1b5uBwkZLfddpM33ngjs45ddtlFOGjA20P448svv5z5DHL58ccfV1kzIX8nnHBC5nccBGQTnm9yaKKIkpAoaOlYRUARUAQUAUWgAAQKISEQDUJ3rAHHKSsJplb4fKWVVsqQjFVXXdUz+qxg7F155ZWZn4l5x0BBbrjhBi9e3Apx/oceemjenSZFQgjBwoC1gvfg8ccfz/z81ltvCYaTFcJhXnjhhczPkJhLLrnEI1TZTnvLRUIIKYLcWbn00ku9dVq55ZZbqoTMkV9h9QP+hx9+eGYsxjD7swI+rn4gopDQXJIkCfnLX/4i//73vzO3wjuHh80KBiuGq5WnnnrKyzdCCPc555xzMp8RrrXNNtt4P5MHRMK+1SEk2U8oc+0vCRKCAf7pp59mbkFCuUsEIRCugQ7JhERlk1deecULOfNLqUkIWELwLSnk/8kJs+QJr1bbtm0z+UYcPDCWkDgrEEzCyhDwAJekRElIUkjqPIqAIqAIKAKKQAAChZAQTond5NFzzz1Xrr322ip3pPKO6w0hmZnqVwgnujYXBGPPTTS1xoCdrE+fPvL888/n3U1SJOTqq6/2kuytDBgwQA455JDMzyQ9Q744eUbWXXfdKgn5eEVc454xnFQTmoWUi4SwBzwDVgiZIj/EytixYz0PgBUMdQx2BI8JHgUr5IzsvPPOmZ+J08d4tAnhkElIZS5JkoRQUcnmqTRq1MjzwjVu3Dhz65deeqlKNTKIFQQL4dnEQKcqG2FK7rPK5xBre5pOVbR8+TDuXgslITwrGOgWTzxY/pwVigvYfXBv8kf69etXDXKqzkFOfvjhh2qflZqEgPMWW2yRWQeetEcffbTKug488MDMc8cH5I1ZzxU/E57F84eQT4YXLylREpIUkjqPIqAIKAKKgCIQgEAhJIRTSzwb9h+JwYRXueKe5jZr1qxKPDqnnMyBZDOyMNxt9aZsn/u3lhQJmTNnjhd+xL4wzAlJohKRlXnz5nkGtz3NpXKSa7ziYbjsssu84eyR0BlO4m2Se7lICEa23RfJ2EcffXQVCAlTcnMe8JrYE2fII1hYXRP+5J5OE8ZFVSybQI3XhDCpXJIkCYF02LVx0u6vqgSRwrC1gtfkz3/+c+B3gz98Lci7405YKAnBu0g4osWb581fStfvSXzvvfey5kqQ20SOE2KLDXz99dfez6UmIejH7gmdQY783hvCNq1nkfA5nlt7cMGaCb/Ce4KQB0M+DGN4Hl3yGajgLAOUhMRBTa9RBBQBRUARUARiIFAICQm6HUYUIVg2XAuSQlIq4vd0EP5EmJMrXGu9IxgeGM75JCkSErQvTl4pR2uFhG1i2a1YEkI1Jgxeyvm6yc/lIiFB+6L0Lt4sK3g+3Nj7fNdTHc2tHkU+xd/+9reclyRJQoL2xWk73iwrlKTF+M4lECmSn/GY4CWxgt45eQ8jhZKQMPcgR8T1juCZ81eNwosDgbdkn3eMUDp7XalJSNC+OAAgB4z/Ih07dvR62VghRA4vpBWIGd4iG5ZG4QvexyiVzNw1KQkJ0pB+rggoAoqAIqAIJIRAMUmIvwwnOR7XXXedt3KMI7fHBt4GEqFd4YTUntjSwwJDKl8Z0lKREBK5CX2xQjgJhq77M6eynL7b9VY6CSFkB6/VV1995W2DE2iqTeXKMXD1hBGIMWgJJp/lOpW315WKhEBiIYOEiyEQQIoc5Gs2iSFrcbBYkHjv5tMEvX7FJiHkiqAvK6w5W3UwN3SJcDzImEteKo2EkPhPMQcrfo+aPx8rlx7w8lHJLWzzTTuPkpCgJ1s/VwQUAUVAEVAEEkKgWCSEsruU7rXhOYQzEdttm+C98847VRoYEh7jJhezPcp4YsxaIeTHPQX1Q1AKEuInVuQjELYT1JG7kkkInioqJ9n8D3CFaPkrKeV65PyJ4X/6058y3eFzXVMKEkK4HM+Qm0yO/tx8H//6IFT0f3ELCpx//vlec8coUkwSQhgT5MFWj2Nd/mR8fucWEyAUknwWQuYqlYRQFADSRLgjApHnEMINEaTYAc0Zwwj5aa5nL8w1SkLCoKRjFAFFQBFQBBSBBBAoBgnhlJYO6W43bjcZmGU//fTTVZJoKUdKRSxXSEZ/8cUXM7+iFDBGfy4pNgnhFJmTWbdrNfsI0yelkkkIYVPWQ5XL+MuFuT+JHw8K+neTj7NdW2wSAokgt8At90qlNpKz8+UNUGaYECC/EIZFUn+YJnlcWywSQu4DPTJcT40/J4n7Y0zjabQll3m3eMeQSiQh5CMRtjh58uQM9IRU+fvS+HvV4EGldDKHEw899JDXVNIKXi/mtQcfYb4ulYSEQUnHKAKKgCKgCCgCCSCQNAnBiOOU1u03wc9DhgzxTpit0ISME3MrVF+64447quyI6ktcZ4UwGk5yc0kxSQieG9ZrY+tZg790bz51VCoJIe8D7F0JyuewYynLSxiaS8qyVUjLhkuxSYi/mheeKrwFENt8QtI0uR8kgpOUb6swcU22Bo655ioGCcFL07t37ypVxyBF5K/4ybm7f5LR8QbZQgKVRkIoLAABwVNqhYpzhPehB1eorkXjT7w65Iy5ZbwZR8EEtyACOowSRldKEmIJby2z7iUJfJfrFIqAIqAIKAKKQKoQSJKEUFYUY4LwJCvrrbeeZyT5jQkSYzGGrGQz6OnLYOPcya0gTMOtyOQHulgkhMRY4u/dU1r6hHDKHjbmvBJJCAY2J/y2DCx4uhWx8j3In3zyiZcHQi6JFXIOCAHCGxIkxSQhGJ70knAlSpK9ex2n7A888EDmV4SoEaoWJMUgISeddFKVAghUXnv11VerVc0iSZv30IZCkkfh9r2pJBJCQ1DKOUPyrVCEgu8Mf6W9IMz5nKID7N0KzwH9b8JKqUgIhxmEntHQVElIWO3oOEVAEVAEFIEahUBSJITTcIwzN7mcEAmMCbfGvwWPeHbXq5Gt3v/qq6+eaW7IXK53JZsSikFCshErjDjK7bple4MeikojIdmIFX1BBg4cmDf5n32ih27dulVpPInXCg9CWFJWLBKC5wyPlUus3KaLQXryf05vmr333jvz6yOOOEIefvjhwGmSJiH+6mMQPcLD3NLDdlFuZ3T6pvhL+/JOUnIZIWSJqnUIOVmrrbZatb0V472yN6HssesBpRQv71ZQOF8uBXBQ4B544DlyQzqDFFcKEsJ3JXrjfSFvSUlIkFb0c0VAEVAEFIEaiUBSJIQ+BPQjsIJxwwms2wzPBZATUE5ybShP9+7dvTALV9w+IWG6VSdtLGUjVnh26AnCaW0UqSQSArGiK7hbTQnPDk390Ek+QW+MdQsGdO3a1QtbikLKikFC6IECOaKMq5VseQVR9IaRSFK3FfIx3L3nmitJEkLCNpi7oYDkPuAZySb0SaGRaFQZMWJElYp19vqk3ys7r59Y8ezxDLLXuOLXF6W0mTOslIKE0NsEwseBDetTEhJWOzpOEVAEFAFFoEYhkAQJoRIWho8lFJy+0l+BykT5hH4AU6ZM8YbgLXFjwgm9cnNIevXqVSXJONu8SRtLfmLFKTEG6Jprrhn5GagUEpKNWGG4QyJcYzvXBv25FuQiEErjD7cLAihpEkJfCQgCOQNW8AhQTCBfWefzzjtPKHiAZwhiSa6SKxBO15NAEQKKEQRJUiSEHBX043oB/UUe/GtJAwnxEyvCLCl73bdv35zQomPykGxjSjrYn3POOVXGU03LLSsdNrzQTlJsEkIBCA5rICCQ95VXXllJSNDLpJ8rAoqAIqAI1EwECiUhGHCEc9jwDlAiTAQDMEioNEUOgRWSZ/F4ICQRu1Wn6NMQVJozSRLiJ1aEGZEHQeO3OFIpJAQDlk7bVqgYhUckTAUh/8k13i6uXWONNSJDkjQJ8TckxLMGYaxXr17etRG65RIPqk7ZruJcSKI9TRytXHLJJUIzyiBJgoSQbwORp9qYFfpfuDkq2daB94dckVxC7xQ8WgjPNYYw8sYbb2QNnUzyveI+2YgVXc/xEOQTclwIy7S5WXhKmcutWOZ/vu+55x6hhHRYKSYJoZ8QOUaUGUZHNF9VEhJWMxHG1TO+pU2bZH/xh89aKAtMPFxNls6N60mD2tV3OGrOIpm+aHFN3rruTRFQBFKGQKEkhHACYputYBiQW5BLSBLFeEU4fSc50wonuMTbU9p3zz339JI2ETwrGE5B5VGTMpbwFuD1sN3aWQP5KbnCRNhPUPJrJZAQ8nDYl01YZl+QPrdAgKs3GuDZsq7oBKLill2mf4ObBOxei2fLJTv+5yFJEkIOgZt4zb3wXqy11lpZH0OeLZtcTi8JvCFWmIfTagoRQGJ4Jt2CBHhGKIkbJEmQEJ4pupu7wnrs++NfA03+wqyt3InpxxxzjDz44IOZ5eMFOfTQQ3MWNLj88sszRNfNd2EC5qKaG+Rk6NChXpI7neOR1q1bCyF6+RpT+jEsFgmBFPLc8azhYUWUhAS9RTE/X6l+HRm2WfusV3f9fIL8Nn9RzJmLf1mHerVlt5YNZZ2GdWXVBnVkoflj9OPchfL17IXy6tS5EoZCsHcw8MsRI6fI638sbcKjoggoAopAJSBQCAmhZwGGqRurHrQnDGFO3xGMfYxVQmGsYDAQiuUmFlN2kx4AQZIUCcHjwUl6WCGMB4Min1QCCfF7MoL25xYL8Humgq4N6sSdJAnBUA8ige566YuC4YpAMCBbbuM/fk94GaVjXcFQdj13+TBIgoS4z0wQ3nyOhwRPSZCUk4RAgHlf/NjmWzMhdpYoU/0KouU2kyRsE+8VXjnr4WE+jP2LLrooCI4qnxeDhHCYwpohvm5RAyUhkVQTfnBaScjgDdpIj+b1vfi8bPLlrAVy3phpMnTmUjdmLlESEv5Z0ZGKgCJQXgQKISGEXVGWNYq4JITryB2h4Zh7wu7OhzFIxSM3RCbX/ZIiIRgudNYOK2khIf7mj0H7c0kIxm0YImjnLCUJobkgPRfCiktCuAZPHlWU3H4n/rnwqtC3ImxBgkJJCEY6ZN01toP2lwYSgncpKFfMv0+XhPCZP1crGy6EbkJMw5SLdq9PmoTQHJOcHqp9Ee7mipKQoCc65ud+EnLV2BkyccFS78dzU+bKnMWVGY71Y7eVpFHt/PXNpy1cLDt/NUl+z+PN2at1Q2m8bJ7r1moh9ZfVTFdPSMwHSi9TBBSBoiFQCAmhtwclXaOIn4RwLVWxCFVww174PV4SenFQkSqMJEVCyPtwe50E3TsNJASSRyEAt69H0L4sCcEQJtzFFhEIuo7PS0VCyCPKVYEt1zr9JIRxGMeEM3333XfVLoOAkZMUJnHfXlwoCSFciVCjKJIGEuLPsQmzPz8J4Ro8CiSlu5XQ+D0VtrgHIVxxJEkSMmHCBI+AUDXO7XBv16UkJI6GQlzjJyHbDp/ohTRVulgSMmHBYvls5nz5avYCaVmntvRr20ha112e5PGKCcs6etTSmMMg+cEQG0tIlIQEoaWfKwKKQKkRKISE0LU4ilHL3qhck63hICFYJOBiDBJeQTgUp4dBJWNdvJIiITRSzHcq7tcRyc9Bnhoqf1E+FKF7NyFAceS6j/eSRXWzH5Y1mrlIztjhxazTUlkom4Gdbw0YTzSMI9yOAgRRhLC6fOQxqXAsiBFx/1EE0miTsd3reAbxdlBhiWpU6IgKRnGa5hVKQn799ddqBnbQHikQQB5EkPAc8DwgQXpiTFLvFXP9+OOPQhhnFKEKFnlhfmEeqy++hwh54nvDraoX5T6MTYqE8K5TBpv8FPacrUCCkpCo2gk5Pq0k5O1N2sk942bJk5Nmm+T55ZtlP0M6t5UWy4jIzEVLpNNn4ySMP0dJSMiHRocpAopAWRAohISUZcF5bpqksVRpe7PriUtCKm0/SZGQStuXXU+hJKSS9rUivFcW7yRICHkpeBHJURk1apS0atUqqzozJOS1zm2XYHw+O3lurMpNA9ZvLW9NmydPTJwtM4yBGlVuMCE7E83p+4PjZ8l4899yCob2Li0ayOomKbudSdJGfp63SMbMXSRvT58n80KEUqWVhHC4tDCH+q7u2EKObt84o5otv5ggvxhcgkRJSBBC+rkioAiUEwElIeVEP/q9lYREx6wcVygJKQfqhd+zUBKCB5Vy0S+88IJHQshXyiUZEvJ795U909MjAhNmycMTZsukCGTgf5u2k7VNNSVOyB83ROR+QyZ+CmGg2oU9sF4r6dWqoUeAyJmAEA03SdCllnvWXboOSuxmE/Z03k/T5G1DuPJJEiTkTy0bSJcm9TO34Z6fmBCpcsn5qzWT01Zpmrl9l2HjhbCtIFESEoSQfq4IKALlREBJSDnRj35vJSHRMSvHFUpCyoF64fcslIRccMEFXkI8xTQo85xPqpEQO3i+IQNPT5oj/x4/25RmDSYDloTY6zFNXzN5A/caMvK/6cGGsyUh7mI/njFf7jHX/9fME8O5EksT32zRQVo5uQ/ZJsETspXxAuTz2CRBQq43nofDHc/DlSa5/V+/L42nLYcM3KC17NC8gXdrktM3GDo+1DKUhISCSQcpAopAmRBQElIm4GPeVklITOBKfJmSkBIDntDtCiEhNCGkr86TTz6Zt/O7XWqGhPxjzRZLSD5uXqe6C+B9QyIgE/l6RJy8clM5rkPjrL0hIDGQGUgN5Cab7NemkZy1alOvN4VfCPm5z9x/gPGwTC8yG7Ek5ANDgL4wnpgfTDJ5A1PZaScTnrWb8UxYudt4ai79OXdiUU0jIejlzU3aZqpcDTK6PPXHP0I98kpCQsGkgxQBRaBMCCgJKRPwMW+rJCQmcCW+TElIiQFP6HZxScjgwYO9cuV0fj/ppJNCraZKYjqlWfc2pVU5fe/WdHkYkJ2JUCTCrAi3IuzKL+QT0OTu8HaNZWdjsPsbZhPeRZjXQybcK1cYT49m9b379zHrsGVd7X1mmXsONAnT9xlCU6xKU+Q9PGrWmM378/xGbTK4QE62MxWvcklNIiHQ0qc3bCNbG90gJKxvP3yCjAkZbqckJNS7qIMUAUWgTAgoCSkT8DFvqyQkJnAlvkxJSIkBT+h2cUjI22+/LT179pQzzzwz0wQzzHJyVsfaoFFdjwwc4HlHqtIJEs8hEvS+yCWrmmpKh5nrDzHX+ztnk/dBAnx/k1uRK8mbkCjufYSZY12fdwT6Q9ftc83140rQeRwyRJuLPxtPz8WrN/e2DCFa11SHWhFIyCnGy3Xh6s0yW73j91lyxdjw5eWUhIR5FXWMIqAIlAsBJSHlQj7efZWExMOt1FcpCSk14sncLyoJoZ9Qjx49ZO+995YBAwZEWkRgid6GxjtC4znIwJaOd2SqyQnYKEROANFd1juyi887solJbA6T/L6VOYHn/n1MwngDp5HefiMmC2FTSQrr3bt1Izm4XSNZ3RCpVcw/957uvShRm6sSWBKekEpITO9pPFsPdGqV8Wq9aZLjjxw5JVKOjpKQJJ9QnUsRUASSRkBJSNKIFnc+JSHFxTep2ZWEJIVkaeeJQkLoT0MfmY022kjwhkSVQBLChITjbG8Ski8yp+GbNKnn3SMsCbEL6mKuO9dUV6L0rZWwJITxaxlvyMkrN5HDTKiXlaRJSFPDQJ7bsK1s2Lh6Xko2YLc2yem5QpKSICFRlZn0eLxhz2/UVsAFGTF7oew9YlLWULx891YSkrRmdD5FQBFIEgElIUmiWfy5lIQUH+Mk7qAkJAkUSz9HWBJCk0y6odMYMWojT7urvCSEHhkHt23shVWtaXpmuEIY1OafT8iLDsYrCed4MTo3XkperNCLYlPjCYHM5JJ6Jgaqt/F+EBa2bfP6HhlyZa9vJsunCZasvX2dltLPrNcVwsWmmDXONv8lLM32DWFMD0NCcpUhTjsJkoo4QgAAIABJREFUoTv6yxu3lTWW6Z0cnt5fT5JfY4S/KQkp/ZeI3lERUATCI6AkJDxWlTBSSUglaCF4DUpCgjGqxBFhSAjd5unOPn78eK8bev361fPIw+ytGgnB0N/BeCuOMB6Hnln6ZfxmjNAHTGL4IyY5nTKt2WQz4/WAeOxjDPrGTvgUY7nmUa+PyGxhrmxCvxGS2w80IVFtfOVyIQWDJpvSwaY61bdzFobZY6gxJNX/2G3lTH8QdnbO6GkyyOkcfqrJjbjAyY2oqSSEHilPbrA8EX2OwRyv0+cx+7YoCQn1COogRUARKBMCSkLKBHzM2yoJiQlciS9TElJiwBO6XRAJWbRokfTp00c+/vhjGTlypLRp0yb2nTMkpEO92ksONob/oeafPf12Z/1s5gK51xj+L06dk7WjdjPH67Gxz+vBPFST4vonTWlXjFq/kPy9J5W5zP23MV4Pv+B5edBUrXrE/MMzkbSQ/P6uabho5RXTm+ToUVOr3MbfMbymkpAbTfd6ngOEImjHGhxe/WNubMiVhMSGTi9UBBSBEiCgJKQEICd4CyUhCYJZxKmUhBQR3CJOHURCjj32WBk0aJAMGzZM1llnnYJWkiEhY7dceQneAFcImXphyhyvR8hQQ0LyyZBN2sn6JofAL3T5pvv5W+a/2TuELL3iXtOpnLK8fqFXB9c/b9ZBadhiyRZN68mLJv/ByhPGW3Om8YS48o7Z43rOHotNQgptVkjnd5pAWrndNDrMV9GMcfR7IffHChXMKFlciCgJKQQ9vVYRUASKjYCSkGIjnOz8SkKSxbNYsykJKRayxZ03Hwm5+OKL5cYbb5Q333xTtt5664IXkrVj+h/G00A/jwfMv7AlcN2O6XMJmTIeD8jLyJAhU27HdE7fXzaeCMjHJwnmfORDixyIr023dCvkQGxuclasz4X+KXcbouRKTSMhVCF7xvQDsVyU/I9nTOhbLnnQhNSFyRFRElLwe6oTKAKKQBERUBJSRHCLMLWSkCKAWoQplYQUAdQSTJmLhNx1111y+umny+OPPy777bdfIiupQkIgDBAHCAREIopAQsj/INeDfBGITBSBhBCG9diEOV539DDGbZT5w4x1iRTjqQY12BjhJOUfYsKT/J6imkZC9jd9WW5bu2UYqLwxe5vCAGFIopKQ0JDqQEVAESgDAkpCygB6AbdUElIAeCW8VElICcFO8FbZSMgzzzwjBx10kOcFOfXUUxO7W4aE7NiiwRJCp+LKDqaE7/sz5mXNFwkzJ6fwX5rQK6pQlUvoy/Fwp9ZZb09o2oemJ8l2Tr5KpZMQKovd54Rj3fTbTLnul9wNJpWElOvJ0/sqAopAORFQElJO9KPfW0lIdMzKcYWSkHKgXvg9/STk3Xffld12201OO+00uf766wu/gTNDqD4hid6xwiejpPCVazYXOrZbwatz6o9/mIT9unKV+cxKpZOQs1ZtKv1XXZrfAbXb8cuJMipPeJySkAp/OHV5ioAiUBQElIQUBdaiTaokpGjQJjqxkpBE4SzZZC4JmTVrlmy11Vay5557ysCBAxNfg5KQLJASVkaSPQ0SR5mqXl8bD0204DKRSugT8sT6rcV4uLwdUt3qqJFVq30l/jTlmFDDsUqFtN5HEVAE4iCgJCQOauW7RklI+bCPcmclIVHQqpyxloS888470q9fP+nUqZO89957RVmgkpCiwFqdhFBWmIR7pKdp+hc24T/u8vDjfNt1JaF0MtLX9Pn42ISTlUpe69xWOtRb2uCyrWl6aZPdjxg5RV7/I37YX6nWr/dRBBSBFQeBIBJSk5A4s8vj0rBOk1RvKR8JSfXGfItv/cts6XvVN9Lyuvul4Y69Ure1IBKSug3lWXBNeK/s9iwJadeunbRu3Vq+/fbboqlKSUiRoPV7QtzbdDWd5nM1akxqORs2ritvdl7a94Su8nSXL6UM26y95w3yi5KQUmpB76UIKAJhEFiRSMiYB9rL4nnLw43D4FNpY9Y97ndZ5K8UU2mLTGA9loQ83rGbjGixUgIzlnaKlfacKo1WXzEOHWvCe2Wfjvnz58tDDz0kK620kvz000/SoMHSiJpiiJKQYqBq5mxpckpuMk3/sslZpv/I1IjVw6Iuk9yWS9dYmr9C5/dCmg1GvTfjaXhI2WO/3GyS4+n9oqIIKAKKQKUgsCKRkHsP/lzmzVpUKdDHWsdpz2whi1cgEnL25FoyJHe1/FgYluKivS9bT9bYYnkebSnuWa571IT3ymK3ePFigRx8+eWX0rlz56JCqiSkqPDq5IqAIqAIKAKVjsCKREJqQtiIhmNV+hu1dH0ajpUOPflXGdQxPcldKQlJEk2dSxFQBBQBRSB1CCgJSZfKlISkQ19KQtKhJyUh6dSTrloRUAQUAUWgBiCgJCRdSlQSkg59KQlJh56UhKRTT7pqRUARUAQUgRqAgJKQdClRSUg69KUkJB16UhKSTj3pqhUBRUARUARqAAKH3bClrNmllSklXssrSVm3Xt0asKulW5g7d65MmzZNOnTo4P18wkZ3SYM6jVO9v9te75W7Olbt2lK7VZtU7W/JrJmyZG71zPOWv82RXreMTG2J3v+MvkHGzBzu6WLihInSuEljadIk3eWh/Q/WhAkTpEXzFnLaFg+k/r2ye9OckFR9fehiFQFFQBFQBGoCAvXr15ePPvpINttss5qwHW8PgwYNkgMOOECWLFnWqKoG7Gz89h1liSkjmk1qt24n7V/+IlW7nH7N32T2M4/kXHNa+4S4G2rTpo30799fzjvvvFTpJmixzZs3l4cfflj22WefoKGp+VxJSGpUpQtVBBQBRUARqCkIKAlJhyaVhKRDT0pC0qcnVqwkJJ1601UrAoqAIqAIpBgBJSHpUJ6SkHToSUlI+vSkJCSdOsu76hNXbiLdm9aXm0yjvuEhGvWdvHJT2a55/SpzvjBlrjw2cXYgOs3q1JLVGtSRcfMXF70hYuBiQg5oWLuWrGHWPH3RErPu0jXRqldr6X3nmzCFX+YtkijBCvTJWqNBXVlsrv3ZXLs45F4LHdbIYLWy6UTP/UfPXSQLIoRYmEtkFXNtY/OM/DR3obm20NWU5vp29WpLW/PvJ7PfOYvTsejmdWp77+Gv5nmeFrIxKfoZsH7raqCe+9M0GWuesSA5b7Vmsn6junLl2Bnyg9GvSnQElIREx6wcVygJKQfqhd1Tw7EKw6+UV6snpJRoF/leqxqj74Mu7WTSgsWy1RcTQhl+/1qnpdDx3JU7f58ll4+dnnW1GxjD44j2jaVP60bS3hhrViaaew6aNEeu/3VG0Yw3DPnNmtSTHoY0bd2svqxuDC+MqXvGzZKHJ+QmTRjSh7VrLP3aNpI1l13DuiEir/8xVy77ebpMMOtPWlqZLu4HmXsebO69bsO6YuxxT2Yb4/aD6fPlYnPf0TkMuOZm8P5tG8uh7RoZY6+eRwSQuebaT2bOl7+PmS7fzkne+APfQ816tzEYr2PWbMVAJd/NWeAZnW9Nm5cVKvTTp3VDOdxc37VpPWlgSAyy0Fz77bJr385xbdLYM9965lm9fz0SgE2iotHvviMmV7sNn+3QooEcaZ7pHZo3kKbLlAT9GGOM8dsMmX/cEPJi0JEHzdrWNWvMJzf9OlMGT66eRNq5cT05yqx5D4N3G/OcWRlv9jnArPdmcx2EN5dwxa/dV6728S5fTZQRs4OfqwPMc33r2i3labO2k3/4oxjqq/FzKglJh4qVhKRDT+4qlYSkR2dKQtKjq8CVXt+xhRxuDBMIBEQijFgS8vof8+TOcTO9S341xhcGmF+2MIblixu1zTstJ/V7fzNJMIaSFE6oP+nSPmPYunNf+8sMudkYi9mE0/xRXVfKEIBsY6YvWiyHfTdVPjXGfZLy+eYdpIND1PxzzzOE4kRjwL08dW61276zSTvPiM4leBbOHv2HPGWIX5LyN3PCfcYqTfNOmYuk3mEI7b4+Quuf6F+/z/SITCmEk/6dDcFA8Hpt/vmEarc9yXgOL169ed7lQLoO/25K4h6oNzu3kw0b5ychFxmyed/4qu/yjmZPT2TxYrib+N6Q272+mSx/5PGMQDSRpqbCz0OdWnn/H5aE1DPs7SPzPnYwBH/H4ROF+6lEQ0BJSDS8yjVaSUi5kI9/XyUh8bEr9ZVKQkqNeJHux2k/RgEhO5sOG++d8ocRS0IIvzpn9LS8l3Q33of/bNjGm5vT4c+M0f61OTUlfOWQZSf+TPCKMaqPHjU1zO1Dj1nJ7G/YZu298ZzwDp25QLYy6+EkOx8JaWxIyA/dVvK8QoMnzZYPZsz3wtTqm9/3atVQTjHhaBhUPxojapevJgnEICn5eosOgjfkRRPeNsQYssNnLzBegSWyvTlxx9hnbVONkbjDlxM975Ur72/aTtYynohXjafmDUMQWTPhQT3Mns9fvZkQgjPL6GEnc3JNeFdSwrr2Nqfrz5s1g/HY+QsNJuIZy2cacrKxOYFHDh85xVuXK/eu28rzhHDdc1PmeGuGjG5irrnArJlwNOSgb6fIO9Oze1OS2scuxlB/zBjq6BOPTC4ScrrZE6FFPxkMB5pnmjWPNv/f0az1rFWbSjcT2ojgLbvLeNySFEtC0PGnMxZknfptg5M/rHLXlg3k0U6tvWcHrwd44xXDM4l3ZJ9lRDCsl6KleUZHmGcVCUtCGHuqeXfQK0T4tB/VGxL12VASEhWx8oxXElIe3Au5q5KQQtAr7bVKQkqLd9HuZg2C/xoCcEwEAhCFhGxiQnX6GMP9DmOMZYs9v2GtFl7YE7LH15Pk8xA5KWEBaWEMpeM7NJH3Z8wzHosFnnE5dsuVvTClIE/I1cZDdKMJE8sW647Rdo35HIGEhcmFCbvmfxo87jWn2NnCW6yRzFy3Gi/O1cab4wprguh9kQXDLY1h/J+N2ngE7CEThnaeieNPSghHmpmDwDYxn+GhIdeDsKqDjXfAFUgKpBSj2i94st7btL0hT7U8jxOn9MUSngkM/A71awv5TYSX5SIhBxryDCF9wmBN2JgrzPOamYcQRAjf+kPHSUhuH2prloRk83bkmwDyTR7X3eY9zKaru9ZtKX1NuCSynfFSBOVsxCUhhDZ+aA4+CBHk4GNGkuCEQjDdg5SEpEN/SkLSoSd3lUpC0qOziiEhGDick4Y9wQ+CmPh0DJ7JIRM1/fMRGs4p9mRzkhvmbNyOn2LGJxuIFLTTpZ8PMcYhiaLEZ3MCGlaikJCgOTm55wQfSdqgz3bvMCQkaM3Exn9rwrVIsn/QGPTnJ2jQB93b6uxNY9Af5jPog67FI4VnqtgGvX8dl67RXE5YqUlOoz7fuq9as7kca4gkOTHrfjou1HsVhEO2z/9s7nGluddVJuyLd5iQq1wkJGh+CMyNhkwi2xqDHo9ZUhKXhATdn8OCVzdeGjb51+//kP8Yr1Q+iUtCmPP1zm0979jZhsDjlVEJj4CSkPBYlXOkkpByoh/v3kpC4uFWjqvKRkIIJyF0g9CPzc3JLoQBIRfhS3P6S34CYQZBwknmUe2byAiT+IrhS/jEhSZEgNNipuSkkBPl68xJeLZTQxKciQmfuXixFyaytjGkLzLX72ZCHiAynLi/aLwLVxiDxl9NiRyJfcyJY0/jHSApnJNTTky/NmE375rE45t/m1HtdJX91DfzDtygtfffG8y6ciX6MvZOE2dPZaSnTCgRRnI22cgYAW8YY4CDyA3MaW2uk+xs1yZJQsB7TLeVPdxvM7H//yhy7H8SJMQ1pAiZOiQiGQh6PvN9/oBJTCYkjJNqTqyjyM0mKZikdxKuOYUulVBNjfeDSllrfDIu0m2PM+TgCkMOkC5mzcUoBoDH7ENDhDmd72Ew7b9qs4JICN8PzxjCh0AUIYxJSbFICIR6pCHWCB42PG35pBASco7B92wTtva++b7r923xvFtJYV5J8ygJqSRt5F6LkpB06MldpZKQ9OisbCTkr+Y09RJzqppLMP7PMKTi2YBT/dNMCMj5JqabE+FrzB/cx0ystK3K487d24QHDcsS2oIRiDFIcvIeX0/2ch7IcfDL6Sbm+UlfEvBok2tAyddc8q6J5z5u1B/e3H6hMs7u5t7E3h//ffb8CRvuwLWEr+RKnLbGHXHhO5v8giiSJAkhCZtkbORMoztCXIopSZGQL82a0fm/TejUxSYRuFRCkj9ElvClo0ZGy6F53OQ77GTyHj4yOS77ZKn6VKw92OcFjwCegSjC4QA5OITtrP9ZcTwhkBzeB3syzwFDIZ4QwpoIb0J6mIpz5I4kJcUiIVQ1e2+ZR/I4891CTlI+KYSE2PwU8rTwbqWlFHNSOixkHiUhhaBXumuVhJQO66TupCQkKSSLP09ZSQhVeO4bP9t4DeZ5pUoxTjqaP6Bnmd/vaTwkSFCipCUhEIwW5gSQeHXi8PGizDDGP16CEw3h+bPJkwgiIR+b5FDvj6rxOPzPnOyNW7DIq1B0jMkbIP46GwmhXOojZvxIQwCoDMVJ7I4mXhuCRSjIc8YAOCELybDGDcnGnYeO90JU/ILBhuFG4nF3YwDlCguzMeCUyD01YoJokiTkTwa7hw0JDKO3JB7tJEgICf1DlyW8k1ybdLWpXPskGZ7TakgsZY3/aUqqhhVo75cmkZjSrJQnvsQkTZdC9jCk+d+GPEPRo1Rgs2vD+0cZXN6t/Ytwak4Z5LdMWCLfJTubhH08g4WSEHs9OVAbmPc0SbEk5DPzXUWRglVMDgsk5yvjSbUJ53HuR8lt3mtkS/O9EVS4oBAS4h489DIHPdlymOLsYUW4JgkSssSQvxEjRsgnn3wiq6yyinTt2lVat67e/yUXnmPHjpX3339fGjduLD169JC2bfNXPwzSy6BBg+SAAw4Q1lWILFy4UD7//HMZPny4dOrUSTbffHNp0qRJpCmnTJkiDz/8sHdNgwYN5MQTT4x0vR2cJAmZM2eOp6sffvhBNt10U+9fvXpLi30EyYQJE+Sbb76R77//XlZaaSXZZJNNZI011pBaJqIiiky/5m8y+5lHcl7S8rr7peGOvaJM6XW9/uCDD2Ty5MneM7j++utLbVN1L4xMnz5dPvzwQxk3bpyn54022kjq1FlaxCSuJEVCfvvtN+/9QLp16yYdO3aMtaShQ4fKO++841278sory0EHHRRrnubNm3vP9D777BPrensRzx+Yt2zZ0ttXhw5LD4/zyYwZM2TRovyHcDyLLVosDV8OK2UjIYQ9TTBGfrbQIcJ5Xl+WEBpkZFkSgsExy4RUHWBCqvzVZJbmm9TK6pGwnhB8FXxvcnJIcrcrhFm1NgafP3xkUxN7nashoDUECFvZdNiEaqUyKR3LCTxro0xrNo8Pcd3Ed99uQpuIb88lH5vkUHpmxDEMkyIhfA0StkLS7DfGiPqTqTRV7NyYJEiIzVPAyORkP24OUdgXzo6znkBOjnc1BvOoCD0/bJ4C+PbJ4eGLup5s44835J2wyVbmBeA5JMQR4VmFsEU59ab/yIvmeebPUrHyhagYxSEChRnsO1wICeGd/5/xKGCkFyNfKF+JXpLk/2nI6S0mlCrKe8R3538NzvQR4YBk7xAFAAohITwPXy0jxORT5QoZTeJ5rGlzFEpCrrrqKrnxxhtl6tSqXtT9999f/v3vf+c1BjBk9913X/nqq6+qwLrLLrvIU089FYnIuBMUSkIgH6eccoo88sgjMnv2ck86RunZZ58t7Llu3fxlre16LrnkErn88su9HzGMMHbiSBIkhHsfeuih8vrrr8uCBcvDzCF/N998s/zlL3/JuTQM4QsvvNAzPhcbG8cVDP4HHnjAIyRhJUkSMmrUKDn44INl2LBhVYgnJIn1/ulPf8q5LAgwxvhHH31UZV8Yxjy//fr1C7ulauMKJSFvvPGGp5PRo0dXmRuCNHDgQOncuXPotc2dO9fTD+8cstVWW3kEII4USkJ4Vs4//3wZP77qgdpuu+0mjz76aF4ygk791/n3EOc9KxsJCVIAIVYQjKA4fUtCmI/TZE6Vo4glIVxDJZ2/5AiNijInYyEZlIbFOM9VKep2c1rZz5xaZqtoRYnQDwy5QHYzBj15JrnkZ1MlipP1OCf5SZEQGvLdZBJ4Of/ay/QJ4XS32FIoCYFEvrzMMKZTNB6tUgjeOqpMQUCj5s5gGBNqg5eNBo1/K2IiPR4iPEVWINRn/jgta/O8fLhhGL9sQs8gMoQUYhgXdk5a/W6EphGi5k/UL4SE3GLybsg5I++GnJ1sYZWFPC+QEA4x3zF5JnhR+c6gFPLeJgTMNqeMmvD9F0McLzdeWEhMz6/DNR4slITYAgvZqrwVgk9NvzYuCcHLcPrpp8ttt92WE6K1117bO3ldddVVq4359NNPZY899pBJkyZlvR7Pw2uvveadskeVQkgIxtqBBx4ozz//fM7bbr/99p4hD3b5ZMyYMd6puiVocYwjO3+hJOT333+X3XffXb788sucSz7++OPl7rvvrvY5OsKAxUuQS8Di2Wef9XQaRpIiIRCPXr16CR6abMKpOCT5zDPPrPbxt99+Kz179hSISC6BRF566aVhtlRtTCEk5Omnn/YI47x52fP/GjVqJDznvXv3DrU29nDZZZdlxpaLhNxwww3Sv3//nGuGZLz55puy4YYbZn0O27VbWnQon8R5zyqGhGCotKtXxzOmETwJ1O8nrGpPY9TmEpeEkKCLwRBFXBJCYiUJlnGFhFDCsaxzFE8Gf+ApZZqtU7Qt00o8NSFZbolLW3KXE3L6SOQSSqrSjA+hNwc9OqJIEiSEkIw3jVGNgYwhj0FfCimEhFB04EVT5raYhnE2DLyyuubEntA1DM8djW5Jog4rVl/FMozdddxj+n6QK9PW6JXKZxjGrPUGQ/ZpOhhWrNcnimEcdm7Gsa43jEHfyYROkh9DnoyVuCSEsDHCx5CTjKfymQgV58KunWp232XxgOHFoMcJfT/wvm4zfIJX8CJI8IZCbPhOiNIUslAS8px5j/CShek1FLSHFenzuCTkySefrBbOQeiL/5ScE+rHH3+8GqR4O9566628UOcyioP0UwgJwVDzG53Z9nXFFVfIRRddlHMphARtu+228t1332XGxDGO7MWFkpD99ttPnnnmmSrrzbYvyFefPn2qjMt2bbaNr7766vL1119Ls2bNglQkSZGQddZZR3788ccq94N4uKF4POOQL4itK1tssYXnPXHFjwk/E7rG2KgSl4Tw7BAu5XqrsukKcs/zFRQiiKcIEukSmnKQELxNW2+9deAzuN1223mHF/4QvyFDhsjOO+8cqIY471lZSQgx7ZAIYs05cbWnf+5O6cS7fZ4EWEtCOKVc/7PoMdsuCdnMkJionb57tjQN71Zp4pXHJXQlm+BdwcviF/b7hQnJwngnl4OcDiuvmWpXGCNB+QJU5fp0WU5DHBJVKAmhwtfTJgyrq0mwhjD1NoQxSnWuwKc6z4BCSAheG7w3PDe9TEEC8ghKITTAo2IToUz9jMFMyExYsQUIoNlUasJLWCrBsGXdhGghl5o8FPKkgoR+Fo+v38Z7t68YO13u+D34mqA5/Z8f06Gx/GPNFvKaaZ54pGmi6EocEkJTRUKa8DaFbfgXdc1B4928jjBlt8kped6QAXLgqC64l3m2wjbeLJSEQJg4UInaoygIg5r+eVwS4hqm5DpcffXVcswxxwghJOQ9TJy4/NDq559/FgxUKxhOG2ywQebnHXfcUe6//34vVInQGBsy0rRpUyEMKIxR6+qpEBJCHsHIkSO96TAEr7/+es8oHzBggBeiZUkWa5o2bVrWXIhXXnlFTjjhBMET4koc48heXwgJId+BeHu8PMjGG28s//znPz0vDf+95pprMsuEOL333nuZn8ECTKxwEg354pSeE2vImBtOd/vtt8vJJ58c+NokQUI+/vhjL6zICuE81157rZdjQOjYE088kfmMNbE2K/59sW90vdpqq3keg/vuuy8z9rDDDvPChKJKXBJyzz33eM+PlWOPPVYuvvhiz2uI99Hmh/D5vffeK8cdd1zepRGOhufOlXKQkNNOOy3jOYVggPNJJ50k6JH//vTTT5kl8gyiE1f+9a9/ee8gAinbcssts+6bdxMvahQpGwmhAdjzJkQD4wbhD+av8xd5XaERDADCVkjUpCpNLrEkhIZwJLFHFUtCMArX/OT3SGEit5pwjQNMuIYVTqcnmjwXe2a5fqN6nvGV7ySVRnpHm8T3140BdcQyA8oNxQrqTcBJNbklCOVloxqmhZIQWyoWLw6JqUn2UQjSZVwSYkNWMOYxWv2dv4PuG/dznrX7TWI3TzxhVIRThRW6rA8wxh7PE6WPCeMqh9CA8ZBl5K3r5xPyEk6quxHuxrtMrwp6ViQtEP8Pu7TzPJC7Gq8SFeJciUpCCJF7fsO2XlgUIZB9TOhYFE9VUvvjGaH6HpX+KON9Y57CBYylWz3FPKaY3KaeJnyT79KwUigJeWqDNl7zRLxFfNephEMgDgnxG7UQB9fgI/SFHAMrzz33nOy1116Zn8866yy56aabMj8Tm26NScKB/vrXv2Y+u+uuu6oYZGF2FZeEECLmGjYQq/POOy9zS05hOY21Qqy+mySMkcjecxms5SIh5EUcddRRmXXjEbFJxZAqyJYNZ4L4oV97Cg05/POf/5y59oILLvByYqwwF4TUCjkMGNFBkgQJcZ8j1kui81prreXdmhCrNddcM+MR2WabbeR///tfZlnk6RBqZQWPyGabbeb9CLmEtFnPATkYeHiiSlwS4noJIX2//vprpnAABJfwMysY7xjnuYT38pBDDqn2calJCMnkeG5sPgcHD+67BHl037U777yzyvcAG+Bwg+8DZN111xU8PElJWUiICbla8srG7bw/9PRIoGMw4UpuwIHtZB2WhMRt2uaW6I3iSXFPKkkcv8uc8PqTmr8xCZtes7Q84RyEMRDOQLz9JiaBnQRpS6whclezAAAgAElEQVQ40expDPt8glGKMY5QhYtqXFGkEBJC0zqa12HMH22MeU6iSylxSMiO5sSWMs5wX0o6k/hbCuGE+jnjMcLIjRq2QijUS+YZwVjMV9K5VPugJw1yeB4Cx+EChwwcNmDMU2LaHjAkuU5bInaSOQB4OUsoIiWQaabHva2n8RFTOpp3yy8Y8/cZkohnFmMeUj02wZK8UfdNpS/wC/LG2F4dHKQc8t1kr/pYFCmUhNgCGqUucR1lj5U4Ng4JIVmbU3Cq7WC8cTq70047ZbZHQq+b5PzSSy9VyRXAOMQ7gnDy7Mbkz5o1SzCErRCzj+EVReKSELw3hIixJ/5hgFPty8qpp55a5TQdLw0GvBV/3D0Vp0jiJbwGKRcJwSNDeAv6wstEvoFbDYscF+v9oKoZONiqUngQ7rjjjsweXcLIL3kWWrVqJfPnL33fd91112qn7tl0lwQJIcQKr4ANqbIGKvfD6KXKmi0EsMMOO8jbb7+dWQr5IOyZayFdFCFwBSMXUoNQPeyLL76I8gh6Y+OSENYFIWZteK3OPffczL1/+eWXKl5FvAu33HJL1rVBpvA42lweN0yt1CSE0DK8pOyJ5xBi5JLXF198sUoYIO8enlVX3Od0zz33lBdeeCGyTnJdUBYSYoyCJXTaRQi1IuTKLzYxvVJJCKVoievPZSCQZPqjOclE8pEQDB+qW61mTo1tbw0bihW22tV3JieEZo/9zek65YWjSFwSwt4fNBgQgHaZCc25K0RoTpR1hRkblYRQwpUKTWAVp5xxmDVlG9POeKvwCBA6h4GIoRi2shQn/S9t3Ebo/fC5MZz3NWE25TiZt/si/G7Mlkuf61zeHJ4J3g8IAuGN9Oj5LcLJfBScLQmJcg19eSBzfrnAlMMmF4scrf1HTIkUKhfl/mHHvm1ICHkulAanT1E22cfkztHQFIlbdaxQEvKh+f7C61VKUh8Ww0oeF4eEBO2HU05bCpT5ScymAhNCrD7hWzbevUuXLl4ZXFcgIZARhApA+ZKps60lLgnJty8qZkGY7EkuxqG/qpdLQjDmMfY5bbfGb7lISL59QVAoIGDDzLLl8EA0MH75hzfIjdWHTEIqrRA65IYy5bp3EiQk374wUF3vW1AOjzsXZX7xnFihIhoJ1VElLgnJdx+8c3ijrGTL4bGfuaQZ0kFpZspNI6UmIUHYHX744fLYY49lhnEwwfvmCu+ULfJgdUI+EJXq4hSwcOcuCwkxXoQlGL/Ur6eOfTYhvICO6pVKQj4yf3iJHffncti92C7m/ByU2GqNH0KpLjBeofdN9SO8Qt1MuEsY440Gi91Nadw7jTcG4hJF4pAQPFjPmZAVTrujnupHWVvQ2CgkBI/US4YIEOr2sUlc3t+Ucsb7VGwhnGawCVchZ4ZQtd7GI4C3K4zg5SLeniRpngOqrBWjy3iYtdgxJD9DmpFcuQpUZyLkDbIEaYI8FUvImyInK5fgBYF8spZXTFNIhLLfFLxwhSpYVMNCTjGey8FFSESPggFEbrQhe5C+XF3P8fI8bZ4tnjEOATgMiCOFkBDW9705bKGgiFsaOc46VrRrkiIhkAsSeAcPHizXXXddBkZOO/mdFbwCbh8QjFq8Kq6QP4LBixCOkqvyUS5dJUlCIEuQCE7Kbb8P7ks8+9///vcqS7AkhCpU5B9wmo6HqBJJCMTiv//9rxD24uYLUOGqb9++oV8DqqNxGm+FSlSESQVJsUgIIXEY5uS6WJII6cWzEFTSFkMU8oJngfEIZZnfffddr39NVEmShJAvgW7I37FEuH379p63xvUc2jV+9tln0r17d49c4tUi74KwOuvRqRQSAin6z3/+I//4xz8yOUtg7ea9sCe8jm6VPQoF4Omx3io8kuTRkDsTtjeMq8+ykBCTELyExODfjWG1hTG0/UKew6fG0OGPa6WSkGEmGXwlc7KdqzO4NcTYWxAJwainqg3Vg+4zjRYJc8JQ7huyE7aNe6fp44HGuI4iUUmIe6rP/Q41eSisO6pgvFxvngEr/U2HdU6go0hYEkIlrCdNpaOtDVEbY4gvJ/OE28SRi8xpOVXcEEK5gnJg7jBke19zWv2HuR8EJEoC/LUmX+hIky9EZaS9zbNA/5U4QuL2Zk2WlrTEA4Te4grrYV0IoYL+sKYjzOfXmc/RJB6HbAUZwtwbT1sfU6oW+dC8C4+bEKo4EiYnhN42T5nng+fkZqPTa02YXhzh4IF3FyGMi1yOuEKuGTlnyLGm6p0/1AyvGt413kcq4jEm3hMtXpjfCBM6igQ1h/XvhzLXr5h1IHEKe8TFpyZclxQJcZNGLS7EruMNoJyoFRrd4UWwQh8GSIMrhL9Y7wcGBaE+URrHJUlCCCsjvMwVkmNvvfXWaknpGLAQLLcCUKWSEDe0hb2BM2FXbkJ00PMNkcFgtKfreEgIt8G7FSTFIiEkJc+cuTy8mcpRGO8krQeJS34ZC3khpyJuU76kSAghdOutt16V5bNWyKO/4heDIB6QDEukyKVAt+S8VBIJ4XCCfkKukJMFOfY3O3311Ve9EtNBQhI+80YtZlEWEtKtaf0lVHJBiBUnn8MKp78kO9M/A6lUEmK7P79pvBdUKnJlc/OHeZDxTlCxBgkiIYyx8d9U4iRf4YIx0+QB000+jBDDTsIzhu6GEbs6RyEh7qk+uTy9TVWpuL0TyI34fllpYfa4zqfjsnaNz7f/sCTEJs9PN+D2MdW7ojQG9N8fLxU5GggkEbKYS842lbCI1yf06iBT/vmDPGP9c7jJ84Xm21ivIve40Hja7jdEN5vQvf3KNZvLv82puj/Bm/FdzHMNmSNEjCIM3Y0X0w0Nc5Pnc53eh3meGXO6qZpHiW4EAnKWIalxJIiEEEaEh4wKdeRT/dUQp2hUePmq3NCwoHwuGk6SPJ6tdDdeswfXa+2VR4bk7vTlpCpeO94d8osgPeTb0HdldoQyz34cCyEhh5l93GAOE/DUUahAJTwCSZGQc845x+vHYIV6/xhB/h4h5FyQeGslWyKzG87FOHpcMF9YSZKEYLwSy26FE1hCzYLKotrxlUpCCHUh4dkK1a4eeuih0E0YMXTxcnGKbYX+KjTRCyPFICF4Qfx9JEiid8OXcq0NogtZdktMk4uB5yFqN3h7j6RICGTDbbjIeij24C+lbO/rHgiAB9XoyNupNBLi7xnCO0XOUTaPFZ4tQrDCCI0Q8axEkbKQEBLTqeu/nol35kSa08dvTXWrjg3reOSDk8mvzB9XQi0qlYS4J5UvGuNlkAnfwA7o1qyeHN+hiWek2b4hYUiIa3RBRDb/PHzPE4wSKmSRh7K7OZ3O1cU924MRhYQcZE5nMei9P07G6MjnTeD0moIDuSQOCWGtlEK2QqgNQogSVcms0KfEhtswxuYfTTXPWr7wNpKb6emST8KSEAz1b7t28CphUbJ4zLz8JYDRm20FQSgODSghoyRUB3lb9jP5C/nIYFgSAmmmwSYyzIRQjTSVpn4yRjC62sBUesPItj1wsoXegDN4Y8QHeW1cHWXDu1QkxJZqZg3kpuUra0sYF/kZuSQKCcFwx4AHY95XPHQcwPB8/8mU/V5WNDBrxTtbqpl1ENI6zZSZziVUfoMQ5pNCSMhd67aUvsZjhQc33/uedwEr6IdJkZADDjigmkeDk2SMByr4WMEz4nahzhZvj3FFoqoVKhNRoSisJElCOIG2JYPt/THo6JMS5nS9EkkIIWYNGzas1tOFSl/gHgZrt9wquBCXj5fLf2KfS2fFICGEIHXr1q3aLfHWEKIFKcglhPUQPucXvDoUVnALFIR9DpMiIeTYZCvDC3F88MEHqxQZIAmdZHRClRA3wbvSSIi/0IN9jgip8oc6kmtEp3UrZ5xxhlfxDZJFHyIqa1GMAOHZpgSzWxY8SGdlISFmUUsgGo+Y5FUMdb9wIkkXYf5QVyoJYdV4H6iu5Rdi/g8fOVX+bT6nkV8YEkJ+CXkmyDsmXOagmGFVUTtwRyEh9tQz6KHi82w9G9zrSMT/ZNl+IQZbmlPUoHASejdwGh8kYAeGiBsuEnTdOLOOzfOc5qJzKp5htOHdwBPANdmEHBTGhpXVTXloG9bGK/HLsopnYa7f2Hi/8hHCQSZvYFtTQhXJ1TjT+wIxJGSk8U7ZhqHZ7k1oGL1rsvUIsd68MGt2dZRt/GUmr8T2JLnSlCSO0hzRnS/IE3KbIdX7O2W28609qM8J8zAfElSu1pKQXPfDq3m+IfHPZslNsVXpwuAcVFmLOeKSEDyjX5vDD0gqlcS+KGLuT5i9pm1MUiSEcAlCKIg95/TYrXj11FNPZcIu/J4Qwn/cqkbgV0meEEI7SNzmxJ+yw9a4w9AhByYoz6ASSYjNByGhnFAzDFVb3Yo8A07O6bWRS7KdShOehlEZVopBQnjmyAOhIhlrpHywbVpImA/N8nJ5NcizQJ+E05HnQhiW9YrQvZswJreiWJh9JkVCuDcJ2egNz46bL0GehxsuCDGxzUEhX5QltnuuNBJCrhQHFZD8K6+8skpjT3Rge4KANTli4MCBBISQRHZX/ISGEuAQlbBSShJCaWHC6LDlvIgHGhRy4omhSDgEp8VPmZPGweYfJ6oY+PwxpvRjLiEh2ybuDogRN07SKhVmCCuh1G5UoeHdHq0amCo29Uzs/mIvfh0DjZhwOkU3NSfiL5geCdnCW9x74cX4yhitnEZTCSffiWu2Ne5sSs/SR4Kcg23yNHf0XxuFhNBdfHdzShtGCNfK12Xarerzd5NQe2+I6lqQIJ6ZIHlq0mzvZBmBBB7RPnfisjvXDKO/fA34eFbeNeFYCM/paTkqFvE5Bv0pptJSWPmnMewtCeMFOduEcYUVDPRc5W8hNBALniu8E7uaHhL5hEOBHcyztJNJhl/DeCbp1YN8b07s6e79oKm+lot4UVbb5ssErd3VUbaxL5jyvoQl4UXqaryChNLFEUoyUwY7l24JZbQetaD5CZ3K11zS5vAwT7Z8GXd+SCqeE5r8kd9B6BUCxvQ8enjCrJyNU004q+xkrgsj6PylLKWL3WvjkpDdDXYPmoMWvDk7mh4tKtEQSIqEuHf1lxGl2d2IESM8Ywgjke7NVrKF8PC5TSomFwQDOUqyaZKeEHdf/jKieH/wiOSTSiQh/vVi2Lrd3/NVkiJen/KobtgSoXg0+osixSAh/vsfccQRVXq2QCjdsrD51us3avFGcBofRSA0YOP2v4hyfa6x/veDdwsPlBu2xXtDOKTtfcJclUZC3P1RDQ+8bENNyDDJ+G4+WT7sKPvbtWvXzJCg/in+uUpFQshXImcM4pUhIUk8FDVlDpvQS2z3pqZzOyfOUQQThpNoSnruY3IVPgqZfxCFhERZT9BYcg/+bMLW8Bp1NR6FqPsNmr8Yn9Okj2Z9aGaXLI3xinHPQueEONLHAQnTebvQ+yVxPSfso0woG4nihVR9SmItUeagfwp5GnEKRES5T9Jj45KQB5Z5guOWBk56H2mbrxgkBAwIiyE8xgoGBSfvVLqiEZwVYt3xorhCHgnVcBByQcgJiSLFIiEYSBhKtnww3gJbMjTX+tJAQvzEkDXjsfILhhMeBdt7g8/p90Bp1ah5E6UgIfY5sPugCSbVwMKIPw8jW+nioHmKRUIgjG7DSNvQkzBHwh0R3mvbuNF9B20DRjx5trTyyy+/XG1svr3haaJSXNyE/Vxz+8Mw/T1p8q0JD6XrvSOJHcIcVkpBQgiD5PuOQg58bygJyaId2xOgkP4Ve5uSxneb0sZUyznaVMsJI5aE0GhxzNyl3gNCOIjxLqbYBmdUmKK/QBrkRkNASCgmzp5GfWmQYw3Ru8oQPpKgtzZkL04ls1Lvc3kDz/whb6VeV7774UH61nicOAzIF/JWKWvmSxhvE4K3zIY5hq2ORd8avIK/Go/jNsMnhO57Uyn7r4R1FEpC8FIQpuI3Qv0nySRzU5GJuG3G2zAZyAphMK5w+mlPRDfffHOvuVkUSYKEcH8MNb/4q0rR6C5fJZ5KIyG59oVhOWPG0r+BhJ/Z0qd2/5zgEt7j9kbZY489vDC1qGFKzJk0CcG4JrTHFRLv3V4TvXv3rpJrZMdmw4T9unr1d1wP8zwWSkJ4RzBceUdd8XvkbBd7SIFbKCDMGhmDJ4U8krBSKAmh5w7fF/6Kd36PHF5GvI1hxJIIOxZCQx5QWCk2CUGXEHaIEYUu+N5TEuJoh/j7o0y40BXGUESCYuXzKRZg3zTeEJJbtzMhWUEJzcxlSYg7b5x+I2EfOMYRGkSDxUXm4aBPDEn8aZB3DLYUU9jPeJqiVLoq595sieCwIW/lXKu998kmjI1SyPma9FXCOt01EPb1hAmHpFrVbgEhb5WwdsjSr92Xd5y2awpLQq43ZZgPN+F36gWJr804JISTUyphcTJOHD5/7DHwXKGKlO1kze9pKmZPZvFu2F4HNBmjYZ4V4t7dylNRjQnmiUtC7r33Xq8fCPvCYzN69Ogqya0Yq8T5s0YkTPPBSiAhVAuiFwv7Qt/ojERyK5zMumV1t91220wHdTvGX3hgu+228zxYYcNl/E9ooSSEcDDyH+h8DmGiJK3b74T7YcQedNBBmVsff/zxcvfdd3s/k0tBk0yu5Rm0ZYbtYH9J2CiVv+wccUgIHkA8NuiKd4Y1k2/jCqSDpoVWKL9LGd5KJiEcNJBwzr5439GDP7yN7xC+W6yQ+wLxxfN47bXXes8toZ7kYZHz4Qq65MDCCvkg/jH+Z9D9udgkhN457JkcHb7/6GuiJMRogNKgd6zTSmj+Rq1/hGaFlPstxCQnB6Kt6WNBsjfVoIKEeHTCMVzBK5Ir7j9ovjCfEw+/l/HaUGGLBPY0CA/tYcbomm/C5aLm65RzfzT8JN8KD1shZVxLuYdtTBI9+TeUv6b6UxpkA0NOyU+jqpi/d0qlrj9bLkxQhTC7F8g4vX6+m7MgFd61StRBHBLy3nvveV4NK/6GhP4TaE6UCZew3hKMLGsMMof1kvD/kIAjjzwyM3ecWPy4JISwFow5K5dffrlnOFmhShL5EFYwxGlkl08qgYT48QYft0IZ5UwvvPDCzDZcY51f+rt0Y0SRIOzv5RDl+S6UhHAvYutJNkd4tqiI5Fa44jniebJCA8mTTz7Z+9Ef+kNBBULNrPirf5E47WIUZq9xSAieQoiuLYAAxhAT18vj9tFhHbyPEMe//e1vmcaY2dZH7x1LoGlwaPv1UFbZ7XoftLc4nhDCMd3wML9niXWxb+sBRZ9gYL1RJKPbsEw8bxAZDHkrEG0KYlghXIycoLBSTBLCgQ3PDv1q6J1EBTMlIcs0g9FCDgdCjsH70+fLUaOmpCI3IuzDpeMUAUVAEVAEsiMQh4QQToHBQCgSglHQv39/rxQvn1Hx6pVXXsnckNNoqg1ZweDj5NrKDjvs4JXfxBAgZAFjEsHYwfBo3LhxJPXFJSG2ao29GXsk/v7oo4/2vCJU5KEMrRWM86Ck40ogIVQn4yTfCuFWlECFiHAyi7E2ceLyog5u13R0TBlUWz2LOTBYc4XvUEkqzAl0EiQEw87tBwEpgTRSXY1nAPJljVqec0LJbAlhvAunn356BhOStsGEXALCnTilt00PKYrAST7evSgSh4QwP6Seyl5W+BmCQUUlKrRddtllmc8wznluw7wj5U5MX2eddTzvjhXwJ2yTtVOq21b14nN0OGTIkMxYP6HEa8L7ByFDXzzflmBh4PO++sPz8umuWCSEPVFKmFwkvG+IkhBHE01NIPZ2pgLRQhOSNGzmAsH7oKIIKAKKgCKwYiAQh4SATLYO6dkQg0gQc+7vs+BW+MmFdNQKN3aeuCSE67N1SM+2PnppEG7mj9f3j60EEsLpOkTPLe2aC3NCelwDGPIIMQwrkEsSioMkCRIyefJkzwi1RQzy3fPSSy+VSy65JDMEg5XwHUt4811LqVhKxkaVuCQELxOVnmwSeb77+r1a+caWm4TwXIWpTsY7xbvl9qsBEzxVc+ZU7ZHFQQHPgSv+8r5h9FYMEkJ4IGQJL41LHJWEhNGIjlEEFAFFQBGo8QjEJSEAs9dee8kLL7yQEyMSu2mm5sbl28Ekm5PYTO5FNiGshgRO4vWjSiEkhNNvkkbplZFLKB/Kvt3wnVxjK4GEsDZOhlmv32Bz140XA8zdMBeqQoXtgs5cpSQh3A9DjxA511Pj1wUVidCXnzDikUM/fsPWvb579+7y2muveV65qBKXhHAfDGlCwvJJlGpfzFNuEsIaCIcjhyWXkKuEt8eGzbnj7rnnHs/Lmk/ihM0xX9IkBBJFyBkEnj48rigJifom6XhFQBFQBBSBGolAISSEE/ZbbrnFC4GxoRAWJDwdAwYMyNvMj6RgTt7diktcT3w7p6aEAcWRQkgI9yMRlj0RsmO7MNt1ENMNsXLLDOdbY6WQENZIMQBO9cHHL3iAMP7csB4Me3Rgw+7C6KLUJIQ1cUpOR3G/B4YwQfJ6CGXKVUKYRGlyYPwliancxHWcYLtJ/GEwsGMKISHMQTEBjG7W6AqlaMlfykbu862vEkgI6yNP58wzz6xGiAkTfPTRR71k9FwCJpAvQtBcgTgTOon3NI4kSUIIOeMgA28WBNYvSkLiaEivUQQUAUVAEahxCBRCQiwYeA8wBAm7atWqlVdpqWPHjqGxIpGd5Fo8J5w8uyfxoSdxBhZKQuxUU6ZM8QgSITt4ZNhXWPLhzmFP6cktwIsSR8Zv31GWGFKQTWq3biftX/4i9LSEL7Gvn3/+2cuRYF/ZOqRDwNxckTA34HkKk7CeRDiWux5KoGL88RxOmjTJI78Q4bDVu0ic5loMRMKACPNyq7SF2bt/TKEkhPnIseL5Q188R+gKj1UcYoQXjJK/SFg9Zdt3nMR0/zzk6pBfBeYQX/ZFzkiYfjPsAU8lldEIWYO0QGAKkaRICO8L5IP3yV9xza5PSUghmtJrFQFFQBFQBGoMAkmQkEoDIykSUkn7SpKEVMK+kiYhlbCnYpCQStxXEiSk0vaVBAnBg0oIFo0IIcS5iKKSkErTvq5HEVAEFAFFoCwIKAkpC+yRb6okJDJkZb8gCU9I2TeRZQFKQqqDgseKymp4Pwifo4dQLlESUolPta5JEVAEFAFFoOQIKAkpOeSxbqgkJBZsZb1ISUhZ4Y9080I8IYQCUr6b4gf0YgkqpqEkJJJqdLAioAgoAopATUVASUg6NKskJB16clepJCQ9OiuEhJx77rleyXKarpIPEiRKQoIQ0s8VAUVAEVAEVggElISkQ81KQtKhJyUh6dMTK45LQqgoR8PSwYMHe6Wiw4iSkDAo6RhFQBFQBBSBGo+AkpB0qFhJSDr0pCQkfXqKS0Lon3PEEUd4PV2C+pe4qCgJSeczoqtWBBQBRUARSBgBJSEJA1qk6ZSEFAnYIk6r4VhFBDfhqaN6QugrQ88gQrGuuOKKSKtREhIJLh2sCCgCioAiUFMRUBKSDs0qCUmHntQTkj49RfWEfPHFF14p3n79+snDDz8cecNKQiJDphcoAoqAIqAI1EQElISkQ6tKQtKhJyUh6dNTFBJCU0u6odPMku7tcURJSBzU9BpFQBFQBBSBGoeAkpB0qFRJSDr0pCQkfXoKS0ImTZokW265pTRp0sTrYB9XlITERU6vUwQUAUVAEahRCCgJSYc6lYSkQ09KQtKnpzAkZPbs2bLtttsKRIRu6PXq1Yu9USUhsaHTCxUBRUARUARqEgJKQtKhTSUh6dCTkpD06SmIhNANvXfv3jJ06FAZNWqUtGrVqqBNKgkpCD69WBFQBBQBRaCmIKAkJB2aVBKSDj0pCUmfnoJIyFFHHSXPPPOMDB8+XDp27FjwBpWEFAyhTqAIKAKKgCJQExBQEpIOLSoJSYeelISkT0/5SMgFF1wgNCQcMmSIdO/ePZHNKQlJBEadRBFQBBQBRSDtCCgJSYcGlYSkQ09KQtKnp1wk5Pbbb5ezzz5bnnzySenbt29iG1MSkhiUOpEioAgoAopAmhFQEpIO7SkJSYeelISkT0/ZSMigQYPk0EMP9bwgJ510UqKbUhKSKJw6mSKgCCgCikDaENju8LWl7RpNpXbt2rLvfvtJ2zZt0raFnOules1rr70mJ5xwgjdmt9WOk7q166d6f34SMnaTFjJ2k5benmo1aCiNeh+Qqv3N//wjWTh6pLfmJlPnS5eXf6+y/pbX3S8Nd+yVqj35F6sd09OjPrdj+pgxY6Rnz55y5plnyjXXXJP4JpSEJA6pTqgIKAKKgCKQJgT+cs82slbXmkM88mF/ZpfHpWGdJmlST7W1+knIsD6ryOd7rpLqPdnFt/5ltvS96hslISnRZvPmzb1O4fvss09KVhy8TEtCnnvuOTn44IO98KsBAwYEXxhjhJKQGKDpJYqAIqAIKAI1BwElIenSpZKQdOjr/d9Gy81Dh3iLnThxgjQ2je2aNE43AfYjP8Hsq4UhIg2MB66myOIli2XihIlSq1YtqTVkqLz18MCibU1JSNGg1YkVAUVAEVAE0oDAikRC3rhwhiycsyQNasm5xkfmjJJ6snwPNd0TcmP9VeSTOk1Tp7PanVaXOrtvnbp164KXI3Bpjz1k21XWLhokSkKKBq1OrAgoAoqAIpAGBFYkEvLCWRNkwezFaVBLzjUOrvXrCkVC/rGkjXwojVKns3obriWN994hdevWBSsJ0WdAEVAEFAFFQBEoCQIrEgnRnJCSPFKxb1KTckLeGjvq/+2dBbwUVfvHH/rS3d2NNNIhXSKCCqgYiCCIhIoYKK+BAQZioGCgoCIqIqE0SCvdIF3Scel8z+9cz97ZuTM7M7uzd3cuz/P5vP+/sGdmznnO7PJ8z1P0xspZPl2kS3WeCmbeG7RuovnCHSdK042bKaJ5ikHNjT0hQamNL2INsAZYA6wB1oA9DTCE2NNTtIzinJBo2YnA89BDSNaYk1Ql71/emLzDWS7aewddu00FaLUAACAASURBVJHS4VXRP5whJPr3iGfIGmANsAZYAx7WAEOItzaPIcQb+8UQ4o19CjRLhhDv7yGvgDXAGmANsAaiWANWENK84OOUMZU3SvjO2j+GYq+eMNX2rRiOVSVHKyqWqUpUvIGXrp+n6Xs/MJ1LUg7HYk9IVLyCjibBEOJIXTyYNcAaYA2wBlgDzjRgBSE9y31M2WMKOLtphEZ/trk3nbh0kCFEo4GWhXoTQCQa5PzVUzRqQ3eGkGjYDBfnsGx/MxGOlcrFOybOra6Lcrw3bppXy2MISZx94KewBlgDrAHWwC2qAYYQb22803AshpDI7O+tFI7lVQ/jB2sW0LRdm0xfEIaQyHx3+KmsAdYAa4A1cItogCHEWxvNEOKN/WIIif59YgiJ/j3iGbIGWAOsAdZAEtYAQ4i3NpchxBv7xRAS/fvEEBL9e8QzZA2wBlgDrIEkrAGGEG9tLkOIN/bLKYQUyFCOauXqEJWLS6oFHxhCovJ140mxBlgDrAHWwK2iAYYQb+00Q4g39ssphJTNWp86FH0mKheXVAs+MIRE5evGk2INsAZYA6yBW0UDDCHe2mmGEG/sF0NI9O8TQ0j07xHPkDXAGmANsAaSsAYYQry1uQwh3tgvhpDo3yeGkOjfI54ha4A1wBpgDSRhDTCEeGtzGUK8sV8MIdG/Twwh0b9HPEPWAGuANcAaSMIaYAjx1uYyhHhjvxhCon+fGEKif494hqwB1gBrgDWQhDXAEOKtzWUI8cZ+MYRE/z4xhET/HgU1w0w5Y+jpqXcYXjuyw1w6c+SS6X2Tp0hG+cpkpqx501FGcZ9zJy/TiX3n6MjOWLp25UZQ80nsizLliqHcxTJSljxpKUWq5HR833k6tuecWPfFxJ5KRJ6XLBlRnpKZKFv+dJQpd1q6FHtV6uCo2MPLF65Zzild5tT03O/NDMeNuHMunT1q/v5Y3pwHsAZYA34aYAjx1gvBEOKN/WIIif59YgiJ/j0KaoaAEDMj8q3WcwyNcRjsTXuXprIN8lDaTKkSPDf2+CX6Y/RWWjNtP928GdS0wn5RzY6FqXqHQlSgfBbDZ63/4yD9PmoLnf43acJImvQpqcWTZalcozyEd0Avl89fo3mfb6el3++m61fNgRIQ8uK8FoY6fKv17IAQG/ZN5gewBpKYBsIJIa+//jodO3ZMauyuu+6ihg0bmmrv4sWL9Pfff9PSpUspXbp0VLt2bapcuTKlTJnStsYTo5To5cuX6aWXXqIrV67IefXt25dKlChhOccDBw7QiBEj5Li0adPS8OHDLa8xGhAuCNm/fz+NHDnS90jMD/M0E+zVxo0b6Z9//qE8efJQxYoVqXr16pQ+fXrTa85fPUWjNnQ3/TzbgQt05+ub/T7P8vYXFNOwZVC6wkXLly+n77//Xl6fLVs2Gjp0aMB7bd++nRYtWkSHDh2iKlWqUM2aNSl37tyOnx9uCPnpp5/ozz//lPMqW7YsPf7447bnOHv2bJo+fbocX6RIEerfv3/AaxPje6Um8Mknn9C2bdvkH5s2bUpt27Y1nNvu3bsJ38VAkiJFCipZsqTpEIYQ26+MtwbqIWTTvMO+E/DpIzfRxbNXEyyoVN1c9NCoWpYL/XP8Tpr5gf+PlOVFiTSgz7cNKH/ZzAGfhrV/cM8COnss6Z3mZy+Ungb90sRS25vm/0sTnv7LdFzqdCmp/eAK8vM04r/LN8nrG8sQYqleHsAacKSBcEHIpEmT6N577/XN5b333jM1dlauXCmNDQUs6qLSpUvT77//Lg0lO5IYxtKwYcPolVde8U1n/vz51KhRI8vpPfXUUzRq1Cg5LnPmzHT69GnLa4wGhAtCAIlTpkzxPfLUqVOUJUvCA7XNmzcT1jJnzpwE0ytYsCB9/vnn1KKF8SFSYkMIQLFSpUo+o7Zw4cK0Z88eQ70DqNq3b08wbrWSKlUqCYyDBg1ytF/hhJCDBw9SmTJl6Ny5c3JO0De+J3bkzJkz8tp///1XDq9Vq5YEtUCSGN8rPB/zqFOnjjhojjtpHjx4ML355puGU8uRIwedOHEi4LytvmcMIXbeGA+O0UPIyLvmiZCq8wFXooeQkwcv0MkD5ylnkYyUOXf8qfrNGzdp7OPLaPfqwC9fJNSmhZArIuzo0PazlFKEY+UtnYlSpEzum9KO5cfoyz6Bv/SRmH+oz9RDCMKmju6Opaz50lH2gv6nY5NfWUurf9tv+chsBdLT07/Ggw1DiKXKeABrwJEGwgEhsbGx0tDBabISMwiZN28etWvXji5cuGA4b5yyYwxOe60k3MYSTv0rVKjgdwJrB0LWrl0rjSt4eyBWxlGgdYYDQqZNmyb3QCtGELJv3z667bbbLAFq/Pjx9MADDyRYRmJDCDxxL774om8eZhCyePFiuf5AYPjII4/QuHHjrF5B3+fhhJDOnTvT5MmTfc9yAiHw3H300Ue+a6MFQq5fv07VqlWjdevW+eZmBiEAqLx54w8nzTbF6nvGEGL7dfbWwGAh5N7XqtLib3fSisl76cKZOFd38uTJqM2g8lT7vqI+JSz/cQ9NfXND1CkFEIJ5zx+7nfauO0UAJkju4hmp59i6fmFmrzb+3dAjFHWLcjAhQEi/7xrK/VsycZdf2F3dbsWozcDyvrvZBTGGEAcbwENZA0FoIBwQgvCODz74wG82ZhBy++2304oVK3xjEYqFE+xr1+Lzx7p160bffvut5erCDSEw9mbNmuU3DysI2blzJ9WrV8938oyLrYyjQAt1G0IAf+XLl0/gIdBDCE6n4fFBqJJWsBacrmsle/bstHXrVsJptVYSE0Lg0cC6FPhhHmYQAmBWIUAYhxBAhJXp1zV37lxq0sTa2497hAtC4PFo1aqVn17tQghC6AAdN27Eh0NHC4Tg92HgwIF+6zKDEHjhmjUzzhvVv5uBwDJqIEQYRzeX/rCbTonT92Ckaa/StFmEmBza5v9FtHuvOl2KicTrs7Rz5XG7l4R1XMYcMeL0Oi1lzJ5GPkd6JcT/ENNvR4KBkAzZ0tDVS9cNE5dTpk5OL8xtIUNzIPCCfP7YUjtTSdQxOO0/sd/Y49O4R0lq1ruMbz6YfzR6c0JRGMKoUsekkMUEjKT/j40ol0jYhyAc7c2Wsy0fxxBiqSIewBoISQNuQwhO/ZEbgJNNrRhByJo1a6hq1aq+YQiHwSn6+fPnpaG1fv16+VmaNGkIISgwbgNJOCHkhx9+oPvuuy/B480gBEb7Z599JkNK9MZsNEHIkCFDDENe9BCyYcMGGdqkBCFyAE2E0cG4ffrpp305Chjz7rvv0oABA/z0lZgQgnmpvAc1CSMIwck7co+UdOjQQa4LAIVQoFdffdX32d133+3ngQj0LoYDQi5duiQ9cQBbrdiBEIAH8ltWrVrld200QAjypeDpVOFlaoJmEIL9UXksAMY2bdoYbgVAcsKECabbFDUQ8saqdjdxar154RFaKk5wnRqHA39uQjkKp6fdq07IE+Ati474TsHt/Otw/8gaMpn333/O0tLvdtPaGQciUgmqjvA2VGlTgPKXM06sXvf7QZrx7iaKPRE4GSgYCLHSk9aAPbztLH3YdWHAS1ChKocmBAhzRoUqu4Lk+LyiwpOSSwLADm0NDjJxj0ot8tN9b8T/Yzu+/0ra+ucRu9MJahyqjMWIZHElh3ecdeR9yVE4A2XKEQeikBMiPC5QZTOrST7wbg0q2zCPHIYqWcPqz7S6hBhCLFXEA1gDIWnATQiB4Y2wI6MYcyMI6dmzp8whgCQTZfVg6OL0GjJx4kSCB0QJkrqt4vLDBSFnz56V4WWHDx9OoGsjCEHYFsJ3VOKw/qJogRDkd8AAv3o1YZ6mHkI+/vhj6tOnj28pMM61oU76E/qHHnqIvvzyS7+lJxaE/PLLL9SxY8cEe2UEIXoIQ2K6SmaGFyVXrlw+4xgFCHbs2GHr+xYOCHn55Zfpf//7X4Ln24GQ0aNH05NPPpng2miAkE6dOhES7fViBiGPPfYYjR07Vg7H93LLli229kQ/KKogRDs5eDQAE+v/OBSwio+6RkGI+jM8KvCs/D1lny3vgYIQdf35U1do5U97CWFHqAqVWIKKRKhMFEgwnxHt59HVy/6nXNpr3IYQeEJeXtRKlruFAIZ+eGF1wHnCu9T26fjwn9Wiqtbkl9faVmWJWjnpkY9v940/sOk0ffxgXCWKYAReEHhDlIxoP1d6l8Ipvb+uRwUrZPU94su+y2nHsrhKNXak0yuVqWq7gr6hKCqA70WwgtwOQAXErj4ZQoLVNl/HGrCnATchBCf/qkpP6tSpfRWkMBMjCMmXL5/PsMfJujYpGCFZ8IAoady4scwNCSThghBtUrl+XUYQgsR1JLAryZgxI2XIkMG31miBEFQrU+FV+nXpIeSFF16gTz/9lE6ePCmXBY8X8kOUYL8yZcrky5e54447EiSvJwaEwIuGU3VU+4Jo12UEIUeOHKHVq1fLXATkMiGPRAmgGu8lcmEgdgx2da3bEAL4QQUyVREKCfMKHq0gBDkUKPIAmNbrxM6awvW9wlxmzJjh82To30EzCEHlPHXQceedd/oVVLD3qxc3Kmog5KlJjW4ibl8vCCtZIUAAMe5mISa4pts71f0q+Kj74LR31dT90ruBJGszad63DDXoXkLmP2jl+rUbtGHWIWn4HdwS/Cm83U1REHLl4nXpNTi+9xwBAIrXyEExGePL5k57Z6Mss2ombkMIvEQANSXIBwGgBZJogpBkYl/7TmhAeUvFeVYQioRSxSpnxO7+OB0XTRCSp0Qm6vdDfHnOJRN20XThVbMShhArDfHnrIHQNOAWhKCyFU4llZH63HPP+YX56CEE4SEwOlTYFsKy9KEiMGphGEJgWOLkPpCEw1iCgYowFswzefLk0hvzzjvv+KZhBSFFixalqVOnylK+CxfGefCjAUK+/vprgrcCgipYXbp0IZRHVWJWHQtGPoxyfaEAeBBg6CoBjAJatJIYEPLMM8/4SiHDaC9UqJAvLCtQdSyj90qfewDPjzY8K9C76DaENG/enFBaF4KwwGXLltHevXvln60gBHuryhS3bNlSwrBKAI8khMDTBM+nOnyAV0pbutoMQrS/CxgD4F+yZInM5UEoKPLK7EjUQIiY7M1Ct2Wjmh0LUcVm+ShVmhR+80eTPPR4AAwcFhWPjASx7jXuKkRV2xZM0OcCxiZCb5ZM3E27/jbO+0AFqOp3FpJ9JjKLBm962bP2pAwVQ+7Jjf8Snu0o2ckYGMqrpx0QHpy9BBBRggaCg6Y0kVWOIFbhUG5CCPIMEIqFPiIQhAOh4aFV48JogpC6XUVStkiuV/Lr8PUSbMMt0QIhgLBeX9SlghXjvDLI/Rlx5zxbXj6GkHC/JXz/W10DbkHIww8/TF999ZVUZ926dWWYVbly5Xzq1UPI0aNH/fovoCeAMrLURTAa1Sk0ejxYleR0G0IASkic/+uvuJLiTzzxBNWvX18a7ErMIATGFHTy2muvyfwCJHVHC4QAFAGMqiQyQnXw31rvjRmEmH1f3n77bZn/ouTDDz+U4KWVcEMIyuyitweKGiC8D14ehPH9+uuvchp2IQQ5FwjpwjsMuIIgvwCGP8DGjrgJIdp8JHjVkPSPsEc7EILvFAAGAs8idITwp2iAEECd8jwh1A25Rdqy0EYQgt8D7KMSQD68Waq6HkAEldlQASxQnxtcH1UQohaEE/8qrQtQDQEkOL3Vyy6R94EKTltF3oeRwHNQoWk+ATSFqUiVbAmG/Cvi8gEza4SxbwQTMNhK1cklgah0/dwJvCOnD1+UXoiVP+3xAwU7XwqrMXi22em8NrEaFaBea/KH6e3chJAOL1SSulRit7RrtEAI8ioAd6nTxoHt8b3nZZ8QeLnCLdECIfUfLE6tnoo3RuaP20GzP95qa/kMIbbUxINYA0FrwA0IQe5DgwYN5BzQIAzeA3g5tKflegjRJzqj7Ch6i2gF+QrKWIJRiVAUhKGYidsQos2DyJkzpzRIkftgBSEo+YoTePxPSTRBiDYXBx4oQBZyDYKFkOPHj0tvkTrRhiGIOH19E8dwQghCp/AOQvcQlZOCRHOnEIKy0DBslWTNmlWGDQFI7YpbEKLPR0JDSVSRQpiYFYTg+wJoUnksaLKJfdZ+ryLlCQFIIZxPNf2cOXOmBHUtOBhBiDZ8K9BeAEYBYIGKWUQlhGgXhZNbGMCVmgvviKj6o8TKCFfjchbJIK+v0rZAglyLN5rNChjihXsgubp6e+EdER4W5QlQ9/68p6iuJIDIbcFzkJyeRXg9Movnp0UYlogSQ/Uq5QnBM4fWnm7qjXALQmp1KkJ3Dok/dUCOzc+vxteQDrT2Cnfkpdr3xpf13b70KC386h/b6kJyfuv+8Ybz0d3nCB4MJ4Lk9ie+rk8oXQu5dO4qffrQYtE7w36CvJPn6cdCd7mKxocZoskjcjHsSsOHSkggVrJs0m7aOCdhYmag++H6Bz+o6YPpf1Yco6+eXEE3rttre88QYne3eBxrIDgNhAohiEvHP/ibNsWFVyJ/4v3335entYEgRB/qYhS+gzyQBQsW+BaGKjr58+c3XaibEAIjFN4CVeITSdYwbBHWYgUhRhOMFgjBaT48VTDaEV6GPwMg9Hksdj0hqNiEsrW4jxKjvcRn4YQQ7A+KAUAADSi5C3B0CiFYD8J5VMM83A8enbfeest2mA+ucQtCtPlICF1CLg4gzw6EaBtrYjzCGWHkRwOE4J2BFxGiqo5B91YQove44XocUODQQ99BHZ5LbU8U/fcy6iFETRiGOXISUG0IYhdC1PUxGVLRPa9VoTLCs6HEDoSosWh013pgOT+j2m0IEXtI7QZXlCFl2sZ6Zr/2b7edQ/DKGIkbEFKseg6ZGI5QMMjOv47TV31XJIoHwWzNTv4e837ow1qEBHcIjG4Y3zDCbxUBhMMbg/cfAvj69OHFdCk2YSUWM50whNwqbwuvM1IaCBVCtEYBTpBh/CFm2wpCfv75Z2l8KEGuBUJntKIvswojKlDTQjch5P777/eV90ToC07YYex4GUL0DeHgERkzZoxUeTAQgnC1e+65x6+yEQx4VAczaiYXLghBeBnyUeCRgcCD1bt3b/nfTiFEn9ui3kesByfrqnqb1ffVDQhBCesaNWr48qYA5CgmALGCEH1jTXiDUAIbEmkIQc8f1cwSYW74rShQoADZgZAHH3yQvvnmG7kOwBh+M3AvhKn9+OOPhMpZ2tAslPk2+82Iegi5lTwhSIxv2c+6I6364iGm3yzZPlQIgeHZ55v6vtwaJMh/3N2Z8Wr1AxHuz9sLoLv9niK+x0x5fT2t/Dn8eSDhXpfd+0sv0HjhBfqvTDIqvn3S/U/HFcEYQuxqnMexBoLTQCgQgvhs5H0gWRkC4wDGO8QKQpAfAe+AEhgPqK6lFeRfqPAa/D3ySHC6bSZuQQiqcKG6EwThZUiYV5WgvAwh6N2hyhwjTwXAiFwbSDAQgrAghNkpAaQhpA45B0YSLgjRlmxFYjKaX8LLA3EKIfB8weMG/SCvZdSoUb4SvQAR5ItY5RrguaFCCAAP8KsaeeobdlpBiLaxJvpoTJs2zbclkYQQ6BfAiO8yBIcYKCYAsQMhAAyAIn5fsB8KytTiEHKGPCwl2vvr38lIQ4jqk4Sjdl9sSKCcEOG9FCVOj4qckF2mJ9pWOSEIh5Hlf0XVK6P8C6uckBP7ztOS73bRql/3ByyTa/orbfABvCAogYskcCXIWflLJKifPXaZrl68RjVFaNQdPUv5Pg8XhKQRfS16ixCmXEUzyGedPw3jdXHA6mJO1poYY2t1KizCyOKbOiGHaMZ7gau6JMa8EusZ8AI9PPp2Kl4zrlsuigiM7bWM9q2LK+3oRBhCnGiLx7IGnGsgFAi56667fOUxEY+vEq8xCysIQc6ANnEdhitOMrWCU2dVEQunnogfh6FrJm5ACJ6Bpnyqg3a/fv38ur97FUL0DeHGjRvnC1+CPp1CCIoQIPFeK1a9XMIBIfrwMhjtABElTiFE/24hLwGGrBJAiVG/Df11oUIIPFS9evWSt4VnEe8jPI1KAkGINpE9JiZGhkoWK1bMd20kIQQeKlU1Dd9/hJepPC87EGL1C4fEe23xAK23T39tJCEEZZOrVasmYUxCSKDqWKjmg6pRS4Xxb9bwLlB1LITibJp3WMLHvvWnDHVoVR0LYTyorrV9iWiEaC+c3mqvfJ8j3OzZ6U19f8YcETajFdFVnup2i3+JwwEhKFH84Ps1qVTduDwE9CIZB+PVRGe2F5iIA/VhZBvmHKLvh6wOezneRFyi5aOQi4J8HghAG+uHHoIRhpBgtMbXsAbsayBYCEH8NQwcJYAEeA2UIKZeJZ3i79Tn8CjAUETojNarYdRXAied+McaglwQGNKBxA0Iwdy0CcgwkNSpOp6NE2ptcz/1OUJCVONFozlGOidEa9RiftoeLPgzKkppu9yrz3GqjG7oWkEVI3ipYDQq0cOakQ7CASHoyo4cJCX6dWGvsGf6z3/77Tdq1qyZ5RcFnjisVYlRAQWjm4QKIdp8KLx/+oIM2vwH7edIVge8TJkyRU5L5Uto54jvpcp50X6O0KVSpeIPm9U1bnyv1L2Qr6PyrPB7gd8FrWjXpT4HfO3Zs8dyrzAAXln05FFi9LuiPosUhKDsOAoCQA8ol5zMrE/ImSMXafmkPTKM5uJZ8zh2sz4huOavX/bSsh/2iNKyxvkTUIZZnxCcIK8R3dNRmvfIzrha6eEQABhKqCrBehE+pJUen9WhYtWy+/4qHBDS7tkKvrwXVA6b+MzftHlB3D9ATiUSiemohNX7q3q+MLLdq0/Ql32WW5YTNlvb3UNv8zX3w5hxvZfZTujG+Egkpuurkk0bsUnCe7DCEBKs5vg61oA9DQQLIfpTS3tPIxnWhNNPO31CYFAqkMHptiqVa/YsN4wlNEFDMzSn0r17d1+JYqNrIw0hOH1WeRJO1oZSw+j5ogQntzjB1QIh4vThGQnkpcL14YCQ/v37+3mq7K4N1ZjQM0MJjFcYh1pvAz7D38EToQQhUuhJYSWhQoj2fbF6lvZzGLWAEFURzMm18E6iGINe3PheqXuiBO+ZM8763uXOndt3GGG1HpTxRiidEnhrkX9mJJGAEPyeoRw5dA0vXsmSJSnZG6va+fkWcPIOrwW8F3aq+Og7psNbggaF6NINL4qV6Dumo5kdmiSiazrCkcIt6EsyeEa8JwTAgzKyStDIsd8PjcQPTPxM3IYQfSUsnJwj5MxIrgkPCUolB5LELtGLML6+39b3QcMV0ajy59fWmyZhH9l5VvY8CSRo7qctE/1SremOEvMTu0QvKmF1F5WwEFIIQW+bBaIcr5nsWH7M0kPEEBLubz/f/1bXQKQgBHovWLCgz5hF9/SDBw/6tgOlSdHUT0nHjh39EqCN9s0NY4khxF+zWgiBtwQny6rLOkZiX5AHovWCmX2nohFCWrduLftToE8KSgoj30ALU2g0ia7cSpDzpBKjA/12MIQYaycUCAEooloYctHg8cGBhr6s98qVK6WXQQm8eNrmotpZJTaEwPuEQg6zZs2SIXLwAsHbKyEEsLFhdlx3cidlTLEgQAjKsP4jjCpcj7wRJyFTCkIObo7LF9kw+7AjYzPUf0QBFy/Nb+nXFR0eIEAUjMA2ojJXxhzxbnc8z20IeeDdGlS2YXy8Y6A1xR6/RMNbxHUONZPEhhCU9EUyvV1BqWGUHA4kXoOQ1gPKU73740P2rHTxct0ZlpDOEGKlRf6cNRCaBoKFEIS5qAo3RjPACTJq+itBGV+EeiCW/c0335R/rQ+l0Z5Oa3t0YCzi3PEPeCBxA0JQVQhN1MwEBpC2HC3CZnLlyiUTZAN5GiLtCUFJ5LFjx5quC7H0qswyBgEuEALUtWtXX1UlhFwhWVsJjHaE8NhJ1MY14YCQ8ePH+71n+gUinErBLSp3tWvXTg5Bd24YschF+umnn3yXoSgB9lSJNukdfxco0Vn77FAhBP08VD6U0aYhnExVgYL3RiVoI+wO+xzIa/jHH3/4QqLQRwMn8xAULsBhgF7c+F6pez766KO+Qhb658A7qs0LQ1Ur5GcBXFQeCZoTqtAshKHh+4q/U4KyvJ988onvz9hbvMtGktgQAoDC3sCThrwchJpKCBHhUDdhdJ89Gvhk2uzb2+iRkqKT+eGg+z/AC4AmhnuDSNw1/UVx+AHyPZD3YSan/73o16uEIcRfUwwhRAwhDr90PJw1EAUaCBZCrKZulZiO6/UNC9E4D9270aMCISX798d5w5E7gvAf9AIIJG4aS2bP8WpiutV+WSWmw1MAg0mbNwIDVhv6on0GjCzoSivhgBCrdVklpn/xxRcEw1gJunGjghg8JOiaDliBBwiC8ECzvAn9PEKFEKt1WVXHCnR9JBPTA83LTmI6etBoq+ghfwsVsZC3AyBFeJ7ar+LFi0vPljanS/v8xIQQwOvQoUPlO9WqVSs5DR+EiP92OdXb6vWJvs/RG6T9c3F9QvSy4MsdFHv8MrV7poLvI4YQfy25DSEIaXppfgtfjw2ENn32qHUcqnZWiR2OxRASfd9rnhFrwEoDkYQQzA2N8qxyPVDCU1uhyGxNDCEJNdOyUG+qkiPO6AkkVhCiN9at7mfUiTsaIQQGK5o3IozHSqCjl19+2WqY/JwhxJaa/AbZgRB4IuHBUsntZk9RPX0CeU8TC0LQFwWNNOHd7dGjh2/KDCEGu4feKEWrZpfhZcd2x8omgYe3nZXd23P81/MBl+3bcMrVjunIO0mfJfApl5rutas3LCtm6ecbe+KyaWUzo5cYfS7yloxPRrt0/hod2mqeTJVGlDfOXzY+ftnq64e8IczJTJALgnAsJeMHrKSti45Y3dbvczTXjBElj5UcFt62QAUW9DdHon2mHGl8f33iwPmAeSwIncqS2z9sL9CEd685S6YBXgAAIABJREFUyTkhjnaUB7MG3NdApCEEfReaN29Ou3YZF7BAs7bp06cH7A+itMIQkvD9cAtC0OgOIUB2xSsQgvXgtBwlpo8cMf83FiE93333naU3TumHIcTumxI/zg6EYDRCrO677z6fx0P/JORafPnll76eRWYzSQwIQf4Hmq6iuANC7LTCEOL8HbF1hb5Z4bbFR+jyhbgE/alvbpAd51kCa6Dm3YWpw/NxvUaO7oorFOAkz8jL+kW/mo4v3SaXkCZdCipdL7dvOW+1nm2Z0O/ltfPcWQOJrYFwQQgMO8RzK0EPib59+xouD8YfEn7RZ0SVv0WeASrboOwtYvntSGJACGLWtbkwMDJgwFoJQEsldCPGXZUetrpO//mR+kXopqiwo2RN23y0tk3COH71uV0IQSlebZM37IkqDHDx4kWZK4D/b1cAIdq+MbguEp4QnIQjuRyCUCvV/0W/DnRdRxgWTq1VOA/GIN8HekFuiBMJN4Sg4R+SsyF4t9Qa7cwRe7Nu3To51Gif9PdIjO8VnonyvNpiFPCAvvrqq4ZLQv4S8j+0RRIAH6jc9vzzz/vymALpI9wQgian9erVo3vvvdewch5DiJ23NYgxegjR3uKt1nMClisO4nFJ8pLOw6pQlbYF5Np+GraWVk01rhSWFBefLnNqenFeC8OlMYQkxR3nNUVSA+GCkGDWBCMXYTGADsSt63sjWN0zsYwlq3mE8/NwQUg456zuHQkIcboulFBFQvihQ4dk0ztUcAtGwg0hwcwp2Gui+XuFcr8AEnhRAFTp06e3vcxwQgg8vCgrDihCUQgjYQixvVXOBqKS1oCfGhle9H7nBUEXAHA2C2+PfvrXJrIyGYolvNN+Ll0XIWi3iiAU7pnf7jB+fzqJ90eUsGZhDbAG3NFANEFIqCuKZmMp1LWp6xlC3NJkeO/DEBJe/bpx93BBiOqlA48nim+YCUOIG7vI9wiLBpCPgdLJl0UuChvdYVEx35Q1wBoQGmAI8dZrwBDijf1iCIn+fQoHhJw7d042O4WHBnlu+o7wWq0whET/O8IzZA2wBlgDrIEwaoAhJIzKDcOtGULCoNQw3JIhJAxKdfmWbkMI8tmaNWtG6LmD/iXwhAQShhCXN5RvxxpgDbAGWAPe0gBDiLf2iyHEG/vFEBL9++QmhKAbepcuXWTjTPSSQR8XK2EIsdIQf84aYA2wBlgDSVoDDCHe2l6GEG/sF0NI9O+TmxCCymro1I6KcCgrbkcYQuxoicewBlgDrAHWQJLVAEOIt7aWIcQb+8UQEv375BaEvPvuuzRkyBCaPHkytWvXzvbCGUJsq4oHsgZYA6wB1kBS1ABDiLd2lSHEG/vFEBL9++QGhKCBZffu3en999+XfUucCEOIE23xWNYAa4A1wBpIchpgCPHWljKEeGO/GEKif59ChRD0/2jdurVscjl8+HDHC2YIcawyvoA1wBpgDbAGkpIGGEK8tZsMId7YL4aQ6N+nUCBkzZo1VKdOHbrrrrto4sSJQS2WISQotTm/qNqdhahsg9y0fNIe+mfFMVs3KN84D9W8u4jf2MPbz9Dvo7bYuj5/2czUvE9Zv7EXz16h759fbev65MmTUea8aSlFymR0cv8FunHjpq3r9IMy546hq5du0IUzV4K6PpSLYjKmoix50soO9RfPXnV8q9RpU1DWfOnowukrFHvisuPrQ70Ae5BF7EGyFMno1IHg9yCYeeQpmYlaPVXO79LLF67RxGf/DuZ2fA1rIGo1wBAStVtjODGGEG/sF0NI9O9TsBCC/h/ohl6xYkWZiB6sMIQEqzkH18VkiOt+nVwY82+1nkOXYu0Zw3W7FaM2A8v7PWnX38dp7OPLbD29ZO2c9PDo2/3Gnjt5md5oNsv0ehjdlVrkpxp3FaJ8ZTILAEkux167coMObTlN00ZuogObTls+H8Zzi35lqVzDPJS9UHoSldvo3x1nac30/bT4212W14cyIF/pzFSzU2Eq3zgvpc+a2ner2OOX6O8p+2n+uO1yPWaSLX86qtGxMN3WMr8EGCWAmI3zDtPvH2wOCmjsril1upRUWTy7eodClLd0Jr89gO6nj9xIB7ecsXs737gilbNRx6G3yT8f2RlLE54JDBPFqmWnHp/V8XsO3t3/Nfrd8bP5AtZANGuAISSadyfh3BhCvLFfDCHRv0/BQMixY8ckgKRLl462bLF3KG6mCYaQRHhH7ni8NN3RsxQtmbCLpr+7yfYTFYSc2H+efnl1nbzuojACD28/a+seCkKuX7tBXz6xXF5z7dpN2rfupOn1Vv8Y3xTekBnvb5ZrCSR3C2MX3h8jgSdn0df/2FqD00HFa+agRz+pHfCy43vP0acPLzH0zGTKFUODZzSTndrNBCA3rtcyaciHQ3p9WY8KVcpqemt4pKaP2ETLftht+/FYzxPfNCB4xyCHtp2h0V0XBbweXqR8pTLJMYWrZKNmvctIgGYIsa12HugRDVj97vUs9zFljyngidV8trk3nbh00HSuA277jmJSpPfEWswmyRDije1jCIn+fXIKIefPn5chWCdOnJDd0FOnjj/oDWa1DCHBaM3BNWnEqfZzvzcjnG6PaD+XTh26YPtqBSF2DEajmyoIwan/0NrTbT231xd1qdBt2WTI2JZFR+SJ+0URRgWjuMWTZSlDtjQEqPno/j+lZ8NI6t1fnFoPiAvjAWws+2EPpUmXghr3KCW9C5Cvn1pJ2xYfsTUnJ4NK1clFD31YS3oq/p6yj/ZvPEWHxTwz5YgRoW1x3g3Iut8P0g8vJAxLQ+jTs9Oa0tXL12n1bwdo79oTdGjrGUqTPhVVbJaX6nYtRsmEl+fg5tP0SffFQYeoBVpTn2/qU/5yWWjH8mO0VezBAfGsy+euyn1p0bes9O5gT0d3W0RHd9kDoartClKnVyrL61KmTm4LQrRzLNcoD90/sgZDiJOXkcd6RgMMIZ7ZKjlRhhBv7BdDSPTvkxMIuXbtGrVo0YKQC4Ju6NmyZQt5gQwhIasw8A2qthXG37DK0hiG0epEIgEhrfqXo61/HqHdq04kmGquohnoye8byvCgjXMO08TBxuE8A39uTDkKZ5AG9PgBK333gfHb59sGlLt4Rtq84F/6dtBfTtRhayxCjuANWSw8NZfPX0twzb2vV/WByPud5tPR3ef8xsAT0uiRkrRg3A46e+xSgusb9ygpPQIQhDNtEuFZbgtC8HDfPWsTeqzylMhEfSc2oOQiR8QMpPTzAQAP+qWxgMebtH/DKQFT+RhC3N40vp+nNcAQ4q3tYwjxxn45hZDUKdJSxlShG7bh0M7py0fo+s2ENoV6llc9jE4gpFu3bjR16lQJISVKlHBFzQEhBMYLYvsviVNYNyRFquQUkyElnT8VXIIy5pIuS2px/WWZY2AlvvEiqRhhRJGQRz6+nUrUykkzRQjTn9/sdDSFSECI1QS7jaghci3yEELERnaYl2B4XhG+8+R3DeXfA7oAX1pRUIYT+deb/mEIClZzCOVz5IvAiIcgQX/9H+ZhC0bPSRWTgl75s5X0hswbu53mfLItlOkEdW33D2pS6Xq5pRfk/c4LLO/R7Iky1PjRkjT5lbVUvHoOqtK2AEOIpdZ4wK2kAYYQb+02Q4g39ssphHhjVcazTOoQ8uyzz9Lo0aNp7ty5VLt24JB3J/voByGIAa9wR16q1DwfFSifRQBDKnmvkwcviKTkM9KI1huVRg+DoVmrc2ERrhNLv7y2zhfKU1icUgMMUGEHoTIw4PDfeilaNTu1fKqsNFC/ELkMSGxu2a8clamXiwAyMGBxUjxTJAifPep/Wl2wQlZx0p2PyjTII5OKcWJ8RTzjkMij2LnyOM0XhuON6wmBBKf0D390uwxVmTtmO21fetRUj/e9UZWyiuTlNdMO0PIf95iOQ+jSkD9EfoFY84g759HJA+ed7A1FI4S0FMnmDbqXkDp86fbpCeBOGbxXL12n/zX8XYZuaQVJ309PvUP+1aSX1tDaGQcc6STUwQBrQARk9sdbRZL6Dse3HDyjKWXOnZbWzjxIk160V2nM8UMCXNBmUHkZFmYnzA7hZQN/biKhcdR9C6nTy5UZQtzcDL5XktAAQ4i3tpEhxBv7xRAS/ftkxxPy94+/ESAEZXjvvvtuVxflByHaWH6jp8DowWmq1elxo4dLUvO+ZWjf+lM066OtMkYfxr1ePn7wT8NKS9r484/EmMfH1ZW5CHqZ/PJaWj1tv99fD1vamlKlSWGqJIDIBFFi1KhC1QPv1qCyoprThjmH6LvBqwzvoTWiP314sVyjmVRsmo+6vFVN5ie82th5RaFohJB7Xq1ClVsXoGN7ztF7d89PsPSub1WnCk3zynCuz3suNVTN87Oby/2cP3YHzf5kq6svtNXNALSDfmkih2GPsddOBFD7yuLW8n2e8+k2mvf5dieXuzL2vuHV5EHBv/+cpVH3Bi6Np8aO779Shtl1HlaFIcSVXeCbJCUNMIR4azcZQryxXwwh0b9PVhDS7EYmeqHrIzRy5Ejq16+f6wtKACEI20DVHRjrx/edF96Iq5StQHpq8lgp6SWBwPCBAWQmCkJQTjSt8K5kEn0iln63W8ajXzp3jRCyA+CZ8MxflhCyV1RyKlU3N/31815CeVrE6ecqmpFuv6eILPVqBCH71p2ilT/tFfH+sdKLgzmUuD2nTJZOlzk1bZgtIOO5hJABww5GG07xESp05eL1BEts+FAJmaB9+vBFeqfdnIBhYYjtB0hAl+N62yurq31gNEJI/8mNhf4zmHoB1D/mAFWzfiRPTmwoS89ij6a8sd71lzrQDVF+GJ4syDsoFCDeDyeiDTf7ut8K2rbE3GPm5L5Oxg6a0oSyF0xPq6bup5+GrTW9tLBIZH9cFBrYs+YkfdZjiRzHEOJE0zz2VtEAQ4i3dpohxBv7xRAS/ftkBSGbRn5BXes0phEjRoRlMX4QkqNweoo9dtkwRAphVEhKRlKxValZBSEoJXpFhFTBANf3NZD5JuJU2cgjoTwhyONA4NREkQCMRGat4Nr0Ij9E30AOJUjNeiigMhISk69fvUFvNJ+VoNcD4v1fEKf0mJtZvkDfCQ1k/4yFX/1Df3wYuD6yKrUKWJrxnv3SvGqd0QYhZUSzxQffqymnZ2aA9/+xEeUqlpFWTN5Lvw5fL5PYoXfk8SDEDbk86h98hNRZ9apw863HO/yEqDyF/YMHC54sp6IS2xEG+K7wBCHULzEFBwFd364uH4lQRbPGlyjJ2/vr+jKsUuuxYwhJzN3iZ3lFA1YQkiV1bkqRPKUnlpNUE2i1yncKIelTifDyKClLfOPmDTp12bygSTbRlPbO1zf7vWtZ3v6CYhq29MT7p50kQ0j0b5kVhGRYvIl+ee/jsC3EUXUshFgBMHYsO0Zf9o3rO2EkCkLwGcJVELbiRBSE4JpAVZic3BNjZVKxCKWBgWYWCqbCjYyqN8Ej9PSvcaE8H3ZZaNmv49npTWVeCmAF0OJUoglCoLsBwguCHINA8PDCnBayhKyCtNr3FqV2z1aQS1dGM0q9Yo+1J/ROdRPM+Dr3FaW2z1SQ+Swob2tWYtjs3igwgEIDEHQN3zjX/cpYgdYFOB74U2NCBa9AnibcA8nnAA79e8wQEsybw9ckdQ1YQUhSWv8X3TaICIeEXn4vrXFxnmuUWtPLaU3bfLS2TT4vLcF0rkYQ8sypFLTwUoDmVVG68oxVylK+B9v7Zpc15iRVyet+VcxoWL5Xv1e5O7egLHUqm6rwldqtqG6+YmFTcUAIwclxhuxpZDI4BCfazfuUsSw3q4UQdOdGczcnooWQsSKvYJdBuVi790uTPiWlzZRKgEfcFxieDPzZ7BS5VF3RZ2JULZn0q6/epEKxUNYV5V2tBMCDDuTwCMAz4FSiCUJUaBkKCSAXRF8QQK1N5eTM/Wy7SPDfRne9eJvsvg6ZLrqtL5m4S4a8IfQt2P4nTvWI8YCnp35oJPp9pJQFFlCtzIkAAJ4U7w5yShCCBU9QYkv7wRVlGCKq1b3XcX4CL6CaD965gSLvBd/dUfcs8CtDzBCS2LvGz/OCBm4lCFkzMhVdT1h93Avb5JvjBwdXUErhUVCS1CHks+ylaV3a6CxdG+jFuVo4N12sW943JClDiFe/V5dqlqYrJeL6pxlJokMITrEBEeVEGVZUAELYk17MkpLVOAUhwXZX1kLI8BazKfa4s19MhA01ErkbCAtCxS8jQY8LeFn0gvUOmdVchnr9OHQNrZkeX70JpV1R4tVOQjLCkF5d0UbeHk3x0NPBqUQLhKgwNjtrQbfxzCIHSIWgIS+h69vVZFnmr55cIXN6ugvIKy1gD6FEgMFwC4zyx7+oJ3ORAD5jRLd0NCO0K+BXlCbGe4nwv4+EF8Woh4jd+wUzTnk2cK1VQn3T3qWpiWgMiQp0P7+6zu9xDCHBaJ+vSeoauJUgxKulRLXvoNNwLC+9v0k5HCuZCLBPliy+OumdxStSz4p1vLQ9CeaaK1cuGjduHN11p7tVoxJLKVbhWIkKIcj36PVVPdHdOi72Fd4AJGArgy1d5lQSTFBqFiVnzURBiJ3qPUb3UBCC8q5DUQbWQYsPZWSp+8ILc04YjuoeWCNAIxAYtH9OnDh3LiI7eqOzN0QbijXyrnl0QiTtBxIYrq+ubCtLEqOi2Orf/Kt42XnBogFCkGPTU1QnQ8Uxq1wgrEmBmtYAhr61ZZGRLA04sdtsz46uzMZgH7q8GVex67zoF/PR/YvkO+1ElFGP9/HznstonyiWkJiCstOPfV5HVuSyykXC93OgaEwIQR8XvceKISQxd46f5RUNMIR4Zafi5skQ4o390ueE6Gd9V4nb6Inb6nljMSazzJQpE40fP546dOjgyXVEDYSIk/ubfSbUJ3RkPr73HP32zkb6Z/kxPwCo1akI3Tmkom0ICTb5V1ui93+N7Je21Z7Yw1hb/O3OBI0RX5zXQlbICgQhqqqQNoFdgdWhrWdkPoEdUfkRKgzJzjXaMZGGkIwinOeJbxpIzwYqfH3ZZzmh2EAgQa+VkqISWaBcnqcmNZIFDpZ+v5umifcsnIKqbk17lZYQhPnv/Ou4o8ehuzjCxwAzqOSFil6JKcj/6COS6TPmiJGJ/YDiQI03q7UvSHeLXiAALaNeN8VEs0IUoACQbfovpwXhaegjEkiC/U4mpq74WayBYDXAEBKs5iJzHUNIZPTu9KkMIU41lvjjowZCRMnUmyidCkHMP0Ku9KIS0+16QhIbQh58vyaVqZ/btHwskquHLWktlxUIQmBwPvObSCoXeQQogYpSqOqE30nn8wEiiThnkQyk8iOcvl6RhBB4PnD6jupKgNKPRfdzo0pm+jXd81pVqtwqv0zaR/K+XuAVGbqwlcyVQY8Q9AoJl/gBxOsCIESZZyeCtUMH0MXS73bRtBHOK5w5eZ5+LN5X9MhBNa8jO2NllSs08AwkCkKcPPfzx5bS7tUnAl7CEOJEozzWaxpgCPHWjjGEeGO/GEKif5+iBkKE4XgTBiROUN9uO8dQc6oRXbRCyDOiEzc6metzOdRi8pTMRP1EmWErCMHn6AWCRHRUApv61gZCbwaEdL3dZg6dOWIvnAeNCtGwMNiwo0hBCCAMp/8w4i+cuUKfCACxOilXOq7VqbDwllWSp/WvNv5DJlFrBYb9E+Pry78KtehAoK+3FiCCKZEM7w/mCQ8EwvLGD/groAfC7Z8a7EHXd2pQeZGbhXwaVHM7dci6p0mxatmppvBYmknBClkoa750sjz1DuHphKCAgNGhg/YeDCFu7zDfL5o0wBASTbthPReGEGsdRcMIhpBo2IXAc4gaCBEnqDcRxnHmyCV6q/XsBLNGh2uUnEVcerRCyHMzm8nypcp7oV9E26fLU50ucaXGrJLFEZbW74eGMowHjRbr3V+M9qwVTd8ejWv6ZkcURNitpqW/Z6QgxJcDIfqpIHHc6pRcO28UNkBiP3JhJjz9F22a79/fRYW1odjAm61Es0eL8C7kpNQWpXUhyMOZP87ac4K8CPQDQTjZ1kVH6JtBzgBCJrKPE4nsoqEiyviOeWSJYe8cO+8AxqCiHN5LyCIRJoj3wUoUBCMva+zjS2VfEzeEc0Lc0CLfI6lpQPWtSp0qNc2ZO4cqVqyYZJY49ddfqftDD9GpU3G/ITEp0on/671yr9oN0UPIdVHB83rKuDUlzypCTic77wEVyQ2Pfe9lujjtBzkF5G2nEg2TtZJU+oTodcw5IZF86+KeHTUQUqhS1ptorgfRNjeTX2oRQtPplcpUuXUB+Xm0Qgh6OKCXw3ZRQvUrXQlVnIz3GFNHhgFBrCAEY1TuAvIgYFTDI7J80h7bbw0Sint/XU8a2q/Unyk7sTuRSECINq9m8ssioX6a84R6tQ84uR9130JfCBGS+5/8roEsfLBM5IMg78hKyjfJS93eiWvOh4TwTwUQBBIYEwhhQiUshISNEdDopKFgMrHPeJ6qhPWJ8ECc/tee58tsXqqBIz4f12uZZV5K1bYFqdOwuLrddt5TKx1qP2cIcaItHnuraSB16tS0YsUKqlzZvG6+13QyefJk6ty5s/DkO6jwEuWL1EOIdrrJs+WkXDP9qwJG+XLo7JuD6cIv35hOkyEkeneQE9ND2xtfnxAkpqMjeq6iGWTS6gJx4ozqVtkLphcx/gWoSJVssrwpStRGK4Roy5iikdzaGQdkIjUSzet2LSarZKm+IXaMu0aPlJSn2BDc501RLthJzxMYtINnNKVMOWNofP+VtPXPI452KxIQopLpkZRvdWIPT8fJgwlDhPCuPPJxbek1gycBlbLSZEhJNToUlnk2CC/65KHF8j2yEqcQom2OCHhA2JGZIHFb3/W+eM0c9OgnteUl2OvY4+Y9bpAr891zq6yWQE4hZOiClrK0NLwgVmFSeK/shgdiogwhltvFA25hDTCEeGPzGUK8sU8cjhX9+xQ1nhChqpswHrt/UEsa6nrZMPuQ7OuA5nPRCiHafg76+cMY/fqpFfKUG3H+diAE+SXIM4EE29OiVf9yVP+B4rRm2gH68eU1jt7ISEDIS/NbymaOduT9zqIR3q5Yw6HIZejydnXpQdIKmh0iF+TgljN2HiEbHeKdg6BAAELtAglgs82g+OZIgcYadR0vWTsnPTw6riu6lZgl3+uve352c0I4I0B2RPu5liWCX/lTJO7/Vybbag4ow2s3Xwf3Ygix0ih/fitrgCHEG7vPEOKNfWIIif59iioIgbqQkAsPQP6yWSidaNgH4EDDPngV8pbKTGVFw7aLIlkZ5VXNpEjlbFRchEXhhBan4E4FFaUqtchP10RDOZTadSqoEFS+cV7RrDCDCAW6TnvWnKDFE3bJxN569xeXkLVxziFZcSiQoDoRPAMI4Qo2NEklw6Oy1OtNZxF6TdiVSEBIg+4lCOu2I8sn7U5QAll7HcLRyjbKTSVq5pShaAA5eKisTve190CeEvYTkQSj7l1guWcFK2alUnVy2Zk+HRGePsxHKwgZq9ImLuzQSs6duEQrJgeuuKUFWSPoMXoG8mZSCC+SHUHVrkDeHv09EGaWV3gzkZPjpNwwJ6bb2Q0e43UNMIR4YwcZQryxTwwh0b9PUQch0a+yxJthzbsLU4fnK9GVi9fpjeazHOUWaGfZY0xtQn+G74esovWzDtleQCQgxPbkEmngwJ+byL4W2saRifRoVx6DPKp7Xq0i74X+Mugz40VhCPHirvGcnWqAIcSpxiIzniEkMnp3+lSGEKcaS/zxDCGJr3PbT1Sx/PAEoexvsIIwt55j69KBTadlqVW7oiAEXgTk50AQxjT1zQ22bqFCi+BFOLAprjLKhTMiLE2XtG/rZhEYlF544l6Y20I+2U4viwhM0fKRaO6JJp/BhvNZPiCMA9CfBPOHpM2YWsIgPHpOGoiGcXp8a9aA6xpgCHFdpWG5IUNIWNTq+k0ZQlxXqes3ZAhxXaWh31Ak6QvDsTC1faaCvBnK1MKIDEVUxajPeiwR4WEnbd1KQYh28K6/j4uSrctsXW+U34Bk6zeazbJ1faQHlWmQmx58rybt33hK9irxojz5XUNZqcuNdyix14+eIz0+q+P3WIaQxN4Ffl5iaoAhJDG1HfyzGEKC111iXskQkpjaDu5ZDCHB6S0sV2UTiej3vlFVNnNDIjEEzQpR7teqn4XVhHCqn0nk25wT1ZZiRZUuO4KeG6q/hBqPHBc7VaUwHqVwsxVETfh4uXHtpmVehZ25JcYY9OkoJHI80CMDSeBeFCTW3xBpQKt+dZ4bFen1Ijk+u4ffn0jrj5/vPQ0whHhjzxhCvLFPDCHRv08MIVG0R7mLZ5S9QSAIYdq96rjslO2kz0QULYenwhpgDbAGWAMONMAQ4kBZERzKEBJB5Tt4NEOIA2VFaChDSIQUb/RYeA7QJ+K68BYghwL9LFhYA6wB1gBr4NbQAEOIN/aZIcQb+8QQEv37xBAS/XvEM2QNsAZYA6yBW0ADoUAIOpL/8ccfllrKli0b1axZ03DcgQMHaNGiRbJre7p06eS4Bg0aUPbs2S3vazYg1I7pZ86coWXLrPMQCxUqROXKlQs4zx07dtBLL70kx6RPn57GjRsX1LrcgJBDhw7R+vXrLZ9fvnx5KliwYIJx169fp5kzZ9LGjRvpn3/+oVy5clHZsmWpSZMmlD9/fsv7age42TF927ZttHu3eQsF9dzatWtT5syZE8zz3Llz8v1bsmQJHT58mCpVqkS1atWiqlWrOloTBrsJIX/99RedOHHCcg5NmzallCkT9rrTXzhp0iT6+eef5V+XLFmSXn31Vct7Gw0ItWP6vHnz6MqVwAfeadOmpYYNGyZ4/OLFiwn7FUhSpUpFd9wR1+/OSBhCgtp2vog1wBpgDbAGWAPuaiAUCIHhV6xYMcsJwZhYsGBBgnG//vordenShS5evOj3We7cuWn69OlUrVo1y3u01ZriAAAgAElEQVQbDQgVQn755Rfq2LGj5bMff/xx+vTTTwOOe+SRR+jLL7+UY2AAnz592vK+RgPcgJA33niDXnjhBcvnf/LJJ9SrVy+/cfPnz6d+/fpJANFLxowZ6Z133qGePXtSMnRQtiFuQsg999xDP/74o+VTAZa33+7fmBcGcYcOHSg2NmEPtb59+9LIkSMJ3xG74iaElC5dmrZv32756FOnTlGWLFkCjjty5AiVKVPG9/4BspYvX255b6MBoUDI+fPnCe8LDjACSeHChWnPnj0JhuA7dPZs4HxZq+8ZQ0hQ284XsQZYA6wB1gBrwF0NhAIh06ZNo3bt2llOyAhCYDQCQHC6biTwGsydO1eeSDuVUCHktdde83kvAj3bCkJmz55NrVu3pmvXrsnbWBlHgZ7lBoR069aNJk6caKlOPYRs2rSJqlevTpcuXQp47YgRI2jQoEGW98cANyEEnpvNmzdbPlcPIfAK4B0MdCrfsmVL6f2xK25ByOXLl6XnzOz7oZ2PHQi5//77acKECb7LIgUhf//9N9WoUcNSnUYQsn//foL30UqsvmcMIVYa5M9ZA6wB1gBrgDWQCBoIBULeeusteu655yxnaQQhesMxb968dOHCBUIolJI777yTpkyZYnl//YBQIQSG6ffff2/53EAQglPmZs2a+YWOWBlH4YaQ2267zVY4lhZCYAQDQNauXes3vRIlStCuXbtEJURRCvE/gdEMYIEBaSVuQQgAAs9VoBfouVoIwUk85gnDVglO+BE6qD+BRxhT586drZYkP3cLQtatW0eVK1e29UwrCIG3Rx+eFCkI+frrr+mhhx6yXJcRhAAGAfVWYvU9Ywix0iB/zhpgDbAGWAOsgUTQQCgQ8uCDD9I333wjZwmIQFiMkcBgRWiLEuSAaOO9H374Yfr888/liXTz5s0Jcd+QFClS0N69ex3nG4QKIcgJ2LAhrkEu/rtx48aG66pbt24C4xTegmHDhhG8AnrD2Mo4CrTdoXpCMBcY6+rUH3kcFSvGNWbVC/axTp24fkmrVq2SEKIEOSBfffWVzN2BAY8QLS0ovvnmmzR48GDLN9ctCME+YY+U3HvvvZQnTx7D5w8YMMAHSEuXLiXsn5LHHntMhl5lyJCBxowZQ7179/Z91r59e0LooB1xC0LgsYLnSgnmYxYWNnz4cEIOhZFgv6Ef5M1oJVIQ8uyzz8rQPQigD999IwEMDh061O8jXIfrIWnSpEkQMqgGQxfQiZkwhNh5k3lMUBqIyZCKchbN4Hft9as36NDW+NO1oG7MF90SGkiTPiXlKpbRb603rt+kg5vtxXEnT5GM8pdLGJt7aMsZUYEu/sQwkDJzFslAKdMkp6M7z9m+5pbYHF5kWDQQCoQgZ2P16tVyXjD+7HgPMPa+++6jH374QV6HhFokOavTc32IFwx6vTFipYhQIERvrMOYsePtwZwQagIvCtZjJJGEkC1btvgl0SPnxs6p8vvvv08w3pXAEHz66ad9f9YDJcJ+FJgG2ie3IOS7776jrl27+h518OBBypcvn9UrIteEtUH0sHv16lVCXhI8DJCiRYtKr48dcQtCkLuDHB5IKO8Nks+Nvj+RgpA2bdrQjBkz5LrMcsXM9Ny9e3caP368/BgAbafIgtG9GELsvMk8JigNuNkxPWP2NFS0eg45j9P/XqR966y7vuOaYjVyyP9du3Sddv51nHb9fYIunbsa1HpCvahErZyUTjSNhGz78whdvhAXm2wkaTOlonKN8lCuohkpq2hieeH0FTqyK5a2LT5qu1lkqPPVX58pZwwVqRpXJefUoQu0f0PcPwp2Bc0Hy9TPLYdfPHOFdiw/FvDSUDumo+Hn87ObJ3jG8BazKfZ44HhqdVG7ZytQ7XuL0tS3NtDySXvsLpXHsQaC0kCwEIIwHJwaq6RyJ7CAqkrHjsV9F5HYvnPnTt/cEf6D6jYqcRWVshYuXOhobaFAyNatW2XFJyU4AcdJuB155ZVXpBdECYxhnNiqyk2hGJOhekKUTtTcAErFixe3XBZC7pBLgCpmMMpxol6qVCm//YKHBTkMEFRqQi6MlbgFIS+++CK9/vrr8nFIeLZKWlbzwnuGpG+EPSEEEKF1SgCiyD1ApSxI/fr1ZQU3O+IWhCBZXnlfUNULnhungu9VhQoVfLk8+L6qylKRgpAiRYpI7yYE3p2PP/7Y9rLgkYNnDtKpUydbxQiMbs4QYlvlPNCpBhSEoPDCntVxpe0unL1KE57+y+mtqMub1ahis7gTlQ1zDtF3g+NefjMpUD4L9fi0NsHw1cqZIxfp04eXEP5/YkqekpnoyYkNKFnyuGol73acT8f3Jixth/m2H1xBrjVVmhQJpnjtyg2aP3Y7LfzyHxH/G7iihdvr6zaiBpVvHOdaXzvzIE16Me7U1a4071OGGj1SUg4/tO0Mje4a+B8SdKxvO6iCHA94QzPPS7FX6X+Nfrf1yJiMqeiBkXFJd6liUhDeCYgTCAEADprShGKPXaaRHeYS9M/CGgiXBoKFEBg4CLNSgrh5GDyoopQzZ06C4VSgQIEE04bxh2eqXAIYFihFqhVU+lG5ITB49aEkVroIBUJ++uknaeAoAZSokr1YL6ormZUP1kJIlSpV6LfffpMhNQqiIgkh2rkBjAAUyJHAaTJyD7APMFIDCXJ2UEZZK8gVwVqV9OnTh0aPHm21Ra4lpmuNdawB+Q94B/ft2ycToDE3J9WtMHGEl911112+NcCbANixI25BCEroKo/ao48+Kr0igDvsAd5B5FQlT5484JSQVK9KaOM9RGUzQBckEhACAEIIljpg+PDDD6U3bs6cOTJUEOsyA2P9oQf2A9XYoBN4U3GtFo4DKYYhxM6bzGOC0oCCEBhuQ2tPD+oeuKjwbdno8S/i40WtIAQhNBifLnNquiBO3DfP/5cQ2lO6Xm5KnTaFNP7HPLKEzgvvQmLJowKIiguPjBIzCMmSNy09O62pHAZ4O3ngvAxfw/yhB/x/yKyPttKCL3Yk1vSpmPBC9RhT2/c8pxCCdQ38uQmlTB33Q20HQrSLg1fofgEUTiBEe32Owunl8yFOIATj7xtejSo1z8fekER7227dBwULIVOnTiUkjiuBga1NKsff9+jRQxqkMHqV/PvvvzJ/RAlyQPS9RhD+opKDgzHcQ4GQ//3vf/Tyyy+brguGH6pnDRkyJMFLA0MfIT79+/enZ555RhpWjRo1igoIAVgBsCAw2rDvMGiVYK5ffPGFaV6P2TdE7/0xKu9rdK1bnhCAofKkAZCQA6HNxQEI432wU2UN3g7ANCq3HT16VE47R44cEta0wB3o18INCIF3EUCoQB2GO0oIa8vaAhxRShqeBSPBOhAiCcH1gOlWrVpFFEJWrlzptw9GvxnwOiKcD3PWCoAMYBbo9wZ5TggJxSFIIGEICage/jAUDbgBIShz/sT4+gSwiD1xmbIXTG/pCen2TnUq3ySvNFg/uHehz+tRsGJWCSfJhTdi/rgdNPvjraEsz/a1yoCG4Z2vdFxzpkAQAmN55U97pLcDa1aSKVcMdX+/FsFDALAbdd8CAVTnbc8j2IHw3vSd0ICyCa8AwA3/3ymEwJNVoWk++nfHWcpbKpOnIKTk7Tnp4Y9ul7p+t+O8YNXI17EGLDUQLIQgV+L555+3vD8SmGHcKRDRV/1Bfgji+rWCJnFr1qzx/RWSvbUgY/XQUCAEhhsMOCtBUj4q/WgFXgEYhdqeDdECIegRYcejhBN3I8Ay0gfCzHACrQz2mJgYQnNGIw+Y/no3IAQQhRAsbYUuo3niHUcOErwmgQTAoW0OiAaMOGnXhudZvRduQAjefTuNEuGRg9dHX2AAIWmYM5pTyn/7331X5sAAXCLpCUG/HPTNsRL0RwH4Zc2a1TdU750yuweabKKwRaBSvgwhVjvAnwetATcgpGrbgtRpWGWa9/l2KlEzBxUS3oBAnhCEM704t4U8cZ/y+npa+XNcvKOSNgPLU91uxejE/vMivCb8BmWKVMmp/4+NpFcGeQX3vh7X9dU0HEt4atJmSm0aLoZE6z7f1Jf3+O3tjbTsB+vOtEFv4H8X1uhQiO566TYJbQAqzMEJhChP1rrfD9KNazepStsCnoKQFCmTy9wS5Ol8+vBi2rfeWS5MqPrn628dDQQLIfq+A9AYqhLBU6CMH6VFbcWkWbNmUYsWLXwKfuKJJ+ijjz7yUzjKiSKsRgliyO30B1DjQ4EQhJShzKxW4JlBk0GVqKw++/333/3WYvTWRAOEGPWcQFNBhK+gwpXWI4J8HKxfe+pstC7oAhW0cMKuBJWLkENiR9yAEH3lLjwX80dID07OtR4R5OcAkPThZGquaKKnD0dDKVmEYtmBKnUfNyDk22+/pQceeMBPjfBUAYqwBq1HBO8XQEQrTz31FI0aNUr+Fd5nQA28X5GGEBQ0QAUyrQCkoHeVJ6I+gzfxvffe8w1F3o8+JA6wjypa+qIBRgcb2mcyhNj5hvKYoDQQKoQgdGrgL00IRuCI9nPp4dG1LCHktpb5fYa+UdiNNqxodLdFYa/UVf+B4tSqfzma+f5mOrIzlh76MK7ZlxmE2FH0y3+2ojQCtgBYAK1wCsK/kBNxU+SfjLhzHvX8vI4jCFGeLOTEvHv3fGras7TnIAT6BQgDiFdM3ku/Dg+vzsO5n3zv6NZAsBCChPE///xTLg5GGk6aVVlXhETAiFJGIEIrYCjA4NB3Ix84cGACw0RbQQf3R2UnnOTblWAhBPkqOA1XXc1htGFdMNZh+CFMC0apEsTlG3UQ184zGiAEoIAeIao8L8LoPvvsM0KBAIT+oOqQtuP43XffLUOYzAT3AUguWLDANwR7C8PfqnO3usANCMGcYXAqTwhC4FAJCkYtOoTD86HtCo5Qu5deeslwWWh2CIMd12q7p+PPqNimLSkd6D10A0K0BjegCiGNACJ8VzFPhFUh50UJQiNV01BUq4P3UTU5xB6puUcaQrSd7fGeIOwKOSE4uEBIJt47wCAE68Z7i8IVEOR/oIw3RIUOYjwqm+F3CO+09pAAoV9mTREZQuz+kvI4xxoIFUKa9S5DjXuUpN/eESf+3++mXiKUysoT0ukVYSy2K2jq6UCy99BFLSXY/PHhFlr4lXH5RseLNbggfdbU0oC/fP6a9LoAgNyAkCF/NKOMOWJEyJaAkDfCaxC3eLIsNXyohHwOngcvjBNPiPJkLRX7N03sY+dhVTwJIVXaFKDO/6siw+OGN5/lxuvB92ANJNBAsBCCG8HQAyAgfEKb54HPEHaB8AslSNJu27atNBgAMEqQdDt27Fi/eaF/g7YaEEJkcOJpV4KFENwfsAHvAEKXkFyvPx3XliXGeFSNwgm1mUQDhGBuAEKAIE6c4WnSJjUjfAclkhV8ARr1+T3a9Wn7w+DvESoHD5d2X632yg0IwTMQqgfvAOZbr149v8fCiAUoKkjB5wqc9fMDjEFHCClDHxScuqswM+gDOUra8CCz9bkBIbg3QAjvIIxxAKRWtPke+Hv04EGSN9aJ8DhV6AHJ6PCqKIk0hGAe+C5jX+A11SehI7xT298Dvwv4fVCC9xPXAmD0hxJvv/22X3+aQGGFkYYQgCHyV1AyKHFL/Vh9K/nzkDUQCoRkyZOWBvzcmM4dvyxP0NFfxA6EPDSqFpWqm4s2L/iXvh1kXIVrwE+NZY7J4m930Yz3/F39IS9ac4MOz1eimncXpp+GraVVU/dTqTq5QoYQgM0Lc+LCJ355dR39NSX+BMbNueNeyP3oP7kxnT58kd7vPJ/Qo8MJhChPFrwp8GSdP3XFsxCCylxPTWokVfx2mzmyTDQLa8BtDYQCIYHm8vPPP8uTTSUIw4DXA4aV1oDo2LGjL2FajUU8uwrzgYELQ9OJhAIhVs/RJ2LPnTtXGhRmEi0QYrUubZUpjAVgwlOiFzRhhMdBCcK60FgPHgkn4haEWD0TXixACgQJywosrK7T77PdXBm3ICTQ/BA+B2+AkmbNmkkIRLlbVCeDIOwMfWu0hwMoNaw8d6gkpkopA7KsKm1p54Px6NdhlWNjpWP95/BaAfyV4D0DXNgRfWltNEFEoQUjiSSE4PcPnip4fBhC7Oysx8aEAiH3vVGVKrXITz+8sJqQSwCxAyHKSF79236a/MpaeR0SqxFOpKT3V/UISeprph+gH4fGJ1y6qd48JTJR3+8a0LHd50QC+UL5fDcgBPkU8CZAPrhngQzxCpd0fbs6VbgjL00c/DdtnBNXo90JhChP1pxPt8mcHohXPSFofPjK4tYy1wjloZGXxMIacFsD4YIQvUGhcj9OnjzpV+IW3ci1+R9YHxrFKWMRuSD6eHErHYQTQvTJtQhrQrdtM/EKhGjzCLCWFStWSGNJKzBaEQqkQn3wGYxELZRY7Y36PLEgRKt/PBteHySzWwnCmuD1UoKSvQBrK0kMCMEctGWsVa8dPUhazVV97jTcMVwQgr4s2kaTRgcUZmuCJ0ub72P0u6KujRSEYH14p44fP05oiMkQYvcN9dC4YCEEIVcAjsPbztLobsKA/48f7EAIytuiHOzS73bRtBGbZCWpbu/UkM3+xvdfSedOXha5JbcT5rZ96VH66skVYdHoo5+IkrwikX78gJW0ddER+YxQIQQehYHCO4RQrLUzDtCkl8IDUJhr0WrZ6bHP6tCBTafp4wfjYs0hdiFEebIQioZckiv/NWb0KoRg7cqDBqACWLGwBtzWQKgQAoNU9f7Qzg0eAjSuU4JYfMTkI9wJz1T5IggR0VbCwniEoKjPg+ln4AaEIO8B8eb4n1Y++OADWYJXCcrewlgyk2iDEBhradOmTTBdnBwjDEkJyt6qeHz8HUK5EGMPiFQyePBgQtGBYMRtCDFbF+YMjwAEXjV4EdSpP/4bFb7w/laqVMlvGQj90YZfId9pyZIllkt1G0KM1oXvENYCQxaCNSIHwisQgvmjWAJC37Si95IC7gH5WjG7Fp47hHgp6dy5s2mVu0hACOAXv2V431RjT4YQy6+T9wYEAyFIZO79dX3ZWO7Lvstpx7L4rtp2IASn1QgDUobinUMqUq1ORaTyVG6Janx4cMsZ+uh+e51XnWi/bMM89MC7NWjP2pP02aPxP5ShQojq3n1RNHx8T4SoAajCIfAc9fm2viwnPPbxZaLL/HHfY+xCiPJk6TuNexlClAdtxeQ9Ijl9QzhUz/e8xTUQDISgehI8G0iORU4E4rY//fRTP03CeNB2oYaBiwRoiLa3A0JkcEKojH10UteGAXXp0kWG+ziRYCEEeSsIu8G60M8EVbt69erl92isG70wlKAsrz5mX3tBNEAI1gEPDjxKOIVF+VPkDmgFRjb+HoJKSgiBU3uC0BGEyWzYEP8bhL3V77mTPXIDQlB2Fl40rAvGOnJ5tO8O4AKGKdYMQRggTv0h2vwInL5jz7XAieIKePeUBArv0a47VAiBkY0ka4SQYU6YP/5bGy6Fv0cOjxJVDSqaIQSeTcwTc8c+waOGsrta0fceUlX18P5hbdhnXI93V1sUAfdAGXBt8YDnnnvOL79E+5zEhhAcaCBkE9XctKGlDCFOfjE8MjYYCFEJwDv/Ok7jesX9CCuxAyEvzW8pS6mikR8a+jXoXoJa9isrbwGvB7wfqvM3Sq2i5KqbgoR3lOTNXig9fSoaIu5bF39SFQqEoNHig+/VkKFlCDNDuFm4pLooydtRlOQ18hTZgRDlyUKjxffuXkDXr8V3GfcyhCgPGkLTEKLGwhpwWwPBQAhOkJEork70EJ9+8OBBQvMxCAwpnM7iH10IjDsYUih1C0EFI22VKVSgQuUciL7/yPTp02UFHScSLIToS76iWpLW8NYncMNAhGEUqCN3NEAI+pmgupISfcIyuqZrQUofygLjEXukBD0sEK4FWAlW3IIQNIdUou9sPmHCBEIpaSXabu76EtPaClMYr18zysVqPWBm6w4VQnBf5Higi7gSVdRB/fmFF16QsKxkzJgxsnoUqk3py0tr5wkQVWGOAC9VBnjQoEGWDf609wk2HAvPxIEDBL8J8LZpYUpfFU8bEqjNE8P1+F7i+6l9p7WHFai2hUaoRpKYEILfQnhlZsyYIUFZKwwhwf56RPF1TiEkVUwKGiRK8mbMGSNDgA5uPu23OjsQgkZ/6I69/Mc9NPXNDYR7VmtfkGJFgvvm+YdlaJfqXr5l4b/0zUDj5PVg1Vrv/mLUekB5w8T4YCEESfRo2IhwLCSiIyE9XILSvwNFRa8M2dLQ6K4L6fD2s36PsoIQrSfr+yGraP0s/9wJL0MIvFvwcm1bfIS+fmpluLaA73sLayAYCIG6AAYzZ870aQ75Azh9RMUbdBTXlnxFA0CcLCtBaA+8IarfAa6BAYkSmwjbUiE/yAdB+IKTpFk8I1gIwXxQbljb5wSlT5HzAKMJRqiqPITnAJiw5kASDRACww9N3FQuB+ABUAKjHB4feDW0JV+xry1btpTLgqcL12oF1+vD1NTnCDlZuHCh5TfKDQhBjorW0EQlM6wJXgsYsPjvc+fOyblgzighrIxevacDhnWPHj3ke40y0treNfgMHhRtvoLZAt2AEPT4QI6OEjwXoIB3Ee82viNqL5E/BRC208wz0tWx4DHVJoujchm+P8iTAExqQ6/g1dB6O7B+NF1Ugt8PfC/x/UIVrXfeecf3mVGIp3a/EhNC+vXrJ0sLGxXXYAix/Jnw3gCnEIImgmgmiBP4n/5LKteu+sH3a8rysMix+OW1OEP8nKi4pE06R0d0NMcL1Eyvz7cNKH/ZzK4b9EheRqPENBlS0Re9l9HRXf5J48Vq5PD1MBkjvCTwFFy5dF2W8DWTmIypqI8AEHhW9m88RZ/1WCorhYVLUI4XZXm1OtY+6yGRT4OO5xvnHqbfRPNFuQciLEzl7ZRpAI9NTTq255wM5fJ98N9N2j5bgSqic/o/Z+nLJ5bLv71w5qqft8Robarr/KXYq/S/Rr87Xj7AFIAKMeofY+eGyJFBrsyaaaKgwcvhy8exMxcekzQ1ECyEoBoNjAdtozsjDaHvBjoYo4yvVvSnvUbXDhs2THpNnEqwEILn6ENCzJ4NAwplhGGgBpJogBDMD/k46HNiJTB0oQMl6FHx5JNPWl3m+9xuDo8bEIKHIh8H0GAl8B4AjpUAOAEwWo+D2T2gA1V1yuo5bkAIwnegR4T6BRLAOcIc9Y0Nza6JNIQA7pF7o+1KbzRXwCT2BTpQgoMJXAuPayABjMF7ijLUZpJYEILGnfj9Uv159PNhCLH6Nnnwc6cQ0rxPGWr0SElHK32z5Ww6eyy+ZOT9I2vIrt7IJUFOiZGo5PUFX4qQrdHxHWYdPdhgMCon/W9ZG0e3CdT8DlCDviIlauUUHdQvSe9Q7HFn5TEdTUYMRmNFNFh0Iq/f8QedF4n/EHid7n65spPL6fPHltLu1ScCXhMNEPLkxIay0MHib3eK0s6bHa2RB7MG7GggWAjBvRH+gdNjs39kcYILYwKhFHpBnD7CL5BQayT4DCFA2lKkdtaDMaFACK4fMmRIwIRrlDdFt3Q06LOSaIEQnJwjrh6N98wEIXHoK4HCAEpQXABFBuxKYkMIjFOcmgdqGomeH9rwP7UWeHkQq69K+OrXiPLDyDvBKbtdb5wbEIJ5APIxNxW+pJ8bPDsAEITW2ZVIQwjmibAkeEaVh0o/dxQDwBh9zhLGIe8D+TKqn43+WvxW/PrrrwEBBNckBoTgtxG9klSBDaM9Ygix++Z6aFwkIASeFHhUkLz9WpPf9QfxMszo+dlxsYnoNo6u426J2xBy55BKIqm+sKwsNUYkuOtDo9yat/Y+DCHmWlVNIlF1DdXXWFgDbmsgFAhRxhIMNTSBU92OEV6FxnUIG1F5IEbzxniEOMGgh0EIQQgWYqhximgW8mOlg1AhBPfHep599llCqVZAFgzSihUrEvIl4FWw8oCoOaKxnwItXGMGXVZrOlK/CN0U8zCS5NlyUq6Z9kJmETcPg3z79u2yuR32H1CFMCTAl9bYRgw7wuxUFSarOeJzGLra0Duza9zyhOD+mB9CdRBChaRnCAxSJNPD4AUomwnCZOBxQ74EKixBcJqOHBnoySyvwOx+bkEI7o8cJHhwAOMo2AAB+KLpIgomqJA5O/uCMSgzrE3Mt7NPRvcONidE3QvfdYRX4XuPNUIQ8offDHzn9JXKtHPAHmEM8mRUh3T0QsG16EOkLyttNP9wQwjyUdCYNRCAYF4MIXbfXA+Ncwoh6bOkpnTif2Zyr+gdgopNCNeaPjKuyeCJ/edlEz0lRapko55j68o/GvXRqNA0L3V9q7oM4UJYjlWFKeSUAFwg1y5flx2zzQT5EDkKZzD9HHO768W4bqtf9VtBpw5ekLBkNIc6XYpR26fLy3l+I5ouqjK/wWx/JpFjkyJVcnkpPCnXrpiHc6EZYrrM5nuA3iFo3If5zPwgzhtwYp/Yg//6sMSIULSMOeL0ZSQI9YJXA6FqE56JS+5GM8SrQreBJNKeEG2TSH3BgWD2hK9hDRhpIFQIUfdEeAu6SuN+gTqIm+0C4tpRshMx7qGKGxCi5gBDAgm0qLpkp2N2qHM3u94tCFH3h/GtyvAalewN1zrUfd2EEO1cYdTCyEWTQqeJ8wgTgpFbsmRJP2+QE124CSHa5wJC4PXBugDEkZRQIUQ7d+wVvHTaBHW7a0N4F95jbSlpO9eGE0JQDhpNIVG0Q+W8mc2JIcTObnlsjFMIsVqencR0/B4MntGMMuWKoeWTRHL6f3kLuDc+e/ij22V4k1H1LaPnl2+SV/QZqS4/QqUrGKDBit3E9NKi4/sDIv8luaiEhY7u6OweiqBaV65icQ2hUHEMaw9WrBLTre7r1cT0krfnlO8OKn0Nqz8zIMhZ6YA/Zw2YacAtCIkmDbsJIdGyLrchJNLrCheERHpd4YKQSK9L+3w3ISQS6woXhADq4WUuBVwAAAchSURBVFWMjY31a+jJEBKJXY7QMyMBIVgqSvKiNC8E5WzR2A+lcxs+UoKa9Cjl+3s7ZW4TG0Ky5k9H/b5vSKhShfCruWPMm+JdOnfNr4eH2TYzhMBDFVpiOt6bpr1L014BoigqwMIaCIcGGELCoVX378kQ4r5Ow3FHhpBwaNXde4YDQlD6GIU64EmzG77InhB39zUq7hYpCEFuRvcPasmO5ZDzooJWyjTJpWEP+esXUeb2v+paVopCJacub1WTw3atOkFjey61usT0czueEKUzOw8BpHzYxbr8IrqsqzAxNE9EE8Vg5Vb1hKiKar8OX08oJsDCGgiHBhhCwqFV9+/JEOK+TsNxR4aQcGjV3Xu6DSFIskf+EQocqN5JdmbMEGJHSx4bEykIgZpSC+DoMrwqlRBhNPCCQK6Kcrhrfz8oE9K1ZX0DqbVpr9LU5LE47wnABQATrEQCQlKlSUFDF7WUOkAOysgO83z5G8Gs41aEkKz50tEzv90hQ7CGt5gl83hYWAPh0ABDSDi06v49GULc12k47sgQEg6tuntPNyEEXg8UL1i+fLlhL5BAM2cIcXdfo+JubkNIMIsCjBQVCeEAkL2iQ7rTHhuPflJbelSQkP5O2zmeywUoWjU7PfZ5Ham6397eSMt+2B2MGiN+TSQT0+s/WJxaPVWO1gmA/eGF1RHXBU8g6WqAIcQbe8sQ4o19YgiJ/n1yC0KQeN61a1dZFljfDd2OFhhC7GjJY2MUhCCZ95sBcZ3JcZq86+/gE6MTUwVIDB+6sKX0qqCfCPqKeE0aPVySmvctIxoCXqG3Ws+RMOYVSZspFRWskFVOt1ClrNIj5aRZISqCFRcNIiEoVNDxpbjKZE6aFaJXy9NT76DMudPSqHsX0JGd/g0ovaJLnqc3NMAQ4o19Ygjxxj4xhET/PrkFIU8//bQsC23UDd2OFhhC7GjJY2OM8htQjvaNZrM8sRI0pkODusuiTwcMeBjAXhN0mS9TPzfN/Wx7wCT3aFxXMdGdvIfoUq4VJxCi7QmjvYcTCLmtZX7Z5X7jnMM0cXBcSWEW1kC4NMAQEi7NuntfhhB39RmuuzGEhEuz7t3XDQh577336LnnnjNt1GpntgwhdrTksTHo6dGkZ1w+hRIYkahY5QWp0raADMP5e8o+mvWRe53VE3PtT01qRDEZUtLorot8Xc0T8/mhPAv9SJo9UcbvFlcuXqdJL9oLiULPkk7DEnZv/2nYWtt5HcgJylMyE83+eCt7QULZTL7WlgYYQmypKeKDGEIivgW2JsAQYktNER0UKoSgySOakNqtgmW2WIaQiL4G/HDWAGuANcAaiLQGGEIivQP2ns8QYk9PkR7FEBLpHbB+figQMm/ePNmpPlQAwSwZQqz3ikewBlgDrAHWQBLWAEOINzaXIcQb+8QQEv37FCyErF27lurUqSNzQKy6odvRAkOIHS3xGNYAa4A1wBpIshpgCPHG1jKEeGOfGEKif5+CgZA9e/bIbuinT5+21Q3djhYYQuxoicewBlgDrAHWQJLVAEOIN7aWIcQb+8QQEv375BRCjh8/LgHk0KFDroRhKQ0xhET/u8IzZA2wBlgDrIEwaoAhJIzKdfHWDCEuKjOMt2IICaNyXbq1Ewi5cOEC1a1bl7Zs2eKoG7qdqTKE2NESj2ENsAZYA6yBJKsBhhBvbG1ACMmSjbKNmeKNhfw3y3NjR9Cl2VNN55zl7S8opmFLT60Jk2UIif4tswsh165do9atW9PixYuDakZopQmGECsN8eesAdYAa4A1kKQ1wBDije0NBCHeWIGzWSZVCGlRpCw9ULaGM2VE2egKFSrQu+++S82bN4+ymdmbzhcbl9O8/dtNB79SuxXVzVeMunfvTj/++GNYAAQPZwixt188ijXAGmANsAaSqAYYQryxsQwh3tgnK0+IN1Zxa88SEDLjo3EStILthm5HgwwhdrTEY1gDrAHWAGsgyWqAIcQbW8sQ4o19Ygjxxj4FmuXtp5PR208MCKkbuh0tMITY0RKPYQ2wBlgDrIEkqwGGEG9sLUOIN/aJIcQb+xRolptGjqPDy9aEfSEMIWFXMT+ANcAaYA2wBqJZAwwh0bw78XNjCPHGPjGEeGOfAs1y3duf0bGV68O+EIaQsKuYH8AaYA2wBlgD0ayBmJgYOb1kyfBPYtKQ69evy4ZiAKykIlsrZKHUSWeLLLel197zNOvsVctx0TYg5+2VqVSfbtE2LZ6PAw0whDhQFg9lDbAGWAOsAdYAayBpa2BvjTwCQm4dCnlkxymaeeqS5zY1d91qVHHAw56bN084XgMMIfw2sAZYA6wB1gBrgDXAGvhPA9+Xzkapk986EPLmgVhaGXvFc/vPEOK5LUswYYYQ7+8hr4A1wBpgDbAGWAOsAdbALaWBbJVKU/Eu7W6pNSe1xf7zzRQ6tfmfsC/r/6zbr21eYtebAAAAAElFTkSuQmCC)"
      ]
    },
    {
      "cell_type": "markdown",
      "metadata": {
        "id": "CLalH-Ivdalj"
      },
      "source": [
        "Image source: http://www.scipy-lectures.org/_images/numpy_indexing.png"
      ]
    },
    {
      "cell_type": "code",
      "execution_count": null,
      "metadata": {
        "colab": {
          "base_uri": "https://localhost:8080/"
        },
        "id": "VCgF0RoNZfP1",
        "outputId": "cfa3fb19-ac92-4a8e-b23f-58242c8ba200",
        "scrolled": true
      },
      "outputs": [
        {
          "name": "stdout",
          "output_type": "stream",
          "text": [
            "tensor([[0, 1],\n",
            "        [2, 3],\n",
            "        [4, 5]])\n"
          ]
        }
      ],
      "source": [
        "x = torch.arange(6).reshape(3,2)\n",
        "print(x)"
      ]
    },
    {
      "cell_type": "code",
      "execution_count": null,
      "metadata": {
        "colab": {
          "base_uri": "https://localhost:8080/"
        },
        "id": "cVj7HK7oZfP2",
        "outputId": "c41b369e-0e50-4f1c-8799-93253a2245d6"
      },
      "outputs": [
        {
          "data": {
            "text/plain": [
              "tensor([1, 3, 5])"
            ]
          },
          "execution_count": 31,
          "metadata": {},
          "output_type": "execute_result"
        }
      ],
      "source": [
        "# Grabbing the right hand column values\n",
        "x[:,1]"
      ]
    },
    {
      "cell_type": "code",
      "execution_count": null,
      "metadata": {
        "colab": {
          "base_uri": "https://localhost:8080/"
        },
        "id": "mhvBuUTuZfP3",
        "outputId": "1900260a-5b37-481d-92d5-8664000c831f"
      },
      "outputs": [
        {
          "data": {
            "text/plain": [
              "tensor([[1],\n",
              "        [3],\n",
              "        [5]])"
            ]
          },
          "execution_count": 32,
          "metadata": {},
          "output_type": "execute_result"
        }
      ],
      "source": [
        "# Grabbing the right hand column as a (3,1) slice\n",
        "x[:,1:]"
      ]
    },
    {
      "cell_type": "markdown",
      "metadata": {
        "id": "5D7P7R1rZfP3"
      },
      "source": [
        "## Reshape tensors with <tt>.view()</tt>\n",
        "<a href='https://pytorch.org/docs/master/tensors.html#torch.Tensor.view'><strong><tt>view()</tt></strong></a> and <a href='https://pytorch.org/docs/master/torch.html#torch.reshape'><strong><tt>reshape()</tt></strong></a> do essentially the same thing by returning a reshaped tensor without changing the original tensor in place.<br>\n",
        "There's a good discussion of the differences <a href='https://stackoverflow.com/questions/49643225/whats-the-difference-between-reshape-and-view-in-pytorch'>here</a>."
      ]
    },
    {
      "cell_type": "code",
      "execution_count": null,
      "metadata": {
        "colab": {
          "base_uri": "https://localhost:8080/"
        },
        "id": "ixfIxmYgZfP4",
        "outputId": "6c1c6979-d1d1-428c-f6b1-4414b422fdcb"
      },
      "outputs": [
        {
          "name": "stdout",
          "output_type": "stream",
          "text": [
            "tensor([0, 1, 2, 3, 4, 5, 6, 7, 8, 9])\n"
          ]
        }
      ],
      "source": [
        "x = torch.arange(10)\n",
        "print(x)"
      ]
    },
    {
      "cell_type": "code",
      "execution_count": null,
      "metadata": {
        "colab": {
          "base_uri": "https://localhost:8080/"
        },
        "id": "0ZIh6hz6ZfP6",
        "outputId": "59828152-08ff-4cfc-bafa-d56daad1e350"
      },
      "outputs": [
        {
          "data": {
            "text/plain": [
              "tensor([[0, 1, 2, 3, 4],\n",
              "        [5, 6, 7, 8, 9]])"
            ]
          },
          "execution_count": 34,
          "metadata": {},
          "output_type": "execute_result"
        }
      ],
      "source": [
        "x.view(2,5)"
      ]
    },
    {
      "cell_type": "code",
      "execution_count": null,
      "metadata": {
        "colab": {
          "base_uri": "https://localhost:8080/"
        },
        "id": "4kPGz_YLZfP7",
        "outputId": "aa20c36d-6f07-4957-a589-95a894e0a627"
      },
      "outputs": [
        {
          "data": {
            "text/plain": [
              "tensor([[0, 1],\n",
              "        [2, 3],\n",
              "        [4, 5],\n",
              "        [6, 7],\n",
              "        [8, 9]])"
            ]
          },
          "execution_count": 35,
          "metadata": {},
          "output_type": "execute_result"
        }
      ],
      "source": [
        "x.view(5,2)"
      ]
    },
    {
      "cell_type": "code",
      "execution_count": null,
      "metadata": {
        "colab": {
          "base_uri": "https://localhost:8080/"
        },
        "id": "tyl_apZPZfP8",
        "outputId": "988690d7-ad27-45ee-daf7-0e6e526af068"
      },
      "outputs": [
        {
          "data": {
            "text/plain": [
              "tensor([0, 1, 2, 3, 4, 5, 6, 7, 8, 9])"
            ]
          },
          "execution_count": 36,
          "metadata": {},
          "output_type": "execute_result"
        }
      ],
      "source": [
        "# x is unchanged\n",
        "x"
      ]
    },
    {
      "cell_type": "code",
      "execution_count": null,
      "metadata": {
        "id": "LBHITaOpZfP8"
      },
      "outputs": [],
      "source": [
        "x = x.reshape(5,2)"
      ]
    },
    {
      "cell_type": "code",
      "execution_count": null,
      "metadata": {
        "colab": {
          "base_uri": "https://localhost:8080/"
        },
        "id": "LnOdywTQZfP8",
        "outputId": "0fa65284-b1e9-48ce-cf24-6a95c2bb5db7"
      },
      "outputs": [
        {
          "data": {
            "text/plain": [
              "tensor([[0, 1],\n",
              "        [2, 3],\n",
              "        [4, 5],\n",
              "        [6, 7],\n",
              "        [8, 9]])"
            ]
          },
          "execution_count": 38,
          "metadata": {},
          "output_type": "execute_result"
        }
      ],
      "source": [
        "x"
      ]
    },
    {
      "cell_type": "markdown",
      "metadata": {
        "id": "nLrZ0LslZfP9"
      },
      "source": [
        "### Views reflect the most current data"
      ]
    },
    {
      "cell_type": "code",
      "execution_count": null,
      "metadata": {
        "colab": {
          "base_uri": "https://localhost:8080/"
        },
        "id": "0mLq3b7IZfP9",
        "outputId": "b1e62cdf-4a59-4861-9f13-d664e96fe2f8"
      },
      "outputs": [
        {
          "name": "stdout",
          "output_type": "stream",
          "text": [
            "tensor([[234, 234,   2,   3,   4],\n",
            "        [  5,   6,   7,   8,   9]])\n"
          ]
        }
      ],
      "source": [
        "z = x.view(2,5)\n",
        "x[0]=234\n",
        "print(z)"
      ]
    },
    {
      "cell_type": "markdown",
      "metadata": {
        "id": "WXVA2ZU4ZfP-"
      },
      "source": [
        "### Views can infer the correct size\n",
        "By passing in <tt>-1</tt> PyTorch will infer the correct value from the given tensor"
      ]
    },
    {
      "cell_type": "code",
      "execution_count": null,
      "metadata": {
        "colab": {
          "base_uri": "https://localhost:8080/"
        },
        "id": "RvOW7BlfZfP_",
        "outputId": "2aaaa33a-a858-41b4-cd1f-8c2a4ab81297"
      },
      "outputs": [
        {
          "data": {
            "text/plain": [
              "tensor([[234, 234,   2,   3,   4],\n",
              "        [  5,   6,   7,   8,   9]])"
            ]
          },
          "execution_count": 40,
          "metadata": {},
          "output_type": "execute_result"
        }
      ],
      "source": [
        "x.view(2,-1)"
      ]
    },
    {
      "cell_type": "code",
      "execution_count": null,
      "metadata": {
        "colab": {
          "base_uri": "https://localhost:8080/"
        },
        "id": "ALIzq3HxZfP_",
        "outputId": "68b83be0-6082-4b04-8906-e95812d6ca0e"
      },
      "outputs": [
        {
          "data": {
            "text/plain": [
              "tensor([[234, 234,   2,   3,   4],\n",
              "        [  5,   6,   7,   8,   9]])"
            ]
          },
          "execution_count": 41,
          "metadata": {},
          "output_type": "execute_result"
        }
      ],
      "source": [
        "x.view(-1,5)"
      ]
    },
    {
      "cell_type": "markdown",
      "metadata": {
        "id": "8PqSDdGGZfQA"
      },
      "source": [
        "## Tensor Arithmetic\n",
        "Adding tensors can be performed a few different ways depending on the desired result.<br>\n",
        "\n",
        "As a simple expression:"
      ]
    },
    {
      "cell_type": "code",
      "execution_count": null,
      "metadata": {
        "colab": {
          "base_uri": "https://localhost:8080/"
        },
        "id": "rHsIITgpZfQA",
        "outputId": "b81355d9-f4be-401e-faf6-f658a7d74d39"
      },
      "outputs": [
        {
          "name": "stdout",
          "output_type": "stream",
          "text": [
            "tensor([5., 7., 9.])\n"
          ]
        }
      ],
      "source": [
        "a = torch.tensor([1,2,3], dtype=torch.float)\n",
        "b = torch.tensor([4,5,6], dtype=torch.float)\n",
        "print(a + b)"
      ]
    },
    {
      "cell_type": "markdown",
      "metadata": {
        "id": "oAzPgmfJZfQB"
      },
      "source": [
        "As arguments passed into a torch operation:"
      ]
    },
    {
      "cell_type": "code",
      "execution_count": null,
      "metadata": {
        "colab": {
          "base_uri": "https://localhost:8080/"
        },
        "id": "ad_Y_THFZfQB",
        "outputId": "9cbda60f-09e9-43eb-b8bd-dbd34f18b066"
      },
      "outputs": [
        {
          "name": "stdout",
          "output_type": "stream",
          "text": [
            "tensor([5., 7., 9.])\n"
          ]
        }
      ],
      "source": [
        "print(torch.add(a, b))"
      ]
    },
    {
      "cell_type": "markdown",
      "metadata": {
        "id": "QX1iNUR_ZfQC"
      },
      "source": [
        "With an output tensor passed in as an argument:"
      ]
    },
    {
      "cell_type": "code",
      "execution_count": null,
      "metadata": {
        "colab": {
          "base_uri": "https://localhost:8080/"
        },
        "id": "W49tyfkwZfQC",
        "outputId": "1cc99321-d567-4354-9712-81f5a71685ca"
      },
      "outputs": [
        {
          "name": "stdout",
          "output_type": "stream",
          "text": [
            "tensor([5., 7., 9.])\n"
          ]
        }
      ],
      "source": [
        "result = torch.empty(3)\n",
        "torch.add(a, b, out=result)  # equivalent to result=torch.add(a,b)\n",
        "print(result)"
      ]
    },
    {
      "cell_type": "markdown",
      "metadata": {
        "id": "G4IwEC_CZfQC"
      },
      "source": [
        "Changing a tensor in-place"
      ]
    },
    {
      "cell_type": "code",
      "execution_count": null,
      "metadata": {
        "colab": {
          "base_uri": "https://localhost:8080/"
        },
        "id": "t4TAGw_5ZfQD",
        "outputId": "3a5c9be8-9097-4fcc-b370-d79db15586f1"
      },
      "outputs": [
        {
          "name": "stdout",
          "output_type": "stream",
          "text": [
            "tensor([5., 7., 9.])\n"
          ]
        }
      ],
      "source": [
        "a.add_(b)  # equivalent to a=torch.add(a,b)\n",
        "print(a)"
      ]
    },
    {
      "cell_type": "markdown",
      "metadata": {
        "id": "ZAnJHaV0ZfQD"
      },
      "source": [
        "<div class=\"alert alert-info\"><strong>NOTE:</strong> Any operation that changes a tensor in-place is post-fixed with an underscore _.\n",
        "    <br>In the above example: <tt>a.add_(b)</tt> changed <tt>a</tt>.</div>"
      ]
    },
    {
      "cell_type": "markdown",
      "metadata": {
        "id": "U8Fm0x38ZfQD"
      },
      "source": [
        "### Basic Tensor Operations\n",
        "<table style=\"display: inline-block\">\n",
        "<caption style=\"text-align: center\"><strong>Arithmetic</strong></caption>\n",
        "<tr><th>OPERATION</th><th>FUNCTION</th><th>DESCRIPTION</th></tr>\n",
        "<tr><td>a + b</td><td>a.add(b)</td><td>element wise addition</td></tr>\n",
        "<tr><td>a - b</td><td>a.sub(b)</td><td>subtraction</td></tr>\n",
        "<tr><td>a * b</td><td>a.mul(b)</td><td>multiplication</td></tr>\n",
        "<tr><td>a / b</td><td>a.div(b)</td><td>division</td></tr>\n",
        "<tr><td>a % b</td><td>a.fmod(b)</td><td>modulo (remainder after division)</td></tr>\n",
        "<tr><td>a<sup>b</sup></td><td>a.pow(b)</td><td>power</td></tr>\n",
        "<tr><td>&nbsp;</td><td></td><td></td></tr>\n",
        "</table>"
      ]
    },
    {
      "cell_type": "markdown",
      "metadata": {
        "id": "GoZxPnVBZfQE"
      },
      "source": [
        "<table style=\"display: inline-block\">\n",
        "<caption style=\"text-align: center\"><strong>Monomial Operations</strong></caption>\n",
        "<tr><th>OPERATION</th><th>FUNCTION</th><th>DESCRIPTION</th></tr>\n",
        "<tr><td>|a|</td><td>torch.abs(a)</td><td>absolute value</td></tr>\n",
        "<tr><td>1/a</td><td>torch.reciprocal(a)</td><td>reciprocal</td></tr>\n",
        "<tr><td>$\\sqrt{a}$</td><td>torch.sqrt(a)</td><td>square root</td></tr>\n",
        "<tr><td>log(a)</td><td>torch.log(a)</td><td>natural log</td></tr>\n",
        "<tr><td>e<sup>a</sup></td><td>torch.exp(a)</td><td>exponential</td></tr>\n",
        "<tr><td>12.34  ==>  12.</td><td>torch.trunc(a)</td><td>truncated integer</td></tr>\n",
        "<tr><td>12.34  ==>  0.34</td><td>torch.frac(a)</td><td>fractional component</td></tr>\n",
        "</table>"
      ]
    },
    {
      "cell_type": "markdown",
      "metadata": {
        "id": "bhWp89l-ZfQE"
      },
      "source": [
        "<table style=\"display: inline-block\">\n",
        "<caption style=\"text-align: center\"><strong>Trigonometry</strong></caption>\n",
        "<tr><th>OPERATION</th><th>FUNCTION</th><th>DESCRIPTION</th></tr>\n",
        "<tr><td>sin(a)</td><td>torch.sin(a)</td><td>sine</td></tr>\n",
        "<tr><td>cos(a)</td><td>torch.sin(a)</td><td>cosine</td></tr>\n",
        "<tr><td>tan(a)</td><td>torch.sin(a)</td><td>tangent</td></tr>\n",
        "<tr><td>arcsin(a)</td><td>torch.asin(a)</td><td>arc sine</td></tr>\n",
        "<tr><td>arccos(a)</td><td>torch.acos(a)</td><td>arc cosine</td></tr>\n",
        "<tr><td>arctan(a)</td><td>torch.atan(a)</td><td>arc tangent</td></tr>\n",
        "<tr><td>sinh(a)</td><td>torch.sinh(a)</td><td>hyperbolic sine</td></tr>\n",
        "<tr><td>cosh(a)</td><td>torch.cosh(a)</td><td>hyperbolic cosine</td></tr>\n",
        "<tr><td>tanh(a)</td><td>torch.tanh(a)</td><td>hyperbolic tangent</td></tr>\n",
        "</table>"
      ]
    },
    {
      "cell_type": "markdown",
      "metadata": {
        "id": "pHzPt6y2ZfQF"
      },
      "source": [
        "<table style=\"display: inline-block\">\n",
        "<caption style=\"text-align: center\"><strong>Summary Statistics</strong></caption>\n",
        "<tr><th>OPERATION</th><th>FUNCTION</th><th>DESCRIPTION</th></tr>\n",
        "<tr><td>$\\sum a$</td><td>torch.sum(a)</td><td>sum</td></tr>\n",
        "<tr><td>$\\bar a$</td><td>torch.mean(a)</td><td>mean</td></tr>\n",
        "<tr><td>a<sub>max</sub></td><td>torch.max(a)</td><td>maximum</td></tr>\n",
        "<tr><td>a<sub>min</sub></td><td>torch.min(a)</td><td>minimum</td></tr>\n",
        "<tr><td colspan=\"3\">torch.max(a,b) returns a tensor of size a<br>containing the element wise max between a and b</td></tr>\n",
        "</table>"
      ]
    },
    {
      "cell_type": "markdown",
      "metadata": {
        "id": "Jm9xDJZiZfQF"
      },
      "source": [
        "<div class=\"alert alert-info\"><strong>NOTE:</strong> Most arithmetic operations require float values. Those that do work with integers return integer tensors.<br>\n",
        "For example, <tt>torch.div(a,b)</tt> performs floor division (truncates the decimal) for integer types, and classic division for floats.</div>"
      ]
    },
    {
      "cell_type": "markdown",
      "metadata": {
        "id": "qf3eF5nBZfQG"
      },
      "source": [
        "#### Use the space below to experiment with different operations"
      ]
    },
    {
      "cell_type": "code",
      "execution_count": null,
      "metadata": {
        "colab": {
          "base_uri": "https://localhost:8080/"
        },
        "id": "SmgOt2HvZfQG",
        "outputId": "9b143f48-a0c7-46ec-a424-72e3aee070c5"
      },
      "outputs": [
        {
          "name": "stdout",
          "output_type": "stream",
          "text": [
            "tensor(21.)\n"
          ]
        }
      ],
      "source": [
        "a = torch.tensor([1,2,3], dtype=torch.float)\n",
        "b = torch.tensor([4,5,6], dtype=torch.float)\n",
        "print(torch.add(a,b).sum())"
      ]
    },
    {
      "cell_type": "code",
      "execution_count": null,
      "metadata": {
        "colab": {
          "base_uri": "https://localhost:8080/"
        },
        "id": "oyYEta2pZfQG",
        "outputId": "e10112a1-770c-4994-8d5b-184e98db8e10"
      },
      "outputs": [
        {
          "data": {
            "text/plain": [
              "tensor(7.)"
            ]
          },
          "execution_count": 47,
          "metadata": {},
          "output_type": "execute_result"
        }
      ],
      "source": [
        "torch.min(a) + b.max()"
      ]
    },
    {
      "cell_type": "markdown",
      "metadata": {
        "id": "PmYHLhySZfQH"
      },
      "source": [
        "## Dot products\n",
        "A <a href='https://en.wikipedia.org/wiki/Dot_product'>dot product</a> is the sum of the products of the corresponding entries of two 1D tensors. If the tensors are both vectors, the dot product is given as:<br>\n",
        "\n",
        "$\\begin{bmatrix} a & b & c \\end{bmatrix} \\;\\cdot\\; \\begin{bmatrix} d & e & f \\end{bmatrix} = ad + be + cf$\n",
        "\n",
        "If the tensors include a column vector, then the dot product is the sum of the result of the multiplied matrices. For example:<br>\n",
        "$\\begin{bmatrix} a & b & c \\end{bmatrix} \\;\\cdot\\; \\begin{bmatrix} d \\\\ e \\\\ f \\end{bmatrix} = ad + be + cf$<br><br>\n",
        "Dot products can be expressed as <a href='https://pytorch.org/docs/stable/torch.html#torch.dot'><strong><tt>torch.dot(a,b)</tt></strong></a> or `a.dot(b)` or `b.dot(a)`"
      ]
    },
    {
      "cell_type": "code",
      "execution_count": null,
      "metadata": {
        "colab": {
          "base_uri": "https://localhost:8080/"
        },
        "id": "AI-nZl5WZfQI",
        "outputId": "3c5be27b-c57f-443e-91d2-abf898d4feaf",
        "scrolled": true
      },
      "outputs": [
        {
          "name": "stdout",
          "output_type": "stream",
          "text": [
            "tensor([ 4., 10., 18.])\n",
            "\n",
            "tensor(32.)\n"
          ]
        }
      ],
      "source": [
        "a = torch.tensor([1,2,3], dtype=torch.float)\n",
        "b = torch.tensor([4,5,6], dtype=torch.float)\n",
        "print(a.mul(b)) # for reference\n",
        "print()\n",
        "print(a.dot(b))"
      ]
    },
    {
      "cell_type": "markdown",
      "metadata": {
        "id": "VFyAHuCRZfQI"
      },
      "source": [
        "<div class=\"alert alert-info\"><strong>NOTE:</strong> There's a slight difference between <tt>torch.dot()</tt> and <tt>numpy.dot()</tt>. While <tt>torch.dot()</tt> only accepts 1D arguments and returns a dot product, <tt>numpy.dot()</tt> also accepts 2D arguments and performs matrix multiplication. We show matrix multiplication below.</div>"
      ]
    },
    {
      "cell_type": "markdown",
      "metadata": {
        "id": "9dprv2j-ZfQI"
      },
      "source": [
        "## Matrix multiplication\n",
        "2D <a href='https://en.wikipedia.org/wiki/Matrix_multiplication'>Matrix multiplication</a> is possible when the number of columns in tensor <strong><tt>A</tt></strong> matches the number of rows in tensor <strong><tt>B</tt></strong>. In this case, the product of tensor <strong><tt>A</tt></strong> with size $(x,y)$ and tensor <strong><tt>B</tt></strong> with size $(y,z)$ results in a tensor of size $(x,z)$\n",
        "<div>"
      ]
    },
    {
      "cell_type": "markdown",
      "metadata": {
        "id": "Z5_aUf5JelrY"
      },
      "source": [
        "\n",
        "$\\begin{bmatrix} a & b & c \\\\\n",
        "d & e & f \\end{bmatrix} \\;\\times\\; \\begin{bmatrix} m & n \\\\ p & q \\\\ r & s \\end{bmatrix} = \\begin{bmatrix} (am+bp+cr) & (an+bq+cs) \\\\\n",
        "(dm+ep+fr) & (dn+eq+fs) \\end{bmatrix}$</div></div>"
      ]
    },
    {
      "cell_type": "markdown",
      "metadata": {
        "id": "jPQhY2qMe1pi"
      },
      "source": [
        "![Matrix_multiplication_diagram_2.svg.png](data:image/png;base64,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)"
      ]
    },
    {
      "cell_type": "markdown",
      "metadata": {
        "id": "7Llz9q1TexoG"
      },
      "source": [
        "<div style=\"clear:both\">Image source: <a href='https://commons.wikimedia.org/wiki/File:Matrix_multiplication_diagram_2.svg'>https://commons.wikimedia.org/wiki/File:Matrix_multiplication_diagram_2.svg</a></div>\n",
        "\n",
        "Matrix multiplication can be computed using <a href='https://pytorch.org/docs/stable/torch.html#torch.mm'><strong><tt>torch.mm(a,b)</tt></strong></a> or `a.mm(b)` or `a @ b`"
      ]
    },
    {
      "cell_type": "code",
      "execution_count": null,
      "metadata": {
        "colab": {
          "base_uri": "https://localhost:8080/"
        },
        "id": "lXU_0EKiZfQJ",
        "outputId": "e6ad96a2-f174-4782-bb6d-b476d7ea09ab"
      },
      "outputs": [
        {
          "name": "stdout",
          "output_type": "stream",
          "text": [
            "a:  torch.Size([2, 3])\n",
            "b:  torch.Size([3, 2])\n",
            "a x b:  torch.Size([2, 2])\n"
          ]
        }
      ],
      "source": [
        "a = torch.tensor([[0,2,4],[1,3,5]], dtype=torch.float)\n",
        "b = torch.tensor([[6,7],[8,9],[10,11]], dtype=torch.float)\n",
        "\n",
        "print('a: ',a.size())\n",
        "print('b: ',b.size())\n",
        "print('a x b: ',torch.mm(a,b).size())"
      ]
    },
    {
      "cell_type": "code",
      "execution_count": null,
      "metadata": {
        "colab": {
          "base_uri": "https://localhost:8080/"
        },
        "id": "AZZDVLLWZfQJ",
        "outputId": "b3721b19-3e42-4680-a1d7-fa1ce3f958c3"
      },
      "outputs": [
        {
          "name": "stdout",
          "output_type": "stream",
          "text": [
            "tensor([[56., 62.],\n",
            "        [80., 89.]])\n"
          ]
        }
      ],
      "source": [
        "print(torch.mm(a,b))"
      ]
    },
    {
      "cell_type": "code",
      "execution_count": null,
      "metadata": {
        "colab": {
          "base_uri": "https://localhost:8080/"
        },
        "id": "twz7zcKDZfQJ",
        "outputId": "7888ae31-b995-495c-92f2-485882ef1f33"
      },
      "outputs": [
        {
          "name": "stdout",
          "output_type": "stream",
          "text": [
            "tensor([[56., 62.],\n",
            "        [80., 89.]])\n"
          ]
        }
      ],
      "source": [
        "print(a.mm(b))"
      ]
    },
    {
      "cell_type": "code",
      "execution_count": null,
      "metadata": {
        "colab": {
          "base_uri": "https://localhost:8080/"
        },
        "id": "AHMxf1oVZfQK",
        "outputId": "4f91404a-d5d4-4c2f-d566-470e33a671d8"
      },
      "outputs": [
        {
          "name": "stdout",
          "output_type": "stream",
          "text": [
            "tensor([[56., 62.],\n",
            "        [80., 89.]])\n"
          ]
        }
      ],
      "source": [
        "print(a @ b)"
      ]
    },
    {
      "cell_type": "markdown",
      "metadata": {
        "id": "iiwqBkB-ZfQK"
      },
      "source": [
        "### Matrix multiplication with broadcasting\n",
        "Matrix multiplication that involves <a href='https://pytorch.org/docs/stable/notes/broadcasting.html#broadcasting-semantics'>broadcasting</a> can be computed using <a href='https://pytorch.org/docs/stable/torch.html#torch.matmul'><strong><tt>torch.matmul(a,b)</tt></strong></a> or `a.matmul(b)` or `a @ b`"
      ]
    },
    {
      "cell_type": "code",
      "execution_count": null,
      "metadata": {
        "colab": {
          "base_uri": "https://localhost:8080/"
        },
        "id": "tcMLfOPeZfQL",
        "outputId": "1258964a-6659-458a-9892-628053a1e42e"
      },
      "outputs": [
        {
          "name": "stdout",
          "output_type": "stream",
          "text": [
            "torch.Size([2, 3, 5])\n"
          ]
        }
      ],
      "source": [
        "t1 = torch.randn(2, 3, 4)\n",
        "t2 = torch.randn(4, 5)\n",
        "\n",
        "print(torch.matmul(t1, t2).size())"
      ]
    },
    {
      "cell_type": "code",
      "execution_count": null,
      "metadata": {
        "colab": {
          "base_uri": "https://localhost:8080/"
        },
        "id": "nPO3Px44ZfQN",
        "outputId": "7092727d-85e9-4998-8732-9d873b9a8fc2"
      },
      "outputs": [
        {
          "data": {
            "text/plain": [
              "tensor([[ 0.7596,  0.7343, -0.6708],\n",
              "        [ 2.7421,  0.5568, -0.8123]])"
            ]
          },
          "execution_count": 54,
          "metadata": {},
          "output_type": "execute_result"
        }
      ],
      "source": [
        "t1 = torch.randn(2, 3)\n",
        "t1"
      ]
    },
    {
      "cell_type": "code",
      "execution_count": null,
      "metadata": {
        "colab": {
          "base_uri": "https://localhost:8080/"
        },
        "id": "ETPpj3fKZfQN",
        "outputId": "aba484a2-cd4a-4511-9e4a-5fab70422026"
      },
      "outputs": [
        {
          "data": {
            "text/plain": [
              "tensor([[ 1.1964],\n",
              "        [ 0.8613],\n",
              "        [-1.3682]])"
            ]
          },
          "execution_count": 55,
          "metadata": {},
          "output_type": "execute_result"
        }
      ],
      "source": [
        "t2 = torch.randn(3).reshape(3,1)\n",
        "t2"
      ]
    },
    {
      "cell_type": "code",
      "execution_count": null,
      "metadata": {
        "colab": {
          "base_uri": "https://localhost:8080/"
        },
        "id": "6dwwBNI4ZfQO",
        "outputId": "36fcd686-1c78-4e1c-9afe-50dee54910f2"
      },
      "outputs": [
        {
          "name": "stdout",
          "output_type": "stream",
          "text": [
            "tensor([[2.4590],\n",
            "        [4.8718]])\n"
          ]
        }
      ],
      "source": [
        "print(torch.mm(t1, t2))"
      ]
    },
    {
      "cell_type": "markdown",
      "metadata": {
        "id": "3ybJJFv6ZfQO"
      },
      "source": [
        "___\n",
        "# Advanced operations"
      ]
    },
    {
      "cell_type": "markdown",
      "metadata": {
        "id": "e1dECUWSZfQP"
      },
      "source": [
        "## L2 or Euclidian Norm\n",
        "See <a href='https://pytorch.org/docs/stable/torch.html#torch.norm'><strong><tt>torch.norm()</tt></strong></a>\n",
        "\n",
        "The <a href='https://en.wikipedia.org/wiki/Norm_(mathematics)#Euclidean_norm'>Euclidian Norm</a> gives the vector norm of $x$ where $x=(x_1,x_2,...,x_n)$.<br>\n",
        "It is calculated as<br>\n",
        "\n",
        "${\\displaystyle \\left\\|{\\boldsymbol {x}}\\right\\|_{2}:={\\sqrt {x_{1}^{2}+\\cdots +x_{n}^{2}}}}$\n",
        "\n",
        "\n",
        "When applied to a matrix, <tt>torch.norm()</tt> returns the <a href='https://en.wikipedia.org/wiki/Matrix_norm#Frobenius_norm'>Frobenius norm</a> by default."
      ]
    },
    {
      "cell_type": "code",
      "execution_count": null,
      "metadata": {
        "colab": {
          "base_uri": "https://localhost:8080/"
        },
        "id": "wZNscNWeZfQQ",
        "outputId": "0dab6df7-2215-4c55-dbd8-70fd3a0bc1ba"
      },
      "outputs": [
        {
          "data": {
            "text/plain": [
              "tensor(17.)"
            ]
          },
          "execution_count": 57,
          "metadata": {},
          "output_type": "execute_result"
        }
      ],
      "source": [
        "x = torch.tensor([2.,5.,8.,14.])\n",
        "x.norm()"
      ]
    },
    {
      "cell_type": "markdown",
      "metadata": {
        "id": "xblj33PNZfQQ"
      },
      "source": [
        "## Number of elements\n",
        "See <a href='https://pytorch.org/docs/stable/torch.html#torch.numel'><strong><tt>torch.numel()</tt></strong></a>\n",
        "\n",
        "Returns the number of elements in a tensor."
      ]
    },
    {
      "cell_type": "code",
      "execution_count": null,
      "metadata": {
        "colab": {
          "base_uri": "https://localhost:8080/"
        },
        "id": "e51tR5v1ZfQR",
        "outputId": "2986a3a1-5462-4c55-904e-860b533edb7e"
      },
      "outputs": [
        {
          "data": {
            "text/plain": [
              "21"
            ]
          },
          "execution_count": 58,
          "metadata": {},
          "output_type": "execute_result"
        }
      ],
      "source": [
        "x = torch.ones(3,7)\n",
        "x.numel()"
      ]
    },
    {
      "cell_type": "markdown",
      "metadata": {
        "id": "yUzeALu0ZfQR"
      },
      "source": [
        "This can be useful in certain calculations like Mean Squared Error:<br>\n",
        "<tt>\n",
        "def mse(t1, t2):<br>\n",
        "&nbsp;&nbsp;&nbsp;&nbsp;diff = t1 - t2<br>\n",
        "    &nbsp;&nbsp;&nbsp;&nbsp;return torch.sum(diff * diff) / diff<strong>.numel()</strong></tt>"
      ]
    },
    {
      "attachments": {},
      "cell_type": "markdown",
      "metadata": {},
      "source": [
        "## References\n",
        "- Some part of this notebook are from Jose Marcial Portilla works."
      ]
    }
  ],
  "metadata": {
    "colab": {
      "provenance": []
    },
    "kernelspec": {
      "display_name": "Python 3",
      "name": "python3"
    },
    "language_info": {
      "name": "python"
    }
  },
  "nbformat": 4,
  "nbformat_minor": 0
}
