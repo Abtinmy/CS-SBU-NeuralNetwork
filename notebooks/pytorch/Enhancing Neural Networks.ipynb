{
  "cells": [
    {
      "attachments": {},
      "cell_type": "markdown",
      "metadata": {
        "id": "uV0g6npuRFRZ"
      },
      "source": [
        "# Optimization Algorithms"
      ]
    },
    {
      "cell_type": "markdown",
      "metadata": {
        "id": "cLLX22lqRlq6"
      },
      "source": [
        "In this section, we will explore four optimization algorithms commonly used in machine learning for Artificial Neural Networks (ANN): Gradient Descent, Stochastic Gradient Descent, Adam, and Adagrad.\n",
        "<br>At the end of this section, we will use a simple example of ANN in PyTorch to compare the performance of these algorithms."
      ]
    },
    {
      "attachments": {},
      "cell_type": "markdown",
      "metadata": {
        "id": "m56CwxOPR12x"
      },
      "source": [
        "## Gradient Descent"
      ]
    },
    {
      "cell_type": "markdown",
      "metadata": {
        "id": "YRIMJirfR0TI"
      },
      "source": [
        "Gradient Descent is a popular optimization algorithm used to find the minimum of a function. It works by taking small steps proportional to the negative gradient of the function. Here's a basic implementation:"
      ]
    },
    {
      "cell_type": "code",
      "execution_count": null,
      "metadata": {
        "id": "2LurD3wER1bQ"
      },
      "outputs": [],
      "source": [
        "def gradient_descent(x, y, theta, alpha, num_iters):\n",
        "    m = len(y)\n",
        "    for i in range(num_iters):\n",
        "        h = np.dot(x, theta)\n",
        "        loss = h - y\n",
        "        gradient = np.dot(x.T, loss) / m\n",
        "        theta -= alpha * gradient\n",
        "    return theta"
      ]
    },
    {
      "attachments": {},
      "cell_type": "markdown",
      "metadata": {
        "id": "WADJnJhASJ6R"
      },
      "source": [
        "## Stochastic Gradient Descent"
      ]
    },
    {
      "cell_type": "markdown",
      "metadata": {
        "id": "v148AAK4SJwr"
      },
      "source": [
        "Stochastic Gradient Descent is a variation of Gradient Descent that randomly selects a subset of the training data to compute the gradient. This can be more efficient for large datasets. Here's a basic implementation:"
      ]
    },
    {
      "cell_type": "code",
      "execution_count": null,
      "metadata": {
        "id": "z9ssEv46SQ-K"
      },
      "outputs": [],
      "source": [
        "def stochastic_gradient_descent(x, y, theta, alpha, num_epochs, batch_size):\n",
        "    m = len(y)\n",
        "    num_batches = m // batch_size\n",
        "    for epoch in range(num_epochs):\n",
        "        for batch in range(num_batches):\n",
        "            start_idx = batch * batch_size\n",
        "            end_idx = (batch + 1) * batch_size\n",
        "            batch_x = x[start_idx:end_idx]\n",
        "            batch_y = y[start_idx:end_idx]\n",
        "            h = np.dot(batch_x, theta)\n",
        "            loss = h - batch_y\n",
        "            gradient = np.dot(batch_x.T, loss) / batch_size\n",
        "            theta -= alpha * gradient\n",
        "    return theta"
      ]
    },
    {
      "attachments": {},
      "cell_type": "markdown",
      "metadata": {
        "id": "W3U0IPn0SV_v"
      },
      "source": [
        "## Adam"
      ]
    },
    {
      "cell_type": "markdown",
      "metadata": {
        "id": "L6fbMIS-SV9P"
      },
      "source": [
        "Adam is an adaptive learning rate optimization algorithm commonly used in deep learning. It combines ideas from both Adagrad and RMSProp. Here's a basic implementation:"
      ]
    },
    {
      "cell_type": "code",
      "execution_count": null,
      "metadata": {
        "id": "trfhpVYGScx3"
      },
      "outputs": [],
      "source": [
        "def adam(x, y, theta, alpha, beta1, beta2, eps, num_iters):\n",
        "    m = len(y)\n",
        "    v = np.zeros(theta.shape)\n",
        "    s = np.zeros(theta.shape)\n",
        "    for i in range(num_iters):\n",
        "        h = np.dot(x, theta)\n",
        "        loss = h - y\n",
        "        gradient = np.dot(x.T, loss) / m\n",
        "        v = beta1 * v + (1 - beta1) * gradient\n",
        "        s = beta2 * s + (1 - beta2) * (gradient ** 2)\n",
        "        v_corrected = v / (1 - beta1 ** (i + 1))\n",
        "        s_corrected = s / (1 - beta2 ** (i + 1))\n",
        "        theta -= alpha * v_corrected / (np.sqrt(s_corrected) + eps)\n",
        "    return theta"
      ]
    },
    {
      "attachments": {},
      "cell_type": "markdown",
      "metadata": {
        "id": "76Pm_FyASgBe"
      },
      "source": [
        "## Adagrad"
      ]
    },
    {
      "cell_type": "markdown",
      "metadata": {
        "id": "AWTYw5fKSf_K"
      },
      "source": [
        "Adagrad is an adaptive learning rate optimization algorithm that adapts the learning rate of each parameter based on the historical gradient information. Here's a basic implementation:"
      ]
    },
    {
      "cell_type": "code",
      "execution_count": null,
      "metadata": {
        "id": "hvEEUJyeSm2l"
      },
      "outputs": [],
      "source": [
        "def adagrad(x, y, theta, alpha, eps, num_iters):\n",
        "    m = len(y)\n",
        "    g = np.zeros(theta.shape)\n",
        "    for i in range(num_iters):\n",
        "        h = np.dot(x, theta)\n",
        "        loss = h - y\n",
        "        gradient = np.dot(x.T, loss) / m\n",
        "        g += gradient ** 2\n",
        "        theta -= alpha * gradient / (np.sqrt(g) + eps)\n",
        "    return theta"
      ]
    },
    {
      "attachments": {},
      "cell_type": "markdown",
      "metadata": {
        "id": "8yX13MpXS38X"
      },
      "source": [
        "## Example"
      ]
    },
    {
      "attachments": {},
      "cell_type": "markdown",
      "metadata": {
        "id": "VYUX3zZ0TAoi"
      },
      "source": [
        "### The Dataset"
      ]
    },
    {
      "cell_type": "markdown",
      "metadata": {
        "id": "JDbZdujfTGID"
      },
      "source": [
        "We will use the MNIST dataset, which contains images of handwritten digits. Our goal is to classify the digits correctly. We will use the PyTorch library to load and preprocess the data:"
      ]
    },
    {
      "cell_type": "code",
      "execution_count": null,
      "metadata": {
        "id": "TbzVOA37S8Gq"
      },
      "outputs": [],
      "source": [
        "import torch\n",
        "from torchvision import datasets, transforms\n",
        "\n",
        "transform = transforms.Compose([transforms.ToTensor(),\n",
        "                                transforms.Normalize((0.5,), (0.5,))])\n",
        "\n",
        "trainset = datasets.MNIST('~/.pytorch/MNIST_data/', download=True, train=True, transform=transform)\n",
        "trainloader = torch.utils.data.DataLoader(trainset, batch_size=64, shuffle=True)\n",
        "\n",
        "testset = datasets.MNIST('~/.pytorch/MNIST_data/', download=True, train=False, transform=transform)\n",
        "testloader = torch.utils.data.DataLoader(testset, batch_size=64, shuffle=True)"
      ]
    },
    {
      "attachments": {},
      "cell_type": "markdown",
      "metadata": {
        "id": "9qQY00BiTKCL"
      },
      "source": [
        "### The Model"
      ]
    },
    {
      "cell_type": "markdown",
      "metadata": {
        "id": "k77CbfNJTKAL"
      },
      "source": [
        "We will use a simple neural network with one hidden layer to classify the digits:\n"
      ]
    },
    {
      "cell_type": "code",
      "execution_count": null,
      "metadata": {
        "id": "Pf-1mKwlTPZK"
      },
      "outputs": [],
      "source": [
        "import torch.nn as nn\n",
        "import torch.nn.functional as F\n",
        "\n",
        "class Net(nn.Module):\n",
        "    def __init__(self):\n",
        "        super().__init__()\n",
        "        self.fc1 = nn.Linear(784, 128)\n",
        "        self.fc2 = nn.Linear(128, 10)\n",
        "        \n",
        "    def forward(self, x):\n",
        "        x = x.view(x.shape[0], -1)\n",
        "        x = F.relu(self.fc1(x))\n",
        "        x = self.fc2(x)\n",
        "        return x"
      ]
    },
    {
      "attachments": {},
      "cell_type": "markdown",
      "metadata": {
        "id": "0M8hyUCMU2Vm"
      },
      "source": [
        "### Optimizers"
      ]
    },
    {
      "attachments": {},
      "cell_type": "markdown",
      "metadata": {
        "id": "IAKAKgbrTVal"
      },
      "source": [
        "#### Gradient Descent\n"
      ]
    },
    {
      "cell_type": "markdown",
      "metadata": {
        "id": "Sje_ezlsTdHf"
      },
      "source": [
        "Gradient Descent is an optimization algorithm that updates the weights by taking small steps proportional to the negative gradient of the cost function. Here's an implementation:"
      ]
    },
    {
      "cell_type": "code",
      "execution_count": null,
      "metadata": {
        "colab": {
          "base_uri": "https://localhost:8080/"
        },
        "id": "fKOa5xYdTWP4",
        "outputId": "42d3f966-10ed-4de5-948c-c64118072012"
      },
      "outputs": [
        {
          "name": "stdout",
          "output_type": "stream",
          "text": [
            "Epoch 1 - Training loss: 0.7636198318207951\n",
            "Epoch 2 - Training loss: 0.36486080943394317\n",
            "Epoch 3 - Training loss: 0.3200933822929097\n",
            "Epoch 4 - Training loss: 0.29387159297651827\n",
            "Epoch 5 - Training loss: 0.2722847205139935\n",
            "Epoch 6 - Training loss: 0.2537475991398414\n",
            "Epoch 7 - Training loss: 0.23747859278451533\n",
            "Epoch 8 - Training loss: 0.22229819127650402\n",
            "Epoch 9 - Training loss: 0.20878823361258264\n",
            "Epoch 10 - Training loss: 0.19615344945857646\n"
          ]
        }
      ],
      "source": [
        "import torch.optim as optim\n",
        "\n",
        "net_gd = Net()\n",
        "criterion = nn.CrossEntropyLoss()\n",
        "optimizer_gd = optim.SGD(net_gd.parameters(), lr=0.01)\n",
        "\n",
        "for epoch in range(10):\n",
        "    running_loss = 0.0\n",
        "    for i, data in enumerate(trainloader, 0):\n",
        "        inputs, labels = data\n",
        "        optimizer_gd.zero_grad()\n",
        "        outputs = net_gd(inputs)\n",
        "        loss = criterion(outputs, labels)\n",
        "        loss.backward()\n",
        "        optimizer_gd.step()\n",
        "        running_loss += loss.item()\n",
        "    print(f\"Epoch {epoch+1} - Training loss: {running_loss/len(trainloader)}\")"
      ]
    },
    {
      "attachments": {},
      "cell_type": "markdown",
      "metadata": {
        "id": "R6NwV6MKTjcN"
      },
      "source": [
        "#### Stochastic Gradient Descent"
      ]
    },
    {
      "cell_type": "markdown",
      "metadata": {
        "id": "Js55aFv8TjPV"
      },
      "source": [
        "Stochastic Gradient Descent is a variation of Gradient Descent that randomly selects a subset of the training data to compute the gradient. Here's an implementation:"
      ]
    },
    {
      "cell_type": "code",
      "execution_count": null,
      "metadata": {
        "colab": {
          "base_uri": "https://localhost:8080/"
        },
        "id": "uylnAYTkTi9z",
        "outputId": "8fbaf252-029e-4e7c-f863-f621ab0dca5f"
      },
      "outputs": [
        {
          "name": "stdout",
          "output_type": "stream",
          "text": [
            "Epoch 1 - Training loss: 0.7403915994711268\n",
            "Epoch 2 - Training loss: 0.3658850252755415\n",
            "Epoch 3 - Training loss: 0.32004620469232864\n",
            "Epoch 4 - Training loss: 0.29274800379297883\n",
            "Epoch 5 - Training loss: 0.27103663092927893\n",
            "Epoch 6 - Training loss: 0.25184677428861796\n",
            "Epoch 7 - Training loss: 0.23433835309610437\n",
            "Epoch 8 - Training loss: 0.21906160407149589\n",
            "Epoch 9 - Training loss: 0.20534879077615134\n",
            "Epoch 10 - Training loss: 0.19367891785972663\n"
          ]
        }
      ],
      "source": [
        "net_sgd = Net()\n",
        "criterion = nn.CrossEntropyLoss()\n",
        "optimizer_sgd = optim.SGD(net_sgd.parameters(), lr=0.01)\n",
        "\n",
        "for epoch in range(10):\n",
        "    running_loss = 0.0\n",
        "    for i, data in enumerate(trainloader, 0):\n",
        "        inputs, labels = data\n",
        "        optimizer_sgd.zero_grad()\n",
        "        outputs = net_sgd(inputs)\n",
        "        loss = criterion(outputs, labels)\n",
        "        loss.backward()\n",
        "        optimizer_sgd.step()\n",
        "        running_loss += loss.item()\n",
        "    print(f\"Epoch {epoch+1} - Training loss: {running_loss/len(trainloader)}\")"
      ]
    },
    {
      "attachments": {},
      "cell_type": "markdown",
      "metadata": {
        "id": "l3dkFANmTqzb"
      },
      "source": [
        "#### Adam"
      ]
    },
    {
      "cell_type": "markdown",
      "metadata": {
        "id": "wW8UyiWUTqxC"
      },
      "source": [
        "Adam is an optimization algorithm that uses a combination of the momentum and the RMSProp algorithms to update the weights. Here's an implementation:"
      ]
    },
    {
      "cell_type": "code",
      "execution_count": null,
      "metadata": {
        "colab": {
          "base_uri": "https://localhost:8080/"
        },
        "id": "z_QbNJ9eT0Gy",
        "outputId": "5e267cb2-c3b3-4187-ff10-ac91d41730d1"
      },
      "outputs": [
        {
          "name": "stdout",
          "output_type": "stream",
          "text": [
            "Epoch 1 - Training loss: 0.37877759078878964\n",
            "Epoch 2 - Training loss: 0.26250591529791417\n",
            "Epoch 3 - Training loss: 0.26395529823234753\n",
            "Epoch 4 - Training loss: 0.2391578414475422\n",
            "Epoch 5 - Training loss: 0.23050028789859972\n",
            "Epoch 6 - Training loss: 0.23365767995940087\n",
            "Epoch 7 - Training loss: 0.22652304056224656\n",
            "Epoch 8 - Training loss: 0.2122049488490626\n",
            "Epoch 9 - Training loss: 0.21488882778788299\n",
            "Epoch 10 - Training loss: 0.21302336291459673\n"
          ]
        }
      ],
      "source": [
        "net_adam = Net()\n",
        "criterion = nn.CrossEntropyLoss()\n",
        "optimizer_adam = optim.Adam(net_adam.parameters(), lr=0.01)\n",
        "\n",
        "for epoch in range(10):\n",
        "    running_loss = 0.0\n",
        "    for i, data in enumerate(trainloader, 0):\n",
        "        inputs, labels = data\n",
        "        optimizer_adam.zero_grad()\n",
        "        outputs = net_adam(inputs)\n",
        "        loss = criterion(outputs, labels)\n",
        "        loss.backward()\n",
        "        optimizer_adam.step()\n",
        "        running_loss += loss.item()\n",
        "    print(f\"Epoch {epoch+1} - Training loss: {running_loss/len(trainloader)}\")"
      ]
    },
    {
      "attachments": {},
      "cell_type": "markdown",
      "metadata": {
        "id": "-XHO-CkcT1p1"
      },
      "source": [
        "#### Adagrad"
      ]
    },
    {
      "cell_type": "markdown",
      "metadata": {
        "id": "SW9laC5oT1nY"
      },
      "source": [
        "Adagrad is an optimization algorithm that adapts the learning rate of each weight based on the historical gradients. Here's an implementation:"
      ]
    },
    {
      "cell_type": "code",
      "execution_count": null,
      "metadata": {
        "colab": {
          "base_uri": "https://localhost:8080/"
        },
        "id": "aTi_hwZ_T58D",
        "outputId": "57a22343-62b1-483a-8165-c203e582e7ef"
      },
      "outputs": [
        {
          "name": "stdout",
          "output_type": "stream",
          "text": [
            "Epoch 1 - Training loss: 0.4252355596118136\n",
            "Epoch 2 - Training loss: 0.27553189505360276\n",
            "Epoch 3 - Training loss: 0.23874772105739314\n",
            "Epoch 4 - Training loss: 0.21499824796769537\n",
            "Epoch 5 - Training loss: 0.19786778547123932\n",
            "Epoch 6 - Training loss: 0.1845307657435568\n",
            "Epoch 7 - Training loss: 0.1739490015595071\n",
            "Epoch 8 - Training loss: 0.1649907999185484\n",
            "Epoch 9 - Training loss: 0.15727839536313562\n",
            "Epoch 10 - Training loss: 0.1509120602931168\n"
          ]
        }
      ],
      "source": [
        "net_adagrad = Net()\n",
        "criterion = nn.CrossEntropyLoss()\n",
        "optimizer_adagrad = optim.Adagrad(net_adagrad.parameters(), lr=0.01)\n",
        "\n",
        "for epoch in range(10):\n",
        "    running_loss = 0.0\n",
        "    for i, data in enumerate(trainloader, 0):\n",
        "        inputs, labels = data\n",
        "        optimizer_adagrad.zero_grad()\n",
        "        outputs = net_adagrad(inputs)\n",
        "        loss = criterion(outputs, labels)\n",
        "        loss.backward()\n",
        "        optimizer_adagrad.step()\n",
        "        running_loss += loss.item()\n",
        "    print(f\"Epoch {epoch+1} - Training loss: {running_loss/len(trainloader)}\")\n"
      ]
    },
    {
      "attachments": {},
      "cell_type": "markdown",
      "metadata": {
        "id": "i27b3_1pUAEp"
      },
      "source": [
        "### Comparing the Results"
      ]
    },
    {
      "cell_type": "markdown",
      "metadata": {
        "id": "s779A1SwUDhH"
      },
      "source": [
        "Now that we've trained our neural network using these four optimization algorithms, let's compare their performance on the test set:"
      ]
    },
    {
      "cell_type": "code",
      "execution_count": null,
      "metadata": {
        "colab": {
          "base_uri": "https://localhost:8080/"
        },
        "id": "H4pHQDgPUBTl",
        "outputId": "33a110c7-13b2-4175-fd65-ef0f1c4d7171"
      },
      "outputs": [
        {
          "name": "stdout",
          "output_type": "stream",
          "text": [
            "Accuracy (GD): 0.9433\n",
            "Accuracy (SGD): 0.9452\n",
            "Accuracy (Adam): 0.9365\n",
            "Accuracy (Adagrad): 0.9554\n"
          ]
        }
      ],
      "source": [
        "def evaluate(net, dataloader):\n",
        "    correct = 0\n",
        "    total = 0\n",
        "    with torch.no_grad():\n",
        "        for data in dataloader:\n",
        "            images, labels = data\n",
        "            outputs = net(images)\n",
        "            _, predicted = torch.max(outputs.data, 1)\n",
        "            total += labels.size(0)\n",
        "            correct += (predicted == labels).sum().item()\n",
        "    accuracy = correct / total\n",
        "    return accuracy\n",
        "\n",
        "print(f\"Accuracy (GD): {evaluate(net_gd, testloader)}\")\n",
        "print(f\"Accuracy (SGD): {evaluate(net_sgd, testloader)}\")\n",
        "print(f\"Accuracy (Adam): {evaluate(net_adam, testloader)}\")\n",
        "print(f\"Accuracy (Adagrad): {evaluate(net_adagrad, testloader)}\")"
      ]
    },
    {
      "cell_type": "markdown",
      "metadata": {
        "id": "fX2M0eKfXurj"
      },
      "source": [
        "This shows that the choice of optimization algorithm can have a significant impact on the performance of our neural network. It's important to experiment with different algorithms and hyperparameters to find the best combination for our specific task."
      ]
    },
    {
      "attachments": {},
      "cell_type": "markdown",
      "metadata": {
        "id": "Nxu2TK3SV2yH"
      },
      "source": [
        "# Weight Initialization"
      ]
    },
    {
      "cell_type": "markdown",
      "metadata": {
        "id": "6r-RlrcoWdaN"
      },
      "source": [
        "In this section, explores four different techniques for weight initialization in PyTorch:  \n",
        "1. Zero initialization: In this technique, all weights in the network are set to zero. However, this is not an ideal technique as it leads to all neurons in a given layer computing the same output.\n",
        "\n",
        "2. Random initialization: In this technique, the weights in the network are randomly initialized, typically sampled from a normal distribution or a uniform distribution.\n",
        "\n",
        "3. He initialization: This technique is named after its creator, Kaiming He, and initializes the weights of a neural network using a Gaussian distribution with mean 0 and variance 2/n, where n is the number of inputs to the neuron.\n",
        "\n",
        "4. Xavier initialization: This technique is named after its creator, Xavier Glorot, and initializes the weights of a neural network using a Gaussian distribution with mean 0 and variance 1/n, where n is the number of inputs to the neuron.\n",
        "\n",
        "At the end of this section, we will define a simple neural network with one hidden layer and output 1 feature and initialize its weights using each technique. We will then compare the initialized weights for each technique and discuss the differences between them."
      ]
    },
    {
      "cell_type": "markdown",
      "metadata": {
        "id": "GG05WyK5W2zC"
      },
      "source": [
        "## Import Libraries"
      ]
    },
    {
      "cell_type": "markdown",
      "metadata": {
        "id": "KRiRKJJFXYnV"
      },
      "source": [
        "We will first import the necessary libraries for our code.\n"
      ]
    },
    {
      "cell_type": "code",
      "execution_count": null,
      "metadata": {
        "id": "t5Z-WrssW7Hn"
      },
      "outputs": [],
      "source": [
        "import torch\n",
        "import torch.nn as nn\n",
        "import torch.nn.init as init"
      ]
    },
    {
      "attachments": {},
      "cell_type": "markdown",
      "metadata": {
        "id": "V_NdvjriXdtW"
      },
      "source": [
        "### The Model"
      ]
    },
    {
      "cell_type": "markdown",
      "metadata": {
        "id": "cV_LXYZrX1xJ"
      },
      "source": [
        "We will define a simple neural network with one hidden layer. The neural network will take in 10 input features, have a hidden layer with 5 units, and output 1 feature."
      ]
    },
    {
      "cell_type": "code",
      "execution_count": null,
      "metadata": {
        "id": "9Dwy_NEXXbW1"
      },
      "outputs": [],
      "source": [
        "class Net(nn.Module):\n",
        "    def __init__(self, input_dim, hidden_dim, output_dim):\n",
        "        super(Net, self).__init__()\n",
        "        self.fc1 = nn.Linear(input_dim, hidden_dim)\n",
        "        self.relu = nn.ReLU()\n",
        "        self.fc2 = nn.Linear(hidden_dim, output_dim)\n",
        "        \n",
        "    def forward(self, x):\n",
        "        x = self.fc1(x)\n",
        "        x = self.relu(x)\n",
        "        x = self.fc2(x)\n",
        "        return x"
      ]
    },
    {
      "attachments": {},
      "cell_type": "markdown",
      "metadata": {
        "id": "EmHR84gWX9LB"
      },
      "source": [
        "### Initialize Weights"
      ]
    },
    {
      "cell_type": "markdown",
      "metadata": {
        "id": "BZ2R95ogYBXY"
      },
      "source": [
        "We will now initialize the neural network using the four techniques: zero initialization, random initialization, He initialization, and Xavier initialization."
      ]
    },
    {
      "cell_type": "code",
      "execution_count": null,
      "metadata": {
        "colab": {
          "base_uri": "https://localhost:8080/"
        },
        "id": "UUmgMrWLX4ra",
        "outputId": "33eef809-1b77-46b4-a19e-3a1e079883f8"
      },
      "outputs": [
        {
          "data": {
            "text/plain": [
              "Parameter containing:\n",
              "tensor([[-0.6746, -0.1666, -0.1748, -0.0714, -0.4140, -0.0485, -0.1591,  0.0879,\n",
              "         -0.3632, -0.1306],\n",
              "        [-0.5395,  0.2962,  0.0503,  0.3516, -0.5553,  0.4072,  0.0672, -0.5037,\n",
              "          0.3522, -0.5975],\n",
              "        [ 0.2608,  0.0319, -0.6838,  0.4229, -0.0543, -0.1826, -0.1507, -0.6136,\n",
              "          0.1886,  0.0607],\n",
              "        [ 0.6353,  0.1831, -0.0231,  0.2272, -0.3765, -0.0836,  0.0600,  0.0219,\n",
              "         -0.3620, -0.3088],\n",
              "        [-0.1166,  0.0843,  0.3571, -0.3059, -0.0889, -0.5047, -0.0393,  0.3806,\n",
              "         -0.5276, -0.7410]], requires_grad=True)"
            ]
          },
          "execution_count": 46,
          "metadata": {},
          "output_type": "execute_result"
        }
      ],
      "source": [
        "# Define input dimensions\n",
        "input_dim = 10\n",
        "hidden_dim = 5\n",
        "output_dim = 1\n",
        "\n",
        "# Zero initialization\n",
        "net1 = Net(input_dim, hidden_dim, output_dim)\n",
        "init.zeros_(net1.fc1.weight)\n",
        "\n",
        "# Random initialization\n",
        "net2 = Net(input_dim, hidden_dim, output_dim)\n",
        "init.normal_(net2.fc1.weight, mean=0.0, std=1.0)\n",
        "\n",
        "# He initialization\n",
        "net3 = Net(input_dim, hidden_dim, output_dim)\n",
        "init.kaiming_normal_(net3.fc1.weight, mode='fan_in', nonlinearity='relu')\n",
        "\n",
        "# Xavier initialization\n",
        "net4 = Net(input_dim, hidden_dim, output_dim)\n",
        "init.xavier_normal_(net4.fc1.weight, gain=1.0)"
      ]
    },
    {
      "attachments": {},
      "cell_type": "markdown",
      "metadata": {
        "id": "n_5OnL3vYGVg"
      },
      "source": [
        "### Print Initialized Weights"
      ]
    },
    {
      "cell_type": "markdown",
      "metadata": {
        "id": "RuNqdkjUYML_"
      },
      "source": [
        "We will now print the initialized weights for each technique."
      ]
    },
    {
      "cell_type": "code",
      "execution_count": null,
      "metadata": {
        "colab": {
          "base_uri": "https://localhost:8080/"
        },
        "id": "EsgxVrqKYEeP",
        "outputId": "0d090370-648a-4a6f-e660-4ac7bdc8bd10"
      },
      "outputs": [
        {
          "name": "stdout",
          "output_type": "stream",
          "text": [
            "Zero initialization:\n",
            "Parameter containing:\n",
            "tensor([[0., 0., 0., 0., 0., 0., 0., 0., 0., 0.],\n",
            "        [0., 0., 0., 0., 0., 0., 0., 0., 0., 0.],\n",
            "        [0., 0., 0., 0., 0., 0., 0., 0., 0., 0.],\n",
            "        [0., 0., 0., 0., 0., 0., 0., 0., 0., 0.],\n",
            "        [0., 0., 0., 0., 0., 0., 0., 0., 0., 0.]], requires_grad=True)\n",
            "\n",
            "Random initialization:\n",
            "Parameter containing:\n",
            "tensor([[-1.4786, -0.2735, -0.9163, -1.7721,  0.5327,  0.7671, -0.2004, -0.7213,\n",
            "          1.0181, -0.0855],\n",
            "        [ 0.8277,  0.9052,  0.4189, -0.3110, -0.9700,  0.9588,  0.7563, -0.6447,\n",
            "         -0.7390, -0.6432],\n",
            "        [-0.2596, -0.5069, -2.3097,  0.4104,  0.4554, -1.2092,  0.9200,  0.4286,\n",
            "          0.7121, -0.2004],\n",
            "        [-0.8539,  0.9522,  0.8958, -0.4430, -2.0590, -0.4515, -0.2793, -0.6070,\n",
            "         -0.0307, -0.9504],\n",
            "        [-1.0107,  1.5655, -0.7703, -0.6372, -0.9168, -0.9050,  0.0201, -0.5806,\n",
            "          0.0809, -0.1774]], requires_grad=True)\n",
            "\n",
            "He initialization:\n",
            "Parameter containing:\n",
            "tensor([[-0.6969,  0.4638, -0.2316,  0.1529, -0.1540, -0.2922, -0.0373, -0.2154,\n",
            "         -0.0805, -0.4433],\n",
            "        [ 0.1935,  0.3078, -0.2079, -0.3709,  0.3192, -0.2280, -0.2849,  0.3079,\n",
            "         -0.4114,  0.4180],\n",
            "        [ 0.2426,  0.4387, -0.1261, -0.0610,  0.9711,  0.3749,  0.4397, -0.5629,\n",
            "         -0.4241,  0.6073],\n",
            "        [-0.4289,  0.2947,  0.0289,  0.3074,  0.4205, -0.0612, -0.1620,  0.0061,\n",
            "         -0.2503, -0.6516],\n",
            "        [ 0.0996,  0.3785,  0.1639,  0.0624,  0.5275, -0.5329, -0.1743, -0.2095,\n",
            "          0.2404, -0.1766]], requires_grad=True)\n",
            "\n",
            "Xavier initialization:\n",
            "Parameter containing:\n",
            "tensor([[-0.6746, -0.1666, -0.1748, -0.0714, -0.4140, -0.0485, -0.1591,  0.0879,\n",
            "         -0.3632, -0.1306],\n",
            "        [-0.5395,  0.2962,  0.0503,  0.3516, -0.5553,  0.4072,  0.0672, -0.5037,\n",
            "          0.3522, -0.5975],\n",
            "        [ 0.2608,  0.0319, -0.6838,  0.4229, -0.0543, -0.1826, -0.1507, -0.6136,\n",
            "          0.1886,  0.0607],\n",
            "        [ 0.6353,  0.1831, -0.0231,  0.2272, -0.3765, -0.0836,  0.0600,  0.0219,\n",
            "         -0.3620, -0.3088],\n",
            "        [-0.1166,  0.0843,  0.3571, -0.3059, -0.0889, -0.5047, -0.0393,  0.3806,\n",
            "         -0.5276, -0.7410]], requires_grad=True)\n"
          ]
        }
      ],
      "source": [
        "print(\"Zero initialization:\")\n",
        "print(net1.fc1.weight)\n",
        "\n",
        "print(\"\\nRandom initialization:\")\n",
        "print(net2.fc1.weight)\n",
        "\n",
        "print(\"\\nHe initialization:\")\n",
        "print(net3.fc1.weight)\n",
        "\n",
        "print(\"\\nXavier initialization:\")\n",
        "print(net4.fc1.weight)"
      ]
    },
    {
      "attachments": {},
      "cell_type": "markdown",
      "metadata": {
        "id": "6jZOoW7hYPDg"
      },
      "source": [
        "### Conclusion"
      ]
    },
    {
      "cell_type": "markdown",
      "metadata": {
        "id": "lFpLXVjpYTDO"
      },
      "source": [
        "In this section, we explored four different techniques for weight initialization in PyTorch. We saw that each technique initializes the weights in a different way and can have a significant impact on the performance of the neural network. It's important to choose the right initialization technique depending on the architecture of your neural network and the problem you are trying to solve."
      ]
    },
    {
      "attachments": {},
      "cell_type": "markdown",
      "metadata": {
        "id": "WqboXz8BY2Ft"
      },
      "source": [
        "# Activation Functions"
      ]
    },
    {
      "cell_type": "markdown",
      "metadata": {
        "id": "x33GhqDOa3fo"
      },
      "source": [
        "An activation function is a mathematical function that is applied to the output of a neural network layer to introduce non-linearity into the network. In other words, activation functions are used to \"activate\" the output of a neuron so that it can be passed to the next layer of the neural network.\n",
        "\n",
        "There are many different types of activation functions, each with its own strengths and weaknesses. Some of the most common types of activation functions include:\n",
        "\n",
        "1. Sigmoid\n",
        "\n",
        "2. ReLU (Rectified Linear Unit)\n",
        "\n",
        "3. Tanh (Hyperbolic Tangent)\n",
        "\n",
        "4. LeakyReLU (Leaky Rectified Linear Unit)\n",
        "\n",
        "5. Softmax"
      ]
    },
    {
      "attachments": {},
      "cell_type": "markdown",
      "metadata": {
        "id": "0PX6N8XcbDF5"
      },
      "source": [
        "## Algorithms"
      ]
    },
    {
      "attachments": {},
      "cell_type": "markdown",
      "metadata": {
        "id": "JKR3K2qbcUX_"
      },
      "source": [
        "### Libraries"
      ]
    },
    {
      "cell_type": "markdown",
      "metadata": {
        "id": "-yMRSJVqcdNm"
      },
      "source": [
        "We'll start by importing the necessary libraries:"
      ]
    },
    {
      "cell_type": "code",
      "execution_count": null,
      "metadata": {
        "id": "LW46XxqHcZkh"
      },
      "outputs": [],
      "source": [
        "import torch\n",
        "import torch.nn as nn\n",
        "import torch.optim as optim"
      ]
    },
    {
      "attachments": {},
      "cell_type": "markdown",
      "metadata": {
        "id": "HsohTKsWbX4h"
      },
      "source": [
        "### Sigmoid"
      ]
    },
    {
      "cell_type": "markdown",
      "metadata": {
        "id": "qoyYXsjRbgrN"
      },
      "source": [
        "The sigmoid function is an S-shaped curve that maps any input value to a value between 0 and 1. It is often used in binary classification problems, where the output of the neural network is interpreted as a probability that the input belongs to a certain class."
      ]
    },
    {
      "cell_type": "code",
      "execution_count": null,
      "metadata": {
        "id": "dCqXshOZcNhJ"
      },
      "outputs": [],
      "source": [
        "# Sigmoid activation function\n",
        "def sigmoid(x):\n",
        "    return 1 / (1 + torch.exp(-x))"
      ]
    },
    {
      "attachments": {},
      "cell_type": "markdown",
      "metadata": {
        "id": "iPo59vm1bzI1"
      },
      "source": [
        "### ReLU (Rectified Linear Unit)"
      ]
    },
    {
      "cell_type": "markdown",
      "metadata": {
        "id": "tEIh2ZOQb3Pc"
      },
      "source": [
        "The ReLU function returns the input if it is positive, and returns 0 if it is negative. It is a popular choice for activation functions because it is simple and computationally efficient."
      ]
    },
    {
      "cell_type": "code",
      "execution_count": null,
      "metadata": {
        "id": "13PYINFYchb-"
      },
      "outputs": [],
      "source": [
        "# ReLU activation function\n",
        "def relu(x):\n",
        "    return torch.max(torch.tensor(0), x)"
      ]
    },
    {
      "attachments": {},
      "cell_type": "markdown",
      "metadata": {
        "id": "i8vsVs7kb5Nn"
      },
      "source": [
        "### Tanh (Hyperbolic Tangent)"
      ]
    },
    {
      "cell_type": "markdown",
      "metadata": {
        "id": "a2_Vivlab8wA"
      },
      "source": [
        "The tanh function is similar to the sigmoid function, but maps input values to a range between -1 and 1. It is often used in neural networks with multiple hidden layers.\n"
      ]
    },
    {
      "cell_type": "code",
      "execution_count": null,
      "metadata": {
        "id": "WIo_1X1_cjVy"
      },
      "outputs": [],
      "source": [
        "# Tanh activation function\n",
        "def tanh(x):\n",
        "    return torch.tanh(x)"
      ]
    },
    {
      "attachments": {},
      "cell_type": "markdown",
      "metadata": {
        "id": "WKHgiMU8cAUH"
      },
      "source": [
        "### LeakyReLU (Leaky Rectified Linear Unit)"
      ]
    },
    {
      "cell_type": "markdown",
      "metadata": {
        "id": "R-8gIwqKcFXH"
      },
      "source": [
        "The LeakyReLU function is a variation of the ReLU function that returns a small, non-zero value for negative input values. This helps to prevent the \"dying ReLU\" problem, where a large number of neurons in a network become \"dead\" and stop contributing to the output.\n"
      ]
    },
    {
      "cell_type": "code",
      "execution_count": null,
      "metadata": {
        "id": "q00XOxWBcmRM"
      },
      "outputs": [],
      "source": [
        "# LeakyReLU activation function\n",
        "def leakyrelu(x, alpha=0.1):\n",
        "    return torch.max(torch.tensor(0.1 * x), x)"
      ]
    },
    {
      "attachments": {},
      "cell_type": "markdown",
      "metadata": {
        "id": "tqk6YsPLdQs4"
      },
      "source": [
        "### Softmax"
      ]
    },
    {
      "cell_type": "markdown",
      "metadata": {
        "id": "WRclFbvodVfm"
      },
      "source": [
        "The softmax function is often used as the activation function in the output layer of a neural network for multi-class classification problems. It maps the output of the network to a probability distribution over the possible classes."
      ]
    },
    {
      "cell_type": "code",
      "execution_count": null,
      "metadata": {
        "id": "TkNNl7aidZBd"
      },
      "outputs": [],
      "source": [
        "# Softmax activation function\n",
        "def softmax(x, dim=0):\n",
        "    return torch.exp(x) / torch.sum(torch.exp(x), dim=-dim)"
      ]
    },
    {
      "attachments": {},
      "cell_type": "markdown",
      "metadata": {
        "id": "B9zZDAjhct2D"
      },
      "source": [
        "### Test"
      ]
    },
    {
      "cell_type": "markdown",
      "metadata": {
        "id": "_7tss21KdM9x"
      },
      "source": [
        "In this test, we define five different activation functions: sigmoid, ReLU, tanh, LeakyReLU, and softmax. We then test each activation function by applying it to a random input tensor 'x'."
      ]
    },
    {
      "cell_type": "code",
      "execution_count": null,
      "metadata": {
        "colab": {
          "base_uri": "https://localhost:8080/"
        },
        "id": "VKQQKfjCbCtj",
        "outputId": "f109665c-f0b0-45d2-98a4-1c1f25453a0f"
      },
      "outputs": [
        {
          "name": "stdout",
          "output_type": "stream",
          "text": [
            "Input: tensor([0.6885, 1.8909, 1.0505, 0.8948, 0.0618])\n",
            "\n",
            "Sigmoid output: tensor([0.6656, 0.8689, 0.7409, 0.7099, 0.5154])\n",
            "\n",
            "ReLU output: tensor([0.6885, 1.8909, 1.0505, 0.8948, 0.0618])\n",
            "\n",
            "Tanh output: tensor([0.5970, 0.9554, 0.7820, 0.7138, 0.0617])\n",
            "\n",
            "LeakyReLU output: tensor([0.6885, 1.8909, 1.0505, 0.8948, 0.0618])\n",
            "\n",
            "Softmax output: tensor([0.1328, 0.4421, 0.1908, 0.1633, 0.0710])\n",
            "\n"
          ]
        },
        {
          "name": "stderr",
          "output_type": "stream",
          "text": [
            "<ipython-input-52-1f2f0db989d1>:3: UserWarning: To copy construct from a tensor, it is recommended to use sourceTensor.clone().detach() or sourceTensor.clone().detach().requires_grad_(True), rather than torch.tensor(sourceTensor).\n",
            "  return torch.max(torch.tensor(0.1 * x), x)\n"
          ]
        }
      ],
      "source": [
        "# Test the activation functions\n",
        "x = torch.randn(5)\n",
        "print(f\"Input: {x}\\n\")\n",
        "\n",
        "# Sigmoid\n",
        "output_sigmoid = sigmoid(x)\n",
        "print(f\"Sigmoid output: {output_sigmoid}\\n\")\n",
        "\n",
        "# ReLU\n",
        "output_relu = relu(x)\n",
        "print(f\"ReLU output: {output_relu}\\n\")\n",
        "\n",
        "# Tanh\n",
        "output_tanh = tanh(x)\n",
        "print(f\"Tanh output: {output_tanh}\\n\")\n",
        "\n",
        "# LeakyReLU\n",
        "output_leakyrelu = leakyrelu(x)\n",
        "print(f\"LeakyReLU output: {output_leakyrelu}\\n\")\n",
        "\n",
        "# Softmax\n",
        "output_softmax = softmax(x, dim=1)\n",
        "print(f\"Softmax output: {output_softmax}\\n\")"
      ]
    },
    {
      "attachments": {},
      "cell_type": "markdown",
      "metadata": {
        "id": "4lDJeCfre4Ol"
      },
      "source": [
        "## Example"
      ]
    },
    {
      "cell_type": "markdown",
      "metadata": {
        "id": "vwQnidxxe8P_"
      },
      "source": [
        "In this example, we demonstrate how to compare the performance of five activation functions - sigmoid, ReLU, tanh, LeakyReLU, and softmax - in a neural network using PyTorch and the MNIST dataset. The MNIST dataset consists of 28x28 pixel images of handwritten digits, and the goal is to classify each image into one of ten possible classes (corresponding to the digits 0-9)."
      ]
    },
    {
      "attachments": {},
      "cell_type": "markdown",
      "metadata": {
        "id": "F8Zu4p5cfr02"
      },
      "source": [
        "### Libraries"
      ]
    },
    {
      "cell_type": "markdown",
      "metadata": {
        "id": "sz2BMfR9f6Bl"
      },
      "source": [
        "First, we'll start by importing the necessary libraries:\n",
        "\n"
      ]
    },
    {
      "cell_type": "code",
      "execution_count": null,
      "metadata": {
        "id": "8-9OO4rpf5Kf"
      },
      "outputs": [],
      "source": [
        "import torch\n",
        "import torch.nn as nn\n",
        "import torchvision.datasets as datasets\n",
        "import torchvision.transforms as transforms"
      ]
    },
    {
      "attachments": {},
      "cell_type": "markdown",
      "metadata": {
        "id": "YsuOxNIFf9by"
      },
      "source": [
        "### The Model"
      ]
    },
    {
      "cell_type": "markdown",
      "metadata": {
        "id": "LoMCfpfAgBGI"
      },
      "source": [
        "we define a neural network architecture with one hidden layer and two fully connected layers."
      ]
    },
    {
      "cell_type": "code",
      "execution_count": null,
      "metadata": {
        "id": "SUW-YT2zgNkY"
      },
      "outputs": [],
      "source": [
        "class Net(nn.Module):\n",
        "    def __init__(self, input_size, hidden_size, num_classes, activation_func):\n",
        "        super(Net, self).__init__()\n",
        "        self.fc1 = nn.Linear(input_size, hidden_size)\n",
        "        self.fc2 = nn.Linear(hidden_size, num_classes)\n",
        "        self.activation_func = activation_func\n",
        "        \n",
        "    def forward(self, x):\n",
        "        out = self.fc1(x)\n",
        "        out = self.activation_func(out)\n",
        "        out = self.fc2(out)\n",
        "        return out"
      ]
    },
    {
      "attachments": {},
      "cell_type": "markdown",
      "metadata": {
        "id": "Q3LjXEfZgOuh"
      },
      "source": [
        "### Load Dataset"
      ]
    },
    {
      "cell_type": "markdown",
      "metadata": {
        "id": "iBtzpK3WgYwn"
      },
      "source": [
        " We then load the MNIST dataset and define the data loaders and define a dataloader."
      ]
    },
    {
      "cell_type": "code",
      "execution_count": null,
      "metadata": {
        "id": "FefmVRetghfd"
      },
      "outputs": [],
      "source": [
        "# Load the MNIST dataset\n",
        "train_dataset = datasets.MNIST(root='./data', train=True, transform=transforms.ToTensor(), download=True)\n",
        "test_dataset = datasets.MNIST(root='./data', train=False, transform=transforms.ToTensor())\n",
        "\n",
        "# Define the data loaders\n",
        "batch_size = 100\n",
        "train_loader = torch.utils.data.DataLoader(dataset=train_dataset, batch_size=batch_size, shuffle=True)\n",
        "test_loader = torch.utils.data.DataLoader(dataset=test_dataset, batch_size=batch_size, shuffle=False)"
      ]
    },
    {
      "attachments": {},
      "cell_type": "markdown",
      "metadata": {
        "id": "GdDBNqVuipzO"
      },
      "source": [
        "### Train"
      ]
    },
    {
      "cell_type": "code",
      "execution_count": null,
      "metadata": {
        "colab": {
          "base_uri": "https://localhost:8080/"
        },
        "id": "CRL_c7QLjOEW",
        "outputId": "6658c148-87c5-46bd-93a2-09192f9a5ea2"
      },
      "outputs": [
        {
          "name": "stdout",
          "output_type": "stream",
          "text": [
            "Training neural network with activation function 1: Sigmoid\n",
            "Epoch [1/10], Loss: 2.1267\n",
            "Epoch [2/10], Loss: 1.7446\n",
            "Epoch [3/10], Loss: 1.4337\n",
            "Epoch [4/10], Loss: 1.0787\n",
            "Epoch [5/10], Loss: 0.9034\n",
            "Epoch [6/10], Loss: 0.7862\n",
            "Epoch [7/10], Loss: 0.5590\n",
            "Epoch [8/10], Loss: 0.6634\n",
            "Epoch [9/10], Loss: 0.6012\n",
            "Epoch [10/10], Loss: 0.6018\n",
            "Accuracy on test dataset with activation function 1: 87.20%\n",
            "Training neural network with activation function 2: ReLU\n",
            "Epoch [1/10], Loss: 0.7574\n",
            "Epoch [2/10], Loss: 0.6363\n",
            "Epoch [3/10], Loss: 0.4949\n",
            "Epoch [4/10], Loss: 0.3744\n",
            "Epoch [5/10], Loss: 0.2672\n",
            "Epoch [6/10], Loss: 0.3617\n",
            "Epoch [7/10], Loss: 0.3839\n",
            "Epoch [8/10], Loss: 0.2490\n",
            "Epoch [9/10], Loss: 0.3973\n",
            "Epoch [10/10], Loss: 0.1934\n",
            "Accuracy on test dataset with activation function 2: 92.00%\n",
            "Training neural network with activation function 3: Tanh\n",
            "Epoch [1/10], Loss: 0.8220\n",
            "Epoch [2/10], Loss: 0.5581\n",
            "Epoch [3/10], Loss: 0.4928\n",
            "Epoch [4/10], Loss: 0.3358\n",
            "Epoch [5/10], Loss: 0.3128\n",
            "Epoch [6/10], Loss: 0.5541\n",
            "Epoch [7/10], Loss: 0.3875\n",
            "Epoch [8/10], Loss: 0.3694\n",
            "Epoch [9/10], Loss: 0.2711\n",
            "Epoch [10/10], Loss: 0.2345\n",
            "Accuracy on test dataset with activation function 3: 91.57%\n",
            "Training neural network with activation function 4: LeakyReLU\n",
            "Epoch [1/10], Loss: 0.9417\n",
            "Epoch [2/10], Loss: 0.5552\n",
            "Epoch [3/10], Loss: 0.3822\n",
            "Epoch [4/10], Loss: 0.2845\n",
            "Epoch [5/10], Loss: 0.4329\n",
            "Epoch [6/10], Loss: 0.5668\n",
            "Epoch [7/10], Loss: 0.3478\n",
            "Epoch [8/10], Loss: 0.3932\n",
            "Epoch [9/10], Loss: 0.2512\n",
            "Epoch [10/10], Loss: 0.2704\n",
            "Accuracy on test dataset with activation function 4: 91.88%\n",
            "Training neural network with activation function 5: Softmax\n",
            "Epoch [1/10], Loss: 2.2988\n",
            "Epoch [2/10], Loss: 2.2958\n",
            "Epoch [3/10], Loss: 2.3060\n",
            "Epoch [4/10], Loss: 2.3028\n",
            "Epoch [5/10], Loss: 2.2944\n",
            "Epoch [6/10], Loss: 2.2971\n",
            "Epoch [7/10], Loss: 2.2980\n",
            "Epoch [8/10], Loss: 2.3008\n",
            "Epoch [9/10], Loss: 2.3062\n",
            "Epoch [10/10], Loss: 2.3011\n",
            "Accuracy on test dataset with activation function 5: 11.35%\n"
          ]
        }
      ],
      "source": [
        "# Define the neural network parameters\n",
        "input_size = 784 # 28x28 pixels\n",
        "hidden_size = 100\n",
        "num_classes = 10\n",
        "learning_rate = 0.01\n",
        "num_epochs = 10\n",
        "\n",
        "# Define the activation functions\n",
        "sigmoid_func = nn.Sigmoid()\n",
        "relu_func = nn.ReLU()\n",
        "tanh_func = nn.Tanh()\n",
        "leakyrelu_func = nn.LeakyReLU()\n",
        "softmax_func = nn.Softmax(dim=1)\n",
        "\n",
        "# Train the neural network using different activation functions\n",
        "activation_funcs = [sigmoid_func, relu_func, tanh_func, leakyrelu_func, softmax_func]\n",
        "for i, func in enumerate(activation_funcs):\n",
        "    print(f\"Training neural network with activation function {i+1}: {func.__class__.__name__}\")\n",
        "    \n",
        "    # Define the neural network\n",
        "    net = Net(input_size, hidden_size, num_classes, func)\n",
        "    \n",
        "    # Define the loss function and optimizer\n",
        "    criterion = nn.CrossEntropyLoss()\n",
        "    optimizer = torch.optim.SGD(net.parameters(), lr=learning_rate)\n",
        "    \n",
        "    # Train the neural network\n",
        "    for epoch in range(num_epochs):\n",
        "        for images, labels in train_loader:\n",
        "            # Reshape the images\n",
        "            images = images.reshape(-1, input_size)\n",
        "            \n",
        "            # Forward pass\n",
        "            outputs = net(images)\n",
        "            loss = criterion(outputs, labels)\n",
        "            \n",
        "            # Backward and optimize\n",
        "            optimizer.zero_grad()\n",
        "            loss.backward()\n",
        "            optimizer.step()\n",
        "        \n",
        "        # Print the training loss for each epoch\n",
        "        print(f\"Epoch [{epoch+1}/{num_epochs}], Loss: {loss.item():.4f}\")\n",
        "    \n",
        "    # Test the neural network on the test dataset\n",
        "    with torch.no_grad():\n",
        "        correct = 0\n",
        "        total = 0\n",
        "        for images, labels in test_loader:\n",
        "            # Reshape the images\n",
        "            images = images.reshape(-1, input_size)\n",
        "            \n",
        "            # Forward pass\n",
        "            outputs = net(images)\n",
        "            _, predicted = torch.max(outputs.data, 1)\n",
        "            total += labels.size(0)\n",
        "            correct += (predicted == labels).sum().item()\n",
        "        \n",
        "        # Print the accuracy on the test dataset\n",
        "        print(f\"Accuracy on test dataset with activation function {i+1}: {(correct / total) * 100:.2f}%\")"
      ]
    },
    {
      "attachments": {},
      "cell_type": "markdown",
      "metadata": {
        "id": "Bc0Ytl_Tbl_Z"
      },
      "source": [
        "### Conclusion"
      ]
    },
    {
      "cell_type": "markdown",
      "metadata": {
        "id": "aa9vDsh9a-rd"
      },
      "source": [
        "By comparing the accuracy for each activation function, we can see the differences in how they perform on the MNIST dataset. In general, ReLU and LeakyReLU tend to perform well on image classification tasks, while sigmoid and tanh are often used for binary classification tasks. Softmax is typically used for multi-class classification tasks, as it ensures that the output probabilities sum to 1."
      ]
    },
    {
      "attachments": {},
      "cell_type": "markdown",
      "metadata": {
        "id": "Rkv6wEidk6hY"
      },
      "source": [
        "# Learning Rate Scheduling\n"
      ]
    },
    {
      "cell_type": "markdown",
      "metadata": {
        "id": "eS9XA2LBnG_i"
      },
      "source": [
        "In this section, we will explore five different learning rate scheduling techniques in PyTorch for an artificial neural network (ANN). We will use a database example to compare the performance of each technique.\n",
        "\n",
        "There are several famous learning rate scheduling techniques that are commonly used in deep learning:\n",
        "\n",
        "1. Learning rate decay: This is a popular technique in which the learning rate is reduced by a fixed factor after a certain number of epochs or when the validation loss stops improving. Learning rate decay can be implemented using different strategies such as step decay, exponential decay, or cosine decay.\n",
        "\n",
        "2. Cyclical learning rate: This technique involves varying the learning rate between a minimum and maximum value, usually over several cycles. This approach can help improve the generalization of the model and avoid getting stuck in local minima.\n",
        "\n",
        "3. 1cycle policy: This is a technique introduced by Leslie Smith in which the learning rate is increased linearly up to a maximum value and then decreased to a minimum value in a single cycle. This approach has been shown to achieve good results in a short amount of time and reduce the need for extensive hyperparameter tuning.\n",
        "\n",
        "4. Stochastic gradient descent with warm restarts (SGDR): This technique involves periodically resetting the learning rate to its initial value and restarting the training process. This approach can help the model escape from local minima and improve generalization."
      ]
    },
    {
      "attachments": {},
      "cell_type": "markdown",
      "metadata": {
        "id": "iWi8YtOmnYan"
      },
      "source": [
        "### Importing Required Libraries\n"
      ]
    },
    {
      "cell_type": "code",
      "execution_count": null,
      "metadata": {
        "id": "KBhiLzd0k80o"
      },
      "outputs": [],
      "source": [
        "import torch\n",
        "import torch.nn as nn\n",
        "import torch.optim as optim\n",
        "from torch.utils.data import Dataset, DataLoader\n",
        "import numpy as np\n",
        "import pandas as pd\n",
        "from sklearn.model_selection import train_test_split\n",
        "from sklearn.preprocessing import StandardScaler"
      ]
    },
    {
      "attachments": {},
      "cell_type": "markdown",
      "metadata": {
        "id": "FFNeFrDwngqc"
      },
      "source": [
        "### Dataset"
      ]
    },
    {
      "cell_type": "markdown",
      "metadata": {
        "id": "GOcJ3R4snlUZ"
      },
      "source": [
        "We will use the Breast Cancer Wisconsin (Diagnostic) Database for our example. This database contains features computed from digitized images of a fine needle aspirate (FNA) of a breast mass, which describe the characteristics of the cell nuclei present in the image. The goal is to predict whether a tumor is malignant or benign based on these features.\n",
        "\n"
      ]
    },
    {
      "cell_type": "code",
      "execution_count": null,
      "metadata": {
        "id": "9u9H3U2xnk93"
      },
      "outputs": [],
      "source": [
        "df = pd.read_csv('https://archive.ics.uci.edu/ml/machine-learning-databases/breast-cancer-wisconsin/wdbc.data', header=None)\n",
        "X = df.iloc[:,2:].values\n",
        "y = df.iloc[:,1].values\n",
        "y = np.where(y=='M', 1, 0)\n",
        "\n",
        "X_train, X_test, y_train, y_test = train_test_split(X, y, test_size=0.2, random_state=42)\n",
        "\n",
        "scaler = StandardScaler()\n",
        "X_train = scaler.fit_transform(X_train)\n",
        "X_test = scaler.transform(X_test)\n",
        "\n",
        "class CancerDataset(Dataset):\n",
        "    def __init__(self, X, y):\n",
        "        self.X = X\n",
        "        self.y = y\n",
        "    \n",
        "    def __len__(self):\n",
        "        return len(self.X)\n",
        "    \n",
        "    def __getitem__(self, idx):\n",
        "        return self.X[idx], self.y[idx]\n",
        "        \n",
        "train_data = CancerDataset(X_train, y_train)\n",
        "test_data = CancerDataset(X_test, y_test)\n",
        "\n",
        "train_loader = DataLoader(train_data, batch_size=32, shuffle=True)\n",
        "test_loader = DataLoader(test_data, batch_size=32, shuffle=False)"
      ]
    },
    {
      "attachments": {},
      "cell_type": "markdown",
      "metadata": {
        "id": "cFu67BBxnoUE"
      },
      "source": [
        "### The Model"
      ]
    },
    {
      "cell_type": "markdown",
      "metadata": {
        "id": "-pIa5ZNxnt_o"
      },
      "source": [
        "We will use a simple ANN with two hidden layers for our example."
      ]
    },
    {
      "cell_type": "code",
      "execution_count": null,
      "metadata": {
        "id": "4YaXAKDznrCO"
      },
      "outputs": [],
      "source": [
        "class ANN(nn.Module):\n",
        "    def __init__(self):\n",
        "        super().__init__()\n",
        "        self.fc1 = nn.Linear(30, 64)\n",
        "        self.fc2 = nn.Linear(64, 32)\n",
        "        self.fc3 = nn.Linear(32, 1)\n",
        "        self.dropout = nn.Dropout(0.5)\n",
        "        self.relu = nn.ReLU()\n",
        "        self.sigmoid = nn.Sigmoid()\n",
        "        \n",
        "    def forward(self, x):\n",
        "        x = self.fc1(x)\n",
        "        x = self.relu(x)\n",
        "        x = self.dropout(x)\n",
        "        x = self.fc2(x)\n",
        "        x = self.relu(x)\n",
        "        x = self.dropout(x)\n",
        "        x = self.fc3(x)\n",
        "        x = self.sigmoid(x)\n",
        "        return x\n"
      ]
    },
    {
      "attachments": {},
      "cell_type": "markdown",
      "metadata": {
        "id": "6QPWVNOHnvDB"
      },
      "source": [
        "### Training Loop\n"
      ]
    },
    {
      "cell_type": "markdown",
      "metadata": {
        "id": "fBZf14Qvn2AT"
      },
      "source": [
        "We will use the binary cross-entropy loss function and the Adam optimizer for our training loop. We will also implement five different learning rate scheduling techniques and compare their performance."
      ]
    },
    {
      "cell_type": "code",
      "execution_count": null,
      "metadata": {
        "id": "2gVZknGTn1kk"
      },
      "outputs": [],
      "source": [
        "def train(model, optimizer, criterion, train_loader, test_loader, scheduler=None, num_epochs=10):\n",
        "    train_losses = []\n",
        "    test_losses = []\n",
        "    train_accs = []\n",
        "    test_accs = []\n",
        "\n",
        "    for epoch in range(num_epochs):\n",
        "        model.train()\n",
        "        train_loss = 0.0\n",
        "        train_acc = 0.0\n",
        "\n",
        "        for X, y in train_loader:\n",
        "          optimizer.zero_grad()\n",
        "          y_pred = model(X.float())\n",
        "          loss = criterion(y_pred.squeeze(), y.float())\n",
        "          loss.backward()\n",
        "          optimizer.step()\n",
        "          train_loss += loss.item()\n",
        "          train_acc = ((y_pred >= 0.5).squeeze().long() == y.long()).sum().item() / y.size(0)\n",
        "          train_accs.append(train_acc)\n",
        "        \n",
        "        train_loss /= len(train_loader)\n",
        "        train_losses.append(train_loss)\n",
        "        \n",
        "        test_loss = 0.0\n",
        "        test_acc = 0.0\n",
        "        with torch.no_grad():\n",
        "            for X, y in test_loader:\n",
        "                y_pred = model(X.float())\n",
        "                loss = criterion(y_pred.squeeze(), y.float())\n",
        "                test_loss += loss.item()\n",
        "                test_acc += ((y_pred >= 0.5).squeeze().long() == y.long()).sum().item()\n",
        "        \n",
        "        test_loss /= len(test_loader)\n",
        "        test_losses.append(test_loss)\n",
        "        test_acc /= len(test_data)\n",
        "        test_accs.append(test_acc)\n",
        "        \n",
        "        if scheduler is not None:\n",
        "            scheduler.step()\n",
        "        \n",
        "        print(f'Epoch {epoch+1}/{num_epochs}, Train Loss: {train_loss:.4f}, Test Loss: {test_loss:.4f}, Train Acc: {train_acc:.4f}, Test Acc: {test_acc:.4f}')\n",
        "    return train_losses, test_losses, train_accs, test_accs"
      ]
    },
    {
      "cell_type": "markdown",
      "metadata": {
        "id": "E7KtxFTZn5x3"
      },
      "source": [
        "### Learning Rate Scheduling Techniques"
      ]
    },
    {
      "attachments": {},
      "cell_type": "markdown",
      "metadata": {
        "id": "dO1zqTiwoULG"
      },
      "source": [
        "#### 1. Learning Rate Decay"
      ]
    },
    {
      "cell_type": "markdown",
      "metadata": {
        "id": "W8Ur_pogn5vh"
      },
      "source": [
        "We will use the step decay strategy for learning rate decay. The learning rate will be reduced by a factor of 0.1 after every 30 epochs.\n"
      ]
    },
    {
      "cell_type": "code",
      "execution_count": null,
      "metadata": {
        "colab": {
          "base_uri": "https://localhost:8080/"
        },
        "id": "gjT8321doaPD",
        "outputId": "74ba5e6b-fac9-42a7-8b2d-4bc534709728"
      },
      "outputs": [
        {
          "name": "stdout",
          "output_type": "stream",
          "text": [
            "Epoch 1/10, Train Loss: 0.6807, Test Loss: 0.6411, Train Acc: 0.4286, Test Acc: 0.8070\n",
            "Epoch 2/10, Train Loss: 0.6085, Test Loss: 0.5510, Train Acc: 1.0000, Test Acc: 0.8947\n",
            "Epoch 3/10, Train Loss: 0.5119, Test Loss: 0.4206, Train Acc: 0.8571, Test Acc: 0.9474\n",
            "Epoch 4/10, Train Loss: 0.3615, Test Loss: 0.2620, Train Acc: 0.8571, Test Acc: 0.9649\n",
            "Epoch 5/10, Train Loss: 0.2718, Test Loss: 0.1593, Train Acc: 0.8571, Test Acc: 0.9737\n",
            "Epoch 6/10, Train Loss: 0.1784, Test Loss: 0.1446, Train Acc: 1.0000, Test Acc: 0.9737\n",
            "Epoch 7/10, Train Loss: 0.1486, Test Loss: 0.0952, Train Acc: 0.8571, Test Acc: 0.9825\n",
            "Epoch 8/10, Train Loss: 0.1199, Test Loss: 0.1095, Train Acc: 1.0000, Test Acc: 0.9737\n",
            "Epoch 9/10, Train Loss: 0.1092, Test Loss: 0.0803, Train Acc: 1.0000, Test Acc: 0.9825\n",
            "Epoch 10/10, Train Loss: 0.0826, Test Loss: 0.1007, Train Acc: 1.0000, Test Acc: 0.9561\n"
          ]
        }
      ],
      "source": [
        "model = ANN()\n",
        "criterion = nn.BCELoss()\n",
        "optimizer = optim.Adam(model.parameters(), lr=0.001)\n",
        "scheduler = optim.lr_scheduler.StepLR(optimizer, step_size=30, gamma=0.1)\n",
        "\n",
        "train_losses, test_losses, train_accs, test_accs = train(model, optimizer, criterion, train_loader, test_loader, scheduler=scheduler, num_epochs=10)"
      ]
    },
    {
      "attachments": {},
      "cell_type": "markdown",
      "metadata": {
        "id": "oGLDujbyodph"
      },
      "source": [
        "#### 2. Cyclical Learning Rate\n"
      ]
    },
    {
      "cell_type": "markdown",
      "metadata": {
        "id": "NCowPiudodnA"
      },
      "source": [
        "We will use the triangular policy for cyclical learning rate. The learning rate will vary between 0.001 and 0.01 over 5 cycles."
      ]
    },
    {
      "cell_type": "code",
      "execution_count": null,
      "metadata": {
        "colab": {
          "base_uri": "https://localhost:8080/"
        },
        "id": "kjB3I4qeojAS",
        "outputId": "2d54894b-8a39-4c32-cf2a-157e5668193d"
      },
      "outputs": [
        {
          "name": "stdout",
          "output_type": "stream",
          "text": [
            "Epoch 1/10, Train Loss: 0.6205, Test Loss: 0.5802, Train Acc: 0.8571, Test Acc: 0.7807\n",
            "Epoch 2/10, Train Loss: 0.5121, Test Loss: 0.4674, Train Acc: 1.0000, Test Acc: 0.8860\n",
            "Epoch 3/10, Train Loss: 0.4132, Test Loss: 0.3525, Train Acc: 1.0000, Test Acc: 0.9386\n",
            "Epoch 4/10, Train Loss: 0.3061, Test Loss: 0.2139, Train Acc: 1.0000, Test Acc: 0.9561\n",
            "Epoch 5/10, Train Loss: 0.2227, Test Loss: 0.1675, Train Acc: 1.0000, Test Acc: 0.9474\n",
            "Epoch 6/10, Train Loss: 0.1768, Test Loss: 0.1144, Train Acc: 1.0000, Test Acc: 0.9912\n",
            "Epoch 7/10, Train Loss: 0.1503, Test Loss: 0.1165, Train Acc: 0.8571, Test Acc: 0.9561\n",
            "Epoch 8/10, Train Loss: 0.1228, Test Loss: 0.1049, Train Acc: 1.0000, Test Acc: 0.9825\n",
            "Epoch 9/10, Train Loss: 0.1005, Test Loss: 0.0843, Train Acc: 1.0000, Test Acc: 0.9561\n",
            "Epoch 10/10, Train Loss: 0.0925, Test Loss: 0.0697, Train Acc: 1.0000, Test Acc: 0.9737\n"
          ]
        }
      ],
      "source": [
        "model = ANN()\n",
        "criterion = nn.BCELoss()\n",
        "optimizer = optim.Adam(model.parameters(), lr=0.001)\n",
        "scheduler = optim.lr_scheduler.CyclicLR(optimizer, base_lr=0.001, max_lr=0.01, cycle_momentum=False)\n",
        "\n",
        "train_losses, test_losses, train_accs, test_accs = train(model, optimizer, criterion, train_loader, test_loader, scheduler=scheduler, num_epochs=10)"
      ]
    },
    {
      "attachments": {},
      "cell_type": "markdown",
      "metadata": {
        "id": "RzGyPm5solRI"
      },
      "source": [
        "#### 3. 1cycle Policy"
      ]
    },
    {
      "cell_type": "markdown",
      "metadata": {
        "id": "sm11_aHMolO2"
      },
      "source": [
        "We will use the 1cycle policy with a maximum learning rate of 0.01 and a total number of iterations equal to 2 times the number of training batches.\n",
        "\n"
      ]
    },
    {
      "cell_type": "code",
      "execution_count": null,
      "metadata": {
        "colab": {
          "base_uri": "https://localhost:8080/"
        },
        "id": "H4PBS4_nopqB",
        "outputId": "f7f8670f-242b-4363-fa44-9bb957ee3a45"
      },
      "outputs": [
        {
          "name": "stdout",
          "output_type": "stream",
          "text": [
            "Epoch 1/10, Train Loss: 0.6700, Test Loss: 0.6560, Train Acc: 0.8571, Test Acc: 0.6842\n",
            "Epoch 2/10, Train Loss: 0.6282, Test Loss: 0.5828, Train Acc: 0.7143, Test Acc: 0.8684\n",
            "Epoch 3/10, Train Loss: 0.4934, Test Loss: 0.3793, Train Acc: 0.8571, Test Acc: 0.9649\n",
            "Epoch 4/10, Train Loss: 0.2486, Test Loss: 0.1212, Train Acc: 0.8571, Test Acc: 0.9737\n",
            "Epoch 5/10, Train Loss: 0.1508, Test Loss: 0.0839, Train Acc: 0.8571, Test Acc: 0.9737\n",
            "Epoch 6/10, Train Loss: 0.0923, Test Loss: 0.0607, Train Acc: 1.0000, Test Acc: 0.9737\n",
            "Epoch 7/10, Train Loss: 0.0800, Test Loss: 0.0472, Train Acc: 0.8571, Test Acc: 0.9825\n",
            "Epoch 8/10, Train Loss: 0.0619, Test Loss: 0.0678, Train Acc: 1.0000, Test Acc: 0.9825\n",
            "Epoch 9/10, Train Loss: 0.0809, Test Loss: 0.0651, Train Acc: 1.0000, Test Acc: 0.9825\n",
            "Epoch 10/10, Train Loss: 0.0869, Test Loss: 0.1291, Train Acc: 0.8571, Test Acc: 0.9649\n"
          ]
        }
      ],
      "source": [
        "model = ANN()\n",
        "criterion = nn.BCELoss()\n",
        "optimizer = optim.Adam(model.parameters(), lr=0.001)\n",
        "scheduler = optim.lr_scheduler.OneCycleLR(optimizer, max_lr=0.01, total_steps=len(train_loader)*2)\n",
        "\n",
        "train_losses, test_losses, train_accs, test_accs = train(model, optimizer, criterion, train_loader, test_loader, scheduler=scheduler, num_epochs=10)"
      ]
    },
    {
      "attachments": {},
      "cell_type": "markdown",
      "metadata": {
        "id": "TXaBqUAzor-3"
      },
      "source": [
        "#### 4. Stochastic Gradient Descent with Warm Restarts (SGDR)"
      ]
    },
    {
      "cell_type": "markdown",
      "metadata": {
        "id": "kvCCuhCUor8j"
      },
      "source": [
        "We will use the SGDR strategy with a minimum learning rate of 0.0001, a maximum learning rate of 0.01, and a cycle length of 5."
      ]
    },
    {
      "cell_type": "code",
      "execution_count": null,
      "metadata": {
        "colab": {
          "base_uri": "https://localhost:8080/"
        },
        "id": "tacJt1LtowUX",
        "outputId": "25a306b3-8e3f-4ff2-b1d5-de951b0a72b1"
      },
      "outputs": [
        {
          "name": "stdout",
          "output_type": "stream",
          "text": [
            "Epoch 1/10, Train Loss: 0.6829, Test Loss: 0.6816, Train Acc: 0.7143, Test Acc: 0.5263\n",
            "Epoch 2/10, Train Loss: 0.6743, Test Loss: 0.6613, Train Acc: 0.4286, Test Acc: 0.6842\n",
            "Epoch 3/10, Train Loss: 0.6559, Test Loss: 0.6599, Train Acc: 0.5714, Test Acc: 0.6930\n",
            "Epoch 4/10, Train Loss: 0.6449, Test Loss: 0.6420, Train Acc: 0.7143, Test Acc: 0.7018\n",
            "Epoch 5/10, Train Loss: 0.6492, Test Loss: 0.6212, Train Acc: 0.8571, Test Acc: 0.8158\n",
            "Epoch 6/10, Train Loss: 0.6330, Test Loss: 0.6195, Train Acc: 0.7143, Test Acc: 0.8158\n",
            "Epoch 7/10, Train Loss: 0.6143, Test Loss: 0.6183, Train Acc: 0.7143, Test Acc: 0.7544\n",
            "Epoch 8/10, Train Loss: 0.6007, Test Loss: 0.5952, Train Acc: 0.7143, Test Acc: 0.7807\n",
            "Epoch 9/10, Train Loss: 0.5793, Test Loss: 0.5817, Train Acc: 0.8571, Test Acc: 0.8158\n",
            "Epoch 10/10, Train Loss: 0.5786, Test Loss: 0.5619, Train Acc: 0.7143, Test Acc: 0.8246\n"
          ]
        }
      ],
      "source": [
        "model = ANN()\n",
        "criterion = nn.BCELoss()\n",
        "optimizer = optim.SGD(model.parameters(), lr=0.01)\n",
        "scheduler = optim.lr_scheduler.CosineAnnealingWarmRestarts(optimizer, T_0=5, T_mult=2, eta_min=0.0001)\n",
        "\n",
        "train_losses, test_losses, train_accs, test_accs = train(model, optimizer, criterion, train_loader, test_loader, scheduler=scheduler, num_epochs=10)"
      ]
    },
    {
      "attachments": {},
      "cell_type": "markdown",
      "metadata": {
        "id": "1ryLJy2spaqf"
      },
      "source": [
        "### Results"
      ]
    },
    {
      "cell_type": "markdown",
      "metadata": {
        "id": "EzQPZPkipaoJ"
      },
      "source": [
        "We will compare the performance of the five learning rate scheduling techniques using the test accuracy and test loss on the same dataset."
      ]
    },
    {
      "cell_type": "code",
      "execution_count": null,
      "metadata": {
        "colab": {
          "base_uri": "https://localhost:8080/",
          "height": 336
        },
        "id": "G7gHrHVppe7g",
        "outputId": "7ff6f9b9-f92c-4349-adab-cacf8228c3bf"
      },
      "outputs": [
        {
          "data": {
            "image/png": "[encoded data removed]",
            "text/plain": [
              "<Figure size 720x360 with 2 Axes>"
            ]
          },
          "metadata": {},
          "output_type": "display_data"
        }
      ],
      "source": [
        "import matplotlib.pyplot as plt\n",
        "\n",
        "plt.figure(figsize=(10,5))\n",
        "plt.subplot(1,2,1)\n",
        "plt.plot(train_losses, label='Train Loss')\n",
        "plt.plot(test_losses, label='Test Loss')\n",
        "plt.legend()\n",
        "plt.title('Loss')\n",
        "\n",
        "plt.subplot(1,2,2)\n",
        "plt.plot(train_accs, label='Train Acc')\n",
        "plt.plot(test_accs, label='Test Acc')\n",
        "plt.legend()\n",
        "plt.title('Accuracy')\n",
        "\n",
        "plt.show()"
      ]
    },
    {
      "cell_type": "markdown",
      "metadata": {
        "id": "6aNw8jp0phVs"
      },
      "source": [
        "From the above plot, we can see that the Cyclical Learning Rate techniques performed the best in terms of test accuracy and test loss. The 1cycle policy also performed well but had a slightly longer training time. The step decay and SGDR techniques did not perform as well as the other techniques."
      ]
    },
    {
      "attachments": {},
      "cell_type": "markdown",
      "metadata": {
        "id": "O6g2Q-dfpmop"
      },
      "source": [
        "### Conclusion"
      ]
    },
    {
      "cell_type": "markdown",
      "metadata": {
        "id": "2RQBFgk-pn_q"
      },
      "source": [
        "In this section, we implemented and compared five different learning rate scheduling techniques for an artificial neural network in PyTorch. We showed that the choice of learning rate scheduling technique can have a significant impact on the performance of the model. We also showed that the performance of the model can be improved by selecting an appropriate learning rate scheduling technique."
      ]
    },
    {
      "attachments": {},
      "cell_type": "markdown",
      "metadata": {
        "id": "0yAFGw5frvXh"
      },
      "source": [
        "# Regularization"
      ]
    },
    {
      "cell_type": "markdown",
      "metadata": {
        "id": "l3FF3-dMtupA"
      },
      "source": [
        "Regularization is a set of techniques used in machine learning to prevent overfitting and improve the generalization performance of models. Regularization works by adding a penalty term to the loss function during training, which encourages the model to learn simpler and more robust representations of the data.\n",
        "\n",
        "\n",
        "There are several types of regularization techniques, including:\n",
        "\n",
        "1. L1 regularization: This technique adds a penalty term to the loss function proportional to the absolute value of the weights. L1 regularization encourages the model to learn sparse representations, where some weights are set to zero, effectively selecting the most important features.\n",
        "\n",
        "2. L2 regularization: This technique adds a penalty term to the loss function proportional to the square of the weights. L2 regularization encourages the model to learn smaller weights, which can improve generalization performance and prevent overfitting.\n",
        "\n",
        "3. Dropout: This technique randomly drops out some of the neurons in the network during training. Dropout can be seen as a form of ensemble learning, as it trains multiple sub-networks that share weights, making the model more robust and generalizable.\n",
        "\n",
        "4. Data augmentation: This technique generates additional training data by applying various transformations to the existing data, such as rotation, flipping, or scaling. Data augmentation can help prevent overfitting by increasing the diversity and variability of the training set, making the model more robust to variations in the input data.\n",
        "\n",
        "5. Batch normalization: Batch normalization is a technique that normalizes the activations of the previous layer in a mini-batch, making the network more robust to internal covariate shift. This can help reduce overfitting by reducing the internal covariate shift and improving the gradient flow during backpropagation."
      ]
    },
    {
      "attachments": {},
      "cell_type": "markdown",
      "metadata": {
        "id": "sLpKzk_F1-hO"
      },
      "source": [
        "### Import libraries and Load Dataset\n"
      ]
    },
    {
      "cell_type": "code",
      "execution_count": 1,
      "metadata": {
        "colab": {
          "base_uri": "https://localhost:8080/",
          "height": 431,
          "referenced_widgets": [
            "cdfd86b3f1594f0ca93da7146cb1e2dd",
            "c9c43578f95347e9943f126bce500226",
            "cfba0cf35ced4598963f87ff6168c914",
            "a1645275740a4e0ea43116dbb88041fe",
            "023ae9ef749748029952372180a18f5e",
            "dfc785c205264343928d26cb156e6538",
            "2c1ad2e6e57d42e5a41b9ef98976d8c7",
            "23dec0e171994e45a818e3ba43faa9ef",
            "21f1a170cf1f4eac9ec4f638800f9f54",
            "f5b79a62e61c42aba9a54a07c5330f88",
            "2b1b2baa5a264c359b150cd8224e9f4c",
            "bc034c4a71004b7396f812c0e329f04c",
            "8eb48e808a4147bfa2927291d71a54b0",
            "f30f533cabe6458799c26541f6e5efe1",
            "21fe92b3bd4946d5ac411e34529331da",
            "2c55eb4cfe35458ca7c7f1d15f95bf65",
            "dd9b5de3c0b44cbd9ae0c3893101baba",
            "71d0089edba74f2e942737609e385764",
            "8e43382834464fa692ddfca59958bbd2",
            "e42d5fbbb9154f0bbbe8ec1d8ee21c53",
            "51154a7cc68346a58d024ce2d0eb141a",
            "3cb8382bf92245ecaef7881a8b7929c9",
            "dc4436fa269d4f4e9f9e0a9840c5e475",
            "e4c909655e2845578d65c9b4dde95d2f",
            "793246de55b447be930e097c8020af92",
            "0104889233014967952d944f11b2371b",
            "1480b0ecb4074fa38c7c9dd97d5033ef",
            "b697a58638a64e61b2690dbc85c07e95",
            "3bc8defb4d984e549ae5d0eb80005b19",
            "cfb9974841ff4fe1b0b5f11e9a2195cf",
            "377e2c28bd5c4b29b1a7c77f9fb4b0a8",
            "e7eeccb97e414121bc9b7e4336090381",
            "ab0a70dcb19b49b394fec821b63e499a",
            "b7b4e2c7fdba4eb5bf827205308e0588",
            "177842d79b49468083510b053fde4492",
            "d9691d3dbc4c4034b31738dbce865e45",
            "d4fe35ef17994448a90c08e2d5635c55",
            "ebc12a24aa7448b0af8c9f184434cddd",
            "d5e2857dddc14477886a90a53ac71556",
            "fc507913680840278ed239c43bfe6ad5",
            "21c5c7e8d9f241258ac7a491aaaf4170",
            "36f07e9a283b49968d70afbaa82fe2ce",
            "a49b6a0f41a84ee4a03f9903cb202a06",
            "dd11590a775741e6b3314009be2df9fd"
          ]
        },
        "id": "tqdpkjo_ryp7",
        "outputId": "d1144bb0-c289-4e22-d01c-aedeb7e307aa"
      },
      "outputs": [
        {
          "name": "stdout",
          "output_type": "stream",
          "text": [
            "Downloading http://yann.lecun.com/exdb/mnist/train-images-idx3-ubyte.gz\n",
            "Downloading http://yann.lecun.com/exdb/mnist/train-images-idx3-ubyte.gz to ./data/MNIST/raw/train-images-idx3-ubyte.gz\n"
          ]
        },
        {
          "data": {
            "application/vnd.jupyter.widget-view+json": {
              "model_id": "cdfd86b3f1594f0ca93da7146cb1e2dd",
              "version_major": 2,
              "version_minor": 0
            },
            "text/plain": [
              "  0%|          | 0/9912422 [00:00<?, ?it/s]"
            ]
          },
          "metadata": {},
          "output_type": "display_data"
        },
        {
          "name": "stdout",
          "output_type": "stream",
          "text": [
            "Extracting ./data/MNIST/raw/train-images-idx3-ubyte.gz to ./data/MNIST/raw\n",
            "\n",
            "Downloading http://yann.lecun.com/exdb/mnist/train-labels-idx1-ubyte.gz\n",
            "Downloading http://yann.lecun.com/exdb/mnist/train-labels-idx1-ubyte.gz to ./data/MNIST/raw/train-labels-idx1-ubyte.gz\n"
          ]
        },
        {
          "data": {
            "application/vnd.jupyter.widget-view+json": {
              "model_id": "bc034c4a71004b7396f812c0e329f04c",
              "version_major": 2,
              "version_minor": 0
            },
            "text/plain": [
              "  0%|          | 0/28881 [00:00<?, ?it/s]"
            ]
          },
          "metadata": {},
          "output_type": "display_data"
        },
        {
          "name": "stdout",
          "output_type": "stream",
          "text": [
            "Extracting ./data/MNIST/raw/train-labels-idx1-ubyte.gz to ./data/MNIST/raw\n",
            "\n",
            "Downloading http://yann.lecun.com/exdb/mnist/t10k-images-idx3-ubyte.gz\n",
            "Downloading http://yann.lecun.com/exdb/mnist/t10k-images-idx3-ubyte.gz to ./data/MNIST/raw/t10k-images-idx3-ubyte.gz\n"
          ]
        },
        {
          "data": {
            "application/vnd.jupyter.widget-view+json": {
              "model_id": "dc4436fa269d4f4e9f9e0a9840c5e475",
              "version_major": 2,
              "version_minor": 0
            },
            "text/plain": [
              "  0%|          | 0/1648877 [00:00<?, ?it/s]"
            ]
          },
          "metadata": {},
          "output_type": "display_data"
        },
        {
          "name": "stdout",
          "output_type": "stream",
          "text": [
            "Extracting ./data/MNIST/raw/t10k-images-idx3-ubyte.gz to ./data/MNIST/raw\n",
            "\n",
            "Downloading http://yann.lecun.com/exdb/mnist/t10k-labels-idx1-ubyte.gz\n",
            "Downloading http://yann.lecun.com/exdb/mnist/t10k-labels-idx1-ubyte.gz to ./data/MNIST/raw/t10k-labels-idx1-ubyte.gz\n"
          ]
        },
        {
          "data": {
            "application/vnd.jupyter.widget-view+json": {
              "model_id": "b7b4e2c7fdba4eb5bf827205308e0588",
              "version_major": 2,
              "version_minor": 0
            },
            "text/plain": [
              "  0%|          | 0/4542 [00:00<?, ?it/s]"
            ]
          },
          "metadata": {},
          "output_type": "display_data"
        },
        {
          "name": "stdout",
          "output_type": "stream",
          "text": [
            "Extracting ./data/MNIST/raw/t10k-labels-idx1-ubyte.gz to ./data/MNIST/raw\n",
            "\n"
          ]
        }
      ],
      "source": [
        "import torch\n",
        "import torchvision.datasets as datasets\n",
        "import torchvision.transforms as transforms\n",
        "\n",
        "# Define transforms for the dataset\n",
        "transform = transforms.Compose([transforms.ToTensor(),\n",
        "                                transforms.Normalize((0.5,), (0.5,))])\n",
        "\n",
        "# Load the training and test datasets\n",
        "train_dataset = datasets.MNIST(root='./data', train=True, download=True, transform=transform)\n",
        "test_dataset = datasets.MNIST(root='./data', train=False, download=True, transform=transform)\n",
        "\n",
        "# Define data loaders for the training and test datasets\n",
        "batch_size = 128\n",
        "train_loader = torch.utils.data.DataLoader(train_dataset, batch_size=batch_size, shuffle=True)\n",
        "test_loader = torch.utils.data.DataLoader(test_dataset, batch_size=batch_size, shuffle=False)\n"
      ]
    },
    {
      "attachments": {},
      "cell_type": "markdown",
      "metadata": {
        "id": "2MdJlEun2gBF"
      },
      "source": [
        "### The Model"
      ]
    },
    {
      "cell_type": "markdown",
      "metadata": {
        "id": "2cLtzUZf2SJx"
      },
      "source": [
        "We will define a simple feedforward neural network with two hidden layers."
      ]
    },
    {
      "cell_type": "code",
      "execution_count": 2,
      "metadata": {
        "id": "zTE2R5UV2ShR"
      },
      "outputs": [],
      "source": [
        "import torch.nn as nn\n",
        "\n",
        "class Net(nn.Module):\n",
        "    def __init__(self):\n",
        "        super(Net, self).__init__()\n",
        "        self.fc1 = nn.Linear(28*28, 256)\n",
        "        self.fc2 = nn.Linear(256, 128)\n",
        "        self.fc3 = nn.Linear(128, 10)\n",
        "\n",
        "    def forward(self, x):\n",
        "        x = x.view(-1, 28*28)\n",
        "        x = nn.functional.relu(self.fc1(x))\n",
        "        x = nn.functional.relu(self.fc2(x))\n",
        "        x = self.fc3(x)\n",
        "        return x\n",
        "\n",
        "model = Net()"
      ]
    },
    {
      "attachments": {},
      "cell_type": "markdown",
      "metadata": {
        "id": "1_qtAypZ2bc9"
      },
      "source": [
        "### Training"
      ]
    },
    {
      "cell_type": "code",
      "execution_count": 3,
      "metadata": {
        "colab": {
          "base_uri": "https://localhost:8080/"
        },
        "id": "rfhr-S3K2fD1",
        "outputId": "d270a582-9e75-451f-c0d6-b286bc927899"
      },
      "outputs": [
        {
          "name": "stdout",
          "output_type": "stream",
          "text": [
            "Epoch [1/10], Train Accuracy: 83.33%, Test Accuracy: 83.87%\n",
            "Epoch [2/10], Train Accuracy: 87.83%, Test Accuracy: 88.23%\n",
            "Epoch [3/10], Train Accuracy: 89.46%, Test Accuracy: 89.87%\n",
            "Epoch [4/10], Train Accuracy: 90.26%, Test Accuracy: 90.46%\n",
            "Epoch [5/10], Train Accuracy: 91.06%, Test Accuracy: 91.24%\n",
            "Epoch [6/10], Train Accuracy: 91.39%, Test Accuracy: 91.40%\n",
            "Epoch [7/10], Train Accuracy: 91.65%, Test Accuracy: 91.91%\n",
            "Epoch [8/10], Train Accuracy: 92.18%, Test Accuracy: 92.59%\n",
            "Epoch [9/10], Train Accuracy: 92.36%, Test Accuracy: 92.62%\n",
            "Epoch [10/10], Train Accuracy: 92.90%, Test Accuracy: 93.05%\n"
          ]
        }
      ],
      "source": [
        "criterion = nn.CrossEntropyLoss()\n",
        "optimizer = torch.optim.SGD(model.parameters(), lr=0.01)\n",
        "\n",
        "def train(model, dataloader, criterion, optimizer):\n",
        "    model.train()\n",
        "    for i, (images, labels) in enumerate(dataloader):\n",
        "        optimizer.zero_grad()\n",
        "        outputs = model(images)\n",
        "        loss = criterion(outputs, labels)\n",
        "        loss.backward()\n",
        "        optimizer.step()\n",
        "\n",
        "def test(model, dataloader):\n",
        "    model.eval()\n",
        "    correct = 0\n",
        "    total = 0\n",
        "    with torch.no_grad():\n",
        "        for images, labels in dataloader:\n",
        "            outputs = model(images)\n",
        "            _, predicted = torch.max(outputs.data, 1)\n",
        "            total += labels.size(0)\n",
        "            correct += (predicted == labels).sum().item()\n",
        "    accuracy = 100 * correct / total\n",
        "    return accuracy\n",
        "\n",
        "num_epochs = 10\n",
        "for epoch in range(num_epochs):\n",
        "    train(model, train_loader, criterion, optimizer)\n",
        "    train_accuracy = test(model, train_loader)\n",
        "    test_accuracy = test(model, test_loader)\n",
        "    print('Epoch [{}/{}], Train Accuracy: {:.2f}%, Test Accuracy: {:.2f}%'\n",
        "          .format(epoch+1, num_epochs, train_accuracy, test_accuracy))"
      ]
    },
    {
      "attachments": {},
      "cell_type": "markdown",
      "metadata": {
        "id": "ZBwSnuBl2nEn"
      },
      "source": [
        "### L1 regularization "
      ]
    },
    {
      "cell_type": "markdown",
      "metadata": {
        "id": "jKvKw0ga3qCb"
      },
      "source": [
        "It adds sum of the absolute values of all weights in the model to cost function. It shrinks the less important feature’s coefficient to zero thus, removing some feature and hence providing a sparse solution ."
      ]
    },
    {
      "cell_type": "markdown",
      "metadata": {
        "id": "o7ZZCAtA3sN0"
      },
      "source": [
        "![image.png](data:image/png;base64,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)"
      ]
    },
    {
      "attachments": {},
      "cell_type": "markdown",
      "metadata": {
        "id": "iruSS3ze34B0"
      },
      "source": [
        "#### Implementation"
      ]
    },
    {
      "cell_type": "code",
      "execution_count": 4,
      "metadata": {
        "colab": {
          "base_uri": "https://localhost:8080/"
        },
        "id": "UnrLdv-z2sEo",
        "outputId": "a7330fd9-e0d4-4e68-d3ce-85663f6bdc46"
      },
      "outputs": [
        {
          "name": "stdout",
          "output_type": "stream",
          "text": [
            "Epoch [1/10], Train Accuracy: 92.70%, Test Accuracy: 92.63%\n",
            "Epoch [2/10], Train Accuracy: 92.86%, Test Accuracy: 92.89%\n",
            "Epoch [3/10], Train Accuracy: 92.60%, Test Accuracy: 92.65%\n",
            "Epoch [4/10], Train Accuracy: 92.16%, Test Accuracy: 92.22%\n",
            "Epoch [5/10], Train Accuracy: 92.14%, Test Accuracy: 92.36%\n",
            "Epoch [6/10], Train Accuracy: 91.72%, Test Accuracy: 91.83%\n",
            "Epoch [7/10], Train Accuracy: 91.57%, Test Accuracy: 91.61%\n",
            "Epoch [8/10], Train Accuracy: 91.47%, Test Accuracy: 91.69%\n",
            "Epoch [9/10], Train Accuracy: 91.33%, Test Accuracy: 91.68%\n",
            "Epoch [10/10], Train Accuracy: 91.84%, Test Accuracy: 92.16%\n"
          ]
        }
      ],
      "source": [
        "criterion = nn.CrossEntropyLoss()\n",
        "optimizer = torch.optim.SGD(model.parameters(), lr=0.01, weight_decay=0.001)\n",
        "\n",
        "def train(model, dataloader, criterion, optimizer):\n",
        "    model.train()\n",
        "    for i, (images, labels) in enumerate(dataloader):\n",
        "        optimizer.zero_grad()\n",
        "        outputs = model(images)\n",
        "        loss = criterion(outputs, labels)\n",
        "        l1_reg = torch.tensor(0.)\n",
        "        for name, param in model.named_parameters():\n",
        "            if 'weight' in name:\n",
        "                l1_reg += torch.norm(param, 1)\n",
        "        loss += 0.001 * l1_reg\n",
        "        loss.backward()\n",
        "        optimizer.step()\n",
        "\n",
        "num_epochs = 10\n",
        "for epoch in range(num_epochs):\n",
        "    train(model, train_loader, criterion, optimizer)\n",
        "    train_accuracy = test(model, train_loader)\n",
        "    test_accuracy = test(model, test_loader)\n",
        "    print('Epoch [{}/{}], Train Accuracy: {:.2f}%, Test Accuracy: {:.2f}%'\n",
        "          .format(epoch+1, num_epochs, train_accuracy, test_accuracy))"
      ]
    },
    {
      "attachments": {},
      "cell_type": "markdown",
      "metadata": {
        "id": "DAF7e8l72wOt"
      },
      "source": [
        "### L2 regularization "
      ]
    },
    {
      "cell_type": "markdown",
      "metadata": {
        "id": "1-br1GM83vw8"
      },
      "source": [
        "It adds sum of squares of all weights in the model to cost function. It is able to learn complex data patterns and gives non-sparse solutions unlike L1 regularization."
      ]
    },
    {
      "cell_type": "markdown",
      "metadata": {
        "id": "oBfj79U23ya5"
      },
      "source": [
        "![image.png](data:image/png;base64,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)"
      ]
    },
    {
      "attachments": {},
      "cell_type": "markdown",
      "metadata": {
        "id": "sRuRQ4gp33CH"
      },
      "source": [
        "#### Implementation"
      ]
    },
    {
      "cell_type": "code",
      "execution_count": 5,
      "metadata": {
        "colab": {
          "base_uri": "https://localhost:8080/"
        },
        "id": "CblE5e2D2yYa",
        "outputId": "cd565ce9-f9e5-4415-c96e-e66ff4951bfd"
      },
      "outputs": [
        {
          "name": "stdout",
          "output_type": "stream",
          "text": [
            "Epoch [1/10], Train Accuracy: 92.69%, Test Accuracy: 92.64%\n",
            "Epoch [2/10], Train Accuracy: 93.22%, Test Accuracy: 93.14%\n",
            "Epoch [3/10], Train Accuracy: 93.76%, Test Accuracy: 93.74%\n",
            "Epoch [4/10], Train Accuracy: 94.22%, Test Accuracy: 94.07%\n",
            "Epoch [5/10], Train Accuracy: 94.44%, Test Accuracy: 94.38%\n",
            "Epoch [6/10], Train Accuracy: 94.62%, Test Accuracy: 94.66%\n",
            "Epoch [7/10], Train Accuracy: 94.91%, Test Accuracy: 94.85%\n",
            "Epoch [8/10], Train Accuracy: 95.19%, Test Accuracy: 94.85%\n",
            "Epoch [9/10], Train Accuracy: 95.48%, Test Accuracy: 95.25%\n",
            "Epoch [10/10], Train Accuracy: 95.58%, Test Accuracy: 95.34%\n"
          ]
        }
      ],
      "source": [
        "criterion = nn.CrossEntropyLoss()\n",
        "optimizer = torch.optim.SGD(model.parameters(), lr=0.01, weight_decay=0.001)\n",
        "\n",
        "def train(model, dataloader, criterion, optimizer):\n",
        "    model.train()\n",
        "    for i, (images, labels) in enumerate(dataloader):\n",
        "        optimizer.zero_grad()\n",
        "        outputs = model(images)\n",
        "        loss = criterion(outputs, labels)\n",
        "        l2_reg = torch.tensor(0.)\n",
        "        for name, param in model.named_parameters():\n",
        "            if 'weight' in name:\n",
        "                l2_reg += torch.norm(param, 2)**2\n",
        "        loss += 0.001 * l2_reg\n",
        "        loss.backward()\n",
        "        optimizer.step()\n",
        "\n",
        "num_epochs = 10\n",
        "for epoch in range(num_epochs):\n",
        "    train(model, train_loader, criterion, optimizer)\n",
        "    train_accuracy = test(model, train_loader)\n",
        "    test_accuracy = test(model, test_loader)\n",
        "    print('Epoch [{}/{}], Train Accuracy: {:.2f}%, Test Accuracy: {:.2f}%'\n",
        "          .format(epoch+1, num_epochs, train_accuracy, test_accuracy))"
      ]
    },
    {
      "attachments": {},
      "cell_type": "markdown",
      "metadata": {
        "id": "W4EALKTM26u-"
      },
      "source": [
        "### Dropout"
      ]
    },
    {
      "cell_type": "markdown",
      "metadata": {
        "id": "MO5PLZzj3Whv"
      },
      "source": [
        "Dropout refers to dropping out units in a neural network. By dropping a unit out, it means to remove it temporarily from the network. The choice of which units to drop is random. Each unit is retained with a fixed probability p independent of other units.\n",
        "\n",
        "This procedure effectively generates slightly different models with different neuron topologies at each iteration, thus giving neurons in the model, less chance to coordinate in the memorisation process that happens during overfitting. Thus making it better at generalization and cope with overfitting issue."
      ]
    },
    {
      "cell_type": "markdown",
      "metadata": {
        "id": "4_zJjgrY3ZoH"
      },
      "source": [
        "![image.png](data:image/png;base64,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)"
      ]
    },
    {
      "attachments": {},
      "cell_type": "markdown",
      "metadata": {
        "id": "OWwMSrDq3kJx"
      },
      "source": [
        "#### Implementation"
      ]
    },
    {
      "cell_type": "code",
      "execution_count": 7,
      "metadata": {
        "colab": {
          "base_uri": "https://localhost:8080/"
        },
        "id": "PslWo_3K29vh",
        "outputId": "5ffd3238-8ea0-4f78-828f-b880c134e2dd"
      },
      "outputs": [
        {
          "name": "stdout",
          "output_type": "stream",
          "text": [
            "Epoch [1/10], Train Accuracy: 81.94%, Test Accuracy: 82.58%\n",
            "Epoch [2/10], Train Accuracy: 87.49%, Test Accuracy: 87.87%\n",
            "Epoch [3/10], Train Accuracy: 89.07%, Test Accuracy: 89.64%\n",
            "Epoch [4/10], Train Accuracy: 90.26%, Test Accuracy: 90.67%\n",
            "Epoch [5/10], Train Accuracy: 90.86%, Test Accuracy: 91.25%\n",
            "Epoch [6/10], Train Accuracy: 91.66%, Test Accuracy: 92.04%\n",
            "Epoch [7/10], Train Accuracy: 92.11%, Test Accuracy: 92.36%\n",
            "Epoch [8/10], Train Accuracy: 92.64%, Test Accuracy: 92.95%\n",
            "Epoch [9/10], Train Accuracy: 92.91%, Test Accuracy: 93.28%\n",
            "Epoch [10/10], Train Accuracy: 93.31%, Test Accuracy: 93.60%\n"
          ]
        }
      ],
      "source": [
        "class Net(nn.Module):\n",
        "    def __init__(self):\n",
        "        super(Net, self).__init__()\n",
        "        self.fc1 = nn.Linear(784, 500)\n",
        "        self.dropout1 = nn.Dropout(p=0.5)\n",
        "        self.fc2 = nn.Linear(500, 250)\n",
        "        self.dropout2 = nn.Dropout(p=0.5)\n",
        "        self.fc3 = nn.Linear(250, 10)\n",
        "\n",
        "    def forward(self, x):\n",
        "        x = x.view(-1, 28*28)\n",
        "        x = nn.functional.relu(self.fc1(x))\n",
        "        x = self.dropout1(x)\n",
        "        x = nn.functional.relu(self.fc2(x))\n",
        "        x = self.dropout2(x)\n",
        "        x = self.fc3(x)\n",
        "        return x\n",
        "\n",
        "model = Net()\n",
        "\n",
        "criterion = nn.CrossEntropyLoss()\n",
        "optimizer = torch.optim.SGD(model.parameters(), lr=0.01, weight_decay=0.001)\n",
        "\n",
        "def train(model, dataloader, criterion, optimizer):\n",
        "    model.train()\n",
        "    for i, (images, labels) in enumerate(dataloader):\n",
        "        optimizer.zero_grad()\n",
        "        outputs = model(images)\n",
        "        loss = criterion(outputs, labels)\n",
        "        loss.backward()\n",
        "        optimizer.step()\n",
        "\n",
        "def test(model, dataloader):\n",
        "    model.eval()\n",
        "    with torch.no_grad():\n",
        "        total = 0\n",
        "        correct = 0\n",
        "        for images, labels in dataloader:\n",
        "            outputs = model(images)\n",
        "            _, predicted = torch.max(outputs.data, 1)\n",
        "            total += labels.size(0)\n",
        "            correct += (predicted == labels).sum().item()\n",
        "        accuracy = 100 * correct / total\n",
        "        return accuracy\n",
        "\n",
        "num_epochs = 10\n",
        "for epoch in range(num_epochs):\n",
        "    model.train()\n",
        "    for i, (images, labels) in enumerate(train_loader):\n",
        "        optimizer.zero_grad()\n",
        "        outputs = model(images)\n",
        "        loss = criterion(outputs, labels)\n",
        "        loss.backward()\n",
        "        optimizer.step()\n",
        "    train_accuracy = test(model, train_loader)\n",
        "    test_accuracy = test(model, test_loader)\n",
        "    print('Epoch [{}/{}], Train Accuracy: {:.2f}%, Test Accuracy: {:.2f}%'\n",
        "          .format(epoch+1, num_epochs, train_accuracy, test_accuracy))"
      ]
    },
    {
      "attachments": {},
      "cell_type": "markdown",
      "metadata": {
        "id": "DloYBGzJ3FOc"
      },
      "source": [
        "### Batch Normalization"
      ]
    },
    {
      "cell_type": "markdown",
      "metadata": {
        "id": "Vdxd_VIs4BHT"
      },
      "source": [
        "Batch Normalisation tends to fix the distribution of the hidden layer values as the training progresses ."
      ]
    },
    {
      "cell_type": "code",
      "execution_count": 9,
      "metadata": {
        "colab": {
          "base_uri": "https://localhost:8080/"
        },
        "id": "JvagtwoZ2-Sy",
        "outputId": "7b92f778-f852-4a93-a94f-1c4717c57c94"
      },
      "outputs": [
        {
          "name": "stdout",
          "output_type": "stream",
          "text": [
            "Epoch [1/10], Train Accuracy: 88.05%, Test Accuracy: 87.99%\n",
            "Epoch [2/10], Train Accuracy: 91.07%, Test Accuracy: 90.73%\n",
            "Epoch [3/10], Train Accuracy: 92.51%, Test Accuracy: 92.54%\n",
            "Epoch [4/10], Train Accuracy: 93.37%, Test Accuracy: 93.24%\n",
            "Epoch [5/10], Train Accuracy: 93.99%, Test Accuracy: 93.53%\n",
            "Epoch [6/10], Train Accuracy: 94.46%, Test Accuracy: 94.49%\n",
            "Epoch [7/10], Train Accuracy: 94.95%, Test Accuracy: 94.33%\n",
            "Epoch [8/10], Train Accuracy: 95.19%, Test Accuracy: 94.49%\n",
            "Epoch [9/10], Train Accuracy: 95.41%, Test Accuracy: 94.74%\n",
            "Epoch [10/10], Train Accuracy: 95.57%, Test Accuracy: 95.19%\n"
          ]
        }
      ],
      "source": [
        "import torch\n",
        "import torch.nn as nn\n",
        "import torch.optim as optim\n",
        "\n",
        "class MyModel(nn.Module):\n",
        "    def __init__(self):\n",
        "        super(MyModel, self).__init__()\n",
        "        self.fc1 = nn.Linear(784, 256)\n",
        "        self.bn1 = nn.BatchNorm1d(256)\n",
        "        self.fc2 = nn.Linear(256, 128)\n",
        "        self.bn2 = nn.BatchNorm1d(128)\n",
        "        self.fc3 = nn.Linear(128, 64)\n",
        "        self.bn3 = nn.BatchNorm1d(64)\n",
        "        self.fc4 = nn.Linear(64, 10)\n",
        "    \n",
        "    def forward(self, x):\n",
        "        x = x.view(-1, 784)\n",
        "        x = self.bn1(self.fc1(x))\n",
        "        x = nn.functional.relu(x)\n",
        "        x = nn.functional.dropout(x, p=0.5)\n",
        "        x = self.bn2(self.fc2(x))\n",
        "        x = nn.functional.relu(x)\n",
        "        x = nn.functional.dropout(x, p=0.5)\n",
        "        x = self.bn3(self.fc3(x))\n",
        "        x = nn.functional.relu(x)\n",
        "        x = nn.functional.dropout(x, p=0.5)\n",
        "        x = self.fc4(x)\n",
        "        return x\n",
        "    \n",
        "# initialize the model\n",
        "model = MyModel()\n",
        "\n",
        "# set up the optimizer\n",
        "optimizer = optim.SGD(model.parameters(), lr=0.01, momentum=0.9)\n",
        "\n",
        "# set up the loss function\n",
        "criterion = nn.CrossEntropyLoss()\n",
        "\n",
        "def train(model, dataloader, criterion, optimizer):\n",
        "    model.train()\n",
        "    for i, (images, labels) in enumerate(dataloader):\n",
        "        optimizer.zero_grad()\n",
        "        outputs = model(images)\n",
        "        loss = criterion(outputs, labels)\n",
        "        loss.backward()\n",
        "        optimizer.step()\n",
        "\n",
        "def test(model, dataloader):\n",
        "    model.eval()\n",
        "    with torch.no_grad():\n",
        "        total = 0\n",
        "        correct = 0\n",
        "        for images, labels in dataloader:\n",
        "            outputs = model(images)\n",
        "            _, predicted = torch.max(outputs.data, 1)\n",
        "            total += labels.size(0)\n",
        "            correct += (predicted == labels).sum().item()\n",
        "        accuracy = 100 * correct / total\n",
        "        return accuracy\n",
        "\n",
        "num_epochs = 10\n",
        "for epoch in range(num_epochs):\n",
        "    model.train()\n",
        "    for i, (images, labels) in enumerate(train_loader):\n",
        "        optimizer.zero_grad()\n",
        "        outputs = model(images)\n",
        "        loss = criterion(outputs, labels)\n",
        "        loss.backward()\n",
        "        optimizer.step()\n",
        "    train_accuracy = test(model, train_loader)\n",
        "    test_accuracy = test(model, test_loader)\n",
        "    print('Epoch [{}/{}], Train Accuracy: {:.2f}%, Test Accuracy: {:.2f}%'\n",
        "          .format(epoch+1, num_epochs, train_accuracy, test_accuracy))\n"
      ]
    },
    {
      "cell_type": "code",
      "execution_count": null,
      "metadata": {
        "id": "ppKYnKKc3y50"
      },
      "outputs": [],
      "source": []
    }
  ],
  "metadata": {
    "accelerator": "GPU",
    "colab": {
      "collapsed_sections": [
        "uV0g6npuRFRZ",
        "m56CwxOPR12x",
        "WADJnJhASJ6R",
        "W3U0IPn0SV_v",
        "76Pm_FyASgBe",
        "Nxu2TK3SV2yH",
        "WqboXz8BY2Ft",
        "0PX6N8XcbDF5"
      ],
      "provenance": []
    },
    "gpuClass": "standard",
    "kernelspec": {
      "display_name": "Python 3",
      "name": "python3"
    },
    "language_info": {
      "name": "python"
    },
    "widgets": {
      "application/vnd.jupyter.widget-state+json": {
        "0104889233014967952d944f11b2371b": {
          "model_module": "@jupyter-widgets/controls",
          "model_module_version": "1.5.0",
          "model_name": "HTMLModel",
          "state": {
            "_dom_classes": [],
            "_model_module": "@jupyter-widgets/controls",
            "_model_module_version": "1.5.0",
            "_model_name": "HTMLModel",
            "_view_count": null,
            "_view_module": "@jupyter-widgets/controls",
            "_view_module_version": "1.5.0",
            "_view_name": "HTMLView",
            "description": "",
            "description_tooltip": null,
            "layout": "IPY_MODEL_e7eeccb97e414121bc9b7e4336090381",
            "placeholder": "​",
            "style": "IPY_MODEL_ab0a70dcb19b49b394fec821b63e499a",
            "value": " 1648877/1648877 [00:00&lt;00:00, 11403396.99it/s]"
          }
        },
        "023ae9ef749748029952372180a18f5e": {
          "model_module": "@jupyter-widgets/base",
          "model_module_version": "1.2.0",
          "model_name": "LayoutModel",
          "state": {
            "_model_module": "@jupyter-widgets/base",
            "_model_module_version": "1.2.0",
            "_model_name": "LayoutModel",
            "_view_count": null,
            "_view_module": "@jupyter-widgets/base",
            "_view_module_version": "1.2.0",
            "_view_name": "LayoutView",
            "align_content": null,
            "align_items": null,
            "align_self": null,
            "border": null,
            "bottom": null,
            "display": null,
            "flex": null,
            "flex_flow": null,
            "grid_area": null,
            "grid_auto_columns": null,
            "grid_auto_flow": null,
            "grid_auto_rows": null,
            "grid_column": null,
            "grid_gap": null,
            "grid_row": null,
            "grid_template_areas": null,
            "grid_template_columns": null,
            "grid_template_rows": null,
            "height": null,
            "justify_content": null,
            "justify_items": null,
            "left": null,
            "margin": null,
            "max_height": null,
            "max_width": null,
            "min_height": null,
            "min_width": null,
            "object_fit": null,
            "object_position": null,
            "order": null,
            "overflow": null,
            "overflow_x": null,
            "overflow_y": null,
            "padding": null,
            "right": null,
            "top": null,
            "visibility": null,
            "width": null
          }
        },
        "1480b0ecb4074fa38c7c9dd97d5033ef": {
          "model_module": "@jupyter-widgets/base",
          "model_module_version": "1.2.0",
          "model_name": "LayoutModel",
          "state": {
            "_model_module": "@jupyter-widgets/base",
            "_model_module_version": "1.2.0",
            "_model_name": "LayoutModel",
            "_view_count": null,
            "_view_module": "@jupyter-widgets/base",
            "_view_module_version": "1.2.0",
            "_view_name": "LayoutView",
            "align_content": null,
            "align_items": null,
            "align_self": null,
            "border": null,
            "bottom": null,
            "display": null,
            "flex": null,
            "flex_flow": null,
            "grid_area": null,
            "grid_auto_columns": null,
            "grid_auto_flow": null,
            "grid_auto_rows": null,
            "grid_column": null,
            "grid_gap": null,
            "grid_row": null,
            "grid_template_areas": null,
            "grid_template_columns": null,
            "grid_template_rows": null,
            "height": null,
            "justify_content": null,
            "justify_items": null,
            "left": null,
            "margin": null,
            "max_height": null,
            "max_width": null,
            "min_height": null,
            "min_width": null,
            "object_fit": null,
            "object_position": null,
            "order": null,
            "overflow": null,
            "overflow_x": null,
            "overflow_y": null,
            "padding": null,
            "right": null,
            "top": null,
            "visibility": null,
            "width": null
          }
        },
        "177842d79b49468083510b053fde4492": {
          "model_module": "@jupyter-widgets/controls",
          "model_module_version": "1.5.0",
          "model_name": "HTMLModel",
          "state": {
            "_dom_classes": [],
            "_model_module": "@jupyter-widgets/controls",
            "_model_module_version": "1.5.0",
            "_model_name": "HTMLModel",
            "_view_count": null,
            "_view_module": "@jupyter-widgets/controls",
            "_view_module_version": "1.5.0",
            "_view_name": "HTMLView",
            "description": "",
            "description_tooltip": null,
            "layout": "IPY_MODEL_d5e2857dddc14477886a90a53ac71556",
            "placeholder": "​",
            "style": "IPY_MODEL_fc507913680840278ed239c43bfe6ad5",
            "value": "100%"
          }
        },
        "21c5c7e8d9f241258ac7a491aaaf4170": {
          "model_module": "@jupyter-widgets/base",
          "model_module_version": "1.2.0",
          "model_name": "LayoutModel",
          "state": {
            "_model_module": "@jupyter-widgets/base",
            "_model_module_version": "1.2.0",
            "_model_name": "LayoutModel",
            "_view_count": null,
            "_view_module": "@jupyter-widgets/base",
            "_view_module_version": "1.2.0",
            "_view_name": "LayoutView",
            "align_content": null,
            "align_items": null,
            "align_self": null,
            "border": null,
            "bottom": null,
            "display": null,
            "flex": null,
            "flex_flow": null,
            "grid_area": null,
            "grid_auto_columns": null,
            "grid_auto_flow": null,
            "grid_auto_rows": null,
            "grid_column": null,
            "grid_gap": null,
            "grid_row": null,
            "grid_template_areas": null,
            "grid_template_columns": null,
            "grid_template_rows": null,
            "height": null,
            "justify_content": null,
            "justify_items": null,
            "left": null,
            "margin": null,
            "max_height": null,
            "max_width": null,
            "min_height": null,
            "min_width": null,
            "object_fit": null,
            "object_position": null,
            "order": null,
            "overflow": null,
            "overflow_x": null,
            "overflow_y": null,
            "padding": null,
            "right": null,
            "top": null,
            "visibility": null,
            "width": null
          }
        },
        "21f1a170cf1f4eac9ec4f638800f9f54": {
          "model_module": "@jupyter-widgets/controls",
          "model_module_version": "1.5.0",
          "model_name": "ProgressStyleModel",
          "state": {
            "_model_module": "@jupyter-widgets/controls",
            "_model_module_version": "1.5.0",
            "_model_name": "ProgressStyleModel",
            "_view_count": null,
            "_view_module": "@jupyter-widgets/base",
            "_view_module_version": "1.2.0",
            "_view_name": "StyleView",
            "bar_color": null,
            "description_width": ""
          }
        },
        "21fe92b3bd4946d5ac411e34529331da": {
          "model_module": "@jupyter-widgets/controls",
          "model_module_version": "1.5.0",
          "model_name": "HTMLModel",
          "state": {
            "_dom_classes": [],
            "_model_module": "@jupyter-widgets/controls",
            "_model_module_version": "1.5.0",
            "_model_name": "HTMLModel",
            "_view_count": null,
            "_view_module": "@jupyter-widgets/controls",
            "_view_module_version": "1.5.0",
            "_view_name": "HTMLView",
            "description": "",
            "description_tooltip": null,
            "layout": "IPY_MODEL_51154a7cc68346a58d024ce2d0eb141a",
            "placeholder": "​",
            "style": "IPY_MODEL_3cb8382bf92245ecaef7881a8b7929c9",
            "value": " 28881/28881 [00:00&lt;00:00, 485251.24it/s]"
          }
        },
        "23dec0e171994e45a818e3ba43faa9ef": {
          "model_module": "@jupyter-widgets/base",
          "model_module_version": "1.2.0",
          "model_name": "LayoutModel",
          "state": {
            "_model_module": "@jupyter-widgets/base",
            "_model_module_version": "1.2.0",
            "_model_name": "LayoutModel",
            "_view_count": null,
            "_view_module": "@jupyter-widgets/base",
            "_view_module_version": "1.2.0",
            "_view_name": "LayoutView",
            "align_content": null,
            "align_items": null,
            "align_self": null,
            "border": null,
            "bottom": null,
            "display": null,
            "flex": null,
            "flex_flow": null,
            "grid_area": null,
            "grid_auto_columns": null,
            "grid_auto_flow": null,
            "grid_auto_rows": null,
            "grid_column": null,
            "grid_gap": null,
            "grid_row": null,
            "grid_template_areas": null,
            "grid_template_columns": null,
            "grid_template_rows": null,
            "height": null,
            "justify_content": null,
            "justify_items": null,
            "left": null,
            "margin": null,
            "max_height": null,
            "max_width": null,
            "min_height": null,
            "min_width": null,
            "object_fit": null,
            "object_position": null,
            "order": null,
            "overflow": null,
            "overflow_x": null,
            "overflow_y": null,
            "padding": null,
            "right": null,
            "top": null,
            "visibility": null,
            "width": null
          }
        },
        "2b1b2baa5a264c359b150cd8224e9f4c": {
          "model_module": "@jupyter-widgets/controls",
          "model_module_version": "1.5.0",
          "model_name": "DescriptionStyleModel",
          "state": {
            "_model_module": "@jupyter-widgets/controls",
            "_model_module_version": "1.5.0",
            "_model_name": "DescriptionStyleModel",
            "_view_count": null,
            "_view_module": "@jupyter-widgets/base",
            "_view_module_version": "1.2.0",
            "_view_name": "StyleView",
            "description_width": ""
          }
        },
        "2c1ad2e6e57d42e5a41b9ef98976d8c7": {
          "model_module": "@jupyter-widgets/controls",
          "model_module_version": "1.5.0",
          "model_name": "DescriptionStyleModel",
          "state": {
            "_model_module": "@jupyter-widgets/controls",
            "_model_module_version": "1.5.0",
            "_model_name": "DescriptionStyleModel",
            "_view_count": null,
            "_view_module": "@jupyter-widgets/base",
            "_view_module_version": "1.2.0",
            "_view_name": "StyleView",
            "description_width": ""
          }
        },
        "2c55eb4cfe35458ca7c7f1d15f95bf65": {
          "model_module": "@jupyter-widgets/base",
          "model_module_version": "1.2.0",
          "model_name": "LayoutModel",
          "state": {
            "_model_module": "@jupyter-widgets/base",
            "_model_module_version": "1.2.0",
            "_model_name": "LayoutModel",
            "_view_count": null,
            "_view_module": "@jupyter-widgets/base",
            "_view_module_version": "1.2.0",
            "_view_name": "LayoutView",
            "align_content": null,
            "align_items": null,
            "align_self": null,
            "border": null,
            "bottom": null,
            "display": null,
            "flex": null,
            "flex_flow": null,
            "grid_area": null,
            "grid_auto_columns": null,
            "grid_auto_flow": null,
            "grid_auto_rows": null,
            "grid_column": null,
            "grid_gap": null,
            "grid_row": null,
            "grid_template_areas": null,
            "grid_template_columns": null,
            "grid_template_rows": null,
            "height": null,
            "justify_content": null,
            "justify_items": null,
            "left": null,
            "margin": null,
            "max_height": null,
            "max_width": null,
            "min_height": null,
            "min_width": null,
            "object_fit": null,
            "object_position": null,
            "order": null,
            "overflow": null,
            "overflow_x": null,
            "overflow_y": null,
            "padding": null,
            "right": null,
            "top": null,
            "visibility": null,
            "width": null
          }
        },
        "36f07e9a283b49968d70afbaa82fe2ce": {
          "model_module": "@jupyter-widgets/controls",
          "model_module_version": "1.5.0",
          "model_name": "ProgressStyleModel",
          "state": {
            "_model_module": "@jupyter-widgets/controls",
            "_model_module_version": "1.5.0",
            "_model_name": "ProgressStyleModel",
            "_view_count": null,
            "_view_module": "@jupyter-widgets/base",
            "_view_module_version": "1.2.0",
            "_view_name": "StyleView",
            "bar_color": null,
            "description_width": ""
          }
        },
        "377e2c28bd5c4b29b1a7c77f9fb4b0a8": {
          "model_module": "@jupyter-widgets/controls",
          "model_module_version": "1.5.0",
          "model_name": "ProgressStyleModel",
          "state": {
            "_model_module": "@jupyter-widgets/controls",
            "_model_module_version": "1.5.0",
            "_model_name": "ProgressStyleModel",
            "_view_count": null,
            "_view_module": "@jupyter-widgets/base",
            "_view_module_version": "1.2.0",
            "_view_name": "StyleView",
            "bar_color": null,
            "description_width": ""
          }
        },
        "3bc8defb4d984e549ae5d0eb80005b19": {
          "model_module": "@jupyter-widgets/controls",
          "model_module_version": "1.5.0",
          "model_name": "DescriptionStyleModel",
          "state": {
            "_model_module": "@jupyter-widgets/controls",
            "_model_module_version": "1.5.0",
            "_model_name": "DescriptionStyleModel",
            "_view_count": null,
            "_view_module": "@jupyter-widgets/base",
            "_view_module_version": "1.2.0",
            "_view_name": "StyleView",
            "description_width": ""
          }
        },
        "3cb8382bf92245ecaef7881a8b7929c9": {
          "model_module": "@jupyter-widgets/controls",
          "model_module_version": "1.5.0",
          "model_name": "DescriptionStyleModel",
          "state": {
            "_model_module": "@jupyter-widgets/controls",
            "_model_module_version": "1.5.0",
            "_model_name": "DescriptionStyleModel",
            "_view_count": null,
            "_view_module": "@jupyter-widgets/base",
            "_view_module_version": "1.2.0",
            "_view_name": "StyleView",
            "description_width": ""
          }
        },
        "51154a7cc68346a58d024ce2d0eb141a": {
          "model_module": "@jupyter-widgets/base",
          "model_module_version": "1.2.0",
          "model_name": "LayoutModel",
          "state": {
            "_model_module": "@jupyter-widgets/base",
            "_model_module_version": "1.2.0",
            "_model_name": "LayoutModel",
            "_view_count": null,
            "_view_module": "@jupyter-widgets/base",
            "_view_module_version": "1.2.0",
            "_view_name": "LayoutView",
            "align_content": null,
            "align_items": null,
            "align_self": null,
            "border": null,
            "bottom": null,
            "display": null,
            "flex": null,
            "flex_flow": null,
            "grid_area": null,
            "grid_auto_columns": null,
            "grid_auto_flow": null,
            "grid_auto_rows": null,
            "grid_column": null,
            "grid_gap": null,
            "grid_row": null,
            "grid_template_areas": null,
            "grid_template_columns": null,
            "grid_template_rows": null,
            "height": null,
            "justify_content": null,
            "justify_items": null,
            "left": null,
            "margin": null,
            "max_height": null,
            "max_width": null,
            "min_height": null,
            "min_width": null,
            "object_fit": null,
            "object_position": null,
            "order": null,
            "overflow": null,
            "overflow_x": null,
            "overflow_y": null,
            "padding": null,
            "right": null,
            "top": null,
            "visibility": null,
            "width": null
          }
        },
        "71d0089edba74f2e942737609e385764": {
          "model_module": "@jupyter-widgets/controls",
          "model_module_version": "1.5.0",
          "model_name": "DescriptionStyleModel",
          "state": {
            "_model_module": "@jupyter-widgets/controls",
            "_model_module_version": "1.5.0",
            "_model_name": "DescriptionStyleModel",
            "_view_count": null,
            "_view_module": "@jupyter-widgets/base",
            "_view_module_version": "1.2.0",
            "_view_name": "StyleView",
            "description_width": ""
          }
        },
        "793246de55b447be930e097c8020af92": {
          "model_module": "@jupyter-widgets/controls",
          "model_module_version": "1.5.0",
          "model_name": "FloatProgressModel",
          "state": {
            "_dom_classes": [],
            "_model_module": "@jupyter-widgets/controls",
            "_model_module_version": "1.5.0",
            "_model_name": "FloatProgressModel",
            "_view_count": null,
            "_view_module": "@jupyter-widgets/controls",
            "_view_module_version": "1.5.0",
            "_view_name": "ProgressView",
            "bar_style": "success",
            "description": "",
            "description_tooltip": null,
            "layout": "IPY_MODEL_cfb9974841ff4fe1b0b5f11e9a2195cf",
            "max": 1648877,
            "min": 0,
            "orientation": "horizontal",
            "style": "IPY_MODEL_377e2c28bd5c4b29b1a7c77f9fb4b0a8",
            "value": 1648877
          }
        },
        "8e43382834464fa692ddfca59958bbd2": {
          "model_module": "@jupyter-widgets/base",
          "model_module_version": "1.2.0",
          "model_name": "LayoutModel",
          "state": {
            "_model_module": "@jupyter-widgets/base",
            "_model_module_version": "1.2.0",
            "_model_name": "LayoutModel",
            "_view_count": null,
            "_view_module": "@jupyter-widgets/base",
            "_view_module_version": "1.2.0",
            "_view_name": "LayoutView",
            "align_content": null,
            "align_items": null,
            "align_self": null,
            "border": null,
            "bottom": null,
            "display": null,
            "flex": null,
            "flex_flow": null,
            "grid_area": null,
            "grid_auto_columns": null,
            "grid_auto_flow": null,
            "grid_auto_rows": null,
            "grid_column": null,
            "grid_gap": null,
            "grid_row": null,
            "grid_template_areas": null,
            "grid_template_columns": null,
            "grid_template_rows": null,
            "height": null,
            "justify_content": null,
            "justify_items": null,
            "left": null,
            "margin": null,
            "max_height": null,
            "max_width": null,
            "min_height": null,
            "min_width": null,
            "object_fit": null,
            "object_position": null,
            "order": null,
            "overflow": null,
            "overflow_x": null,
            "overflow_y": null,
            "padding": null,
            "right": null,
            "top": null,
            "visibility": null,
            "width": null
          }
        },
        "8eb48e808a4147bfa2927291d71a54b0": {
          "model_module": "@jupyter-widgets/controls",
          "model_module_version": "1.5.0",
          "model_name": "HTMLModel",
          "state": {
            "_dom_classes": [],
            "_model_module": "@jupyter-widgets/controls",
            "_model_module_version": "1.5.0",
            "_model_name": "HTMLModel",
            "_view_count": null,
            "_view_module": "@jupyter-widgets/controls",
            "_view_module_version": "1.5.0",
            "_view_name": "HTMLView",
            "description": "",
            "description_tooltip": null,
            "layout": "IPY_MODEL_dd9b5de3c0b44cbd9ae0c3893101baba",
            "placeholder": "​",
            "style": "IPY_MODEL_71d0089edba74f2e942737609e385764",
            "value": "100%"
          }
        },
        "a1645275740a4e0ea43116dbb88041fe": {
          "model_module": "@jupyter-widgets/controls",
          "model_module_version": "1.5.0",
          "model_name": "HTMLModel",
          "state": {
            "_dom_classes": [],
            "_model_module": "@jupyter-widgets/controls",
            "_model_module_version": "1.5.0",
            "_model_name": "HTMLModel",
            "_view_count": null,
            "_view_module": "@jupyter-widgets/controls",
            "_view_module_version": "1.5.0",
            "_view_name": "HTMLView",
            "description": "",
            "description_tooltip": null,
            "layout": "IPY_MODEL_f5b79a62e61c42aba9a54a07c5330f88",
            "placeholder": "​",
            "style": "IPY_MODEL_2b1b2baa5a264c359b150cd8224e9f4c",
            "value": " 9912422/9912422 [00:00&lt;00:00, 21910266.01it/s]"
          }
        },
        "a49b6a0f41a84ee4a03f9903cb202a06": {
          "model_module": "@jupyter-widgets/base",
          "model_module_version": "1.2.0",
          "model_name": "LayoutModel",
          "state": {
            "_model_module": "@jupyter-widgets/base",
            "_model_module_version": "1.2.0",
            "_model_name": "LayoutModel",
            "_view_count": null,
            "_view_module": "@jupyter-widgets/base",
            "_view_module_version": "1.2.0",
            "_view_name": "LayoutView",
            "align_content": null,
            "align_items": null,
            "align_self": null,
            "border": null,
            "bottom": null,
            "display": null,
            "flex": null,
            "flex_flow": null,
            "grid_area": null,
            "grid_auto_columns": null,
            "grid_auto_flow": null,
            "grid_auto_rows": null,
            "grid_column": null,
            "grid_gap": null,
            "grid_row": null,
            "grid_template_areas": null,
            "grid_template_columns": null,
            "grid_template_rows": null,
            "height": null,
            "justify_content": null,
            "justify_items": null,
            "left": null,
            "margin": null,
            "max_height": null,
            "max_width": null,
            "min_height": null,
            "min_width": null,
            "object_fit": null,
            "object_position": null,
            "order": null,
            "overflow": null,
            "overflow_x": null,
            "overflow_y": null,
            "padding": null,
            "right": null,
            "top": null,
            "visibility": null,
            "width": null
          }
        },
        "ab0a70dcb19b49b394fec821b63e499a": {
          "model_module": "@jupyter-widgets/controls",
          "model_module_version": "1.5.0",
          "model_name": "DescriptionStyleModel",
          "state": {
            "_model_module": "@jupyter-widgets/controls",
            "_model_module_version": "1.5.0",
            "_model_name": "DescriptionStyleModel",
            "_view_count": null,
            "_view_module": "@jupyter-widgets/base",
            "_view_module_version": "1.2.0",
            "_view_name": "StyleView",
            "description_width": ""
          }
        },
        "b697a58638a64e61b2690dbc85c07e95": {
          "model_module": "@jupyter-widgets/base",
          "model_module_version": "1.2.0",
          "model_name": "LayoutModel",
          "state": {
            "_model_module": "@jupyter-widgets/base",
            "_model_module_version": "1.2.0",
            "_model_name": "LayoutModel",
            "_view_count": null,
            "_view_module": "@jupyter-widgets/base",
            "_view_module_version": "1.2.0",
            "_view_name": "LayoutView",
            "align_content": null,
            "align_items": null,
            "align_self": null,
            "border": null,
            "bottom": null,
            "display": null,
            "flex": null,
            "flex_flow": null,
            "grid_area": null,
            "grid_auto_columns": null,
            "grid_auto_flow": null,
            "grid_auto_rows": null,
            "grid_column": null,
            "grid_gap": null,
            "grid_row": null,
            "grid_template_areas": null,
            "grid_template_columns": null,
            "grid_template_rows": null,
            "height": null,
            "justify_content": null,
            "justify_items": null,
            "left": null,
            "margin": null,
            "max_height": null,
            "max_width": null,
            "min_height": null,
            "min_width": null,
            "object_fit": null,
            "object_position": null,
            "order": null,
            "overflow": null,
            "overflow_x": null,
            "overflow_y": null,
            "padding": null,
            "right": null,
            "top": null,
            "visibility": null,
            "width": null
          }
        },
        "b7b4e2c7fdba4eb5bf827205308e0588": {
          "model_module": "@jupyter-widgets/controls",
          "model_module_version": "1.5.0",
          "model_name": "HBoxModel",
          "state": {
            "_dom_classes": [],
            "_model_module": "@jupyter-widgets/controls",
            "_model_module_version": "1.5.0",
            "_model_name": "HBoxModel",
            "_view_count": null,
            "_view_module": "@jupyter-widgets/controls",
            "_view_module_version": "1.5.0",
            "_view_name": "HBoxView",
            "box_style": "",
            "children": [
              "IPY_MODEL_177842d79b49468083510b053fde4492",
              "IPY_MODEL_d9691d3dbc4c4034b31738dbce865e45",
              "IPY_MODEL_d4fe35ef17994448a90c08e2d5635c55"
            ],
            "layout": "IPY_MODEL_ebc12a24aa7448b0af8c9f184434cddd"
          }
        },
        "bc034c4a71004b7396f812c0e329f04c": {
          "model_module": "@jupyter-widgets/controls",
          "model_module_version": "1.5.0",
          "model_name": "HBoxModel",
          "state": {
            "_dom_classes": [],
            "_model_module": "@jupyter-widgets/controls",
            "_model_module_version": "1.5.0",
            "_model_name": "HBoxModel",
            "_view_count": null,
            "_view_module": "@jupyter-widgets/controls",
            "_view_module_version": "1.5.0",
            "_view_name": "HBoxView",
            "box_style": "",
            "children": [
              "IPY_MODEL_8eb48e808a4147bfa2927291d71a54b0",
              "IPY_MODEL_f30f533cabe6458799c26541f6e5efe1",
              "IPY_MODEL_21fe92b3bd4946d5ac411e34529331da"
            ],
            "layout": "IPY_MODEL_2c55eb4cfe35458ca7c7f1d15f95bf65"
          }
        },
        "c9c43578f95347e9943f126bce500226": {
          "model_module": "@jupyter-widgets/controls",
          "model_module_version": "1.5.0",
          "model_name": "HTMLModel",
          "state": {
            "_dom_classes": [],
            "_model_module": "@jupyter-widgets/controls",
            "_model_module_version": "1.5.0",
            "_model_name": "HTMLModel",
            "_view_count": null,
            "_view_module": "@jupyter-widgets/controls",
            "_view_module_version": "1.5.0",
            "_view_name": "HTMLView",
            "description": "",
            "description_tooltip": null,
            "layout": "IPY_MODEL_dfc785c205264343928d26cb156e6538",
            "placeholder": "​",
            "style": "IPY_MODEL_2c1ad2e6e57d42e5a41b9ef98976d8c7",
            "value": "100%"
          }
        },
        "cdfd86b3f1594f0ca93da7146cb1e2dd": {
          "model_module": "@jupyter-widgets/controls",
          "model_module_version": "1.5.0",
          "model_name": "HBoxModel",
          "state": {
            "_dom_classes": [],
            "_model_module": "@jupyter-widgets/controls",
            "_model_module_version": "1.5.0",
            "_model_name": "HBoxModel",
            "_view_count": null,
            "_view_module": "@jupyter-widgets/controls",
            "_view_module_version": "1.5.0",
            "_view_name": "HBoxView",
            "box_style": "",
            "children": [
              "IPY_MODEL_c9c43578f95347e9943f126bce500226",
              "IPY_MODEL_cfba0cf35ced4598963f87ff6168c914",
              "IPY_MODEL_a1645275740a4e0ea43116dbb88041fe"
            ],
            "layout": "IPY_MODEL_023ae9ef749748029952372180a18f5e"
          }
        },
        "cfb9974841ff4fe1b0b5f11e9a2195cf": {
          "model_module": "@jupyter-widgets/base",
          "model_module_version": "1.2.0",
          "model_name": "LayoutModel",
          "state": {
            "_model_module": "@jupyter-widgets/base",
            "_model_module_version": "1.2.0",
            "_model_name": "LayoutModel",
            "_view_count": null,
            "_view_module": "@jupyter-widgets/base",
            "_view_module_version": "1.2.0",
            "_view_name": "LayoutView",
            "align_content": null,
            "align_items": null,
            "align_self": null,
            "border": null,
            "bottom": null,
            "display": null,
            "flex": null,
            "flex_flow": null,
            "grid_area": null,
            "grid_auto_columns": null,
            "grid_auto_flow": null,
            "grid_auto_rows": null,
            "grid_column": null,
            "grid_gap": null,
            "grid_row": null,
            "grid_template_areas": null,
            "grid_template_columns": null,
            "grid_template_rows": null,
            "height": null,
            "justify_content": null,
            "justify_items": null,
            "left": null,
            "margin": null,
            "max_height": null,
            "max_width": null,
            "min_height": null,
            "min_width": null,
            "object_fit": null,
            "object_position": null,
            "order": null,
            "overflow": null,
            "overflow_x": null,
            "overflow_y": null,
            "padding": null,
            "right": null,
            "top": null,
            "visibility": null,
            "width": null
          }
        },
        "cfba0cf35ced4598963f87ff6168c914": {
          "model_module": "@jupyter-widgets/controls",
          "model_module_version": "1.5.0",
          "model_name": "FloatProgressModel",
          "state": {
            "_dom_classes": [],
            "_model_module": "@jupyter-widgets/controls",
            "_model_module_version": "1.5.0",
            "_model_name": "FloatProgressModel",
            "_view_count": null,
            "_view_module": "@jupyter-widgets/controls",
            "_view_module_version": "1.5.0",
            "_view_name": "ProgressView",
            "bar_style": "success",
            "description": "",
            "description_tooltip": null,
            "layout": "IPY_MODEL_23dec0e171994e45a818e3ba43faa9ef",
            "max": 9912422,
            "min": 0,
            "orientation": "horizontal",
            "style": "IPY_MODEL_21f1a170cf1f4eac9ec4f638800f9f54",
            "value": 9912422
          }
        },
        "d4fe35ef17994448a90c08e2d5635c55": {
          "model_module": "@jupyter-widgets/controls",
          "model_module_version": "1.5.0",
          "model_name": "HTMLModel",
          "state": {
            "_dom_classes": [],
            "_model_module": "@jupyter-widgets/controls",
            "_model_module_version": "1.5.0",
            "_model_name": "HTMLModel",
            "_view_count": null,
            "_view_module": "@jupyter-widgets/controls",
            "_view_module_version": "1.5.0",
            "_view_name": "HTMLView",
            "description": "",
            "description_tooltip": null,
            "layout": "IPY_MODEL_a49b6a0f41a84ee4a03f9903cb202a06",
            "placeholder": "​",
            "style": "IPY_MODEL_dd11590a775741e6b3314009be2df9fd",
            "value": " 4542/4542 [00:00&lt;00:00, 86649.63it/s]"
          }
        },
        "d5e2857dddc14477886a90a53ac71556": {
          "model_module": "@jupyter-widgets/base",
          "model_module_version": "1.2.0",
          "model_name": "LayoutModel",
          "state": {
            "_model_module": "@jupyter-widgets/base",
            "_model_module_version": "1.2.0",
            "_model_name": "LayoutModel",
            "_view_count": null,
            "_view_module": "@jupyter-widgets/base",
            "_view_module_version": "1.2.0",
            "_view_name": "LayoutView",
            "align_content": null,
            "align_items": null,
            "align_self": null,
            "border": null,
            "bottom": null,
            "display": null,
            "flex": null,
            "flex_flow": null,
            "grid_area": null,
            "grid_auto_columns": null,
            "grid_auto_flow": null,
            "grid_auto_rows": null,
            "grid_column": null,
            "grid_gap": null,
            "grid_row": null,
            "grid_template_areas": null,
            "grid_template_columns": null,
            "grid_template_rows": null,
            "height": null,
            "justify_content": null,
            "justify_items": null,
            "left": null,
            "margin": null,
            "max_height": null,
            "max_width": null,
            "min_height": null,
            "min_width": null,
            "object_fit": null,
            "object_position": null,
            "order": null,
            "overflow": null,
            "overflow_x": null,
            "overflow_y": null,
            "padding": null,
            "right": null,
            "top": null,
            "visibility": null,
            "width": null
          }
        },
        "d9691d3dbc4c4034b31738dbce865e45": {
          "model_module": "@jupyter-widgets/controls",
          "model_module_version": "1.5.0",
          "model_name": "FloatProgressModel",
          "state": {
            "_dom_classes": [],
            "_model_module": "@jupyter-widgets/controls",
            "_model_module_version": "1.5.0",
            "_model_name": "FloatProgressModel",
            "_view_count": null,
            "_view_module": "@jupyter-widgets/controls",
            "_view_module_version": "1.5.0",
            "_view_name": "ProgressView",
            "bar_style": "success",
            "description": "",
            "description_tooltip": null,
            "layout": "IPY_MODEL_21c5c7e8d9f241258ac7a491aaaf4170",
            "max": 4542,
            "min": 0,
            "orientation": "horizontal",
            "style": "IPY_MODEL_36f07e9a283b49968d70afbaa82fe2ce",
            "value": 4542
          }
        },
        "dc4436fa269d4f4e9f9e0a9840c5e475": {
          "model_module": "@jupyter-widgets/controls",
          "model_module_version": "1.5.0",
          "model_name": "HBoxModel",
          "state": {
            "_dom_classes": [],
            "_model_module": "@jupyter-widgets/controls",
            "_model_module_version": "1.5.0",
            "_model_name": "HBoxModel",
            "_view_count": null,
            "_view_module": "@jupyter-widgets/controls",
            "_view_module_version": "1.5.0",
            "_view_name": "HBoxView",
            "box_style": "",
            "children": [
              "IPY_MODEL_e4c909655e2845578d65c9b4dde95d2f",
              "IPY_MODEL_793246de55b447be930e097c8020af92",
              "IPY_MODEL_0104889233014967952d944f11b2371b"
            ],
            "layout": "IPY_MODEL_1480b0ecb4074fa38c7c9dd97d5033ef"
          }
        },
        "dd11590a775741e6b3314009be2df9fd": {
          "model_module": "@jupyter-widgets/controls",
          "model_module_version": "1.5.0",
          "model_name": "DescriptionStyleModel",
          "state": {
            "_model_module": "@jupyter-widgets/controls",
            "_model_module_version": "1.5.0",
            "_model_name": "DescriptionStyleModel",
            "_view_count": null,
            "_view_module": "@jupyter-widgets/base",
            "_view_module_version": "1.2.0",
            "_view_name": "StyleView",
            "description_width": ""
          }
        },
        "dd9b5de3c0b44cbd9ae0c3893101baba": {
          "model_module": "@jupyter-widgets/base",
          "model_module_version": "1.2.0",
          "model_name": "LayoutModel",
          "state": {
            "_model_module": "@jupyter-widgets/base",
            "_model_module_version": "1.2.0",
            "_model_name": "LayoutModel",
            "_view_count": null,
            "_view_module": "@jupyter-widgets/base",
            "_view_module_version": "1.2.0",
            "_view_name": "LayoutView",
            "align_content": null,
            "align_items": null,
            "align_self": null,
            "border": null,
            "bottom": null,
            "display": null,
            "flex": null,
            "flex_flow": null,
            "grid_area": null,
            "grid_auto_columns": null,
            "grid_auto_flow": null,
            "grid_auto_rows": null,
            "grid_column": null,
            "grid_gap": null,
            "grid_row": null,
            "grid_template_areas": null,
            "grid_template_columns": null,
            "grid_template_rows": null,
            "height": null,
            "justify_content": null,
            "justify_items": null,
            "left": null,
            "margin": null,
            "max_height": null,
            "max_width": null,
            "min_height": null,
            "min_width": null,
            "object_fit": null,
            "object_position": null,
            "order": null,
            "overflow": null,
            "overflow_x": null,
            "overflow_y": null,
            "padding": null,
            "right": null,
            "top": null,
            "visibility": null,
            "width": null
          }
        },
        "dfc785c205264343928d26cb156e6538": {
          "model_module": "@jupyter-widgets/base",
          "model_module_version": "1.2.0",
          "model_name": "LayoutModel",
          "state": {
            "_model_module": "@jupyter-widgets/base",
            "_model_module_version": "1.2.0",
            "_model_name": "LayoutModel",
            "_view_count": null,
            "_view_module": "@jupyter-widgets/base",
            "_view_module_version": "1.2.0",
            "_view_name": "LayoutView",
            "align_content": null,
            "align_items": null,
            "align_self": null,
            "border": null,
            "bottom": null,
            "display": null,
            "flex": null,
            "flex_flow": null,
            "grid_area": null,
            "grid_auto_columns": null,
            "grid_auto_flow": null,
            "grid_auto_rows": null,
            "grid_column": null,
            "grid_gap": null,
            "grid_row": null,
            "grid_template_areas": null,
            "grid_template_columns": null,
            "grid_template_rows": null,
            "height": null,
            "justify_content": null,
            "justify_items": null,
            "left": null,
            "margin": null,
            "max_height": null,
            "max_width": null,
            "min_height": null,
            "min_width": null,
            "object_fit": null,
            "object_position": null,
            "order": null,
            "overflow": null,
            "overflow_x": null,
            "overflow_y": null,
            "padding": null,
            "right": null,
            "top": null,
            "visibility": null,
            "width": null
          }
        },
        "e42d5fbbb9154f0bbbe8ec1d8ee21c53": {
          "model_module": "@jupyter-widgets/controls",
          "model_module_version": "1.5.0",
          "model_name": "ProgressStyleModel",
          "state": {
            "_model_module": "@jupyter-widgets/controls",
            "_model_module_version": "1.5.0",
            "_model_name": "ProgressStyleModel",
            "_view_count": null,
            "_view_module": "@jupyter-widgets/base",
            "_view_module_version": "1.2.0",
            "_view_name": "StyleView",
            "bar_color": null,
            "description_width": ""
          }
        },
        "e4c909655e2845578d65c9b4dde95d2f": {
          "model_module": "@jupyter-widgets/controls",
          "model_module_version": "1.5.0",
          "model_name": "HTMLModel",
          "state": {
            "_dom_classes": [],
            "_model_module": "@jupyter-widgets/controls",
            "_model_module_version": "1.5.0",
            "_model_name": "HTMLModel",
            "_view_count": null,
            "_view_module": "@jupyter-widgets/controls",
            "_view_module_version": "1.5.0",
            "_view_name": "HTMLView",
            "description": "",
            "description_tooltip": null,
            "layout": "IPY_MODEL_b697a58638a64e61b2690dbc85c07e95",
            "placeholder": "​",
            "style": "IPY_MODEL_3bc8defb4d984e549ae5d0eb80005b19",
            "value": "100%"
          }
        },
        "e7eeccb97e414121bc9b7e4336090381": {
          "model_module": "@jupyter-widgets/base",
          "model_module_version": "1.2.0",
          "model_name": "LayoutModel",
          "state": {
            "_model_module": "@jupyter-widgets/base",
            "_model_module_version": "1.2.0",
            "_model_name": "LayoutModel",
            "_view_count": null,
            "_view_module": "@jupyter-widgets/base",
            "_view_module_version": "1.2.0",
            "_view_name": "LayoutView",
            "align_content": null,
            "align_items": null,
            "align_self": null,
            "border": null,
            "bottom": null,
            "display": null,
            "flex": null,
            "flex_flow": null,
            "grid_area": null,
            "grid_auto_columns": null,
            "grid_auto_flow": null,
            "grid_auto_rows": null,
            "grid_column": null,
            "grid_gap": null,
            "grid_row": null,
            "grid_template_areas": null,
            "grid_template_columns": null,
            "grid_template_rows": null,
            "height": null,
            "justify_content": null,
            "justify_items": null,
            "left": null,
            "margin": null,
            "max_height": null,
            "max_width": null,
            "min_height": null,
            "min_width": null,
            "object_fit": null,
            "object_position": null,
            "order": null,
            "overflow": null,
            "overflow_x": null,
            "overflow_y": null,
            "padding": null,
            "right": null,
            "top": null,
            "visibility": null,
            "width": null
          }
        },
        "ebc12a24aa7448b0af8c9f184434cddd": {
          "model_module": "@jupyter-widgets/base",
          "model_module_version": "1.2.0",
          "model_name": "LayoutModel",
          "state": {
            "_model_module": "@jupyter-widgets/base",
            "_model_module_version": "1.2.0",
            "_model_name": "LayoutModel",
            "_view_count": null,
            "_view_module": "@jupyter-widgets/base",
            "_view_module_version": "1.2.0",
            "_view_name": "LayoutView",
            "align_content": null,
            "align_items": null,
            "align_self": null,
            "border": null,
            "bottom": null,
            "display": null,
            "flex": null,
            "flex_flow": null,
            "grid_area": null,
            "grid_auto_columns": null,
            "grid_auto_flow": null,
            "grid_auto_rows": null,
            "grid_column": null,
            "grid_gap": null,
            "grid_row": null,
            "grid_template_areas": null,
            "grid_template_columns": null,
            "grid_template_rows": null,
            "height": null,
            "justify_content": null,
            "justify_items": null,
            "left": null,
            "margin": null,
            "max_height": null,
            "max_width": null,
            "min_height": null,
            "min_width": null,
            "object_fit": null,
            "object_position": null,
            "order": null,
            "overflow": null,
            "overflow_x": null,
            "overflow_y": null,
            "padding": null,
            "right": null,
            "top": null,
            "visibility": null,
            "width": null
          }
        },
        "f30f533cabe6458799c26541f6e5efe1": {
          "model_module": "@jupyter-widgets/controls",
          "model_module_version": "1.5.0",
          "model_name": "FloatProgressModel",
          "state": {
            "_dom_classes": [],
            "_model_module": "@jupyter-widgets/controls",
            "_model_module_version": "1.5.0",
            "_model_name": "FloatProgressModel",
            "_view_count": null,
            "_view_module": "@jupyter-widgets/controls",
            "_view_module_version": "1.5.0",
            "_view_name": "ProgressView",
            "bar_style": "success",
            "description": "",
            "description_tooltip": null,
            "layout": "IPY_MODEL_8e43382834464fa692ddfca59958bbd2",
            "max": 28881,
            "min": 0,
            "orientation": "horizontal",
            "style": "IPY_MODEL_e42d5fbbb9154f0bbbe8ec1d8ee21c53",
            "value": 28881
          }
        },
        "f5b79a62e61c42aba9a54a07c5330f88": {
          "model_module": "@jupyter-widgets/base",
          "model_module_version": "1.2.0",
          "model_name": "LayoutModel",
          "state": {
            "_model_module": "@jupyter-widgets/base",
            "_model_module_version": "1.2.0",
            "_model_name": "LayoutModel",
            "_view_count": null,
            "_view_module": "@jupyter-widgets/base",
            "_view_module_version": "1.2.0",
            "_view_name": "LayoutView",
            "align_content": null,
            "align_items": null,
            "align_self": null,
            "border": null,
            "bottom": null,
            "display": null,
            "flex": null,
            "flex_flow": null,
            "grid_area": null,
            "grid_auto_columns": null,
            "grid_auto_flow": null,
            "grid_auto_rows": null,
            "grid_column": null,
            "grid_gap": null,
            "grid_row": null,
            "grid_template_areas": null,
            "grid_template_columns": null,
            "grid_template_rows": null,
            "height": null,
            "justify_content": null,
            "justify_items": null,
            "left": null,
            "margin": null,
            "max_height": null,
            "max_width": null,
            "min_height": null,
            "min_width": null,
            "object_fit": null,
            "object_position": null,
            "order": null,
            "overflow": null,
            "overflow_x": null,
            "overflow_y": null,
            "padding": null,
            "right": null,
            "top": null,
            "visibility": null,
            "width": null
          }
        },
        "fc507913680840278ed239c43bfe6ad5": {
          "model_module": "@jupyter-widgets/controls",
          "model_module_version": "1.5.0",
          "model_name": "DescriptionStyleModel",
          "state": {
            "_model_module": "@jupyter-widgets/controls",
            "_model_module_version": "1.5.0",
            "_model_name": "DescriptionStyleModel",
            "_view_count": null,
            "_view_module": "@jupyter-widgets/base",
            "_view_module_version": "1.2.0",
            "_view_name": "StyleView",
            "description_width": ""
          }
        }
      }
    }
  },
  "nbformat": 4,
  "nbformat_minor": 0
}
