{
  "nbformat": 4,
  "nbformat_minor": 0,
  "metadata": {
    "colab": {
      "provenance": []
    },
    "kernelspec": {
      "name": "python3",
      "display_name": "Python 3"
    },
    "accelerator": "GPU",
    "gpuClass": "standard"
  },
  "cells": [
    {
      "cell_type": "markdown",
      "metadata": {
        "id": "X8goANB6V9B_"
      },
      "source": [
        "# tensor"
      ]
    },
    {
      "cell_type": "code",
      "metadata": {
        "id": "oj-DRTXrV_7j"
      },
      "source": [
        "import torch"
      ],
      "execution_count": 17,
      "outputs": []
    },
    {
      "cell_type": "code",
      "metadata": {
        "colab": {
          "base_uri": "https://localhost:8080/"
        },
        "id": "76_SR1H5WBGL",
        "outputId": "e828cd41-3f86-4c64-f59b-fb253e424e5a"
      },
      "source": [
        "tensor1d = torch.tensor([1, -1, 15, 1000])\n",
        "print(tensor1d)"
      ],
      "execution_count": 2,
      "outputs": [
        {
          "output_type": "stream",
          "name": "stdout",
          "text": [
            "tensor([   1,   -1,   15, 1000])\n"
          ]
        }
      ]
    },
    {
      "cell_type": "code",
      "metadata": {
        "colab": {
          "base_uri": "https://localhost:8080/"
        },
        "id": "qhAsl3NbWBI7",
        "outputId": "7196a22a-3002-4b47-8381-60105806c39f"
      },
      "source": [
        "tensor2d = torch.tensor([[-10, 11, 1.5],\n",
        "                             [ 5.6, 88, 10.0],\n",
        "                             [ 2.3, 36, -10.0],\n",
        "                             [ 2.0, 12, 0.2]])\n",
        "print(tensor2d)"
      ],
      "execution_count": 3,
      "outputs": [
        {
          "output_type": "stream",
          "name": "stdout",
          "text": [
            "tensor([[-10.0000,  11.0000,   1.5000],\n",
            "        [  5.6000,  88.0000,  10.0000],\n",
            "        [  2.3000,  36.0000, -10.0000],\n",
            "        [  2.0000,  12.0000,   0.2000]])\n"
          ]
        }
      ]
    },
    {
      "cell_type": "code",
      "metadata": {
        "colab": {
          "base_uri": "https://localhost:8080/"
        },
        "id": "eFB8stAaWBLj",
        "outputId": "0d0689f2-fc61-49d6-fd0c-2e0f256272bf"
      },
      "source": [
        "tensor3d = torch.tensor([[[-10, 11, 1.50],\n",
        "                              [ 5.6, 88, 10.0],\n",
        "                              [ 2.3, 36, -10.0],\n",
        "                              [ 2.0, 12, 0.2]],\n",
        "                             [[-1.0, 11, 1.50],\n",
        "                              [ 0.6, 88, 1.00],\n",
        "                              [ 0.3, 3.6, -10.0],\n",
        "                              [ 2.1, 1.2, 4.20]]])\n",
        "\n",
        "print(tensor3d)"
      ],
      "execution_count": 4,
      "outputs": [
        {
          "output_type": "stream",
          "name": "stdout",
          "text": [
            "tensor([[[-10.0000,  11.0000,   1.5000],\n",
            "         [  5.6000,  88.0000,  10.0000],\n",
            "         [  2.3000,  36.0000, -10.0000],\n",
            "         [  2.0000,  12.0000,   0.2000]],\n",
            "\n",
            "        [[ -1.0000,  11.0000,   1.5000],\n",
            "         [  0.6000,  88.0000,   1.0000],\n",
            "         [  0.3000,   3.6000, -10.0000],\n",
            "         [  2.1000,   1.2000,   4.2000]]])\n"
          ]
        }
      ]
    },
    {
      "cell_type": "code",
      "metadata": {
        "colab": {
          "base_uri": "https://localhost:8080/"
        },
        "id": "19jtnAy4WBN5",
        "outputId": "c3c6215d-e03f-4ea1-800b-77e03067e77b"
      },
      "source": [
        "tensor2d.shape"
      ],
      "execution_count": 5,
      "outputs": [
        {
          "output_type": "execute_result",
          "data": {
            "text/plain": [
              "torch.Size([4, 3])"
            ]
          },
          "metadata": {},
          "execution_count": 5
        }
      ]
    },
    {
      "cell_type": "code",
      "metadata": {
        "colab": {
          "base_uri": "https://localhost:8080/"
        },
        "id": "OwLqGU6kWBQq",
        "outputId": "a3ebb75c-54a1-4cb0-f3da-b98404cffa12"
      },
      "source": [
        "tensor2d.size()"
      ],
      "execution_count": 6,
      "outputs": [
        {
          "output_type": "execute_result",
          "data": {
            "text/plain": [
              "torch.Size([4, 3])"
            ]
          },
          "metadata": {},
          "execution_count": 6
        }
      ]
    },
    {
      "cell_type": "code",
      "metadata": {
        "colab": {
          "base_uri": "https://localhost:8080/"
        },
        "id": "8wPUdm0VWgXq",
        "outputId": "0bb117ff-6f50-405e-c73c-a1c6a56667b6"
      },
      "source": [
        "tensor1d.dtype"
      ],
      "execution_count": 7,
      "outputs": [
        {
          "output_type": "execute_result",
          "data": {
            "text/plain": [
              "torch.int64"
            ]
          },
          "metadata": {},
          "execution_count": 7
        }
      ]
    },
    {
      "cell_type": "code",
      "metadata": {
        "colab": {
          "base_uri": "https://localhost:8080/"
        },
        "id": "S7RrxTi4WBTB",
        "outputId": "d0ec9564-6a3c-40e3-e3b8-5e5b8016b163"
      },
      "source": [
        "tensor3d.dtype"
      ],
      "execution_count": 8,
      "outputs": [
        {
          "output_type": "execute_result",
          "data": {
            "text/plain": [
              "torch.float32"
            ]
          },
          "metadata": {},
          "execution_count": 8
        }
      ]
    },
    {
      "cell_type": "code",
      "metadata": {
        "colab": {
          "base_uri": "https://localhost:8080/"
        },
        "id": "2jz279IjWdgs",
        "outputId": "797c23fb-49cf-4ddf-81cf-0c6c527b5d93"
      },
      "source": [
        "zeros1d = torch.zeros(1)\n",
        "print(zeros1d)"
      ],
      "execution_count": 9,
      "outputs": [
        {
          "output_type": "stream",
          "name": "stdout",
          "text": [
            "tensor([0.])\n"
          ]
        }
      ]
    },
    {
      "cell_type": "code",
      "metadata": {
        "colab": {
          "base_uri": "https://localhost:8080/"
        },
        "id": "saKT6dU-Wdja",
        "outputId": "ac307c07-1429-449d-a340-62565134985a"
      },
      "source": [
        "zeros1d = torch.zeros(5)\n",
        "print(zeros1d)"
      ],
      "execution_count": 10,
      "outputs": [
        {
          "output_type": "stream",
          "name": "stdout",
          "text": [
            "tensor([0., 0., 0., 0., 0.])\n"
          ]
        }
      ]
    },
    {
      "cell_type": "code",
      "metadata": {
        "colab": {
          "base_uri": "https://localhost:8080/"
        },
        "id": "NZvtfBRHWdmD",
        "outputId": "a69030d7-b864-4b33-fbe4-bddb270dd406"
      },
      "source": [
        "zeros2d = torch.zeros(2, 3)\n",
        "print(zeros2d)"
      ],
      "execution_count": 11,
      "outputs": [
        {
          "output_type": "stream",
          "name": "stdout",
          "text": [
            "tensor([[0., 0., 0.],\n",
            "        [0., 0., 0.]])\n"
          ]
        }
      ]
    },
    {
      "cell_type": "code",
      "metadata": {
        "colab": {
          "base_uri": "https://localhost:8080/"
        },
        "id": "uj3V2HsuW1Kk",
        "outputId": "9c1d0b78-291b-4777-b1e5-c99d361276c5"
      },
      "source": [
        "zeros5d = torch.zeros(2, 3, 8, 6, 5)\n",
        "print(zeros5d.shape)"
      ],
      "execution_count": 12,
      "outputs": [
        {
          "output_type": "stream",
          "name": "stdout",
          "text": [
            "torch.Size([2, 3, 8, 6, 5])\n"
          ]
        }
      ]
    },
    {
      "cell_type": "code",
      "metadata": {
        "colab": {
          "base_uri": "https://localhost:8080/"
        },
        "id": "EMECKursW1NH",
        "outputId": "b35a5ee1-030e-4801-c2f8-115d4f551f21"
      },
      "source": [
        "print(zeros5d.numel())"
      ],
      "execution_count": 13,
      "outputs": [
        {
          "output_type": "stream",
          "name": "stdout",
          "text": [
            "1440\n"
          ]
        }
      ]
    },
    {
      "cell_type": "code",
      "metadata": {
        "colab": {
          "base_uri": "https://localhost:8080/"
        },
        "id": "9S58vMI3W1Pd",
        "outputId": "962bf765-e8d7-4cfa-f076-87479dec5aa0"
      },
      "source": [
        "zeros2d = torch.zeros(2, 2, dtype=torch.float64)\n",
        "print(zeros2d)"
      ],
      "execution_count": 14,
      "outputs": [
        {
          "output_type": "stream",
          "name": "stdout",
          "text": [
            "tensor([[0., 0.],\n",
            "        [0., 0.]], dtype=torch.float64)\n"
          ]
        }
      ]
    },
    {
      "cell_type": "code",
      "metadata": {
        "colab": {
          "base_uri": "https://localhost:8080/"
        },
        "id": "QuXw6qREW1SF",
        "outputId": "3dfe6971-a2ad-46bc-b802-2dd2baa97e90"
      },
      "source": [
        "ones1d = torch.ones(4)\n",
        "print(ones1d)"
      ],
      "execution_count": 15,
      "outputs": [
        {
          "output_type": "stream",
          "name": "stdout",
          "text": [
            "tensor([1., 1., 1., 1.])\n"
          ]
        }
      ]
    },
    {
      "cell_type": "code",
      "metadata": {
        "colab": {
          "base_uri": "https://localhost:8080/"
        },
        "id": "rkykbbYTW1Uc",
        "outputId": "4759696d-3390-4f98-8159-05c5151d9f48"
      },
      "source": [
        "ones2d = torch.ones(4, 8)\n",
        "print(ones2d)"
      ],
      "execution_count": 16,
      "outputs": [
        {
          "output_type": "stream",
          "name": "stdout",
          "text": [
            "tensor([[1., 1., 1., 1., 1., 1., 1., 1.],\n",
            "        [1., 1., 1., 1., 1., 1., 1., 1.],\n",
            "        [1., 1., 1., 1., 1., 1., 1., 1.],\n",
            "        [1., 1., 1., 1., 1., 1., 1., 1.]])\n"
          ]
        }
      ]
    },
    {
      "cell_type": "code",
      "metadata": {
        "colab": {
          "base_uri": "https://localhost:8080/"
        },
        "id": "-d2KvGXSXTmD",
        "outputId": "a5122759-5d75-4668-9dc0-93ad2a671c06"
      },
      "source": [
        "ones3d = torch.ones(1, 2, 1, dtype=torch.int16)\n",
        "print(ones3d)"
      ],
      "execution_count": 17,
      "outputs": [
        {
          "output_type": "stream",
          "name": "stdout",
          "text": [
            "tensor([[[1],\n",
            "         [1]]], dtype=torch.int16)\n"
          ]
        }
      ]
    },
    {
      "cell_type": "code",
      "metadata": {
        "colab": {
          "base_uri": "https://localhost:8080/"
        },
        "id": "09ydJKzEXToj",
        "outputId": "4bf4ed38-6eaf-4c44-9e5a-a1fe922e882d"
      },
      "source": [
        "full2d = torch.full((3,4), 5)\n",
        "print(full2d)"
      ],
      "execution_count": 18,
      "outputs": [
        {
          "output_type": "stream",
          "name": "stdout",
          "text": [
            "tensor([[5, 5, 5, 5],\n",
            "        [5, 5, 5, 5],\n",
            "        [5, 5, 5, 5]])\n"
          ]
        }
      ]
    },
    {
      "cell_type": "code",
      "metadata": {
        "colab": {
          "base_uri": "https://localhost:8080/"
        },
        "id": "3DYz_BDTXTrf",
        "outputId": "2d202d2e-0593-472c-9487-53809dd95333"
      },
      "source": [
        "eye_tensor = torch.eye(5)\n",
        "print(eye_tensor)"
      ],
      "execution_count": 19,
      "outputs": [
        {
          "output_type": "stream",
          "name": "stdout",
          "text": [
            "tensor([[1., 0., 0., 0., 0.],\n",
            "        [0., 1., 0., 0., 0.],\n",
            "        [0., 0., 1., 0., 0.],\n",
            "        [0., 0., 0., 1., 0.],\n",
            "        [0., 0., 0., 0., 1.]])\n"
          ]
        }
      ]
    },
    {
      "cell_type": "code",
      "metadata": {
        "colab": {
          "base_uri": "https://localhost:8080/"
        },
        "id": "xzJi0mK3XTuI",
        "outputId": "ebca0a6b-d6df-4454-cbfe-7c3bb720ff98"
      },
      "source": [
        "arange_tensor = torch.arange(0, 10, 1)\n",
        "print(arange_tensor)"
      ],
      "execution_count": 20,
      "outputs": [
        {
          "output_type": "stream",
          "name": "stdout",
          "text": [
            "tensor([0, 1, 2, 3, 4, 5, 6, 7, 8, 9])\n"
          ]
        }
      ]
    },
    {
      "cell_type": "code",
      "metadata": {
        "colab": {
          "base_uri": "https://localhost:8080/"
        },
        "id": "dAUl1Q4UXTw7",
        "outputId": "283f5025-0ac8-43c4-deeb-ad192437a79d"
      },
      "source": [
        "arange_tensor = torch.arange(1.5, 2.5, 0.1)\n",
        "print(arange_tensor)"
      ],
      "execution_count": 21,
      "outputs": [
        {
          "output_type": "stream",
          "name": "stdout",
          "text": [
            "tensor([1.5000, 1.6000, 1.7000, 1.8000, 1.9000, 2.0000, 2.1000, 2.2000, 2.3000,\n",
            "        2.4000])\n"
          ]
        }
      ]
    },
    {
      "cell_type": "code",
      "metadata": {
        "colab": {
          "base_uri": "https://localhost:8080/"
        },
        "id": "omMNZpIaXTzt",
        "outputId": "d460ca5d-f714-4415-c7a9-1b867c0f4bd9"
      },
      "source": [
        "linspace_tensor = torch.linspace(0, 1, 100)\n",
        "print(linspace_tensor)"
      ],
      "execution_count": 22,
      "outputs": [
        {
          "output_type": "stream",
          "name": "stdout",
          "text": [
            "tensor([0.0000, 0.0101, 0.0202, 0.0303, 0.0404, 0.0505, 0.0606, 0.0707, 0.0808,\n",
            "        0.0909, 0.1010, 0.1111, 0.1212, 0.1313, 0.1414, 0.1515, 0.1616, 0.1717,\n",
            "        0.1818, 0.1919, 0.2020, 0.2121, 0.2222, 0.2323, 0.2424, 0.2525, 0.2626,\n",
            "        0.2727, 0.2828, 0.2929, 0.3030, 0.3131, 0.3232, 0.3333, 0.3434, 0.3535,\n",
            "        0.3636, 0.3737, 0.3838, 0.3939, 0.4040, 0.4141, 0.4242, 0.4343, 0.4444,\n",
            "        0.4545, 0.4646, 0.4747, 0.4848, 0.4949, 0.5051, 0.5152, 0.5253, 0.5354,\n",
            "        0.5455, 0.5556, 0.5657, 0.5758, 0.5859, 0.5960, 0.6061, 0.6162, 0.6263,\n",
            "        0.6364, 0.6465, 0.6566, 0.6667, 0.6768, 0.6869, 0.6970, 0.7071, 0.7172,\n",
            "        0.7273, 0.7374, 0.7475, 0.7576, 0.7677, 0.7778, 0.7879, 0.7980, 0.8081,\n",
            "        0.8182, 0.8283, 0.8384, 0.8485, 0.8586, 0.8687, 0.8788, 0.8889, 0.8990,\n",
            "        0.9091, 0.9192, 0.9293, 0.9394, 0.9495, 0.9596, 0.9697, 0.9798, 0.9899,\n",
            "        1.0000])\n"
          ]
        }
      ]
    },
    {
      "cell_type": "code",
      "metadata": {
        "colab": {
          "base_uri": "https://localhost:8080/"
        },
        "id": "d_MRgXyKXy2i",
        "outputId": "4a90895c-2f1b-4f94-a280-5cc1e059278c"
      },
      "source": [
        "a = torch.rand(2,2)\n",
        "b = torch.rand(2,2)\n",
        "print(a)\n",
        "print(b)\n",
        "c = a + b\n",
        "print(c)"
      ],
      "execution_count": 23,
      "outputs": [
        {
          "output_type": "stream",
          "name": "stdout",
          "text": [
            "tensor([[0.4594, 0.7425],\n",
            "        [0.1502, 0.2436]])\n",
            "tensor([[0.6796, 0.4534],\n",
            "        [0.4514, 0.6632]])\n",
            "tensor([[1.1390, 1.1959],\n",
            "        [0.6016, 0.9068]])\n"
          ]
        }
      ]
    },
    {
      "cell_type": "code",
      "metadata": {
        "colab": {
          "base_uri": "https://localhost:8080/"
        },
        "id": "QigV7LZcXy5F",
        "outputId": "0e98c21a-0e4b-4853-a0bc-5811b17dadaf"
      },
      "source": [
        "a = torch.rand(1, 2, 3)\n",
        "print(a)\n",
        "b = 2.5\n",
        "c = a + b\n",
        "print(c)"
      ],
      "execution_count": 24,
      "outputs": [
        {
          "output_type": "stream",
          "name": "stdout",
          "text": [
            "tensor([[[0.6750, 0.2402, 0.8859],\n",
            "         [0.5521, 0.3160, 0.9857]]])\n",
            "tensor([[[3.1750, 2.7402, 3.3859],\n",
            "         [3.0521, 2.8160, 3.4857]]])\n"
          ]
        }
      ]
    },
    {
      "cell_type": "markdown",
      "metadata": {
        "id": "mFO2IHiyYoBi"
      },
      "source": [
        "out=input+alpha×other"
      ]
    },
    {
      "cell_type": "code",
      "metadata": {
        "colab": {
          "base_uri": "https://localhost:8080/"
        },
        "id": "AhptP9e7YqGp",
        "outputId": "67548519-a2ca-4bd8-ece1-6fad1d7c0430"
      },
      "source": [
        "alpha = 0.3\n",
        "c = a + alpha * b\n",
        "print(c)"
      ],
      "execution_count": 25,
      "outputs": [
        {
          "output_type": "stream",
          "name": "stdout",
          "text": [
            "tensor([[[1.4250, 0.9902, 1.6359],\n",
            "         [1.3021, 1.0660, 1.7357]]])\n"
          ]
        }
      ]
    },
    {
      "cell_type": "code",
      "metadata": {
        "colab": {
          "base_uri": "https://localhost:8080/"
        },
        "id": "lzsZAYSHYqKg",
        "outputId": "ac76bb99-5719-43e5-8955-17ffac4c4112"
      },
      "source": [
        " d = torch.add(a, b, alpha=alpha)\n",
        " print(d)"
      ],
      "execution_count": 26,
      "outputs": [
        {
          "output_type": "stream",
          "name": "stdout",
          "text": [
            "tensor([[[1.4250, 0.9902, 1.6359],\n",
            "         [1.3021, 1.0660, 1.7357]]])\n"
          ]
        }
      ]
    },
    {
      "cell_type": "code",
      "metadata": {
        "colab": {
          "base_uri": "https://localhost:8080/"
        },
        "id": "s1oNz0w2YqNN",
        "outputId": "0b623dd3-a4f7-48ea-fa60-0c5eff785802"
      },
      "source": [
        "a = torch.randint(10, (4,2))\n",
        "print(a)\n",
        "b = torch.randint(10, (2,))\n",
        "print(b)\n",
        "c = a * b\n",
        "print(c)"
      ],
      "execution_count": 27,
      "outputs": [
        {
          "output_type": "stream",
          "name": "stdout",
          "text": [
            "tensor([[9, 8],\n",
            "        [9, 6],\n",
            "        [8, 1],\n",
            "        [1, 7]])\n",
            "tensor([9, 8])\n",
            "tensor([[81, 64],\n",
            "        [81, 48],\n",
            "        [72,  8],\n",
            "        [ 9, 56]])\n"
          ]
        }
      ]
    },
    {
      "cell_type": "code",
      "metadata": {
        "colab": {
          "base_uri": "https://localhost:8080/"
        },
        "id": "Gp6Ns2_xXy-p",
        "outputId": "2138e02a-da70-4a46-92cb-293a633e6fec"
      },
      "source": [
        "a = torch.randn(4,2)\n",
        "b = torch.randn(2,4)\n",
        "print(a)\n",
        "print(b)\n",
        "c = torch.matmul(a, b)\n",
        "print(c)"
      ],
      "execution_count": 28,
      "outputs": [
        {
          "output_type": "stream",
          "name": "stdout",
          "text": [
            "tensor([[-0.2558,  1.5415],\n",
            "        [-1.1941,  0.7168],\n",
            "        [-1.8735, -0.6500],\n",
            "        [-2.8587, -1.6622]])\n",
            "tensor([[ 0.4040,  0.3098, -0.2444, -0.2476],\n",
            "        [-0.5253, -0.0618,  0.2590,  0.8926]])\n",
            "tensor([[-0.9131, -0.1745,  0.4617,  1.4393],\n",
            "        [-0.8589, -0.4142,  0.4775,  0.9354],\n",
            "        [-0.4154, -0.5403,  0.2896, -0.1164],\n",
            "        [-0.2817, -0.7829,  0.2683, -0.7760]])\n"
          ]
        }
      ]
    },
    {
      "cell_type": "code",
      "metadata": {
        "colab": {
          "base_uri": "https://localhost:8080/"
        },
        "id": "19cHyKntXzBs",
        "outputId": "5c984d2e-4ac8-4496-dcbf-d8b4a1721cd9"
      },
      "source": [
        "c = a @ b\n",
        "print(c)"
      ],
      "execution_count": 29,
      "outputs": [
        {
          "output_type": "stream",
          "name": "stdout",
          "text": [
            "tensor([[-0.9131, -0.1745,  0.4617,  1.4393],\n",
            "        [-0.8589, -0.4142,  0.4775,  0.9354],\n",
            "        [-0.4154, -0.5403,  0.2896, -0.1164],\n",
            "        [-0.2817, -0.7829,  0.2683, -0.7760]])\n"
          ]
        }
      ]
    },
    {
      "cell_type": "code",
      "metadata": {
        "colab": {
          "base_uri": "https://localhost:8080/"
        },
        "id": "L84FCj1mXzEH",
        "outputId": "b6d1befc-14d0-4eb4-df82-770533302d04"
      },
      "source": [
        "a = torch.randn(5)\n",
        "print(a)\n",
        "torch.div(a, 0.5)"
      ],
      "execution_count": 30,
      "outputs": [
        {
          "output_type": "stream",
          "name": "stdout",
          "text": [
            "tensor([ 2.0433, -1.1218, -0.0541,  0.3179,  0.5792])\n"
          ]
        },
        {
          "output_type": "execute_result",
          "data": {
            "text/plain": [
              "tensor([ 4.0866, -2.2436, -0.1082,  0.6359,  1.1585])"
            ]
          },
          "metadata": {},
          "execution_count": 30
        }
      ]
    },
    {
      "cell_type": "code",
      "metadata": {
        "colab": {
          "base_uri": "https://localhost:8080/"
        },
        "id": "CXsgEjmbXzLh",
        "outputId": "d4bf89f5-f006-4be9-fc7c-5078153c87df"
      },
      "source": [
        "a = torch.randn(4, 4)\n",
        "print(a)\n",
        "b = torch.randn(4, 4)\n",
        "print(b)\n",
        "c = torch.div(a, b)\n",
        "print(c)"
      ],
      "execution_count": 31,
      "outputs": [
        {
          "output_type": "stream",
          "name": "stdout",
          "text": [
            "tensor([[ 0.6657,  0.5462, -0.1865,  0.0868],\n",
            "        [ 0.8220,  1.1413, -0.1527, -1.1667],\n",
            "        [-0.6886,  0.3191,  0.7198,  0.7958],\n",
            "        [-0.3279, -0.1756, -2.1059,  1.9832]])\n",
            "tensor([[-1.1737,  1.6681,  0.3638, -0.4306],\n",
            "        [ 0.3423,  0.1881,  0.0218,  0.4910],\n",
            "        [-1.8491,  0.5764, -1.3281,  1.4727],\n",
            "        [-1.7136,  0.1062, -0.4730, -0.6466]])\n",
            "tensor([[-0.5672,  0.3275, -0.5127, -0.2015],\n",
            "        [ 2.4012,  6.0676, -6.9959, -2.3761],\n",
            "        [ 0.3724,  0.5536, -0.5420,  0.5404],\n",
            "        [ 0.1913, -1.6533,  4.4519, -3.0671]])\n"
          ]
        }
      ]
    },
    {
      "cell_type": "code",
      "metadata": {
        "colab": {
          "base_uri": "https://localhost:8080/"
        },
        "id": "OMGGttb8XzOY",
        "outputId": "f2b1ddcc-1502-431f-f9de-47abc32197e8"
      },
      "source": [
        "c = a/b\n",
        "print(c)"
      ],
      "execution_count": 32,
      "outputs": [
        {
          "output_type": "stream",
          "name": "stdout",
          "text": [
            "tensor([[-0.5672,  0.3275, -0.5127, -0.2015],\n",
            "        [ 2.4012,  6.0676, -6.9959, -2.3761],\n",
            "        [ 0.3724,  0.5536, -0.5420,  0.5404],\n",
            "        [ 0.1913, -1.6533,  4.4519, -3.0671]])\n"
          ]
        }
      ]
    },
    {
      "cell_type": "code",
      "metadata": {
        "colab": {
          "base_uri": "https://localhost:8080/"
        },
        "id": "EeGlklP1XzQx",
        "outputId": "b5815ed8-10d6-432a-a47b-47add7beede2"
      },
      "source": [
        "#a/b = a @ inv(b)\n",
        "a = torch.randn(4, 4)\n",
        "print(a)\n",
        "b = torch.inverse(a)\n",
        "print(b)"
      ],
      "execution_count": 33,
      "outputs": [
        {
          "output_type": "stream",
          "name": "stdout",
          "text": [
            "tensor([[-0.3815,  0.2012,  0.4774,  1.9964],\n",
            "        [ 0.4370, -0.8975, -0.3551, -2.2378],\n",
            "        [-1.0331, -0.2406, -0.4446, -0.8757],\n",
            "        [-0.4407,  0.4014, -0.8402,  0.2170]])\n",
            "tensor([[-1.4164e-03,  3.9795e-01, -9.3894e-01,  3.2788e-01],\n",
            "        [-1.8456e+00, -1.7272e+00,  1.1230e-01, -3.7817e-01],\n",
            "        [-6.6258e-01, -9.1275e-01,  4.6796e-01, -1.4285e+00],\n",
            "        [ 8.4510e-01,  4.6842e-01, -3.0267e-01,  4.4238e-01]])\n"
          ]
        }
      ]
    },
    {
      "cell_type": "markdown",
      "metadata": {
        "id": "iViiQ3rXNiwc"
      },
      "source": [
        "# Linear Regression\n",
        "\n",
        "\\begin{equation}\n",
        "y = a + bx\n",
        "\\end{equation}\n",
        "$a$ is bias \n",
        "\n",
        "$b$ is weights"
      ]
    },
    {
      "cell_type": "code",
      "metadata": {
        "id": "5GnwLquoNO3I"
      },
      "source": [
        "import numpy as np\n",
        "import torch"
      ],
      "execution_count": 34,
      "outputs": []
    },
    {
      "cell_type": "markdown",
      "metadata": {
        "id": "LOsYp4JyPsaa"
      },
      "source": [
        "## make fake data"
      ]
    },
    {
      "cell_type": "markdown",
      "metadata": {
        "id": "W4BF2mIk4_AP"
      },
      "source": [
        "$ 2 * x + 1 + \\mbox{noise} = y$"
      ]
    },
    {
      "cell_type": "code",
      "metadata": {
        "id": "CPSHPXzbOXUS"
      },
      "source": [
        "np.random.seed(42)\n",
        "x = np.random.rand(100, 1) #make random vector with size 100\n",
        "y = 1 + (2 * x) + .1 * np.random.randn(100, 1) #make y depends on x with noise by equation y = 1 + 2 * x + (noise)"
      ],
      "execution_count": 35,
      "outputs": []
    },
    {
      "cell_type": "code",
      "metadata": {
        "colab": {
          "base_uri": "https://localhost:8080/"
        },
        "id": "6wZ9I2oAOhU8",
        "outputId": "63fd1647-dbcf-4998-f9c4-6f93edce817a"
      },
      "source": [
        "x.shape"
      ],
      "execution_count": 36,
      "outputs": [
        {
          "output_type": "execute_result",
          "data": {
            "text/plain": [
              "(100, 1)"
            ]
          },
          "metadata": {},
          "execution_count": 36
        }
      ]
    },
    {
      "cell_type": "code",
      "metadata": {
        "colab": {
          "base_uri": "https://localhost:8080/"
        },
        "id": "naRdWLEAPAAN",
        "outputId": "954044f7-fcd8-40d1-a871-4823d49e9890"
      },
      "source": [
        "y.shape"
      ],
      "execution_count": 37,
      "outputs": [
        {
          "output_type": "execute_result",
          "data": {
            "text/plain": [
              "(100, 1)"
            ]
          },
          "metadata": {},
          "execution_count": 37
        }
      ]
    },
    {
      "cell_type": "code",
      "metadata": {
        "id": "L5cuEPn-PBTy"
      },
      "source": [
        "# Shuffles the indices\n",
        "idx = np.arange(100)\n",
        "np.random.shuffle(idx)"
      ],
      "execution_count": 38,
      "outputs": []
    },
    {
      "cell_type": "code",
      "metadata": {
        "id": "su979TiYPEcI"
      },
      "source": [
        "# Uses first 80 random indices for train\n",
        "train_idx = idx[:80]\n",
        "# Uses the remaining indices for validation\n",
        "val_idx = idx[80:]\n",
        "\n",
        "# Generates train and validation sets\n",
        "x_train, y_train = x[train_idx], y[train_idx]\n",
        "x_val, y_val = x[val_idx], y[val_idx]"
      ],
      "execution_count": 39,
      "outputs": []
    },
    {
      "cell_type": "code",
      "metadata": {
        "colab": {
          "base_uri": "https://localhost:8080/"
        },
        "id": "85Mp8xUpPJ2Z",
        "outputId": "888804ba-84c3-4d0e-f569-612a2dd6e507"
      },
      "source": [
        "x_train.shape"
      ],
      "execution_count": 40,
      "outputs": [
        {
          "output_type": "execute_result",
          "data": {
            "text/plain": [
              "(80, 1)"
            ]
          },
          "metadata": {},
          "execution_count": 40
        }
      ]
    },
    {
      "cell_type": "code",
      "metadata": {
        "colab": {
          "base_uri": "https://localhost:8080/"
        },
        "id": "gaxvKNW0PLTp",
        "outputId": "b109d557-eac3-4cda-98da-cd13800283a5"
      },
      "source": [
        "y_train.shape"
      ],
      "execution_count": 41,
      "outputs": [
        {
          "output_type": "execute_result",
          "data": {
            "text/plain": [
              "(80, 1)"
            ]
          },
          "metadata": {},
          "execution_count": 41
        }
      ]
    },
    {
      "cell_type": "code",
      "metadata": {
        "colab": {
          "base_uri": "https://localhost:8080/",
          "height": 314
        },
        "id": "R2TyD4-_PMd7",
        "outputId": "3cf6acc7-0a1a-4fda-9426-d6a0d797b69f"
      },
      "source": [
        "import matplotlib.pyplot as plt \n",
        "\n",
        "plt.plot(x_train, y_train, 'o')\n",
        "plt.title('Generated Data (Train)')\n",
        "plt.grid()\n",
        "plt.xlabel('x_train')\n",
        "plt.ylabel('y_train')"
      ],
      "execution_count": 42,
      "outputs": [
        {
          "output_type": "execute_result",
          "data": {
            "text/plain": [
              "Text(0, 0.5, 'y_train')"
            ]
          },
          "metadata": {},
          "execution_count": 42
        },
        {
          "output_type": "display_data",
          "data": {
            "text/plain": [
              "<Figure size 432x288 with 1 Axes>"
            ],
            "image/png": "[encoded data removed]"
          },
          "metadata": {
            "needs_background": "light"
          }
        }
      ]
    },
    {
      "cell_type": "markdown",
      "metadata": {
        "id": "cSAKuTVGPkmz"
      },
      "source": [
        "## gradient descent\n",
        "\n",
        "we calculate loss and then by gradient we update our parameters \n",
        "\n",
        "we want find $a$ and $b$"
      ]
    },
    {
      "cell_type": "markdown",
      "metadata": {
        "id": "GJbFxfB9QYxJ"
      },
      "source": [
        "### init parameters"
      ]
    },
    {
      "cell_type": "code",
      "metadata": {
        "colab": {
          "base_uri": "https://localhost:8080/"
        },
        "id": "MScw-FHEPYt3",
        "outputId": "e84601b5-c5d8-4b6b-e238-4d7d5379dc6f"
      },
      "source": [
        "np.random.seed(42)\n",
        "a = np.random.randn(1)\n",
        "b = np.random.randn(1)\n",
        "print(a, b)\n",
        "\n",
        "# Computes our model's predicted output\n",
        "y = a + b * x_train\n",
        "print(y.shape)"
      ],
      "execution_count": 43,
      "outputs": [
        {
          "output_type": "stream",
          "name": "stdout",
          "text": [
            "[0.49671415] [-0.1382643]\n",
            "(80, 1)\n"
          ]
        }
      ]
    },
    {
      "cell_type": "markdown",
      "metadata": {
        "id": "z8Gwg4GoQiQZ"
      },
      "source": [
        "### loss function\n",
        "\n",
        "\\begin{equation}\n",
        "\\mbox{MSE} = \\frac{1}{N} \\sum_{i = 1}^{N} (y_{i} - \\hat{y}_{i})^{2}\n",
        "\\end{equation}\n",
        "\n",
        "\\begin{equation}\n",
        "\\mbox{MSE} = \\frac{1}{N} \\sum_{i = 1}^{N} (y_{i} - (a + b*x_{i}))^{2}\n",
        "\\end{equation}"
      ]
    },
    {
      "cell_type": "code",
      "metadata": {
        "colab": {
          "base_uri": "https://localhost:8080/"
        },
        "id": "88uSQ-t4QOUm",
        "outputId": "f7384484-9d4e-48af-f45c-f1053812dd90"
      },
      "source": [
        "error = (y_train - y)\n",
        "loss = (error ** 2).mean()\n",
        "print(loss)"
      ],
      "execution_count": 44,
      "outputs": [
        {
          "output_type": "stream",
          "name": "stdout",
          "text": [
            "2.7421577700550976\n"
          ]
        }
      ]
    },
    {
      "cell_type": "markdown",
      "metadata": {
        "id": "TQH7bF3sRZwb"
      },
      "source": [
        "### gradient\n",
        "\n",
        "\\begin{equation}\n",
        "\\frac{\\partial \\mbox{MSE}}{\\partial a} = \\frac{\\partial \\mbox{MSE}}{\\partial \\hat{y}_{i}} * \\frac{\\partial \\hat{y}_{i}}{\\partial a}  = \\cdots = -2 * \\frac{1}{N} \\sum_{i = 1}^{N}(y_{i} - \\hat{y}_{i})\n",
        "\\end{equation}\n",
        "\n",
        "\\begin{equation}\n",
        "\\frac{\\partial \\mbox{MSE}}{\\partial b} = \\frac{\\partial \\mbox{MSE}}{\\partial \\hat{y}_{i}} * \\frac{\\partial \\hat{y}_{i}}{\\partial b} = \\cdots = -2 * \\frac{1}{N} \\sum_{i = 1}^{N} x_{i} (y_{i} - \\hat{y}_{i})\n",
        "\\end{equation}"
      ]
    },
    {
      "cell_type": "code",
      "metadata": {
        "colab": {
          "base_uri": "https://localhost:8080/"
        },
        "id": "yw3RBmKgRVFS",
        "outputId": "b8605d62-6ec5-4d1d-d25b-afb7418d1bee"
      },
      "source": [
        "# Computes gradients for both \"a\" and \"b\" parameters\n",
        "a_grad = -2 * error.mean()\n",
        "b_grad = -2 * (x_train * error).mean()\n",
        "print('a_grad: ', a_grad)\n",
        "print('b_grad: ', b_grad)"
      ],
      "execution_count": 45,
      "outputs": [
        {
          "output_type": "stream",
          "name": "stdout",
          "text": [
            "a_grad:  -3.044811379650508\n",
            "b_grad:  -1.8337537171510832\n"
          ]
        }
      ]
    },
    {
      "cell_type": "markdown",
      "metadata": {
        "id": "4ez_jwdFSqSL"
      },
      "source": [
        "### update parameters\n",
        "\n",
        "\\begin{equation}\n",
        "a = a - \\mu \\frac{\\partial \\mbox{MSE}}{\\partial a}\n",
        "\\end{equation}\n",
        "\\begin{equation}\n",
        "b = b - \\mu \\frac{\\partial \\mbox{MSE}}{\\partial b}\n",
        "\\end{equation}"
      ]
    },
    {
      "cell_type": "code",
      "metadata": {
        "colab": {
          "base_uri": "https://localhost:8080/"
        },
        "id": "HIAk3rjQSoQx",
        "outputId": "8159a8a0-7684-4384-b4d7-28761b899576"
      },
      "source": [
        "lr = 1e-1\n",
        "# Updates parameters using gradients and the learning rate\n",
        "a = a - lr * a_grad\n",
        "b = b - lr * b_grad\n",
        "    \n",
        "print('a: ', a)\n",
        "print('b: ', b)"
      ],
      "execution_count": 46,
      "outputs": [
        {
          "output_type": "stream",
          "name": "stdout",
          "text": [
            "a:  [0.80119529]\n",
            "b:  [0.04511107]\n"
          ]
        }
      ]
    },
    {
      "cell_type": "markdown",
      "metadata": {
        "id": "NjfRlg3uTGxJ"
      },
      "source": [
        "### Do it for 100 epochs"
      ]
    },
    {
      "cell_type": "code",
      "metadata": {
        "colab": {
          "base_uri": "https://localhost:8080/"
        },
        "id": "UnRd2WGgTCna",
        "outputId": "b154da4a-46f3-4686-cc20-72a8d9f16bf4"
      },
      "source": [
        "# Initializes parameters \"a\" and \"b\" randomly\n",
        "np.random.seed(42)\n",
        "a = np.random.randn(1)\n",
        "b = np.random.randn(1)\n",
        "print('Initial value of a: ', a)\n",
        "print('Initial value of b: ', b)\n",
        "# Sets learning rate\n",
        "lr = 1e-1\n",
        "# Defines number of epochs\n",
        "n_epochs = 1000\n",
        "for epoch in range(n_epochs):\n",
        "    # Computes our model's predicted output\n",
        "    yhat = a + b * x_train\n",
        "    \n",
        "    # How wrong is our model? That's the error! \n",
        "    error = (y_train - yhat)\n",
        "    # It is a regression, so it computes mean squared error (MSE)\n",
        "    loss = (error ** 2).mean()\n",
        "    \n",
        "    # Computes gradients for both \"a\" and \"b\" parameters\n",
        "    a_grad = -2 * error.mean()\n",
        "    b_grad = -2 * (x_train * error).mean()\n",
        "    \n",
        "    # Updates parameters using gradients and the learning rate\n",
        "    a = a - lr * a_grad\n",
        "    b = b - lr * b_grad\n",
        "    \n",
        "print('Final value of a: ', a)\n",
        "print('Final value of b: ', b)\n",
        "print('Final Error : ',(((a + b * x_train) - y_train)**2).mean())"
      ],
      "execution_count": 47,
      "outputs": [
        {
          "output_type": "stream",
          "name": "stdout",
          "text": [
            "Initial value of a:  [0.49671415]\n",
            "Initial value of b:  [-0.1382643]\n",
            "Final value of a:  [1.02354094]\n",
            "Final value of b:  [1.96896411]\n",
            "Final Error :  0.008044657695505126\n"
          ]
        }
      ]
    },
    {
      "cell_type": "code",
      "metadata": {
        "colab": {
          "base_uri": "https://localhost:8080/",
          "height": 314
        },
        "id": "vVSsSTYETKU6",
        "outputId": "4d400818-8b45-4cf5-c0d7-9476f742491b"
      },
      "source": [
        "plt.plot(x_val, y_val, 'ro')\n",
        "plt.title('Validation data and reult of the trained regression model')\n",
        "plt.grid()\n",
        "plt.xlabel('x_val')\n",
        "plt.ylabel('y_val')\n",
        "# Final regression model\n",
        "yhat = a + b * x_val\n",
        "plt.plot(x_val, yhat, 'g')"
      ],
      "execution_count": 48,
      "outputs": [
        {
          "output_type": "execute_result",
          "data": {
            "text/plain": [
              "[<matplotlib.lines.Line2D at 0x7f37708a1040>]"
            ]
          },
          "metadata": {},
          "execution_count": 48
        },
        {
          "output_type": "display_data",
          "data": {
            "text/plain": [
              "<Figure size 432x288 with 1 Axes>"
            ],
            "image/png": "[encoded data removed]"
          },
          "metadata": {
            "needs_background": "light"
          }
        }
      ]
    },
    {
      "cell_type": "markdown",
      "metadata": {
        "id": "TuIVBYjSTy8v"
      },
      "source": [
        "### make life easier by pytorch !!!"
      ]
    },
    {
      "cell_type": "code",
      "metadata": {
        "colab": {
          "base_uri": "https://localhost:8080/"
        },
        "id": "h99PXYnvTs33",
        "outputId": "afa954ae-7aa4-4d1f-d780-9edeac2f77c9"
      },
      "source": [
        "# tensor\n",
        "tensor = torch.tensor([[[1, 2, 8, 2],\n",
        "               [3, 0, 9, 9],\n",
        "               [7, 2, 0, 6]],\n",
        "              [[0, 9, 8, 2],\n",
        "               [1, 8, 5, 5], \n",
        "               [2, 8, 1, 7]]])\n",
        "\n",
        "tensor"
      ],
      "execution_count": 49,
      "outputs": [
        {
          "output_type": "execute_result",
          "data": {
            "text/plain": [
              "tensor([[[1, 2, 8, 2],\n",
              "         [3, 0, 9, 9],\n",
              "         [7, 2, 0, 6]],\n",
              "\n",
              "        [[0, 9, 8, 2],\n",
              "         [1, 8, 5, 5],\n",
              "         [2, 8, 1, 7]]])"
            ]
          },
          "metadata": {},
          "execution_count": 49
        }
      ]
    },
    {
      "cell_type": "code",
      "metadata": {
        "colab": {
          "base_uri": "https://localhost:8080/"
        },
        "id": "rgzsy3-0UJ8i",
        "outputId": "254020c0-2f2f-4968-c2c7-13fb59a28ce7"
      },
      "source": [
        "tensor.shape"
      ],
      "execution_count": 50,
      "outputs": [
        {
          "output_type": "execute_result",
          "data": {
            "text/plain": [
              "torch.Size([2, 3, 4])"
            ]
          },
          "metadata": {},
          "execution_count": 50
        }
      ]
    },
    {
      "cell_type": "code",
      "metadata": {
        "colab": {
          "base_uri": "https://localhost:8080/"
        },
        "id": "hY6-s6Y1URbq",
        "outputId": "022476d4-b346-4a12-e74d-5b6cec7749fc"
      },
      "source": [
        "type(tensor)"
      ],
      "execution_count": 51,
      "outputs": [
        {
          "output_type": "execute_result",
          "data": {
            "text/plain": [
              "torch.Tensor"
            ]
          },
          "metadata": {},
          "execution_count": 51
        }
      ]
    },
    {
      "cell_type": "code",
      "metadata": {
        "id": "KSj5WkCbUTzp"
      },
      "source": [
        "# torch.tensor([[[1, 2, 8, 2],\n",
        "#                [3, 0, 9, 9],\n",
        "#                [7, 2, 0, 6]],\n",
        "#               [[0, 9, 8, 2],\n",
        "#                [1, 8, 5, 5], \n",
        "#                [2, 8, 1, 7]]], device=torch.device('cuda:0'))\n",
        "\n",
        "# tensor.shape"
      ],
      "execution_count": 52,
      "outputs": []
    },
    {
      "cell_type": "code",
      "metadata": {
        "colab": {
          "base_uri": "https://localhost:8080/"
        },
        "id": "M2UA9kUkUXgC",
        "outputId": "bd69ac90-d805-432f-be29-ae0e678456ec"
      },
      "source": [
        "torch.cuda.is_available()"
      ],
      "execution_count": 53,
      "outputs": [
        {
          "output_type": "execute_result",
          "data": {
            "text/plain": [
              "True"
            ]
          },
          "metadata": {},
          "execution_count": 53
        }
      ]
    },
    {
      "cell_type": "code",
      "metadata": {
        "id": "nMp2DZ_SUixM"
      },
      "source": [
        "#torch.cuda.get_device_properties('cuda:0')"
      ],
      "execution_count": 54,
      "outputs": []
    },
    {
      "cell_type": "code",
      "metadata": {
        "colab": {
          "base_uri": "https://localhost:8080/"
        },
        "id": "Zr9wLizKUlh6",
        "outputId": "f89caeda-e380-4c1a-9233-856ddbcb43b3"
      },
      "source": [
        "#convert numpy array to tensor and \n",
        "np_array = np.random.randint(0, 10, (2, 3))\n",
        "print(np_array)\n",
        "print(50*'-')\n",
        "tensor = torch.from_numpy(np_array)\n",
        "print(tensor)"
      ],
      "execution_count": 55,
      "outputs": [
        {
          "output_type": "stream",
          "name": "stdout",
          "text": [
            "[[7 4 6]\n",
            " [9 2 6]]\n",
            "--------------------------------------------------\n",
            "tensor([[7, 4, 6],\n",
            "        [9, 2, 6]])\n"
          ]
        }
      ]
    },
    {
      "cell_type": "code",
      "metadata": {
        "colab": {
          "base_uri": "https://localhost:8080/"
        },
        "id": "GPaFQXGYU4XB",
        "outputId": "49881afb-d1ab-475d-d983-1a6625039ffb"
      },
      "source": [
        "#convert tensor  to numpy array \n",
        "tensor = torch.from_numpy(np_array)\n",
        "print(tensor)\n",
        "print(50*'-')\n",
        "np_array = tensor.numpy()\n",
        "print(np_array)"
      ],
      "execution_count": 56,
      "outputs": [
        {
          "output_type": "stream",
          "name": "stdout",
          "text": [
            "tensor([[7, 4, 6],\n",
            "        [9, 2, 6]])\n",
            "--------------------------------------------------\n",
            "[[7 4 6]\n",
            " [9 2 6]]\n"
          ]
        }
      ]
    },
    {
      "cell_type": "code",
      "metadata": {
        "id": "J9mpUpRsVVAb"
      },
      "source": [
        "# TypeError: can't convert CUDA tensor to numpy. Use Tensor.cpu() to copy the tensor to host memory first.\n",
        "# a = torch.randint(10, (2, 3), device=torch.device('cuda'))\n",
        "# print(a)\n",
        "# print(50*'-')\n",
        "# # Method 1\n",
        "# b = a.to('cpu').numpy()\n",
        "# print(b)\n",
        "# print(50*'-')\n",
        "# # Method 2\n",
        "# c = a.cpu().numpy()\n",
        "# print(c)"
      ],
      "execution_count": 57,
      "outputs": []
    },
    {
      "cell_type": "markdown",
      "metadata": {
        "id": "TWA75xloVZ5P"
      },
      "source": [
        "### use tensor"
      ]
    },
    {
      "cell_type": "code",
      "metadata": {
        "id": "jmhC4Od3VZdA"
      },
      "source": [
        "# Converts numpy arrays to tensor\n",
        "x_train = torch.from_numpy(x_train)\n",
        "y_train = torch.from_numpy(y_train)"
      ],
      "execution_count": 58,
      "outputs": []
    },
    {
      "cell_type": "code",
      "metadata": {
        "id": "4ay-fkkCVc75"
      },
      "source": [
        "# Initializes parameters \"a\" and \"b\" randomly\n",
        "torch.manual_seed(42)\n",
        "a = torch.randn(1)\n",
        "b = torch.randn(1)"
      ],
      "execution_count": 59,
      "outputs": []
    },
    {
      "cell_type": "code",
      "metadata": {
        "colab": {
          "base_uri": "https://localhost:8080/"
        },
        "id": "sD3VrNsMVeER",
        "outputId": "bcfa5937-0ac9-478f-e9fc-a6f95701ddaa"
      },
      "source": [
        "print('Initial value of a: ', a)\n",
        "print('Initial value of b: ', b)"
      ],
      "execution_count": 60,
      "outputs": [
        {
          "output_type": "stream",
          "name": "stdout",
          "text": [
            "Initial value of a:  tensor([0.3367])\n",
            "Initial value of b:  tensor([0.1288])\n"
          ]
        }
      ]
    },
    {
      "cell_type": "code",
      "metadata": {
        "id": "DiCtUfavVf-f"
      },
      "source": [
        "# Sets learning rate\n",
        "lr = 1e-1\n",
        "# Defines number of epochs\n",
        "n_epochs = 1000"
      ],
      "execution_count": 61,
      "outputs": []
    },
    {
      "cell_type": "code",
      "metadata": {
        "colab": {
          "base_uri": "https://localhost:8080/"
        },
        "id": "wrB2EeKgVhTh",
        "outputId": "1ed1223d-6ce1-4be7-c3b7-118e87d37576"
      },
      "source": [
        "for epoch in range(n_epochs):\n",
        "    # Computes our model's predicted output\n",
        "    yhat = a + b * x_train\n",
        "    \n",
        "    # How wrong is our model? That's the error! \n",
        "    error = (y_train - yhat)\n",
        "    # It is a regression, so it computes mean squared error (MSE)\n",
        "    loss = (error ** 2).mean()\n",
        "    \n",
        "    # Computes gradients for both \"a\" and \"b\" parameters\n",
        "    a_grad = -2 * error.mean()\n",
        "    b_grad = -2 * (x_train * error).mean()\n",
        "    \n",
        "    # Updates parameters using gradients and the learning rate\n",
        "    a = a - lr * a_grad\n",
        "    b = b - lr * b_grad\n",
        "    \n",
        "print('Final value of a: ', a)\n",
        "print('Final value of b: ', b)"
      ],
      "execution_count": 62,
      "outputs": [
        {
          "output_type": "stream",
          "name": "stdout",
          "text": [
            "Final value of a:  tensor([1.0235])\n",
            "Final value of b:  tensor([1.9690])\n"
          ]
        }
      ]
    },
    {
      "cell_type": "markdown",
      "metadata": {
        "id": "sNWn2JHqWIpT"
      },
      "source": [
        "### pytorch"
      ]
    },
    {
      "cell_type": "code",
      "metadata": {
        "colab": {
          "base_uri": "https://localhost:8080/"
        },
        "id": "xFIWCIiRVy-m",
        "outputId": "459bd29b-496f-4c46-a44b-fd9f99ffe697"
      },
      "source": [
        "x = torch.randn(1, requires_grad=True)\n",
        "print('x: ', x)\n",
        "y = x**2\n",
        "print('y: ', y)\n",
        "y.backward()"
      ],
      "execution_count": 63,
      "outputs": [
        {
          "output_type": "stream",
          "name": "stdout",
          "text": [
            "x:  tensor([0.2345], requires_grad=True)\n",
            "y:  tensor([0.0550], grad_fn=<PowBackward0>)\n"
          ]
        }
      ]
    },
    {
      "cell_type": "code",
      "metadata": {
        "colab": {
          "base_uri": "https://localhost:8080/"
        },
        "id": "mEpYXoYuWLIf",
        "outputId": "54962c40-5bfb-4e16-cd96-5573c26535fd"
      },
      "source": [
        "x.grad"
      ],
      "execution_count": 64,
      "outputs": [
        {
          "output_type": "execute_result",
          "data": {
            "text/plain": [
              "tensor([0.4689])"
            ]
          },
          "metadata": {},
          "execution_count": 64
        }
      ]
    },
    {
      "cell_type": "code",
      "metadata": {
        "colab": {
          "base_uri": "https://localhost:8080/"
        },
        "id": "ey9AmUDVWyFX",
        "outputId": "1c9b0f15-5bca-47cd-d112-6d5cb7ea5206"
      },
      "source": [
        "# optimizer\n",
        "torch.manual_seed(42)\n",
        "a = torch.randn(1, requires_grad=True)\n",
        "b = torch.randn(1, requires_grad=True)\n",
        "optimizer = torch.optim.SGD([a, b], lr=0.01)\n",
        "print(optimizer)\n",
        "\n",
        "# update parameters\n",
        "# optimizer.step()"
      ],
      "execution_count": 65,
      "outputs": [
        {
          "output_type": "stream",
          "name": "stdout",
          "text": [
            "SGD (\n",
            "Parameter Group 0\n",
            "    dampening: 0\n",
            "    differentiable: False\n",
            "    foreach: None\n",
            "    lr: 0.01\n",
            "    maximize: False\n",
            "    momentum: 0\n",
            "    nesterov: False\n",
            "    weight_decay: 0\n",
            ")\n"
          ]
        }
      ]
    },
    {
      "cell_type": "code",
      "metadata": {
        "id": "l7-vCf5gXMmp"
      },
      "source": [
        "np.random.seed(42)\n",
        "x = np.random.rand(100, 1) #make random vector with size 100\n",
        "y = 1 + 2 * x + .1 * np.random.randn(100, 1) #make y depends on x with noise by equation y = 1 + 2 * x + (noise)"
      ],
      "execution_count": 66,
      "outputs": []
    },
    {
      "cell_type": "code",
      "metadata": {
        "id": "Bhmf3e5lXP4_"
      },
      "source": [
        "# Shuffles the indices\n",
        "idx = np.arange(100)\n",
        "np.random.shuffle(idx)"
      ],
      "execution_count": 67,
      "outputs": []
    },
    {
      "cell_type": "code",
      "metadata": {
        "id": "8Bo_632fXSA_"
      },
      "source": [
        "# Uses first 80 random indices for train\n",
        "train_idx = idx[:80]\n",
        "# Uses the remaining indices for validation\n",
        "val_idx = idx[80:]\n",
        "\n",
        "# Generates train and validation sets\n",
        "x_train, y_train = x[train_idx], y[train_idx]\n",
        "x_val, y_val = x[val_idx], y[val_idx]"
      ],
      "execution_count": 68,
      "outputs": []
    },
    {
      "cell_type": "code",
      "metadata": {
        "id": "lNGmkH2TW0_y"
      },
      "source": [
        "# Converts numpy arrays to tensor\n",
        "x_train = torch.from_numpy(x_train)\n",
        "y_train = torch.from_numpy(y_train)"
      ],
      "execution_count": 69,
      "outputs": []
    },
    {
      "cell_type": "code",
      "metadata": {
        "colab": {
          "base_uri": "https://localhost:8080/"
        },
        "id": "NFxRmQe8XIjt",
        "outputId": "976f79cb-39a4-49f4-de42-fc97af52399b"
      },
      "source": [
        "# Initializes parameters \"a\" and \"b\" randomly\n",
        "torch.manual_seed(42)\n",
        "a = torch.randn(1, requires_grad=True)\n",
        "b = torch.randn(1, requires_grad=True)\n",
        "print('Initial value of a: ', a)\n",
        "print('Initial value of b: ', b)"
      ],
      "execution_count": 70,
      "outputs": [
        {
          "output_type": "stream",
          "name": "stdout",
          "text": [
            "Initial value of a:  tensor([0.3367], requires_grad=True)\n",
            "Initial value of b:  tensor([0.1288], requires_grad=True)\n"
          ]
        }
      ]
    },
    {
      "cell_type": "code",
      "metadata": {
        "id": "LR3aytymXVyR"
      },
      "source": [
        "# Sets learning rate\n",
        "lr = 1e-1\n",
        "# Defines optimizer\n",
        "optimizer = torch.optim.SGD([a, b], lr=lr)"
      ],
      "execution_count": 71,
      "outputs": []
    },
    {
      "cell_type": "code",
      "metadata": {
        "id": "w2pHgJfqXYcO"
      },
      "source": [
        "# Defines number of epochs\n",
        "n_epochs = 1000"
      ],
      "execution_count": 72,
      "outputs": []
    },
    {
      "cell_type": "code",
      "metadata": {
        "colab": {
          "base_uri": "https://localhost:8080/"
        },
        "id": "LoyFlTMMXaN_",
        "outputId": "84c9923d-ff29-451d-f071-473a6f0af601"
      },
      "source": [
        "for epoch in range(n_epochs):\n",
        "    # Computes our model's predicted output\n",
        "    yhat = a + b * x_train\n",
        "    \n",
        "    # How wrong is our model? That's the error! \n",
        "    error = (y_train - yhat)\n",
        "    # It is a regression, so it computes mean squared error (MSE)\n",
        "    loss = (error ** 2).mean()\n",
        "    \n",
        "    # Computes gradients for both \"a\" and \"b\" parameters\n",
        "    # a_grad = -2 * error.mean()\n",
        "    # b_grad = -2 * (x_train * error).mean()\n",
        "\n",
        "    loss.backward()  # simple!\n",
        "\n",
        "    # Updates parameters using gradients and the learning rate\n",
        "    # a = a - lr * a_grad\n",
        "    # b = b - lr * b_grad\n",
        "    optimizer.step()  # simple!\n",
        "    \n",
        "    # Resets gradients!\n",
        "    optimizer.zero_grad()\n",
        "    \n",
        "print('Final value of a: ', a)\n",
        "print('Final value of b: ', b)"
      ],
      "execution_count": 73,
      "outputs": [
        {
          "output_type": "stream",
          "name": "stdout",
          "text": [
            "Final value of a:  tensor([1.0235], requires_grad=True)\n",
            "Final value of b:  tensor([1.9690], requires_grad=True)\n"
          ]
        }
      ]
    },
    {
      "cell_type": "code",
      "metadata": {
        "id": "APNSRTn6XgD7"
      },
      "source": [
        "# Resets gradients!\n",
        "x = torch.tensor(1., requires_grad=True)"
      ],
      "execution_count": 74,
      "outputs": []
    },
    {
      "cell_type": "code",
      "metadata": {
        "colab": {
          "base_uri": "https://localhost:8080/"
        },
        "id": "DNpwYw-oXsFN",
        "outputId": "8b3b0ea2-19cb-4ff0-acc3-ab0a62771352"
      },
      "source": [
        "# First try\n",
        "y = x**3\n",
        "y.backward()\n",
        "print('Gradient: ', x.grad)"
      ],
      "execution_count": 75,
      "outputs": [
        {
          "output_type": "stream",
          "name": "stdout",
          "text": [
            "Gradient:  tensor(3.)\n"
          ]
        }
      ]
    },
    {
      "cell_type": "code",
      "metadata": {
        "colab": {
          "base_uri": "https://localhost:8080/"
        },
        "id": "UYPA033bXuiJ",
        "outputId": "4e769f4e-6ea6-4013-d666-d6a6c961282d"
      },
      "source": [
        "# Second try\n",
        "y = x**3\n",
        "y.backward()\n",
        "print('Gradient: ', x.grad)"
      ],
      "execution_count": 76,
      "outputs": [
        {
          "output_type": "stream",
          "name": "stdout",
          "text": [
            "Gradient:  tensor(6.)\n"
          ]
        }
      ]
    },
    {
      "cell_type": "markdown",
      "metadata": {
        "id": "orJShYpsX686"
      },
      "source": [
        "### pytorch loss function"
      ]
    },
    {
      "cell_type": "code",
      "metadata": {
        "colab": {
          "base_uri": "https://localhost:8080/"
        },
        "id": "LZ9zYbLLXvse",
        "outputId": "c9bd6b46-23ed-428e-bac9-7bebce1a80f5"
      },
      "source": [
        "loss = torch.nn.MSELoss()\n",
        "input = torch.randn(3, 5, requires_grad=True)\n",
        "target = torch.randn(3, 5)\n",
        "output = loss(input, target)\n",
        "print(output)"
      ],
      "execution_count": 77,
      "outputs": [
        {
          "output_type": "stream",
          "name": "stdout",
          "text": [
            "tensor(0.9842, grad_fn=<MseLossBackward0>)\n"
          ]
        }
      ]
    },
    {
      "cell_type": "code",
      "metadata": {
        "id": "lk2yqVvRYJid"
      },
      "source": [
        "np.random.seed(42)\n",
        "x = np.random.rand(100, 1) #make random vector with size 100\n",
        "y = 1 + 2 * x + .1 * np.random.randn(100, 1) #make y depends on x with noise by equation y = 1 + 2 * x + (noise)"
      ],
      "execution_count": 78,
      "outputs": []
    },
    {
      "cell_type": "code",
      "metadata": {
        "id": "YTNcQ0ISYJ_m"
      },
      "source": [
        "# Shuffles the indices\n",
        "idx = np.arange(100)\n",
        "np.random.shuffle(idx)"
      ],
      "execution_count": 79,
      "outputs": []
    },
    {
      "cell_type": "code",
      "metadata": {
        "id": "Iu6b1c5RYMHW"
      },
      "source": [
        "# Uses first 80 random indices for train\n",
        "train_idx = idx[:80]\n",
        "# Uses the remaining indices for validation\n",
        "val_idx = idx[80:]\n",
        "\n",
        "# Generates train and validation sets\n",
        "x_train, y_train = x[train_idx], y[train_idx]\n",
        "x_val, y_val = x[val_idx], y[val_idx]"
      ],
      "execution_count": 80,
      "outputs": []
    },
    {
      "cell_type": "code",
      "metadata": {
        "id": "t1BNyYlBYBZI"
      },
      "source": [
        "# Converts numpy arrays to tensor\n",
        "x_train = torch.from_numpy(x_train)\n",
        "y_train = torch.from_numpy(y_train)"
      ],
      "execution_count": 81,
      "outputs": []
    },
    {
      "cell_type": "code",
      "metadata": {
        "colab": {
          "base_uri": "https://localhost:8080/"
        },
        "id": "fFrs-AutYVmx",
        "outputId": "7b89d5c0-1350-4ba9-b042-d8b31a24d96b"
      },
      "source": [
        "# Initializes parameters \"a\" and \"b\" randomly\n",
        "torch.manual_seed(42)\n",
        "a = torch.randn(1, requires_grad=True)\n",
        "b = torch.randn(1, requires_grad=True)\n",
        "print('Initial value of a: ', a)\n",
        "print('Initial value of b: ', b)"
      ],
      "execution_count": 82,
      "outputs": [
        {
          "output_type": "stream",
          "name": "stdout",
          "text": [
            "Initial value of a:  tensor([0.3367], requires_grad=True)\n",
            "Initial value of b:  tensor([0.1288], requires_grad=True)\n"
          ]
        }
      ]
    },
    {
      "cell_type": "code",
      "metadata": {
        "id": "NP6F_hlJYXVA"
      },
      "source": [
        "# Sets learning rate\n",
        "lr = 1e-1\n",
        "# Defines optimizer\n",
        "optimizer = torch.optim.SGD([a, b], lr=lr)\n",
        "# Defines MSE loss\n",
        "loss_fn = torch.nn.MSELoss()\n",
        "# Defines number of epochs\n",
        "n_epochs = 1000"
      ],
      "execution_count": 83,
      "outputs": []
    },
    {
      "cell_type": "code",
      "metadata": {
        "colab": {
          "base_uri": "https://localhost:8080/"
        },
        "id": "wU2VcjS2YaBv",
        "outputId": "95ee2b56-7284-4182-bd03-3a22a29e9818"
      },
      "source": [
        "for epoch in range(n_epochs):\n",
        "    # Computes our model's predicted output\n",
        "    yhat = a + b * x_train\n",
        "    \n",
        "    # How wrong is our model? That's the error! \n",
        "    # error = (y_train - yhat)\n",
        "    # It is a regression, so it computes mean squared error (MSE)\n",
        "    # loss = (error ** 2).mean()\n",
        "    loss = loss_fn(yhat, y_train)\n",
        "    # Computes gradients for both \"a\" and \"b\" parameters\n",
        "    # a_grad = -2 * error.mean()\n",
        "    # b_grad = -2 * (x_train * error).mean()\n",
        "    loss.backward()  # simple!\n",
        "    # Updates parameters using gradients and the learning rate\n",
        "    # a = a - lr * a_grad\n",
        "    # b = b - lr * b_grad\n",
        "    optimizer.step()  # simple!\n",
        "    # Resets gradients!\n",
        "    optimizer.zero_grad()\n",
        "\n",
        "yhat = a + b * x_train\n",
        "final_error =  loss_fn(yhat, y_train)\n",
        "\n",
        "print('Final value of a: ', a)\n",
        "print('Final value of b: ', b)\n",
        "print('Final loss : ',final_error)"
      ],
      "execution_count": 84,
      "outputs": [
        {
          "output_type": "stream",
          "name": "stdout",
          "text": [
            "Final value of a:  tensor([1.0235], requires_grad=True)\n",
            "Final value of b:  tensor([1.9690], requires_grad=True)\n",
            "Final loss :  tensor(0.0080, dtype=torch.float64, grad_fn=<MseLossBackward0>)\n"
          ]
        }
      ]
    },
    {
      "cell_type": "markdown",
      "metadata": {
        "id": "dQ719_CaYv33"
      },
      "source": [
        "### pytorch FC "
      ]
    },
    {
      "cell_type": "code",
      "metadata": {
        "id": "mYgtPVb8Yk_b"
      },
      "source": [
        "class NeuralNetwork(torch.nn.Module):\n",
        "    def __init__(self, n_input, n_unit1, n_output):\n",
        "        super().__init__()\n",
        "        # Inputs to 1st hidden layer linear transformation \n",
        "        self.hidden = torch.nn.Linear(n_input, n_unit1)\n",
        "        self.sigmoid = torch.nn.Sigmoid()\n",
        "        # Output layer \n",
        "        self.output = torch.nn.Linear(n_unit1, n_output)\n",
        "        self.softmax = torch.nn.Softmax(dim=1)\n",
        "        \n",
        "    def forward(self, x):\n",
        "        x = self.hidden(x) \n",
        "        x = self.sigmoid(x)\n",
        "        x = self.output(x)\n",
        "        x = self.softmax(x)\n",
        "        return x"
      ],
      "execution_count": 85,
      "outputs": []
    },
    {
      "cell_type": "code",
      "metadata": {
        "colab": {
          "base_uri": "https://localhost:8080/"
        },
        "id": "Bfe4Bz1eZLpS",
        "outputId": "5b98e90f-8bbb-456b-8fa1-e007f2ec97b3"
      },
      "source": [
        "nn_model = NeuralNetwork(10, 30, 2)\n",
        "print(nn_model)"
      ],
      "execution_count": 86,
      "outputs": [
        {
          "output_type": "stream",
          "name": "stdout",
          "text": [
            "NeuralNetwork(\n",
            "  (hidden): Linear(in_features=10, out_features=30, bias=True)\n",
            "  (sigmoid): Sigmoid()\n",
            "  (output): Linear(in_features=30, out_features=2, bias=True)\n",
            "  (softmax): Softmax(dim=1)\n",
            ")\n"
          ]
        }
      ]
    },
    {
      "cell_type": "code",
      "metadata": {
        "colab": {
          "base_uri": "https://localhost:8080/"
        },
        "id": "7kMGnz6pbPWP",
        "outputId": "37036ab1-da72-4d07-bf60-3e053a7d4af1"
      },
      "source": [
        "model = torch.nn.Sequential(\n",
        "    torch.nn.Linear(10, 30),\n",
        "    torch.nn.Sigmoid(),\n",
        "    torch.nn.Linear(30, 2),\n",
        "    torch.nn.Softmax()\n",
        ")\n",
        "print(model)"
      ],
      "execution_count": 87,
      "outputs": [
        {
          "output_type": "stream",
          "name": "stdout",
          "text": [
            "Sequential(\n",
            "  (0): Linear(in_features=10, out_features=30, bias=True)\n",
            "  (1): Sigmoid()\n",
            "  (2): Linear(in_features=30, out_features=2, bias=True)\n",
            "  (3): Softmax(dim=None)\n",
            ")\n"
          ]
        }
      ]
    },
    {
      "cell_type": "code",
      "metadata": {
        "id": "yM4qfpcnZPim"
      },
      "source": [
        "class LinRegModel(torch.nn.Module):\n",
        "    def __init__(self):\n",
        "        super().__init__()\n",
        "        # Inputs to 1st hidden layer linear transformation \n",
        "        self.neuron = torch.nn.Linear(1, 1)\n",
        "        \n",
        "    def forward(self, x):\n",
        "        x = x.float()\n",
        "        y = self.neuron(x)\n",
        "        return y.float()"
      ],
      "execution_count": 88,
      "outputs": []
    },
    {
      "cell_type": "code",
      "metadata": {
        "colab": {
          "base_uri": "https://localhost:8080/"
        },
        "id": "O8jq5jJeZTbv",
        "outputId": "bff4566b-6688-478a-e595-22dd8b89f9ea"
      },
      "source": [
        "lreg_model = LinRegModel()\n",
        "print(lreg_model)"
      ],
      "execution_count": 89,
      "outputs": [
        {
          "output_type": "stream",
          "name": "stdout",
          "text": [
            "LinRegModel(\n",
            "  (neuron): Linear(in_features=1, out_features=1, bias=True)\n",
            ")\n"
          ]
        }
      ]
    },
    {
      "cell_type": "code",
      "metadata": {
        "id": "ArJjiSfeblpo"
      },
      "source": [
        "np.random.seed(42)\n",
        "x = np.random.rand(100, 1) #make random vector with size 100\n",
        "y = 1 + 2 * x + .1 * np.random.randn(100, 1) #make y depends on x with noise by equation y = 1 + 2 * x + (noise)"
      ],
      "execution_count": 90,
      "outputs": []
    },
    {
      "cell_type": "code",
      "metadata": {
        "id": "RwrSzrr2blpp"
      },
      "source": [
        "# Shuffles the indices\n",
        "idx = np.arange(100)\n",
        "np.random.shuffle(idx)"
      ],
      "execution_count": 91,
      "outputs": []
    },
    {
      "cell_type": "code",
      "metadata": {
        "id": "49pRvcZtblpq"
      },
      "source": [
        "# Uses first 80 random indices for train\n",
        "train_idx = idx[:80]\n",
        "# Uses the remaining indices for validation\n",
        "val_idx = idx[80:]\n",
        "\n",
        "# Generates train and validation sets\n",
        "x_train, y_train = x[train_idx], y[train_idx]\n",
        "x_val, y_val = x[val_idx], y[val_idx]"
      ],
      "execution_count": 92,
      "outputs": []
    },
    {
      "cell_type": "code",
      "metadata": {
        "id": "aqAtxe7Wblpq"
      },
      "source": [
        "# Converts numpy arrays to tensor\n",
        "x_train = torch.from_numpy(x_train)\n",
        "x_train = x_train.float()\n",
        "y_train = torch.from_numpy(y_train)\n",
        "y_train = y_train.float()"
      ],
      "execution_count": 93,
      "outputs": []
    },
    {
      "cell_type": "code",
      "metadata": {
        "id": "parU4lH_ZYY1"
      },
      "source": [
        "# Sets learning rate\n",
        "lr = 1e-1"
      ],
      "execution_count": 94,
      "outputs": []
    },
    {
      "cell_type": "code",
      "metadata": {
        "id": "xSMfMaJrZYyG"
      },
      "source": [
        "# training step\n",
        "lreg_model.train()\n",
        "# Defines optimizer\n",
        "optimizer = torch.optim.SGD(lreg_model.parameters(), lr=lr)\n",
        "# Defines MSE loss\n",
        "loss_fn = torch.nn.MSELoss()\n",
        "# Defines number of epochs\n",
        "n_epochs = 1000"
      ],
      "execution_count": 95,
      "outputs": []
    },
    {
      "cell_type": "code",
      "metadata": {
        "id": "SR3Eh8EtaJYl"
      },
      "source": [
        "# evaluate model\n",
        "# model.eval()\n",
        "\n",
        "# with torch.no_grad():\n",
        "#     ...\n",
        "#     out_data = model(data)\n",
        "#     ..."
      ],
      "execution_count": 96,
      "outputs": []
    },
    {
      "cell_type": "code",
      "metadata": {
        "colab": {
          "base_uri": "https://localhost:8080/"
        },
        "id": "V_nsQLl8Zgw9",
        "outputId": "4a97a8bc-fd32-4abc-9eb6-bfd8ad934611"
      },
      "source": [
        "for epoch in range(n_epochs):\n",
        "    # Computes our model's predicted output\n",
        "    # yhat = a + b * x_train\n",
        "    yhat = lreg_model(x_train)\n",
        "    \n",
        "    # How wrong is our model? That's the error! \n",
        "    # error = (y_train - yhat)\n",
        "    # It is a regression, so it computes mean squared error (MSE)\n",
        "    # loss = (error ** 2).mean()\n",
        "    loss = loss_fn(yhat, y_train)\n",
        "    # Computes gradients for both \"a\" and \"b\" parameters\n",
        "    # a_grad = -2 * error.mean()\n",
        "    # b_grad = -2 * (x_train * error).mean()\n",
        "    loss.backward()  # simple!\n",
        "    # Updates parameters using gradients and the learning rate\n",
        "    # a = a - lr * a_grad\n",
        "    # b = b - lr * b_grad\n",
        "    optimizer.step()  # simple!\n",
        "    # Resets gradients!\n",
        "    optimizer.zero_grad()\n",
        "    \n",
        "# print('Final value of a: ', a)\n",
        "# print('Final value of b: ', a)\n",
        "print(lreg_model.state_dict())"
      ],
      "execution_count": 97,
      "outputs": [
        {
          "output_type": "stream",
          "name": "stdout",
          "text": [
            "OrderedDict([('neuron.weight', tensor([[1.9690]])), ('neuron.bias', tensor([1.0235]))])\n"
          ]
        }
      ]
    },
    {
      "cell_type": "markdown",
      "metadata": {
        "id": "Q1ZDxmKL7tFm"
      },
      "source": [
        "# Classification"
      ]
    },
    {
      "cell_type": "markdown",
      "source": [
        "## pre-process data"
      ],
      "metadata": {
        "id": "3j6DVhnfZ0r2"
      }
    },
    {
      "cell_type": "code",
      "metadata": {
        "id": "461AQap-_eGL"
      },
      "source": [
        "# lets work with MNIST dataset!"
      ],
      "execution_count": 98,
      "outputs": []
    },
    {
      "cell_type": "code",
      "source": [
        "from sklearn.datasets import load_digits\n",
        "digits = load_digits()"
      ],
      "metadata": {
        "id": "HQZzICKTTwy5"
      },
      "execution_count": 1,
      "outputs": []
    },
    {
      "cell_type": "code",
      "source": [
        "digits.keys()"
      ],
      "metadata": {
        "colab": {
          "base_uri": "https://localhost:8080/"
        },
        "id": "EG2f02IPVjzK",
        "outputId": "a974124f-e4e2-4520-c5d2-316c6348fd25"
      },
      "execution_count": 2,
      "outputs": [
        {
          "output_type": "execute_result",
          "data": {
            "text/plain": [
              "dict_keys(['data', 'target', 'frame', 'feature_names', 'target_names', 'images', 'DESCR'])"
            ]
          },
          "metadata": {},
          "execution_count": 2
        }
      ]
    },
    {
      "cell_type": "code",
      "source": [
        "digits['data'].shape"
      ],
      "metadata": {
        "colab": {
          "base_uri": "https://localhost:8080/"
        },
        "id": "bA-iHrE2Ueza",
        "outputId": "c26f7961-be0a-45de-d970-13ba23293f5d"
      },
      "execution_count": 3,
      "outputs": [
        {
          "output_type": "execute_result",
          "data": {
            "text/plain": [
              "(1797, 64)"
            ]
          },
          "metadata": {},
          "execution_count": 3
        }
      ]
    },
    {
      "cell_type": "code",
      "source": [
        "digits['data'][0]"
      ],
      "metadata": {
        "colab": {
          "base_uri": "https://localhost:8080/"
        },
        "id": "zR0X2W3SU6lz",
        "outputId": "00a86475-73ab-45ec-ea3a-e366c0f7b718"
      },
      "execution_count": 4,
      "outputs": [
        {
          "output_type": "execute_result",
          "data": {
            "text/plain": [
              "array([ 0.,  0.,  5., 13.,  9.,  1.,  0.,  0.,  0.,  0., 13., 15., 10.,\n",
              "       15.,  5.,  0.,  0.,  3., 15.,  2.,  0., 11.,  8.,  0.,  0.,  4.,\n",
              "       12.,  0.,  0.,  8.,  8.,  0.,  0.,  5.,  8.,  0.,  0.,  9.,  8.,\n",
              "        0.,  0.,  4., 11.,  0.,  1., 12.,  7.,  0.,  0.,  2., 14.,  5.,\n",
              "       10., 12.,  0.,  0.,  0.,  0.,  6., 13., 10.,  0.,  0.,  0.])"
            ]
          },
          "metadata": {},
          "execution_count": 4
        }
      ]
    },
    {
      "cell_type": "code",
      "source": [
        "digits['target']"
      ],
      "metadata": {
        "colab": {
          "base_uri": "https://localhost:8080/"
        },
        "id": "Y2hSP6fiX4rz",
        "outputId": "7558048a-7bf5-44bf-c846-a9a0e43bf7e0"
      },
      "execution_count": 5,
      "outputs": [
        {
          "output_type": "execute_result",
          "data": {
            "text/plain": [
              "array([0, 1, 2, ..., 8, 9, 8])"
            ]
          },
          "metadata": {},
          "execution_count": 5
        }
      ]
    },
    {
      "cell_type": "code",
      "source": [
        "digits.images.shape"
      ],
      "metadata": {
        "colab": {
          "base_uri": "https://localhost:8080/"
        },
        "id": "HoJoji1_Vegj",
        "outputId": "c4d83130-2535-487c-8935-16d35b4735db"
      },
      "execution_count": 6,
      "outputs": [
        {
          "output_type": "execute_result",
          "data": {
            "text/plain": [
              "(1797, 8, 8)"
            ]
          },
          "metadata": {},
          "execution_count": 6
        }
      ]
    },
    {
      "cell_type": "code",
      "source": [
        "import matplotlib.pyplot as plt\n",
        "plt.figure(figsize=(10,4))\n",
        "plt.title(f'label: {digits.target[0]}')\n",
        "plt.imshow(digits.images[0], cmap='gray')"
      ],
      "metadata": {
        "colab": {
          "base_uri": "https://localhost:8080/",
          "height": 299
        },
        "id": "EHq08XEzVLQU",
        "outputId": "d6e25431-641d-4bfe-a3b0-0a404e6c40ac"
      },
      "execution_count": 7,
      "outputs": [
        {
          "output_type": "execute_result",
          "data": {
            "text/plain": [
              "<matplotlib.image.AxesImage at 0x7f6e7d3207f0>"
            ]
          },
          "metadata": {},
          "execution_count": 7
        },
        {
          "output_type": "display_data",
          "data": {
            "text/plain": [
              "<Figure size 720x288 with 1 Axes>"
            ],
            "image/png": "[encoded data removed]"
          },
          "metadata": {
            "needs_background": "light"
          }
        }
      ]
    },
    {
      "cell_type": "code",
      "source": [
        "# build csv file of meta data\n",
        "import pandas as pd\n",
        "file_names = [f'/content/images/{i}.jpg' for i in range(100)]\n",
        "df = pd.DataFrame({'file_name':file_names , 'target':digits.target[:100]})\n",
        "df.head()"
      ],
      "metadata": {
        "colab": {
          "base_uri": "https://localhost:8080/",
          "height": 206
        },
        "id": "1JrougbyWteS",
        "outputId": "1bf388fd-aace-40f5-c3ae-719d3bd219c9"
      },
      "execution_count": 8,
      "outputs": [
        {
          "output_type": "execute_result",
          "data": {
            "text/plain": [
              "               file_name  target\n",
              "0  /content/images/0.jpg       0\n",
              "1  /content/images/1.jpg       1\n",
              "2  /content/images/2.jpg       2\n",
              "3  /content/images/3.jpg       3\n",
              "4  /content/images/4.jpg       4"
            ],
            "text/html": [
              "\n",
              "  <div id=\"df-07282521-b203-493c-9d1a-5ead2f129c84\">\n",
              "    <div class=\"colab-df-container\">\n",
              "      <div>\n",
              "<style scoped>\n",
              "    .dataframe tbody tr th:only-of-type {\n",
              "        vertical-align: middle;\n",
              "    }\n",
              "\n",
              "    .dataframe tbody tr th {\n",
              "        vertical-align: top;\n",
              "    }\n",
              "\n",
              "    .dataframe thead th {\n",
              "        text-align: right;\n",
              "    }\n",
              "</style>\n",
              "<table border=\"1\" class=\"dataframe\">\n",
              "  <thead>\n",
              "    <tr style=\"text-align: right;\">\n",
              "      <th></th>\n",
              "      <th>file_name</th>\n",
              "      <th>target</th>\n",
              "    </tr>\n",
              "  </thead>\n",
              "  <tbody>\n",
              "    <tr>\n",
              "      <th>0</th>\n",
              "      <td>/content/images/0.jpg</td>\n",
              "      <td>0</td>\n",
              "    </tr>\n",
              "    <tr>\n",
              "      <th>1</th>\n",
              "      <td>/content/images/1.jpg</td>\n",
              "      <td>1</td>\n",
              "    </tr>\n",
              "    <tr>\n",
              "      <th>2</th>\n",
              "      <td>/content/images/2.jpg</td>\n",
              "      <td>2</td>\n",
              "    </tr>\n",
              "    <tr>\n",
              "      <th>3</th>\n",
              "      <td>/content/images/3.jpg</td>\n",
              "      <td>3</td>\n",
              "    </tr>\n",
              "    <tr>\n",
              "      <th>4</th>\n",
              "      <td>/content/images/4.jpg</td>\n",
              "      <td>4</td>\n",
              "    </tr>\n",
              "  </tbody>\n",
              "</table>\n",
              "</div>\n",
              "      <button class=\"colab-df-convert\" onclick=\"convertToInteractive('df-07282521-b203-493c-9d1a-5ead2f129c84')\"\n",
              "              title=\"Convert this dataframe to an interactive table.\"\n",
              "              style=\"display:none;\">\n",
              "        \n",
              "  <svg xmlns=\"http://www.w3.org/2000/svg\" height=\"24px\"viewBox=\"0 0 24 24\"\n",
              "       width=\"24px\">\n",
              "    <path d=\"M0 0h24v24H0V0z\" fill=\"none\"/>\n",
              "    <path d=\"M18.56 5.44l.94 2.06.94-2.06 2.06-.94-2.06-.94-.94-2.06-.94 2.06-2.06.94zm-11 1L8.5 8.5l.94-2.06 2.06-.94-2.06-.94L8.5 2.5l-.94 2.06-2.06.94zm10 10l.94 2.06.94-2.06 2.06-.94-2.06-.94-.94-2.06-.94 2.06-2.06.94z\"/><path d=\"M17.41 7.96l-1.37-1.37c-.4-.4-.92-.59-1.43-.59-.52 0-1.04.2-1.43.59L10.3 9.45l-7.72 7.72c-.78.78-.78 2.05 0 2.83L4 21.41c.39.39.9.59 1.41.59.51 0 1.02-.2 1.41-.59l7.78-7.78 2.81-2.81c.8-.78.8-2.07 0-2.86zM5.41 20L4 18.59l7.72-7.72 1.47 1.35L5.41 20z\"/>\n",
              "  </svg>\n",
              "      </button>\n",
              "      \n",
              "  <style>\n",
              "    .colab-df-container {\n",
              "      display:flex;\n",
              "      flex-wrap:wrap;\n",
              "      gap: 12px;\n",
              "    }\n",
              "\n",
              "    .colab-df-convert {\n",
              "      background-color: #E8F0FE;\n",
              "      border: none;\n",
              "      border-radius: 50%;\n",
              "      cursor: pointer;\n",
              "      display: none;\n",
              "      fill: #1967D2;\n",
              "      height: 32px;\n",
              "      padding: 0 0 0 0;\n",
              "      width: 32px;\n",
              "    }\n",
              "\n",
              "    .colab-df-convert:hover {\n",
              "      background-color: #E2EBFA;\n",
              "      box-shadow: 0px 1px 2px rgba(60, 64, 67, 0.3), 0px 1px 3px 1px rgba(60, 64, 67, 0.15);\n",
              "      fill: #174EA6;\n",
              "    }\n",
              "\n",
              "    [theme=dark] .colab-df-convert {\n",
              "      background-color: #3B4455;\n",
              "      fill: #D2E3FC;\n",
              "    }\n",
              "\n",
              "    [theme=dark] .colab-df-convert:hover {\n",
              "      background-color: #434B5C;\n",
              "      box-shadow: 0px 1px 3px 1px rgba(0, 0, 0, 0.15);\n",
              "      filter: drop-shadow(0px 1px 2px rgba(0, 0, 0, 0.3));\n",
              "      fill: #FFFFFF;\n",
              "    }\n",
              "  </style>\n",
              "\n",
              "      <script>\n",
              "        const buttonEl =\n",
              "          document.querySelector('#df-07282521-b203-493c-9d1a-5ead2f129c84 button.colab-df-convert');\n",
              "        buttonEl.style.display =\n",
              "          google.colab.kernel.accessAllowed ? 'block' : 'none';\n",
              "\n",
              "        async function convertToInteractive(key) {\n",
              "          const element = document.querySelector('#df-07282521-b203-493c-9d1a-5ead2f129c84');\n",
              "          const dataTable =\n",
              "            await google.colab.kernel.invokeFunction('convertToInteractive',\n",
              "                                                     [key], {});\n",
              "          if (!dataTable) return;\n",
              "\n",
              "          const docLinkHtml = 'Like what you see? Visit the ' +\n",
              "            '<a target=\"_blank\" href=https://colab.research.google.com/notebooks/data_table.ipynb>data table notebook</a>'\n",
              "            + ' to learn more about interactive tables.';\n",
              "          element.innerHTML = '';\n",
              "          dataTable['output_type'] = 'display_data';\n",
              "          await google.colab.output.renderOutput(dataTable, element);\n",
              "          const docLink = document.createElement('div');\n",
              "          docLink.innerHTML = docLinkHtml;\n",
              "          element.appendChild(docLink);\n",
              "        }\n",
              "      </script>\n",
              "    </div>\n",
              "  </div>\n",
              "  "
            ]
          },
          "metadata": {},
          "execution_count": 8
        }
      ]
    },
    {
      "cell_type": "code",
      "source": [
        "df['mode'] = 'train'\n",
        "test_size = int(len(df) * 0.2)\n",
        "ix = df.sample(test_size).index\n",
        "df.loc[ix, 'mode'] = 'test'\n",
        "df.sample(5)"
      ],
      "metadata": {
        "colab": {
          "base_uri": "https://localhost:8080/",
          "height": 206
        },
        "id": "DtvMpDcKYxLD",
        "outputId": "c0db25f9-d6c1-46da-d6d0-220eb2c522c1"
      },
      "execution_count": 9,
      "outputs": [
        {
          "output_type": "execute_result",
          "data": {
            "text/plain": [
              "                 file_name  target   mode\n",
              "92  /content/images/92.jpg       9  train\n",
              "83  /content/images/83.jpg       3  train\n",
              "5    /content/images/5.jpg       5  train\n",
              "93  /content/images/93.jpg       1  train\n",
              "16  /content/images/16.jpg       6  train"
            ],
            "text/html": [
              "\n",
              "  <div id=\"df-1b99148c-d9f1-45a5-a0d5-bdd0bba07419\">\n",
              "    <div class=\"colab-df-container\">\n",
              "      <div>\n",
              "<style scoped>\n",
              "    .dataframe tbody tr th:only-of-type {\n",
              "        vertical-align: middle;\n",
              "    }\n",
              "\n",
              "    .dataframe tbody tr th {\n",
              "        vertical-align: top;\n",
              "    }\n",
              "\n",
              "    .dataframe thead th {\n",
              "        text-align: right;\n",
              "    }\n",
              "</style>\n",
              "<table border=\"1\" class=\"dataframe\">\n",
              "  <thead>\n",
              "    <tr style=\"text-align: right;\">\n",
              "      <th></th>\n",
              "      <th>file_name</th>\n",
              "      <th>target</th>\n",
              "      <th>mode</th>\n",
              "    </tr>\n",
              "  </thead>\n",
              "  <tbody>\n",
              "    <tr>\n",
              "      <th>92</th>\n",
              "      <td>/content/images/92.jpg</td>\n",
              "      <td>9</td>\n",
              "      <td>train</td>\n",
              "    </tr>\n",
              "    <tr>\n",
              "      <th>83</th>\n",
              "      <td>/content/images/83.jpg</td>\n",
              "      <td>3</td>\n",
              "      <td>train</td>\n",
              "    </tr>\n",
              "    <tr>\n",
              "      <th>5</th>\n",
              "      <td>/content/images/5.jpg</td>\n",
              "      <td>5</td>\n",
              "      <td>train</td>\n",
              "    </tr>\n",
              "    <tr>\n",
              "      <th>93</th>\n",
              "      <td>/content/images/93.jpg</td>\n",
              "      <td>1</td>\n",
              "      <td>train</td>\n",
              "    </tr>\n",
              "    <tr>\n",
              "      <th>16</th>\n",
              "      <td>/content/images/16.jpg</td>\n",
              "      <td>6</td>\n",
              "      <td>train</td>\n",
              "    </tr>\n",
              "  </tbody>\n",
              "</table>\n",
              "</div>\n",
              "      <button class=\"colab-df-convert\" onclick=\"convertToInteractive('df-1b99148c-d9f1-45a5-a0d5-bdd0bba07419')\"\n",
              "              title=\"Convert this dataframe to an interactive table.\"\n",
              "              style=\"display:none;\">\n",
              "        \n",
              "  <svg xmlns=\"http://www.w3.org/2000/svg\" height=\"24px\"viewBox=\"0 0 24 24\"\n",
              "       width=\"24px\">\n",
              "    <path d=\"M0 0h24v24H0V0z\" fill=\"none\"/>\n",
              "    <path d=\"M18.56 5.44l.94 2.06.94-2.06 2.06-.94-2.06-.94-.94-2.06-.94 2.06-2.06.94zm-11 1L8.5 8.5l.94-2.06 2.06-.94-2.06-.94L8.5 2.5l-.94 2.06-2.06.94zm10 10l.94 2.06.94-2.06 2.06-.94-2.06-.94-.94-2.06-.94 2.06-2.06.94z\"/><path d=\"M17.41 7.96l-1.37-1.37c-.4-.4-.92-.59-1.43-.59-.52 0-1.04.2-1.43.59L10.3 9.45l-7.72 7.72c-.78.78-.78 2.05 0 2.83L4 21.41c.39.39.9.59 1.41.59.51 0 1.02-.2 1.41-.59l7.78-7.78 2.81-2.81c.8-.78.8-2.07 0-2.86zM5.41 20L4 18.59l7.72-7.72 1.47 1.35L5.41 20z\"/>\n",
              "  </svg>\n",
              "      </button>\n",
              "      \n",
              "  <style>\n",
              "    .colab-df-container {\n",
              "      display:flex;\n",
              "      flex-wrap:wrap;\n",
              "      gap: 12px;\n",
              "    }\n",
              "\n",
              "    .colab-df-convert {\n",
              "      background-color: #E8F0FE;\n",
              "      border: none;\n",
              "      border-radius: 50%;\n",
              "      cursor: pointer;\n",
              "      display: none;\n",
              "      fill: #1967D2;\n",
              "      height: 32px;\n",
              "      padding: 0 0 0 0;\n",
              "      width: 32px;\n",
              "    }\n",
              "\n",
              "    .colab-df-convert:hover {\n",
              "      background-color: #E2EBFA;\n",
              "      box-shadow: 0px 1px 2px rgba(60, 64, 67, 0.3), 0px 1px 3px 1px rgba(60, 64, 67, 0.15);\n",
              "      fill: #174EA6;\n",
              "    }\n",
              "\n",
              "    [theme=dark] .colab-df-convert {\n",
              "      background-color: #3B4455;\n",
              "      fill: #D2E3FC;\n",
              "    }\n",
              "\n",
              "    [theme=dark] .colab-df-convert:hover {\n",
              "      background-color: #434B5C;\n",
              "      box-shadow: 0px 1px 3px 1px rgba(0, 0, 0, 0.15);\n",
              "      filter: drop-shadow(0px 1px 2px rgba(0, 0, 0, 0.3));\n",
              "      fill: #FFFFFF;\n",
              "    }\n",
              "  </style>\n",
              "\n",
              "      <script>\n",
              "        const buttonEl =\n",
              "          document.querySelector('#df-1b99148c-d9f1-45a5-a0d5-bdd0bba07419 button.colab-df-convert');\n",
              "        buttonEl.style.display =\n",
              "          google.colab.kernel.accessAllowed ? 'block' : 'none';\n",
              "\n",
              "        async function convertToInteractive(key) {\n",
              "          const element = document.querySelector('#df-1b99148c-d9f1-45a5-a0d5-bdd0bba07419');\n",
              "          const dataTable =\n",
              "            await google.colab.kernel.invokeFunction('convertToInteractive',\n",
              "                                                     [key], {});\n",
              "          if (!dataTable) return;\n",
              "\n",
              "          const docLinkHtml = 'Like what you see? Visit the ' +\n",
              "            '<a target=\"_blank\" href=https://colab.research.google.com/notebooks/data_table.ipynb>data table notebook</a>'\n",
              "            + ' to learn more about interactive tables.';\n",
              "          element.innerHTML = '';\n",
              "          dataTable['output_type'] = 'display_data';\n",
              "          await google.colab.output.renderOutput(dataTable, element);\n",
              "          const docLink = document.createElement('div');\n",
              "          docLink.innerHTML = docLinkHtml;\n",
              "          element.appendChild(docLink);\n",
              "        }\n",
              "      </script>\n",
              "    </div>\n",
              "  </div>\n",
              "  "
            ]
          },
          "metadata": {},
          "execution_count": 9
        }
      ]
    },
    {
      "cell_type": "code",
      "source": [
        "df['mode'].value_counts()"
      ],
      "metadata": {
        "colab": {
          "base_uri": "https://localhost:8080/"
        },
        "id": "i-BwRuV-dlbB",
        "outputId": "b2243600-ed21-49b8-9163-7cc9042b46a3"
      },
      "execution_count": 10,
      "outputs": [
        {
          "output_type": "execute_result",
          "data": {
            "text/plain": [
              "train    80\n",
              "test     20\n",
              "Name: mode, dtype: int64"
            ]
          },
          "metadata": {},
          "execution_count": 10
        }
      ]
    },
    {
      "cell_type": "code",
      "source": [
        "df.to_csv('data.csv', index=False)"
      ],
      "metadata": {
        "id": "yE0ZevTRakrb"
      },
      "execution_count": 11,
      "outputs": []
    },
    {
      "cell_type": "code",
      "source": [
        "# save mnist images as files!\n",
        "\n",
        "# build folder\n",
        "! mkdir 'images'"
      ],
      "metadata": {
        "id": "7ZK2_kpuVsoJ"
      },
      "execution_count": 12,
      "outputs": []
    },
    {
      "cell_type": "code",
      "source": [
        "import imageio\n",
        "\n",
        "for i, image in enumerate(digits.images[:100]):\n",
        "    file_name = f'/content/images/{i}.jpg'\n",
        "    imageio.imwrite(file_name, image)"
      ],
      "metadata": {
        "colab": {
          "base_uri": "https://localhost:8080/"
        },
        "id": "YAAyU4dtWfaC",
        "outputId": "7b816d5b-8035-456d-e055-660e101c881d"
      },
      "execution_count": 13,
      "outputs": [
        {
          "output_type": "stream",
          "name": "stderr",
          "text": [
            "WARNING:imageio:Lossy conversion from float64 to uint8. Range [0.0, 15.0]. Convert image to uint8 prior to saving to suppress this warning.\n",
            "WARNING:imageio:Lossy conversion from float64 to uint8. Range [0.0, 16.0]. Convert image to uint8 prior to saving to suppress this warning.\n",
            "WARNING:imageio:Lossy conversion from float64 to uint8. Range [0.0, 16.0]. Convert image to uint8 prior to saving to suppress this warning.\n",
            "WARNING:imageio:Lossy conversion from float64 to uint8. Range [0.0, 15.0]. Convert image to uint8 prior to saving to suppress this warning.\n",
            "WARNING:imageio:Lossy conversion from float64 to uint8. Range [0.0, 16.0]. Convert image to uint8 prior to saving to suppress this warning.\n",
            "WARNING:imageio:Lossy conversion from float64 to uint8. Range [0.0, 16.0]. Convert image to uint8 prior to saving to suppress this warning.\n",
            "WARNING:imageio:Lossy conversion from float64 to uint8. Range [0.0, 16.0]. Convert image to uint8 prior to saving to suppress this warning.\n",
            "WARNING:imageio:Lossy conversion from float64 to uint8. Range [0.0, 16.0]. Convert image to uint8 prior to saving to suppress this warning.\n",
            "WARNING:imageio:Lossy conversion from float64 to uint8. Range [0.0, 16.0]. Convert image to uint8 prior to saving to suppress this warning.\n",
            "WARNING:imageio:Lossy conversion from float64 to uint8. Range [0.0, 16.0]. Convert image to uint8 prior to saving to suppress this warning.\n",
            "WARNING:imageio:Lossy conversion from float64 to uint8. Range [0.0, 16.0]. Convert image to uint8 prior to saving to suppress this warning.\n",
            "WARNING:imageio:Lossy conversion from float64 to uint8. Range [0.0, 16.0]. Convert image to uint8 prior to saving to suppress this warning.\n",
            "WARNING:imageio:Lossy conversion from float64 to uint8. Range [0.0, 16.0]. Convert image to uint8 prior to saving to suppress this warning.\n",
            "WARNING:imageio:Lossy conversion from float64 to uint8. Range [0.0, 16.0]. Convert image to uint8 prior to saving to suppress this warning.\n",
            "WARNING:imageio:Lossy conversion from float64 to uint8. Range [0.0, 16.0]. Convert image to uint8 prior to saving to suppress this warning.\n",
            "WARNING:imageio:Lossy conversion from float64 to uint8. Range [0.0, 16.0]. Convert image to uint8 prior to saving to suppress this warning.\n",
            "WARNING:imageio:Lossy conversion from float64 to uint8. Range [0.0, 16.0]. Convert image to uint8 prior to saving to suppress this warning.\n",
            "WARNING:imageio:Lossy conversion from float64 to uint8. Range [0.0, 16.0]. Convert image to uint8 prior to saving to suppress this warning.\n",
            "WARNING:imageio:Lossy conversion from float64 to uint8. Range [0.0, 16.0]. Convert image to uint8 prior to saving to suppress this warning.\n",
            "WARNING:imageio:Lossy conversion from float64 to uint8. Range [0.0, 16.0]. Convert image to uint8 prior to saving to suppress this warning.\n",
            "WARNING:imageio:Lossy conversion from float64 to uint8. Range [0.0, 16.0]. Convert image to uint8 prior to saving to suppress this warning.\n",
            "WARNING:imageio:Lossy conversion from float64 to uint8. Range [0.0, 16.0]. Convert image to uint8 prior to saving to suppress this warning.\n",
            "WARNING:imageio:Lossy conversion from float64 to uint8. Range [0.0, 16.0]. Convert image to uint8 prior to saving to suppress this warning.\n",
            "WARNING:imageio:Lossy conversion from float64 to uint8. Range [0.0, 15.0]. Convert image to uint8 prior to saving to suppress this warning.\n",
            "WARNING:imageio:Lossy conversion from float64 to uint8. Range [0.0, 16.0]. Convert image to uint8 prior to saving to suppress this warning.\n",
            "WARNING:imageio:Lossy conversion from float64 to uint8. Range [0.0, 16.0]. Convert image to uint8 prior to saving to suppress this warning.\n",
            "WARNING:imageio:Lossy conversion from float64 to uint8. Range [0.0, 16.0]. Convert image to uint8 prior to saving to suppress this warning.\n",
            "WARNING:imageio:Lossy conversion from float64 to uint8. Range [0.0, 16.0]. Convert image to uint8 prior to saving to suppress this warning.\n",
            "WARNING:imageio:Lossy conversion from float64 to uint8. Range [0.0, 16.0]. Convert image to uint8 prior to saving to suppress this warning.\n",
            "WARNING:imageio:Lossy conversion from float64 to uint8. Range [0.0, 16.0]. Convert image to uint8 prior to saving to suppress this warning.\n",
            "WARNING:imageio:Lossy conversion from float64 to uint8. Range [0.0, 16.0]. Convert image to uint8 prior to saving to suppress this warning.\n",
            "WARNING:imageio:Lossy conversion from float64 to uint8. Range [0.0, 16.0]. Convert image to uint8 prior to saving to suppress this warning.\n",
            "WARNING:imageio:Lossy conversion from float64 to uint8. Range [0.0, 16.0]. Convert image to uint8 prior to saving to suppress this warning.\n",
            "WARNING:imageio:Lossy conversion from float64 to uint8. Range [0.0, 16.0]. Convert image to uint8 prior to saving to suppress this warning.\n",
            "WARNING:imageio:Lossy conversion from float64 to uint8. Range [0.0, 16.0]. Convert image to uint8 prior to saving to suppress this warning.\n",
            "WARNING:imageio:Lossy conversion from float64 to uint8. Range [0.0, 16.0]. Convert image to uint8 prior to saving to suppress this warning.\n",
            "WARNING:imageio:Lossy conversion from float64 to uint8. Range [0.0, 16.0]. Convert image to uint8 prior to saving to suppress this warning.\n",
            "WARNING:imageio:Lossy conversion from float64 to uint8. Range [0.0, 16.0]. Convert image to uint8 prior to saving to suppress this warning.\n",
            "WARNING:imageio:Lossy conversion from float64 to uint8. Range [0.0, 16.0]. Convert image to uint8 prior to saving to suppress this warning.\n",
            "WARNING:imageio:Lossy conversion from float64 to uint8. Range [0.0, 16.0]. Convert image to uint8 prior to saving to suppress this warning.\n",
            "WARNING:imageio:Lossy conversion from float64 to uint8. Range [0.0, 16.0]. Convert image to uint8 prior to saving to suppress this warning.\n",
            "WARNING:imageio:Lossy conversion from float64 to uint8. Range [0.0, 16.0]. Convert image to uint8 prior to saving to suppress this warning.\n",
            "WARNING:imageio:Lossy conversion from float64 to uint8. Range [0.0, 16.0]. Convert image to uint8 prior to saving to suppress this warning.\n",
            "WARNING:imageio:Lossy conversion from float64 to uint8. Range [0.0, 16.0]. Convert image to uint8 prior to saving to suppress this warning.\n",
            "WARNING:imageio:Lossy conversion from float64 to uint8. Range [0.0, 16.0]. Convert image to uint8 prior to saving to suppress this warning.\n",
            "WARNING:imageio:Lossy conversion from float64 to uint8. Range [0.0, 16.0]. Convert image to uint8 prior to saving to suppress this warning.\n",
            "WARNING:imageio:Lossy conversion from float64 to uint8. Range [0.0, 16.0]. Convert image to uint8 prior to saving to suppress this warning.\n",
            "WARNING:imageio:Lossy conversion from float64 to uint8. Range [0.0, 16.0]. Convert image to uint8 prior to saving to suppress this warning.\n",
            "WARNING:imageio:Lossy conversion from float64 to uint8. Range [0.0, 16.0]. Convert image to uint8 prior to saving to suppress this warning.\n",
            "WARNING:imageio:Lossy conversion from float64 to uint8. Range [0.0, 16.0]. Convert image to uint8 prior to saving to suppress this warning.\n",
            "WARNING:imageio:Lossy conversion from float64 to uint8. Range [0.0, 16.0]. Convert image to uint8 prior to saving to suppress this warning.\n",
            "WARNING:imageio:Lossy conversion from float64 to uint8. Range [0.0, 16.0]. Convert image to uint8 prior to saving to suppress this warning.\n",
            "WARNING:imageio:Lossy conversion from float64 to uint8. Range [0.0, 16.0]. Convert image to uint8 prior to saving to suppress this warning.\n",
            "WARNING:imageio:Lossy conversion from float64 to uint8. Range [0.0, 16.0]. Convert image to uint8 prior to saving to suppress this warning.\n",
            "WARNING:imageio:Lossy conversion from float64 to uint8. Range [0.0, 16.0]. Convert image to uint8 prior to saving to suppress this warning.\n",
            "WARNING:imageio:Lossy conversion from float64 to uint8. Range [0.0, 16.0]. Convert image to uint8 prior to saving to suppress this warning.\n",
            "WARNING:imageio:Lossy conversion from float64 to uint8. Range [0.0, 16.0]. Convert image to uint8 prior to saving to suppress this warning.\n",
            "WARNING:imageio:Lossy conversion from float64 to uint8. Range [0.0, 16.0]. Convert image to uint8 prior to saving to suppress this warning.\n",
            "WARNING:imageio:Lossy conversion from float64 to uint8. Range [0.0, 16.0]. Convert image to uint8 prior to saving to suppress this warning.\n",
            "WARNING:imageio:Lossy conversion from float64 to uint8. Range [0.0, 16.0]. Convert image to uint8 prior to saving to suppress this warning.\n",
            "WARNING:imageio:Lossy conversion from float64 to uint8. Range [0.0, 16.0]. Convert image to uint8 prior to saving to suppress this warning.\n",
            "WARNING:imageio:Lossy conversion from float64 to uint8. Range [0.0, 16.0]. Convert image to uint8 prior to saving to suppress this warning.\n",
            "WARNING:imageio:Lossy conversion from float64 to uint8. Range [0.0, 16.0]. Convert image to uint8 prior to saving to suppress this warning.\n",
            "WARNING:imageio:Lossy conversion from float64 to uint8. Range [0.0, 16.0]. Convert image to uint8 prior to saving to suppress this warning.\n",
            "WARNING:imageio:Lossy conversion from float64 to uint8. Range [0.0, 16.0]. Convert image to uint8 prior to saving to suppress this warning.\n",
            "WARNING:imageio:Lossy conversion from float64 to uint8. Range [0.0, 16.0]. Convert image to uint8 prior to saving to suppress this warning.\n",
            "WARNING:imageio:Lossy conversion from float64 to uint8. Range [0.0, 16.0]. Convert image to uint8 prior to saving to suppress this warning.\n",
            "WARNING:imageio:Lossy conversion from float64 to uint8. Range [0.0, 16.0]. Convert image to uint8 prior to saving to suppress this warning.\n",
            "WARNING:imageio:Lossy conversion from float64 to uint8. Range [0.0, 16.0]. Convert image to uint8 prior to saving to suppress this warning.\n",
            "WARNING:imageio:Lossy conversion from float64 to uint8. Range [0.0, 16.0]. Convert image to uint8 prior to saving to suppress this warning.\n",
            "WARNING:imageio:Lossy conversion from float64 to uint8. Range [0.0, 16.0]. Convert image to uint8 prior to saving to suppress this warning.\n",
            "WARNING:imageio:Lossy conversion from float64 to uint8. Range [0.0, 16.0]. Convert image to uint8 prior to saving to suppress this warning.\n",
            "WARNING:imageio:Lossy conversion from float64 to uint8. Range [0.0, 16.0]. Convert image to uint8 prior to saving to suppress this warning.\n",
            "WARNING:imageio:Lossy conversion from float64 to uint8. Range [0.0, 16.0]. Convert image to uint8 prior to saving to suppress this warning.\n",
            "WARNING:imageio:Lossy conversion from float64 to uint8. Range [0.0, 16.0]. Convert image to uint8 prior to saving to suppress this warning.\n",
            "WARNING:imageio:Lossy conversion from float64 to uint8. Range [0.0, 16.0]. Convert image to uint8 prior to saving to suppress this warning.\n",
            "WARNING:imageio:Lossy conversion from float64 to uint8. Range [0.0, 16.0]. Convert image to uint8 prior to saving to suppress this warning.\n",
            "WARNING:imageio:Lossy conversion from float64 to uint8. Range [0.0, 16.0]. Convert image to uint8 prior to saving to suppress this warning.\n",
            "WARNING:imageio:Lossy conversion from float64 to uint8. Range [0.0, 16.0]. Convert image to uint8 prior to saving to suppress this warning.\n",
            "WARNING:imageio:Lossy conversion from float64 to uint8. Range [0.0, 16.0]. Convert image to uint8 prior to saving to suppress this warning.\n",
            "WARNING:imageio:Lossy conversion from float64 to uint8. Range [0.0, 16.0]. Convert image to uint8 prior to saving to suppress this warning.\n",
            "WARNING:imageio:Lossy conversion from float64 to uint8. Range [0.0, 16.0]. Convert image to uint8 prior to saving to suppress this warning.\n",
            "WARNING:imageio:Lossy conversion from float64 to uint8. Range [0.0, 16.0]. Convert image to uint8 prior to saving to suppress this warning.\n",
            "WARNING:imageio:Lossy conversion from float64 to uint8. Range [0.0, 16.0]. Convert image to uint8 prior to saving to suppress this warning.\n",
            "WARNING:imageio:Lossy conversion from float64 to uint8. Range [0.0, 16.0]. Convert image to uint8 prior to saving to suppress this warning.\n",
            "WARNING:imageio:Lossy conversion from float64 to uint8. Range [0.0, 16.0]. Convert image to uint8 prior to saving to suppress this warning.\n",
            "WARNING:imageio:Lossy conversion from float64 to uint8. Range [0.0, 16.0]. Convert image to uint8 prior to saving to suppress this warning.\n",
            "WARNING:imageio:Lossy conversion from float64 to uint8. Range [0.0, 16.0]. Convert image to uint8 prior to saving to suppress this warning.\n",
            "WARNING:imageio:Lossy conversion from float64 to uint8. Range [0.0, 16.0]. Convert image to uint8 prior to saving to suppress this warning.\n",
            "WARNING:imageio:Lossy conversion from float64 to uint8. Range [0.0, 16.0]. Convert image to uint8 prior to saving to suppress this warning.\n",
            "WARNING:imageio:Lossy conversion from float64 to uint8. Range [0.0, 16.0]. Convert image to uint8 prior to saving to suppress this warning.\n",
            "WARNING:imageio:Lossy conversion from float64 to uint8. Range [0.0, 16.0]. Convert image to uint8 prior to saving to suppress this warning.\n",
            "WARNING:imageio:Lossy conversion from float64 to uint8. Range [0.0, 16.0]. Convert image to uint8 prior to saving to suppress this warning.\n",
            "WARNING:imageio:Lossy conversion from float64 to uint8. Range [0.0, 16.0]. Convert image to uint8 prior to saving to suppress this warning.\n",
            "WARNING:imageio:Lossy conversion from float64 to uint8. Range [0.0, 16.0]. Convert image to uint8 prior to saving to suppress this warning.\n",
            "WARNING:imageio:Lossy conversion from float64 to uint8. Range [0.0, 16.0]. Convert image to uint8 prior to saving to suppress this warning.\n",
            "WARNING:imageio:Lossy conversion from float64 to uint8. Range [0.0, 16.0]. Convert image to uint8 prior to saving to suppress this warning.\n",
            "WARNING:imageio:Lossy conversion from float64 to uint8. Range [0.0, 16.0]. Convert image to uint8 prior to saving to suppress this warning.\n",
            "WARNING:imageio:Lossy conversion from float64 to uint8. Range [0.0, 16.0]. Convert image to uint8 prior to saving to suppress this warning.\n",
            "WARNING:imageio:Lossy conversion from float64 to uint8. Range [0.0, 16.0]. Convert image to uint8 prior to saving to suppress this warning.\n"
          ]
        }
      ]
    },
    {
      "cell_type": "code",
      "source": [
        "# build dataset\n",
        "from torch.utils.data import Dataset\n",
        "class CustomImageDataset(Dataset):\n",
        "    def __init__(self, data_path, mode):\n",
        "        self.data = pd.read_csv(data_path)\n",
        "        self.mode = mode\n",
        "        # filter train/test data\n",
        "        self.data = self.data[self.data['mode'] == self.mode]\n",
        "        self.data.reset_index(drop=True, inplace=True)\n",
        "\n",
        "    def __len__(self):\n",
        "        return len(self.data)\n",
        "\n",
        "    def __getitem__(self, idx):\n",
        "        record = self.data.iloc[idx]\n",
        "        image_path = record['file_name']\n",
        "        label = record['target']\n",
        "\n",
        "        if self.mode == 'train':\n",
        "            label_one_hot = [0.0]*10\n",
        "            label_one_hot[label] = 1\n",
        "        else:\n",
        "            label_one_hot = label\n",
        "\n",
        "        # read image file\n",
        "        # we can use different package like opencv,imageio,PIL,matplotlib,...\n",
        "        image_array = plt.imread(image_path)\n",
        "        image_array = image_array.reshape(64)\n",
        "\n",
        "        label_one_hot = torch.tensor(label_one_hot)\n",
        "        image_array = torch.tensor(image_array)\n",
        "        return image_array, label_one_hot"
      ],
      "metadata": {
        "id": "z1_fpHSbYS0r"
      },
      "execution_count": 14,
      "outputs": []
    },
    {
      "cell_type": "code",
      "source": [
        "data_path = '/content/data.csv'\n",
        "train_dataset = CustomImageDataset(data_path=data_path, mode='train')\n",
        "test_dataset = CustomImageDataset(data_path=data_path, mode='test')"
      ],
      "metadata": {
        "id": "XolqnOc7c2Zz"
      },
      "execution_count": 15,
      "outputs": []
    },
    {
      "cell_type": "code",
      "source": [
        "next(iter(train_dataset))"
      ],
      "metadata": {
        "colab": {
          "base_uri": "https://localhost:8080/"
        },
        "id": "E539RM0vfMtM",
        "outputId": "10292d7f-8e02-490c-fc53-147af5bcdd9f"
      },
      "execution_count": 18,
      "outputs": [
        {
          "output_type": "execute_result",
          "data": {
            "text/plain": [
              "(tensor([  0,   2,  88, 217, 158,  21,   0,   0,  16,   0, 228, 236, 166, 253,\n",
              "          95,   0,   0,  41, 255,  44,  11, 182, 132,   3,  11,  80, 220,   0,\n",
              "           2, 143, 133,   5,   6,  71, 122,   0,   5, 155, 140,   0,   0,  76,\n",
              "         194,   0,  26, 207, 105,  15,   0,  18, 255,  83, 146, 211,   4,   0,\n",
              "           4,   3,  87, 228, 182,   0,   9,   2], dtype=torch.uint8),\n",
              " tensor([1., 0., 0., 0., 0., 0., 0., 0., 0., 0.]))"
            ]
          },
          "metadata": {},
          "execution_count": 18
        }
      ]
    },
    {
      "cell_type": "code",
      "source": [
        "next(iter(test_dataset))"
      ],
      "metadata": {
        "colab": {
          "base_uri": "https://localhost:8080/"
        },
        "id": "UPrmagSgfQDK",
        "outputId": "8a83f6bf-53f4-462c-dedb-caa490042ec6"
      },
      "execution_count": 19,
      "outputs": [
        {
          "output_type": "execute_result",
          "data": {
            "text/plain": [
              "(tensor([  0,   7, 145, 223, 128,  13,   0,   2,   0,   0, 204, 215, 228, 199,\n",
              "           5,   0,   3,   5, 128, 164,   0, 231,  59,  10,   0,   0,  74, 241,\n",
              "         186, 238,  38,   0,   7,   0,  69, 255, 255,  13,  15,  14,   1,  53,\n",
              "         238, 126, 159, 207,  21,   3,   0,  19, 248,  29,  43, 255, 133,   0,\n",
              "           0,   3, 169, 249, 245, 163,  26,   1], dtype=torch.uint8),\n",
              " tensor(8))"
            ]
          },
          "metadata": {},
          "execution_count": 19
        }
      ]
    },
    {
      "cell_type": "code",
      "source": [
        "from torch.utils.data import DataLoader\n",
        "train_dataloader = DataLoader(train_dataset, batch_size=5, shuffle=True)\n",
        "test_dataloader = DataLoader(test_dataset, batch_size=20, shuffle=True)"
      ],
      "metadata": {
        "id": "GaEg1SMWh_5A"
      },
      "execution_count": 20,
      "outputs": []
    },
    {
      "cell_type": "code",
      "source": [
        "# build network !\n",
        "import torch.nn as nn\n",
        "class NeuralNetwork(torch.nn.Module):\n",
        "    def __init__(self):\n",
        "        super().__init__()\n",
        "        self.hidden = torch.nn.Linear(64, 32)\n",
        "        self.sigmoid = torch.nn.Sigmoid()\n",
        "        self.hidden1 = torch.nn.Linear(32, 16)\n",
        "        # Output layer \n",
        "        self.output = torch.nn.Linear(16, 10)\n",
        "        \n",
        "    def forward(self, x):\n",
        "        x = x.to(torch.float32)\n",
        "        x = self.hidden(x) \n",
        "        x = self.sigmoid(x)\n",
        "        x = self.hidden1(x)\n",
        "        x = self.output(x)\n",
        "        return x"
      ],
      "metadata": {
        "id": "nMEeNv9jgUbg"
      },
      "execution_count": 21,
      "outputs": []
    },
    {
      "cell_type": "code",
      "source": [
        "net = NeuralNetwork()\n",
        "net"
      ],
      "metadata": {
        "colab": {
          "base_uri": "https://localhost:8080/"
        },
        "id": "CCLmqU00hvgy",
        "outputId": "90be8c55-7d98-413e-a59c-4476229ce0ed"
      },
      "execution_count": 22,
      "outputs": [
        {
          "output_type": "execute_result",
          "data": {
            "text/plain": [
              "NeuralNetwork(\n",
              "  (hidden): Linear(in_features=64, out_features=32, bias=True)\n",
              "  (sigmoid): Sigmoid()\n",
              "  (hidden1): Linear(in_features=32, out_features=16, bias=True)\n",
              "  (output): Linear(in_features=16, out_features=10, bias=True)\n",
              ")"
            ]
          },
          "metadata": {},
          "execution_count": 22
        }
      ]
    },
    {
      "cell_type": "code",
      "source": [
        "import torch.optim as optim\n",
        "\n",
        "criterion = nn.CrossEntropyLoss()\n",
        "optimizer = optim.SGD(net.parameters(), lr=0.001, momentum=0.9)"
      ],
      "metadata": {
        "id": "zS2OSaONhsoy"
      },
      "execution_count": 23,
      "outputs": []
    },
    {
      "cell_type": "code",
      "source": [
        "device = torch.device('cuda:0' if torch.cuda.is_available() else 'cpu')\n",
        "\n",
        "# Assuming that we are on a CUDA machine, this should print a CUDA device:\n",
        "\n",
        "print(device)"
      ],
      "metadata": {
        "colab": {
          "base_uri": "https://localhost:8080/"
        },
        "id": "iROP4zpnkLt6",
        "outputId": "15c283a7-ff13-4b28-dad1-24651408b697"
      },
      "execution_count": 25,
      "outputs": [
        {
          "output_type": "stream",
          "name": "stdout",
          "text": [
            "cuda:0\n"
          ]
        }
      ]
    },
    {
      "cell_type": "code",
      "source": [
        "# if we can gpu, let use it!\n",
        "net.to(device)"
      ],
      "metadata": {
        "colab": {
          "base_uri": "https://localhost:8080/"
        },
        "id": "ZqlbXqlIkOHS",
        "outputId": "65e1e816-18bf-4951-d1d0-beb457f1295e"
      },
      "execution_count": 26,
      "outputs": [
        {
          "output_type": "execute_result",
          "data": {
            "text/plain": [
              "NeuralNetwork(\n",
              "  (hidden): Linear(in_features=64, out_features=32, bias=True)\n",
              "  (sigmoid): Sigmoid()\n",
              "  (hidden1): Linear(in_features=32, out_features=16, bias=True)\n",
              "  (output): Linear(in_features=16, out_features=10, bias=True)\n",
              ")"
            ]
          },
          "metadata": {},
          "execution_count": 26
        }
      ]
    },
    {
      "cell_type": "code",
      "source": [
        "no_epochs = 10\n",
        "for epoch in range(no_epochs):\n",
        "    for i, data in enumerate(train_dataloader, 0):\n",
        "        # get the inputs; data is a list of [inputs, labels]\n",
        "        inputs, labels = data\n",
        "        inputs = inputs.to(device)\n",
        "        labels = labels.to(device)\n",
        "        # zero the parameter gradients\n",
        "        optimizer.zero_grad()\n",
        "\n",
        "        # forward + backward + optimize\n",
        "        outputs = net(inputs)\n",
        "        loss = criterion(outputs, labels)\n",
        "        loss.backward()\n",
        "        optimizer.step()\n",
        "\n",
        "        print(f'epoch:{epoch + 1}, batch: {i+1},  loss: {loss.item()}')"
      ],
      "metadata": {
        "colab": {
          "base_uri": "https://localhost:8080/"
        },
        "id": "laWiyRoxh5f-",
        "outputId": "7495888f-fc98-4ba6-a0f3-2e5607c5ce70"
      },
      "execution_count": 27,
      "outputs": [
        {
          "output_type": "stream",
          "name": "stdout",
          "text": [
            "epoch:1, batch: 1,  loss: 2.1908631324768066\n",
            "epoch:1, batch: 2,  loss: 2.224562168121338\n",
            "epoch:1, batch: 3,  loss: 2.406986951828003\n",
            "epoch:1, batch: 4,  loss: 2.4482572078704834\n",
            "epoch:1, batch: 5,  loss: 2.319631338119507\n",
            "epoch:1, batch: 6,  loss: 2.207183599472046\n",
            "epoch:1, batch: 7,  loss: 2.2555484771728516\n",
            "epoch:1, batch: 8,  loss: 2.279235601425171\n",
            "epoch:1, batch: 9,  loss: 2.2593040466308594\n",
            "epoch:1, batch: 10,  loss: 2.286088705062866\n",
            "epoch:1, batch: 11,  loss: 2.545666456222534\n",
            "epoch:1, batch: 12,  loss: 2.4073219299316406\n",
            "epoch:1, batch: 13,  loss: 2.331043004989624\n",
            "epoch:1, batch: 14,  loss: 2.3777008056640625\n",
            "epoch:1, batch: 15,  loss: 2.261925458908081\n",
            "epoch:1, batch: 16,  loss: 2.1023812294006348\n",
            "epoch:2, batch: 1,  loss: 2.1612069606781006\n",
            "epoch:2, batch: 2,  loss: 2.2677056789398193\n",
            "epoch:2, batch: 3,  loss: 2.446007490158081\n",
            "epoch:2, batch: 4,  loss: 2.2930259704589844\n",
            "epoch:2, batch: 5,  loss: 2.2307610511779785\n",
            "epoch:2, batch: 6,  loss: 2.1262547969818115\n",
            "epoch:2, batch: 7,  loss: 2.174713373184204\n",
            "epoch:2, batch: 8,  loss: 2.4077744483947754\n",
            "epoch:2, batch: 9,  loss: 2.1118643283843994\n",
            "epoch:2, batch: 10,  loss: 2.1846072673797607\n",
            "epoch:2, batch: 11,  loss: 2.208353042602539\n",
            "epoch:2, batch: 12,  loss: 2.111048936843872\n",
            "epoch:2, batch: 13,  loss: 2.3346307277679443\n",
            "epoch:2, batch: 14,  loss: 2.375053644180298\n",
            "epoch:2, batch: 15,  loss: 2.3144726753234863\n",
            "epoch:2, batch: 16,  loss: 2.29840350151062\n",
            "epoch:3, batch: 1,  loss: 2.3953609466552734\n",
            "epoch:3, batch: 2,  loss: 2.074617624282837\n",
            "epoch:3, batch: 3,  loss: 2.0533435344696045\n",
            "epoch:3, batch: 4,  loss: 2.272300958633423\n",
            "epoch:3, batch: 5,  loss: 2.291416883468628\n",
            "epoch:3, batch: 6,  loss: 2.365598678588867\n",
            "epoch:3, batch: 7,  loss: 2.2665815353393555\n",
            "epoch:3, batch: 8,  loss: 2.2684059143066406\n",
            "epoch:3, batch: 9,  loss: 2.0873420238494873\n",
            "epoch:3, batch: 10,  loss: 2.2886240482330322\n",
            "epoch:3, batch: 11,  loss: 2.3690507411956787\n",
            "epoch:3, batch: 12,  loss: 2.2202694416046143\n",
            "epoch:3, batch: 13,  loss: 2.313382863998413\n",
            "epoch:3, batch: 14,  loss: 2.104445457458496\n",
            "epoch:3, batch: 15,  loss: 2.260211706161499\n",
            "epoch:3, batch: 16,  loss: 2.050424575805664\n",
            "epoch:4, batch: 1,  loss: 2.464210271835327\n",
            "epoch:4, batch: 2,  loss: 2.3058598041534424\n",
            "epoch:4, batch: 3,  loss: 2.3367178440093994\n",
            "epoch:4, batch: 4,  loss: 2.1102194786071777\n",
            "epoch:4, batch: 5,  loss: 2.1745903491973877\n",
            "epoch:4, batch: 6,  loss: 2.1484971046447754\n",
            "epoch:4, batch: 7,  loss: 2.1926991939544678\n",
            "epoch:4, batch: 8,  loss: 2.150862216949463\n",
            "epoch:4, batch: 9,  loss: 1.9954556226730347\n",
            "epoch:4, batch: 10,  loss: 2.0690479278564453\n",
            "epoch:4, batch: 11,  loss: 2.132089853286743\n",
            "epoch:4, batch: 12,  loss: 2.0676677227020264\n",
            "epoch:4, batch: 13,  loss: 2.3002305030822754\n",
            "epoch:4, batch: 14,  loss: 2.38397479057312\n",
            "epoch:4, batch: 15,  loss: 2.123269557952881\n",
            "epoch:4, batch: 16,  loss: 2.004640579223633\n",
            "epoch:5, batch: 1,  loss: 2.1065430641174316\n",
            "epoch:5, batch: 2,  loss: 2.1438424587249756\n",
            "epoch:5, batch: 3,  loss: 2.191101312637329\n",
            "epoch:5, batch: 4,  loss: 2.313643217086792\n",
            "epoch:5, batch: 5,  loss: 2.162065267562866\n",
            "epoch:5, batch: 6,  loss: 2.1472058296203613\n",
            "epoch:5, batch: 7,  loss: 2.22294020652771\n",
            "epoch:5, batch: 8,  loss: 2.1290218830108643\n",
            "epoch:5, batch: 9,  loss: 2.1258203983306885\n",
            "epoch:5, batch: 10,  loss: 2.240772008895874\n",
            "epoch:5, batch: 11,  loss: 2.1791350841522217\n",
            "epoch:5, batch: 12,  loss: 2.0856432914733887\n",
            "epoch:5, batch: 13,  loss: 2.0481395721435547\n",
            "epoch:5, batch: 14,  loss: 1.9638092517852783\n",
            "epoch:5, batch: 15,  loss: 2.2188031673431396\n",
            "epoch:5, batch: 16,  loss: 2.0778210163116455\n",
            "epoch:6, batch: 1,  loss: 2.144806146621704\n",
            "epoch:6, batch: 2,  loss: 1.9162601232528687\n",
            "epoch:6, batch: 3,  loss: 2.0913197994232178\n",
            "epoch:6, batch: 4,  loss: 2.2266457080841064\n",
            "epoch:6, batch: 5,  loss: 1.9286491870880127\n",
            "epoch:6, batch: 6,  loss: 2.006355047225952\n",
            "epoch:6, batch: 7,  loss: 2.143359899520874\n",
            "epoch:6, batch: 8,  loss: 2.02276873588562\n",
            "epoch:6, batch: 9,  loss: 2.2432315349578857\n",
            "epoch:6, batch: 10,  loss: 2.1693453788757324\n",
            "epoch:6, batch: 11,  loss: 2.2603983879089355\n",
            "epoch:6, batch: 12,  loss: 2.103860855102539\n",
            "epoch:6, batch: 13,  loss: 2.0979373455047607\n",
            "epoch:6, batch: 14,  loss: 2.1934289932250977\n",
            "epoch:6, batch: 15,  loss: 2.1618306636810303\n",
            "epoch:6, batch: 16,  loss: 2.1570911407470703\n",
            "epoch:7, batch: 1,  loss: 1.9818881750106812\n",
            "epoch:7, batch: 2,  loss: 2.334798574447632\n",
            "epoch:7, batch: 3,  loss: 2.0481016635894775\n",
            "epoch:7, batch: 4,  loss: 2.0699918270111084\n",
            "epoch:7, batch: 5,  loss: 2.1774942874908447\n",
            "epoch:7, batch: 6,  loss: 2.181626558303833\n",
            "epoch:7, batch: 7,  loss: 2.166632652282715\n",
            "epoch:7, batch: 8,  loss: 1.9819879531860352\n",
            "epoch:7, batch: 9,  loss: 1.9898792505264282\n",
            "epoch:7, batch: 10,  loss: 2.0292041301727295\n",
            "epoch:7, batch: 11,  loss: 2.022294282913208\n",
            "epoch:7, batch: 12,  loss: 2.221928358078003\n",
            "epoch:7, batch: 13,  loss: 1.9757635593414307\n",
            "epoch:7, batch: 14,  loss: 2.09120774269104\n",
            "epoch:7, batch: 15,  loss: 2.0597217082977295\n",
            "epoch:7, batch: 16,  loss: 2.1298887729644775\n",
            "epoch:8, batch: 1,  loss: 2.0941884517669678\n",
            "epoch:8, batch: 2,  loss: 2.136359214782715\n",
            "epoch:8, batch: 3,  loss: 1.9520286321640015\n",
            "epoch:8, batch: 4,  loss: 2.267650604248047\n",
            "epoch:8, batch: 5,  loss: 2.1401755809783936\n",
            "epoch:8, batch: 6,  loss: 1.916703462600708\n",
            "epoch:8, batch: 7,  loss: 2.0482423305511475\n",
            "epoch:8, batch: 8,  loss: 1.917816162109375\n",
            "epoch:8, batch: 9,  loss: 2.0706393718719482\n",
            "epoch:8, batch: 10,  loss: 2.071678638458252\n",
            "epoch:8, batch: 11,  loss: 2.1015563011169434\n",
            "epoch:8, batch: 12,  loss: 1.9428249597549438\n",
            "epoch:8, batch: 13,  loss: 2.277313709259033\n",
            "epoch:8, batch: 14,  loss: 1.9660637378692627\n",
            "epoch:8, batch: 15,  loss: 2.267744541168213\n",
            "epoch:8, batch: 16,  loss: 2.0209202766418457\n",
            "epoch:9, batch: 1,  loss: 1.977026343345642\n",
            "epoch:9, batch: 2,  loss: 1.980362892150879\n",
            "epoch:9, batch: 3,  loss: 2.0005500316619873\n",
            "epoch:9, batch: 4,  loss: 2.1845550537109375\n",
            "epoch:9, batch: 5,  loss: 1.9319108724594116\n",
            "epoch:9, batch: 6,  loss: 2.2868587970733643\n",
            "epoch:9, batch: 7,  loss: 2.0340218544006348\n",
            "epoch:9, batch: 8,  loss: 2.094358444213867\n",
            "epoch:9, batch: 9,  loss: 2.0003163814544678\n",
            "epoch:9, batch: 10,  loss: 2.023909330368042\n",
            "epoch:9, batch: 11,  loss: 2.0238759517669678\n",
            "epoch:9, batch: 12,  loss: 2.014430284500122\n",
            "epoch:9, batch: 13,  loss: 2.0417122840881348\n",
            "epoch:9, batch: 14,  loss: 2.031055450439453\n",
            "epoch:9, batch: 15,  loss: 1.9574825763702393\n",
            "epoch:9, batch: 16,  loss: 2.12681245803833\n",
            "epoch:10, batch: 1,  loss: 2.175635576248169\n",
            "epoch:10, batch: 2,  loss: 2.1380021572113037\n",
            "epoch:10, batch: 3,  loss: 1.9599369764328003\n",
            "epoch:10, batch: 4,  loss: 1.9095171689987183\n",
            "epoch:10, batch: 5,  loss: 2.0523219108581543\n",
            "epoch:10, batch: 6,  loss: 1.9941107034683228\n",
            "epoch:10, batch: 7,  loss: 1.8930692672729492\n",
            "epoch:10, batch: 8,  loss: 1.8279964923858643\n",
            "epoch:10, batch: 9,  loss: 1.901199221611023\n",
            "epoch:10, batch: 10,  loss: 2.0580239295959473\n",
            "epoch:10, batch: 11,  loss: 2.076740026473999\n",
            "epoch:10, batch: 12,  loss: 2.0451810359954834\n",
            "epoch:10, batch: 13,  loss: 1.9357643127441406\n",
            "epoch:10, batch: 14,  loss: 1.924949049949646\n",
            "epoch:10, batch: 15,  loss: 2.1606929302215576\n",
            "epoch:10, batch: 16,  loss: 2.0498740673065186\n"
          ]
        }
      ]
    },
    {
      "cell_type": "code",
      "source": [
        "# lets visualize network graph\n",
        "!brew install graphviz\n",
        "!pip install torchviz"
      ],
      "metadata": {
        "colab": {
          "base_uri": "https://localhost:8080/"
        },
        "id": "7llth8VHlbe0",
        "outputId": "820458cd-ef36-4ba3-af42-8101cfb8f643"
      },
      "execution_count": 123,
      "outputs": [
        {
          "output_type": "stream",
          "name": "stdout",
          "text": [
            "/bin/bash: brew: command not found\n",
            "Looking in indexes: https://pypi.org/simple, https://us-python.pkg.dev/colab-wheels/public/simple/\n",
            "Collecting torchviz\n",
            "  Downloading torchviz-0.0.2.tar.gz (4.9 kB)\n",
            "  Preparing metadata (setup.py) ... \u001b[?25l\u001b[?25hdone\n",
            "Requirement already satisfied: torch in /usr/local/lib/python3.8/dist-packages (from torchviz) (1.13.1+cu116)\n",
            "Requirement already satisfied: graphviz in /usr/local/lib/python3.8/dist-packages (from torchviz) (0.10.1)\n",
            "Requirement already satisfied: typing-extensions in /usr/local/lib/python3.8/dist-packages (from torch->torchviz) (4.5.0)\n",
            "Building wheels for collected packages: torchviz\n",
            "  Building wheel for torchviz (setup.py) ... \u001b[?25l\u001b[?25hdone\n",
            "  Created wheel for torchviz: filename=torchviz-0.0.2-py3-none-any.whl size=4151 sha256=030220c2b38c9333a7a7d7090dea5d04906438c9890c83b4647d7e3b3b323480\n",
            "  Stored in directory: /root/.cache/pip/wheels/05/7d/1b/8306781244e42ede119edbb053bdcda1c1f424ca226165a417\n",
            "Successfully built torchviz\n",
            "Installing collected packages: torchviz\n",
            "Successfully installed torchviz-0.0.2\n"
          ]
        }
      ]
    },
    {
      "cell_type": "code",
      "source": [
        "from torchviz import make_dot\n",
        "image = next(iter(train_dataset))[0]\n",
        "image = image.to(device)\n",
        "output = net(image)\n",
        "make_dot(output, params=dict(net.named_parameters()))"
      ],
      "metadata": {
        "colab": {
          "base_uri": "https://localhost:8080/",
          "height": 1000
        },
        "id": "GO5cC9T-lb07",
        "outputId": "335ce06b-3447-4a67-a23b-35a73426fdac"
      },
      "execution_count": 124,
      "outputs": [
        {
          "output_type": "execute_result",
          "data": {
            "text/plain": [
              "<graphviz.dot.Digraph at 0x7f3770878d90>"
            ],
            "image/svg+xml": "<?xml version=\"1.0\" encoding=\"UTF-8\" standalone=\"no\"?>\n<!DOCTYPE svg PUBLIC \"-//W3C//DTD SVG 1.1//EN\"\n \"http://www.w3.org/Graphics/SVG/1.1/DTD/svg11.dtd\">\n<!-- Generated by graphviz version 2.43.0 (0)\n -->\n<!-- Title: %3 Pages: 1 -->\n<svg width=\"507pt\" height=\"864pt\"\n viewBox=\"0.00 0.00 507.25 864.00\" xmlns=\"http://www.w3.org/2000/svg\" xmlns:xlink=\"http://www.w3.org/1999/xlink\">\n<g id=\"graph0\" class=\"graph\" transform=\"scale(1.08 1.08) rotate(0) translate(4 926)\">\n<title>%3</title>\n<polygon fill=\"white\" stroke=\"transparent\" points=\"-4,4 -4,-926 542,-926 542,4 -4,4\"/>\n<!-- 139878729281184 -->\n<g id=\"node1\" class=\"node\">\n<title>139878729281184</title>\n<polygon fill=\"#caff70\" stroke=\"black\" points=\"451.5,-31 397.5,-31 397.5,0 451.5,0 451.5,-31\"/>\n<text text-anchor=\"middle\" x=\"424.5\" y=\"-7\" font-family=\"monospace\" font-size=\"10.00\"> (10)</text>\n</g>\n<!-- 139876087764064 -->\n<g id=\"node2\" class=\"node\">\n<title>139876087764064</title>\n<polygon fill=\"lightgrey\" stroke=\"black\" points=\"469,-86 380,-86 380,-67 469,-67 469,-86\"/>\n<text text-anchor=\"middle\" x=\"424.5\" y=\"-74\" font-family=\"monospace\" font-size=\"10.00\">AddBackward0</text>\n</g>\n<!-- 139876087764064&#45;&gt;139878729281184 -->\n<g id=\"edge27\" class=\"edge\">\n<title>139876087764064&#45;&gt;139878729281184</title>\n<path fill=\"none\" stroke=\"black\" d=\"M424.5,-66.79C424.5,-60.07 424.5,-50.4 424.5,-41.34\"/>\n<polygon fill=\"black\" stroke=\"black\" points=\"428,-41.19 424.5,-31.19 421,-41.19 428,-41.19\"/>\n</g>\n<!-- 139876087763632 -->\n<g id=\"node3\" class=\"node\">\n<title>139876087763632</title>\n<polygon fill=\"lightgrey\" stroke=\"black\" points=\"419,-141 306,-141 306,-122 419,-122 419,-141\"/>\n<text text-anchor=\"middle\" x=\"362.5\" y=\"-129\" font-family=\"monospace\" font-size=\"10.00\">SqueezeBackward3</text>\n</g>\n<!-- 139876087763632&#45;&gt;139876087764064 -->\n<g id=\"edge1\" class=\"edge\">\n<title>139876087763632&#45;&gt;139876087764064</title>\n<path fill=\"none\" stroke=\"black\" d=\"M372.46,-121.98C381.63,-114.15 395.44,-102.34 406.53,-92.86\"/>\n<polygon fill=\"black\" stroke=\"black\" points=\"409.03,-95.33 414.36,-86.17 404.48,-90.01 409.03,-95.33\"/>\n</g>\n<!-- 139876087763056 -->\n<g id=\"node4\" class=\"node\">\n<title>139876087763056</title>\n<polygon fill=\"lightgrey\" stroke=\"black\" points=\"404,-201.5 321,-201.5 321,-182.5 404,-182.5 404,-201.5\"/>\n<text text-anchor=\"middle\" x=\"362.5\" y=\"-189.5\" font-family=\"monospace\" font-size=\"10.00\">MmBackward0</text>\n</g>\n<!-- 139876087763056&#45;&gt;139876087763632 -->\n<g id=\"edge2\" class=\"edge\">\n<title>139876087763056&#45;&gt;139876087763632</title>\n<path fill=\"none\" stroke=\"black\" d=\"M362.5,-182.37C362.5,-174.25 362.5,-161.81 362.5,-151.39\"/>\n<polygon fill=\"black\" stroke=\"black\" points=\"366,-151.17 362.5,-141.17 359,-151.17 366,-151.17\"/>\n</g>\n<!-- 139876087763152 -->\n<g id=\"node5\" class=\"node\">\n<title>139876087763152</title>\n<polygon fill=\"lightgrey\" stroke=\"black\" points=\"366,-262 241,-262 241,-243 366,-243 366,-262\"/>\n<text text-anchor=\"middle\" x=\"303.5\" y=\"-250\" font-family=\"monospace\" font-size=\"10.00\">UnsqueezeBackward0</text>\n</g>\n<!-- 139876087763152&#45;&gt;139876087763056 -->\n<g id=\"edge3\" class=\"edge\">\n<title>139876087763152&#45;&gt;139876087763056</title>\n<path fill=\"none\" stroke=\"black\" d=\"M312.21,-242.87C321.18,-233.97 335.38,-219.89 346.41,-208.95\"/>\n<polygon fill=\"black\" stroke=\"black\" points=\"349.12,-211.19 353.76,-201.67 344.19,-206.22 349.12,-211.19\"/>\n</g>\n<!-- 139876087764352 -->\n<g id=\"node6\" class=\"node\">\n<title>139876087764352</title>\n<polygon fill=\"lightgrey\" stroke=\"black\" points=\"348,-317 259,-317 259,-298 348,-298 348,-317\"/>\n<text text-anchor=\"middle\" x=\"303.5\" y=\"-305\" font-family=\"monospace\" font-size=\"10.00\">AddBackward0</text>\n</g>\n<!-- 139876087764352&#45;&gt;139876087763152 -->\n<g id=\"edge4\" class=\"edge\">\n<title>139876087764352&#45;&gt;139876087763152</title>\n<path fill=\"none\" stroke=\"black\" d=\"M303.5,-297.75C303.5,-290.8 303.5,-280.85 303.5,-272.13\"/>\n<polygon fill=\"black\" stroke=\"black\" points=\"307,-272.09 303.5,-262.09 300,-272.09 307,-272.09\"/>\n</g>\n<!-- 139876087764448 -->\n<g id=\"node7\" class=\"node\">\n<title>139876087764448</title>\n<polygon fill=\"lightgrey\" stroke=\"black\" points=\"237,-377.5 124,-377.5 124,-358.5 237,-358.5 237,-377.5\"/>\n<text text-anchor=\"middle\" x=\"180.5\" y=\"-365.5\" font-family=\"monospace\" font-size=\"10.00\">SqueezeBackward3</text>\n</g>\n<!-- 139876087764448&#45;&gt;139876087764352 -->\n<g id=\"edge5\" class=\"edge\">\n<title>139876087764448&#45;&gt;139876087764352</title>\n<path fill=\"none\" stroke=\"black\" d=\"M198.39,-358.49C218.88,-348.75 252.69,-332.66 276.42,-321.38\"/>\n<polygon fill=\"black\" stroke=\"black\" points=\"278.07,-324.47 285.59,-317.02 275.06,-318.15 278.07,-324.47\"/>\n</g>\n<!-- 139876087765312 -->\n<g id=\"node8\" class=\"node\">\n<title>139876087765312</title>\n<polygon fill=\"lightgrey\" stroke=\"black\" points=\"222,-443.5 139,-443.5 139,-424.5 222,-424.5 222,-443.5\"/>\n<text text-anchor=\"middle\" x=\"180.5\" y=\"-431.5\" font-family=\"monospace\" font-size=\"10.00\">MmBackward0</text>\n</g>\n<!-- 139876087765312&#45;&gt;139876087764448 -->\n<g id=\"edge6\" class=\"edge\">\n<title>139876087765312&#45;&gt;139876087764448</title>\n<path fill=\"none\" stroke=\"black\" d=\"M180.5,-424.37C180.5,-415.16 180.5,-400.29 180.5,-388.27\"/>\n<polygon fill=\"black\" stroke=\"black\" points=\"184,-387.91 180.5,-377.91 177,-387.91 184,-387.91\"/>\n</g>\n<!-- 139876087764496 -->\n<g id=\"node9\" class=\"node\">\n<title>139876087764496</title>\n<polygon fill=\"lightgrey\" stroke=\"black\" points=\"184,-504 59,-504 59,-485 184,-485 184,-504\"/>\n<text text-anchor=\"middle\" x=\"121.5\" y=\"-492\" font-family=\"monospace\" font-size=\"10.00\">UnsqueezeBackward0</text>\n</g>\n<!-- 139876087764496&#45;&gt;139876087765312 -->\n<g id=\"edge7\" class=\"edge\">\n<title>139876087764496&#45;&gt;139876087765312</title>\n<path fill=\"none\" stroke=\"black\" d=\"M130.21,-484.87C139.18,-475.97 153.38,-461.89 164.41,-450.95\"/>\n<polygon fill=\"black\" stroke=\"black\" points=\"167.12,-453.19 171.76,-443.67 162.19,-448.22 167.12,-453.19\"/>\n</g>\n<!-- 139876087765648 -->\n<g id=\"node10\" class=\"node\">\n<title>139876087765648</title>\n<polygon fill=\"lightgrey\" stroke=\"black\" points=\"175,-559 62,-559 62,-540 175,-540 175,-559\"/>\n<text text-anchor=\"middle\" x=\"118.5\" y=\"-547\" font-family=\"monospace\" font-size=\"10.00\">SigmoidBackward0</text>\n</g>\n<!-- 139876087765648&#45;&gt;139876087764496 -->\n<g id=\"edge8\" class=\"edge\">\n<title>139876087765648&#45;&gt;139876087764496</title>\n<path fill=\"none\" stroke=\"black\" d=\"M119,-539.75C119.39,-532.8 119.95,-522.85 120.45,-514.13\"/>\n<polygon fill=\"black\" stroke=\"black\" points=\"123.94,-514.27 121.01,-504.09 116.95,-513.88 123.94,-514.27\"/>\n</g>\n<!-- 139876087765456 -->\n<g id=\"node11\" class=\"node\">\n<title>139876087765456</title>\n<polygon fill=\"lightgrey\" stroke=\"black\" points=\"163,-619.5 74,-619.5 74,-600.5 163,-600.5 163,-619.5\"/>\n<text text-anchor=\"middle\" x=\"118.5\" y=\"-607.5\" font-family=\"monospace\" font-size=\"10.00\">AddBackward0</text>\n</g>\n<!-- 139876087765456&#45;&gt;139876087765648 -->\n<g id=\"edge9\" class=\"edge\">\n<title>139876087765456&#45;&gt;139876087765648</title>\n<path fill=\"none\" stroke=\"black\" d=\"M118.5,-600.37C118.5,-592.25 118.5,-579.81 118.5,-569.39\"/>\n<polygon fill=\"black\" stroke=\"black\" points=\"122,-569.17 118.5,-559.17 115,-569.17 122,-569.17\"/>\n</g>\n<!-- 139876087764208 -->\n<g id=\"node12\" class=\"node\">\n<title>139876087764208</title>\n<polygon fill=\"lightgrey\" stroke=\"black\" points=\"113,-680 0,-680 0,-661 113,-661 113,-680\"/>\n<text text-anchor=\"middle\" x=\"56.5\" y=\"-668\" font-family=\"monospace\" font-size=\"10.00\">SqueezeBackward3</text>\n</g>\n<!-- 139876087764208&#45;&gt;139876087765456 -->\n<g id=\"edge10\" class=\"edge\">\n<title>139876087764208&#45;&gt;139876087765456</title>\n<path fill=\"none\" stroke=\"black\" d=\"M65.65,-660.87C75.17,-651.88 90.3,-637.61 101.93,-626.64\"/>\n<polygon fill=\"black\" stroke=\"black\" points=\"104.44,-629.08 109.31,-619.67 99.64,-623.98 104.44,-629.08\"/>\n</g>\n<!-- 139876087766896 -->\n<g id=\"node13\" class=\"node\">\n<title>139876087766896</title>\n<polygon fill=\"lightgrey\" stroke=\"black\" points=\"98,-740.5 15,-740.5 15,-721.5 98,-721.5 98,-740.5\"/>\n<text text-anchor=\"middle\" x=\"56.5\" y=\"-728.5\" font-family=\"monospace\" font-size=\"10.00\">MmBackward0</text>\n</g>\n<!-- 139876087766896&#45;&gt;139876087764208 -->\n<g id=\"edge11\" class=\"edge\">\n<title>139876087766896&#45;&gt;139876087764208</title>\n<path fill=\"none\" stroke=\"black\" d=\"M56.5,-721.37C56.5,-713.25 56.5,-700.81 56.5,-690.39\"/>\n<polygon fill=\"black\" stroke=\"black\" points=\"60,-690.17 56.5,-680.17 53,-690.17 60,-690.17\"/>\n</g>\n<!-- 139876087764736 -->\n<g id=\"node14\" class=\"node\">\n<title>139876087764736</title>\n<polygon fill=\"lightgrey\" stroke=\"black\" points=\"95,-801 18,-801 18,-782 95,-782 95,-801\"/>\n<text text-anchor=\"middle\" x=\"56.5\" y=\"-789\" font-family=\"monospace\" font-size=\"10.00\">TBackward0</text>\n</g>\n<!-- 139876087764736&#45;&gt;139876087766896 -->\n<g id=\"edge12\" class=\"edge\">\n<title>139876087764736&#45;&gt;139876087766896</title>\n<path fill=\"none\" stroke=\"black\" d=\"M56.5,-781.87C56.5,-773.75 56.5,-761.31 56.5,-750.89\"/>\n<polygon fill=\"black\" stroke=\"black\" points=\"60,-750.67 56.5,-740.67 53,-750.67 60,-750.67\"/>\n</g>\n<!-- 139876087764784 -->\n<g id=\"node15\" class=\"node\">\n<title>139876087764784</title>\n<polygon fill=\"lightgrey\" stroke=\"black\" points=\"107,-856 6,-856 6,-837 107,-837 107,-856\"/>\n<text text-anchor=\"middle\" x=\"56.5\" y=\"-844\" font-family=\"monospace\" font-size=\"10.00\">AccumulateGrad</text>\n</g>\n<!-- 139876087764784&#45;&gt;139876087764736 -->\n<g id=\"edge13\" class=\"edge\">\n<title>139876087764784&#45;&gt;139876087764736</title>\n<path fill=\"none\" stroke=\"black\" d=\"M56.5,-836.75C56.5,-829.8 56.5,-819.85 56.5,-811.13\"/>\n<polygon fill=\"black\" stroke=\"black\" points=\"60,-811.09 56.5,-801.09 53,-811.09 60,-811.09\"/>\n</g>\n<!-- 139876130629008 -->\n<g id=\"node16\" class=\"node\">\n<title>139876130629008</title>\n<polygon fill=\"lightblue\" stroke=\"black\" points=\"104,-922 9,-922 9,-892 104,-892 104,-922\"/>\n<text text-anchor=\"middle\" x=\"56.5\" y=\"-910\" font-family=\"monospace\" font-size=\"10.00\">hidden.weight</text>\n<text text-anchor=\"middle\" x=\"56.5\" y=\"-899\" font-family=\"monospace\" font-size=\"10.00\"> (32, 64)</text>\n</g>\n<!-- 139876130629008&#45;&gt;139876087764784 -->\n<g id=\"edge14\" class=\"edge\">\n<title>139876130629008&#45;&gt;139876087764784</title>\n<path fill=\"none\" stroke=\"black\" d=\"M56.5,-891.84C56.5,-884.21 56.5,-874.7 56.5,-866.45\"/>\n<polygon fill=\"black\" stroke=\"black\" points=\"60,-866.27 56.5,-856.27 53,-866.27 60,-866.27\"/>\n</g>\n<!-- 139876087765264 -->\n<g id=\"node17\" class=\"node\">\n<title>139876087765264</title>\n<polygon fill=\"lightgrey\" stroke=\"black\" points=\"232,-680 131,-680 131,-661 232,-661 232,-680\"/>\n<text text-anchor=\"middle\" x=\"181.5\" y=\"-668\" font-family=\"monospace\" font-size=\"10.00\">AccumulateGrad</text>\n</g>\n<!-- 139876087765264&#45;&gt;139876087765456 -->\n<g id=\"edge15\" class=\"edge\">\n<title>139876087765264&#45;&gt;139876087765456</title>\n<path fill=\"none\" stroke=\"black\" d=\"M172.2,-660.87C162.53,-651.88 147.16,-637.61 135.34,-626.64\"/>\n<polygon fill=\"black\" stroke=\"black\" points=\"137.54,-623.91 127.83,-619.67 132.78,-629.04 137.54,-623.91\"/>\n</g>\n<!-- 139876130584192 -->\n<g id=\"node18\" class=\"node\">\n<title>139876130584192</title>\n<polygon fill=\"lightblue\" stroke=\"black\" points=\"223,-746 140,-746 140,-716 223,-716 223,-746\"/>\n<text text-anchor=\"middle\" x=\"181.5\" y=\"-734\" font-family=\"monospace\" font-size=\"10.00\">hidden.bias</text>\n<text text-anchor=\"middle\" x=\"181.5\" y=\"-723\" font-family=\"monospace\" font-size=\"10.00\"> (32)</text>\n</g>\n<!-- 139876130584192&#45;&gt;139876087765264 -->\n<g id=\"edge16\" class=\"edge\">\n<title>139876130584192&#45;&gt;139876087765264</title>\n<path fill=\"none\" stroke=\"black\" d=\"M181.5,-715.84C181.5,-708.21 181.5,-698.7 181.5,-690.45\"/>\n<polygon fill=\"black\" stroke=\"black\" points=\"185,-690.27 181.5,-680.27 178,-690.27 185,-690.27\"/>\n</g>\n<!-- 139876087765072 -->\n<g id=\"node19\" class=\"node\">\n<title>139876087765072</title>\n<polygon fill=\"lightgrey\" stroke=\"black\" points=\"280,-504 203,-504 203,-485 280,-485 280,-504\"/>\n<text text-anchor=\"middle\" x=\"241.5\" y=\"-492\" font-family=\"monospace\" font-size=\"10.00\">TBackward0</text>\n</g>\n<!-- 139876087765072&#45;&gt;139876087765312 -->\n<g id=\"edge17\" class=\"edge\">\n<title>139876087765072&#45;&gt;139876087765312</title>\n<path fill=\"none\" stroke=\"black\" d=\"M232.5,-484.87C223.13,-475.88 208.25,-461.61 196.8,-450.64\"/>\n<polygon fill=\"black\" stroke=\"black\" points=\"199.18,-448.06 189.54,-443.67 194.33,-453.12 199.18,-448.06\"/>\n</g>\n<!-- 139876087765120 -->\n<g id=\"node20\" class=\"node\">\n<title>139876087765120</title>\n<polygon fill=\"lightgrey\" stroke=\"black\" points=\"294,-559 193,-559 193,-540 294,-540 294,-559\"/>\n<text text-anchor=\"middle\" x=\"243.5\" y=\"-547\" font-family=\"monospace\" font-size=\"10.00\">AccumulateGrad</text>\n</g>\n<!-- 139876087765120&#45;&gt;139876087765072 -->\n<g id=\"edge18\" class=\"edge\">\n<title>139876087765120&#45;&gt;139876087765072</title>\n<path fill=\"none\" stroke=\"black\" d=\"M243.17,-539.75C242.91,-532.8 242.53,-522.85 242.2,-514.13\"/>\n<polygon fill=\"black\" stroke=\"black\" points=\"245.7,-513.95 241.82,-504.09 238.7,-514.21 245.7,-513.95\"/>\n</g>\n<!-- 139876130627808 -->\n<g id=\"node21\" class=\"node\">\n<title>139876130627808</title>\n<polygon fill=\"lightblue\" stroke=\"black\" points=\"294,-625 193,-625 193,-595 294,-595 294,-625\"/>\n<text text-anchor=\"middle\" x=\"243.5\" y=\"-613\" font-family=\"monospace\" font-size=\"10.00\">hidden1.weight</text>\n<text text-anchor=\"middle\" x=\"243.5\" y=\"-602\" font-family=\"monospace\" font-size=\"10.00\"> (16, 32)</text>\n</g>\n<!-- 139876130627808&#45;&gt;139876087765120 -->\n<g id=\"edge19\" class=\"edge\">\n<title>139876130627808&#45;&gt;139876087765120</title>\n<path fill=\"none\" stroke=\"black\" d=\"M243.5,-594.84C243.5,-587.21 243.5,-577.7 243.5,-569.45\"/>\n<polygon fill=\"black\" stroke=\"black\" points=\"247,-569.27 243.5,-559.27 240,-569.27 247,-569.27\"/>\n</g>\n<!-- 139876087763392 -->\n<g id=\"node22\" class=\"node\">\n<title>139876087763392</title>\n<polygon fill=\"lightgrey\" stroke=\"black\" points=\"356,-377.5 255,-377.5 255,-358.5 356,-358.5 356,-377.5\"/>\n<text text-anchor=\"middle\" x=\"305.5\" y=\"-365.5\" font-family=\"monospace\" font-size=\"10.00\">AccumulateGrad</text>\n</g>\n<!-- 139876087763392&#45;&gt;139876087764352 -->\n<g id=\"edge20\" class=\"edge\">\n<title>139876087763392&#45;&gt;139876087764352</title>\n<path fill=\"none\" stroke=\"black\" d=\"M305.2,-358.37C304.93,-350.25 304.5,-337.81 304.15,-327.39\"/>\n<polygon fill=\"black\" stroke=\"black\" points=\"307.64,-327.04 303.8,-317.17 300.64,-327.28 307.64,-327.04\"/>\n</g>\n<!-- 139876130637760 -->\n<g id=\"node23\" class=\"node\">\n<title>139876130637760</title>\n<polygon fill=\"lightblue\" stroke=\"black\" points=\"350,-449 261,-449 261,-419 350,-419 350,-449\"/>\n<text text-anchor=\"middle\" x=\"305.5\" y=\"-437\" font-family=\"monospace\" font-size=\"10.00\">hidden1.bias</text>\n<text text-anchor=\"middle\" x=\"305.5\" y=\"-426\" font-family=\"monospace\" font-size=\"10.00\"> (16)</text>\n</g>\n<!-- 139876130637760&#45;&gt;139876087763392 -->\n<g id=\"edge21\" class=\"edge\">\n<title>139876130637760&#45;&gt;139876087763392</title>\n<path fill=\"none\" stroke=\"black\" d=\"M305.5,-418.8C305.5,-409.7 305.5,-397.79 305.5,-387.9\"/>\n<polygon fill=\"black\" stroke=\"black\" points=\"309,-387.84 305.5,-377.84 302,-387.84 309,-387.84\"/>\n</g>\n<!-- 139876087763776 -->\n<g id=\"node24\" class=\"node\">\n<title>139876087763776</title>\n<polygon fill=\"lightgrey\" stroke=\"black\" points=\"461,-262 384,-262 384,-243 461,-243 461,-262\"/>\n<text text-anchor=\"middle\" x=\"422.5\" y=\"-250\" font-family=\"monospace\" font-size=\"10.00\">TBackward0</text>\n</g>\n<!-- 139876087763776&#45;&gt;139876087763056 -->\n<g id=\"edge22\" class=\"edge\">\n<title>139876087763776&#45;&gt;139876087763056</title>\n<path fill=\"none\" stroke=\"black\" d=\"M413.65,-242.87C404.52,-233.97 390.08,-219.89 378.86,-208.95\"/>\n<polygon fill=\"black\" stroke=\"black\" points=\"380.99,-206.14 371.39,-201.67 376.11,-211.15 380.99,-206.14\"/>\n</g>\n<!-- 139876087763248 -->\n<g id=\"node25\" class=\"node\">\n<title>139876087763248</title>\n<polygon fill=\"lightgrey\" stroke=\"black\" points=\"473,-317 372,-317 372,-298 473,-298 473,-317\"/>\n<text text-anchor=\"middle\" x=\"422.5\" y=\"-305\" font-family=\"monospace\" font-size=\"10.00\">AccumulateGrad</text>\n</g>\n<!-- 139876087763248&#45;&gt;139876087763776 -->\n<g id=\"edge23\" class=\"edge\">\n<title>139876087763248&#45;&gt;139876087763776</title>\n<path fill=\"none\" stroke=\"black\" d=\"M422.5,-297.75C422.5,-290.8 422.5,-280.85 422.5,-272.13\"/>\n<polygon fill=\"black\" stroke=\"black\" points=\"426,-272.09 422.5,-262.09 419,-272.09 426,-272.09\"/>\n</g>\n<!-- 139876130637440 -->\n<g id=\"node26\" class=\"node\">\n<title>139876130637440</title>\n<polygon fill=\"lightblue\" stroke=\"black\" points=\"470,-383 375,-383 375,-353 470,-353 470,-383\"/>\n<text text-anchor=\"middle\" x=\"422.5\" y=\"-371\" font-family=\"monospace\" font-size=\"10.00\">output.weight</text>\n<text text-anchor=\"middle\" x=\"422.5\" y=\"-360\" font-family=\"monospace\" font-size=\"10.00\"> (10, 16)</text>\n</g>\n<!-- 139876130637440&#45;&gt;139876087763248 -->\n<g id=\"edge24\" class=\"edge\">\n<title>139876130637440&#45;&gt;139876087763248</title>\n<path fill=\"none\" stroke=\"black\" d=\"M422.5,-352.84C422.5,-345.21 422.5,-335.7 422.5,-327.45\"/>\n<polygon fill=\"black\" stroke=\"black\" points=\"426,-327.27 422.5,-317.27 419,-327.27 426,-327.27\"/>\n</g>\n<!-- 139876087763440 -->\n<g id=\"node27\" class=\"node\">\n<title>139876087763440</title>\n<polygon fill=\"lightgrey\" stroke=\"black\" points=\"538,-141 437,-141 437,-122 538,-122 538,-141\"/>\n<text text-anchor=\"middle\" x=\"487.5\" y=\"-129\" font-family=\"monospace\" font-size=\"10.00\">AccumulateGrad</text>\n</g>\n<!-- 139876087763440&#45;&gt;139876087764064 -->\n<g id=\"edge25\" class=\"edge\">\n<title>139876087763440&#45;&gt;139876087764064</title>\n<path fill=\"none\" stroke=\"black\" d=\"M477.38,-121.98C468.06,-114.15 454.03,-102.34 442.76,-92.86\"/>\n<polygon fill=\"black\" stroke=\"black\" points=\"444.71,-89.93 434.81,-86.17 440.21,-95.29 444.71,-89.93\"/>\n</g>\n<!-- 139876130637360 -->\n<g id=\"node28\" class=\"node\">\n<title>139876130637360</title>\n<polygon fill=\"lightblue\" stroke=\"black\" points=\"529,-207 446,-207 446,-177 529,-177 529,-207\"/>\n<text text-anchor=\"middle\" x=\"487.5\" y=\"-195\" font-family=\"monospace\" font-size=\"10.00\">output.bias</text>\n<text text-anchor=\"middle\" x=\"487.5\" y=\"-184\" font-family=\"monospace\" font-size=\"10.00\"> (10)</text>\n</g>\n<!-- 139876130637360&#45;&gt;139876087763440 -->\n<g id=\"edge26\" class=\"edge\">\n<title>139876130637360&#45;&gt;139876087763440</title>\n<path fill=\"none\" stroke=\"black\" d=\"M487.5,-176.84C487.5,-169.21 487.5,-159.7 487.5,-151.45\"/>\n<polygon fill=\"black\" stroke=\"black\" points=\"491,-151.27 487.5,-141.27 484,-151.27 491,-151.27\"/>\n</g>\n</g>\n</svg>\n"
          },
          "metadata": {},
          "execution_count": 124
        }
      ]
    },
    {
      "cell_type": "code",
      "source": [
        "correct = 0\n",
        "total = 0\n",
        "# since we're not training, we don't need to calculate the gradients for our outputs\n",
        "with torch.no_grad():\n",
        "    for data in test_dataloader:\n",
        "        inputs, labels = data\n",
        "        inputs = inputs.to(device)\n",
        "        labels = labels.to(device)\n",
        "        # calculate outputs by running images through the network\n",
        "        outputs = net(inputs)\n",
        "        # the class with the highest energy is what we choose as prediction\n",
        "        _, predicted = torch.max(outputs.data, 1)\n",
        "        total += labels.size(0)\n",
        "        correct += (predicted == labels).sum().item()\n",
        "\n",
        "print(f'Accuracy of the network on the 20 test images: {100 * correct // total} %')"
      ],
      "metadata": {
        "colab": {
          "base_uri": "https://localhost:8080/"
        },
        "id": "5UDdAVYIjmPD",
        "outputId": "cb96046d-634f-4a43-f179-d5b7ab067035"
      },
      "execution_count": 28,
      "outputs": [
        {
          "output_type": "stream",
          "name": "stdout",
          "text": [
            "Accuracy of the network on the 20 test images: 70 %\n"
          ]
        }
      ]
    },
    {
      "cell_type": "code",
      "source": [
        "test_dataloader1 = DataLoader(test_dataset, batch_size=1, shuffle=True)"
      ],
      "metadata": {
        "id": "uwy0uDjOH7c8"
      },
      "execution_count": 33,
      "outputs": []
    },
    {
      "cell_type": "code",
      "source": [
        "with torch.no_grad():\n",
        "    for data in test_dataloader1:\n",
        "        inputs, labels = data\n",
        "        image = inputs.numpy().reshape(8,8)\n",
        "        inputs = inputs.to(device)\n",
        "        outputs = net(inputs)\n",
        "        _, predicted = torch.max(outputs.data, 1)\n",
        "\n",
        "        plt.figure(figsize=(4,4))\n",
        "        plt.title(f'true label :{labels}, predict label {predicted}')\n",
        "        plt.imshow(image, cmap='gray')"
      ],
      "metadata": {
        "colab": {
          "base_uri": "https://localhost:8080/",
          "height": 1000
        },
        "id": "0WQhejSCIfNH",
        "outputId": "9062b9ac-2ef0-4200-c333-cda6c6222630"
      },
      "execution_count": 35,
      "outputs": [
        {
          "output_type": "display_data",
          "data": {
            "text/plain": [
              "<Figure size 288x288 with 1 Axes>"
            ],
            "image/png": "[encoded data removed]"
          },
          "metadata": {
            "needs_background": "light"
          }
        },
        {
          "output_type": "display_data",
          "data": {
            "text/plain": [
              "<Figure size 288x288 with 1 Axes>"
            ],
            "image/png": "[encoded data removed]"
          },
          "metadata": {
            "needs_background": "light"
          }
        },
        {
          "output_type": "display_data",
          "data": {
            "text/plain": [
              "<Figure size 288x288 with 1 Axes>"
            ],
            "image/png": "[encoded data removed]"
          },
          "metadata": {
            "needs_background": "light"
          }
        },
        {
          "output_type": "display_data",
          "data": {
            "text/plain": [
              "<Figure size 288x288 with 1 Axes>"
            ],
            "image/png": "[encoded data removed]"
          },
          "metadata": {
            "needs_background": "light"
          }
        },
        {
          "output_type": "display_data",
          "data": {
            "text/plain": [
              "<Figure size 288x288 with 1 Axes>"
            ],
            "image/png": "[encoded data removed]"
          },
          "metadata": {
            "needs_background": "light"
          }
        },
        {
          "output_type": "display_data",
          "data": {
            "text/plain": [
              "<Figure size 288x288 with 1 Axes>"
            ],
            "image/png": "[encoded data removed]"
          },
          "metadata": {
            "needs_background": "light"
          }
        },
        {
          "output_type": "display_data",
          "data": {
            "text/plain": [
              "<Figure size 288x288 with 1 Axes>"
            ],
            "image/png": "[encoded data removed]"
          },
          "metadata": {
            "needs_background": "light"
          }
        },
        {
          "output_type": "display_data",
          "data": {
            "text/plain": [
              "<Figure size 288x288 with 1 Axes>"
            ],
            "image/png": "[encoded data removed]"
          },
          "metadata": {
            "needs_background": "light"
          }
        },
        {
          "output_type": "display_data",
          "data": {
            "text/plain": [
              "<Figure size 288x288 with 1 Axes>"
            ],
            "image/png": "[encoded data removed]"
          },
          "metadata": {
            "needs_background": "light"
          }
        },
        {
          "output_type": "display_data",
          "data": {
            "text/plain": [
              "<Figure size 288x288 with 1 Axes>"
            ],
            "image/png": "[encoded data removed]"
          },
          "metadata": {
            "needs_background": "light"
          }
        },
        {
          "output_type": "display_data",
          "data": {
            "text/plain": [
              "<Figure size 288x288 with 1 Axes>"
            ],
            "image/png": "[encoded data removed]"
          },
          "metadata": {
            "needs_background": "light"
          }
        },
        {
          "output_type": "display_data",
          "data": {
            "text/plain": [
              "<Figure size 288x288 with 1 Axes>"
            ],
            "image/png": "[encoded data removed]"
          },
          "metadata": {
            "needs_background": "light"
          }
        },
        {
          "output_type": "display_data",
          "data": {
            "text/plain": [
              "<Figure size 288x288 with 1 Axes>"
            ],
            "image/png": "[encoded data removed]"
          },
          "metadata": {
            "needs_background": "light"
          }
        },
        {
          "output_type": "display_data",
          "data": {
            "text/plain": [
              "<Figure size 288x288 with 1 Axes>"
            ],
            "image/png": "[encoded data removed]"
          },
          "metadata": {
            "needs_background": "light"
          }
        },
        {
          "output_type": "display_data",
          "data": {
            "text/plain": [
              "<Figure size 288x288 with 1 Axes>"
            ],
            "image/png": "[encoded data removed]"
          },
          "metadata": {
            "needs_background": "light"
          }
        },
        {
          "output_type": "display_data",
          "data": {
            "text/plain": [
              "<Figure size 288x288 with 1 Axes>"
            ],
            "image/png": "[encoded data removed]"
          },
          "metadata": {
            "needs_background": "light"
          }
        },
        {
          "output_type": "display_data",
          "data": {
            "text/plain": [
              "<Figure size 288x288 with 1 Axes>"
            ],
            "image/png": "[encoded data removed]"
          },
          "metadata": {
            "needs_background": "light"
          }
        },
        {
          "output_type": "display_data",
          "data": {
            "text/plain": [
              "<Figure size 288x288 with 1 Axes>"
            ],
            "image/png": "[encoded data removed]"
          },
          "metadata": {
            "needs_background": "light"
          }
        },
        {
          "output_type": "display_data",
          "data": {
            "text/plain": [
              "<Figure size 288x288 with 1 Axes>"
            ],
            "image/png": "[encoded data removed]"
          },
          "metadata": {
            "needs_background": "light"
          }
        },
        {
          "output_type": "display_data",
          "data": {
            "text/plain": [
              "<Figure size 288x288 with 1 Axes>"
            ],
            "image/png": "[encoded data removed]"
          },
          "metadata": {
            "needs_background": "light"
          }
        }
      ]
    },
    {
      "cell_type": "code",
      "source": [],
      "metadata": {
        "id": "n236MLoSJOPZ"
      },
      "execution_count": null,
      "outputs": []
    }
  ]
}